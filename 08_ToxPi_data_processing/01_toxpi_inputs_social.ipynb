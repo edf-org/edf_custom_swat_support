{
 "cells": [
  {
   "cell_type": "code",
   "execution_count": 1,
   "metadata": {
    "scrolled": true
   },
   "outputs": [],
   "source": [
    "pacman::p_load(tidyverse, lubridate, stars, sf)\n",
    "\n",
    "source(\"src/edf_theme.r\")\n",
    "source(\"src/functions.r\")\n",
    "theme_set(theme_edf())\n",
    "\n",
    "options(repr.plot.width=8, repr.plot.height=3)\n",
    "options(scipen=999)  # turn off scientific numbers"
   ]
  },
  {
   "cell_type": "code",
   "execution_count": 2,
   "metadata": {
    "scrolled": true
   },
   "outputs": [
    {
     "name": "stdout",
     "output_type": "stream",
     "text": [
      "Reading layer `study_area_census_tracts_clipped' from data source `C:\\Users\\gslater\\OneDrive - Environmental Defense Fund - edf.org\\GCA Work\\2022 04 - HG ToxPi file processing\\data\\02_study_area_census_tracts_clipped\\study_area_census_tracts_clipped.shp' using driver `ESRI Shapefile'\n",
      "Simple feature collection with 1017 features and 1 field\n",
      "Geometry type: MULTIPOLYGON\n",
      "Dimension:     XY\n",
      "Bounding box:  xmin: 890267.3 ymin: 4144950 xmax: 1064688 ymax: 4330396\n",
      "Projected CRS: NAD83(2011) / Texas South Central\n"
     ]
    },
    {
     "name": "stderr",
     "output_type": "stream",
     "text": [
      "Parsed with column specification:\n",
      "cols(\n",
      "  cell_id = col_double(),\n",
      "  study_area = col_double()\n",
      ")\n"
     ]
    },
    {
     "data": {
      "text/html": [
       "1017"
      ],
      "text/latex": [
       "1017"
      ],
      "text/markdown": [
       "1017"
      ],
      "text/plain": [
       "[1] 1017"
      ]
     },
     "metadata": {},
     "output_type": "display_data"
    },
    {
     "data": {
      "application/geo+json": {
       "features": [
        {
         "geometry": {
          "coordinates": [
           [
            [
             [
              963184.5707,
              4196672.3734
             ],
             [
              963492.9471,
              4196715.4208
             ],
             [
              963579.1126,
              4196429.2129
             ],
             [
              963751.4559,
              4196602.5193
             ],
             [
              963982.7382,
              4196655.1913
             ],
             [
              964136.7358,
              4197202.8266
             ],
             [
              964458.39,
              4197381.0569
             ],
             [
              964626.1324,
              4197211.5852
             ],
             [
              964891.6539,
              4196920.1836
             ],
             [
              965129.5782,
              4196992.0552
             ],
             [
              965375.3207,
              4197254.2469
             ],
             [
              965859.0306,
              4197171.9467
             ],
             [
              966085.9682,
              4196944.5283
             ],
             [
              966378.3635,
              4197214.4601
             ],
             [
              966491.2997,
              4197169.7663
             ],
             [
              966605.2186,
              4197046.8181
             ],
             [
              966614.0388,
              4197034.9058
             ],
             [
              966623.9817,
              4197021.2557
             ],
             [
              966719.2191,
              4196978.3199
             ],
             [
              966659.5457,
              4196949.8856
             ],
             [
              966565.8196,
              4196856.2559
             ],
             [
              966553.6547,
              4196791.7686
             ],
             [
              966555.8616,
              4196660.6587
             ],
             [
              966366.6829,
              4195201.4564
             ],
             [
              966241.9371,
              4195265.9516
             ],
             [
              965096.3551,
              4195845.0663
             ],
             [
              964920.098,
              4195901.8167
             ],
             [
              964567.3907,
              4195882.9194
             ],
             [
              964040.8912,
              4195847.2468
             ],
             [
              963909.9589,
              4195878.6347
             ],
             [
              962824.0609,
              4196340.9094
             ],
             [
              962938.6212,
              4196502.4832
             ],
             [
              963184.5707,
              4196672.3734
             ]
            ]
           ]
          ],
          "type": "MultiPolygon"
         },
         "properties": {
          "geoid": "48039660100"
         },
         "type": "Feature"
        },
        {
         "geometry": {
          "coordinates": [
           [
            [
             [
              963387.7142,
              4193926.7755
             ],
             [
              964438.4828,
              4195103.888
             ],
             [
              965096.3551,
              4195845.0663
             ],
             [
              966241.9371,
              4195265.9516
             ],
             [
              966366.6829,
              4195201.4564
             ],
             [
              966306.6122,
              4194705.1743
             ],
             [
              966230.6111,
              4194251.5137
             ],
             [
              966027.4449,
              4192567.6599
             ],
             [
              966011.8137,
              4192448.0617
             ],
             [
              965983.0782,
              4192229.6832
             ],
             [
              965953.5326,
              4191997.3068
             ],
             [
              965883.2824,
              4191427.406
             ],
             [
              965904.8575,
              4191062.6183
             ],
             [
              965896.6894,
              4190967.1025
             ],
             [
              965780.8372,
              4190102.5463
             ],
             [
              965439.1198,
              4187847.3992
             ],
             [
              965396.0306,
              4187661.0517
             ],
             [
              965374.2007,
              4187561.6592
             ],
             [
              965343.1019,
              4187566.2012
             ],
             [
              964005.182,
              4187719.7615
             ],
             [
              963968.0568,
              4188374.3491
             ],
             [
              963803.345,
              4190591.7759
             ],
             [
              963768.8676,
              4190753.2287
             ],
             [
              963762.9087,
              4190772.6644
             ],
             [
              963759.5385,
              4190783.9775
             ],
             [
              963758.7784,
              4190786.5035
             ],
             [
              963692.8185,
              4190952.7122
             ],
             [
              962458.3296,
              4192874.4077
             ],
             [
              963223.2159,
              4193743.1943
             ],
             [
              963387.7142,
              4193926.7755
             ]
            ]
           ]
          ],
          "type": "MultiPolygon"
         },
         "properties": {
          "geoid": "48039660200"
         },
         "type": "Feature"
        },
        {
         "geometry": {
          "coordinates": [
           [
            [
             [
              960179.9551,
              4197502.891
             ],
             [
              960323.8906,
              4197482.2979
             ],
             [
              960376.5919,
              4197465.1239
             ],
             [
              960827.7577,
              4197218.7928
             ],
             [
              960978.3208,
              4197130.3344
             ],
             [
              962824.0609,
              4196340.9094
             ],
             [
              963909.9589,
              4195878.6347
             ],
             [
              964040.8912,
              4195847.2468
             ],
             [
              964567.3907,
              4195882.9194
             ],
             [
              964920.098,
              4195901.8167
             ],
             [
              965096.3551,
              4195845.0663
             ],
             [
              964438.4828,
              4195103.888
             ],
             [
              963387.7142,
              4193926.7755
             ],
             [
              963223.2159,
              4193743.1943
             ],
             [
              962458.3296,
              4192874.4077
             ],
             [
              962295.3572,
              4193136.5429
             ],
             [
              961800.8787,
              4193922.3408
             ],
             [
              960727.5876,
              4195624.3766
             ],
             [
              960285.5698,
              4196321.9795
             ],
             [
              959845.5378,
              4197031.9703
             ],
             [
              959813.0365,
              4197142.6007
             ],
             [
              959794.3199,
              4197481.5412
             ],
             [
              960179.9551,
              4197502.891
             ]
            ]
           ]
          ],
          "type": "MultiPolygon"
         },
         "properties": {
          "geoid": "48039660300"
         },
         "type": "Feature"
        },
        {
         "geometry": {
          "coordinates": [
           [
            [
             [
              959989.4464,
              4201265.892
             ],
             [
              960245.6214,
              4201026.982
             ],
             [
              960510.3171,
              4201102.1614
             ],
             [
              960595.149,
              4200964.1461
             ],
             [
              960873.6447,
              4200922.565
             ],
             [
              961306.9276,
              4200923.0763
             ],
             [
              961478.5766,
              4200880.0969
             ],
             [
              962027.8228,
              4200842.6445
             ],
             [
              962197.2252,
              4200464.0563
             ],
             [
              962028.6175,
              4200153.9437
             ],
             [
              962212.7669,
              4199820.6262
             ],
             [
              962144.9529,
              4199486.2368
             ],
             [
              962242.379,
              4199331.2267
             ],
             [
              962384.7291,
              4199138.5115
             ],
             [
              962307.5738,
              4198911.2731
             ],
             [
              962312.624,
              4198753.4195
             ],
             [
              962443.7404,
              4198584.8518
             ],
             [
              962436.5941,
              4198387.1319
             ],
             [
              962746.7721,
              4197963.935
             ],
             [
              962732.6039,
              4197776.7462
             ],
             [
              962802.1639,
              4197599.5579
             ],
             [
              963055.7315,
              4197264.9293
             ],
             [
              963061.2591,
              4196968.482
             ],
             [
              963013.2629,
              4196883.9997
             ],
             [
              962851.0352,
              4196885.0112
             ],
             [
              962842.5826,
              4196673.7215
             ],
             [
              962912.5687,
              4196577.2738
             ],
             [
              962938.6212,
              4196502.4832
             ],
             [
              962824.0609,
              4196340.9094
             ],
             [
              960978.3208,
              4197130.3344
             ],
             [
              960827.7577,
              4197218.7928
             ],
             [
              960376.5919,
              4197465.1239
             ],
             [
              960323.8906,
              4197482.2979
             ],
             [
              960179.9551,
              4197502.891
             ],
             [
              959794.3199,
              4197481.5412
             ],
             [
              959754.0411,
              4198395.5218
             ],
             [
              959685.7503,
              4199782.5462
             ],
             [
              959632.3092,
              4201269.7341
             ],
             [
              959989.4464,
              4201265.892
             ]
            ]
           ]
          ],
          "type": "MultiPolygon"
         },
         "properties": {
          "geoid": "48039660400"
         },
         "type": "Feature"
        },
        {
         "geometry": {
          "coordinates": [
           [
            [
             [
              953609.1014,
              4199820.3603
             ],
             [
              953870.7172,
              4199720.0869
             ],
             [
              954059.6659,
              4199898.1985
             ],
             [
              954056.6978,
              4200120.2095
             ],
             [
              954395.8608,
              4200499.4038
             ],
             [
              954715.8137,
              4200668.2112
             ],
             [
              954767.4517,
              4200845.0288
             ],
             [
              954936.3265,
              4200945.2399
             ],
             [
              955048.3318,
              4201131.381
             ],
             [
              955305.0961,
              4201268.6181
             ],
             [
              955591.3207,
              4201168.048
             ],
             [
              955850.9875,
              4201169.553
             ],
             [
              956191.5012,
              4201028.5674
             ],
             [
              956416.3752,
              4201205.7439
             ],
             [
              956900.9076,
              4201196.8336
             ],
             [
              957390.8078,
              4200882.842
             ],
             [
              957513.3592,
              4200874.9569
             ],
             [
              957952.7267,
              4200915.784
             ],
             [
              958358.4455,
              4201033.7387
             ],
             [
              958463.6645,
              4201138.6421
             ],
             [
              958580.1013,
              4201085.1112
             ],
             [
              958951.6921,
              4201096.2202
             ],
             [
              959030.3361,
              4201223.0185
             ],
             [
              959482.1379,
              4201314.3101
             ],
             [
              959632.3092,
              4201269.7341
             ],
             [
              959685.7503,
              4199782.5462
             ],
             [
              959754.0411,
              4198395.5218
             ],
             [
              959794.3199,
              4197481.5412
             ],
             [
              959248.7294,
              4197444.9283
             ],
             [
              958964.8289,
              4197275.3633
             ],
             [
              958806.4762,
              4197139.0562
             ],
             [
              958659.7665,
              4197048.2509
             ],
             [
              958548.6958,
              4197004.4826
             ],
             [
              957855.6498,
              4196970.2566
             ],
             [
              957713.4456,
              4196963.6578
             ],
             [
              956463.5967,
              4196900.0813
             ],
             [
              955454.8294,
              4196858.6211
             ],
             [
              953834.8893,
              4196784.0596
             ],
             [
              953575.4898,
              4196764.6489
             ],
             [
              953536.4047,
              4197581.9805
             ],
             [
              953512.5919,
              4198049.837
             ],
             [
              953462.9418,
              4198923.1706
             ],
             [
              953363.1201,
              4199283.0935
             ],
             [
              953342.3733,
              4199693.2761
             ],
             [
              953609.1014,
              4199820.3603
             ]
            ]
           ]
          ],
          "type": "MultiPolygon"
         },
         "properties": {
          "geoid": "48039660500"
         },
         "type": "Feature"
        },
        {
         "geometry": {
          "coordinates": [
           [
            [
             [
              950018.0233,
              4197954.0489
             ],
             [
              950018.6298,
              4197968.9261
             ],
             [
              950041.0847,
              4198374.5684
             ],
             [
              949994.0112,
              4199602.819
             ],
             [
              950215.3865,
              4199752.8151
             ],
             [
              950259.8839,
              4199752.4172
             ],
             [
              950529.736,
              4199779.5068
             ],
             [
              950982.3142,
              4199933.5729
             ],
             [
              951399.1429,
              4199783.9434
             ],
             [
              951765.2147,
              4199562.0075
             ],
             [
              952165.2343,
              4199710.6075
             ],
             [
              952226.3857,
              4199707.6305
             ],
             [
              952489.8687,
              4199609.2686
             ],
             [
              952862.8675,
              4199825.3578
             ],
             [
              953243.3314,
              4199689.8534
             ],
             [
              953342.3733,
              4199693.2761
             ],
             [
              953363.1201,
              4199283.0935
             ],
             [
              953462.9418,
              4198923.1706
             ],
             [
              953512.5919,
              4198049.837
             ],
             [
              953536.4047,
              4197581.9805
             ],
             [
              953575.4898,
              4196764.6489
             ],
             [
              952377.3878,
              4196707.4641
             ],
             [
              952319.605,
              4196698.2374
             ],
             [
              952176.2383,
              4196644.7681
             ],
             [
              951910.5684,
              4196461.9793
             ],
             [
              951797.9674,
              4196422.8877
             ],
             [
              951385.6405,
              4196385.8055
             ],
             [
              950850.5407,
              4196353.0295
             ],
             [
              950308.8621,
              4196329.1678
             ],
             [
              950282.4518,
              4196327.3531
             ],
             [
              949958.8658,
              4196307.8152
             ],
             [
              949951.9817,
              4196715.7649
             ],
             [
              950018.0233,
              4197954.0489
             ]
            ]
           ]
          ],
          "type": "MultiPolygon"
         },
         "properties": {
          "geoid": "48039660601"
         },
         "type": "Feature"
        }
       ],
       "type": "FeatureCollection"
      },
      "text/html": [
       "<table>\n",
       "<caption>A sf: 6 × 2</caption>\n",
       "<thead>\n",
       "\t<tr><th></th><th scope=col>geoid</th><th scope=col>geometry</th></tr>\n",
       "\t<tr><th></th><th scope=col>&lt;chr&gt;</th><th scope=col>&lt;MULTIPOLYGON [m]&gt;</th></tr>\n",
       "</thead>\n",
       "<tbody>\n",
       "\t<tr><th scope=row>1</th><td>48039660100</td><td>MULTIPOLYGON (((963184.6 41...</td></tr>\n",
       "\t<tr><th scope=row>2</th><td>48039660200</td><td>MULTIPOLYGON (((963387.7 41...</td></tr>\n",
       "\t<tr><th scope=row>3</th><td>48039660300</td><td>MULTIPOLYGON (((960180 4197...</td></tr>\n",
       "\t<tr><th scope=row>4</th><td>48039660400</td><td>MULTIPOLYGON (((959989.4 42...</td></tr>\n",
       "\t<tr><th scope=row>5</th><td>48039660500</td><td>MULTIPOLYGON (((953609.1 41...</td></tr>\n",
       "\t<tr><th scope=row>6</th><td>48039660601</td><td>MULTIPOLYGON (((950018 4197...</td></tr>\n",
       "</tbody>\n",
       "</table>\n"
      ],
      "text/latex": [
       "A sf: 6 × 2\n",
       "\\begin{tabular}{r|ll}\n",
       "  & geoid & geometry\\\\\n",
       "  & <chr> & <MULTIPOLYGON {[}m{]}>\\\\\n",
       "\\hline\n",
       "\t1 & 48039660100 & MULTIPOLYGON (((963184.6 41...\\\\\n",
       "\t2 & 48039660200 & MULTIPOLYGON (((963387.7 41...\\\\\n",
       "\t3 & 48039660300 & MULTIPOLYGON (((960180 4197...\\\\\n",
       "\t4 & 48039660400 & MULTIPOLYGON (((959989.4 42...\\\\\n",
       "\t5 & 48039660500 & MULTIPOLYGON (((953609.1 41...\\\\\n",
       "\t6 & 48039660601 & MULTIPOLYGON (((950018 4197...\\\\\n",
       "\\end{tabular}\n"
      ],
      "text/markdown": [
       "\n",
       "A sf: 6 × 2\n",
       "\n",
       "| <!--/--> | geoid &lt;chr&gt; | geometry &lt;MULTIPOLYGON [m]&gt; |\n",
       "|---|---|---|\n",
       "| 1 | 48039660100 | MULTIPOLYGON (((963184.6 41... |\n",
       "| 2 | 48039660200 | MULTIPOLYGON (((963387.7 41... |\n",
       "| 3 | 48039660300 | MULTIPOLYGON (((960180 4197... |\n",
       "| 4 | 48039660400 | MULTIPOLYGON (((959989.4 42... |\n",
       "| 5 | 48039660500 | MULTIPOLYGON (((953609.1 41... |\n",
       "| 6 | 48039660601 | MULTIPOLYGON (((950018 4197... |\n",
       "\n"
      ],
      "text/plain": [
       "  geoid       geometry                      \n",
       "1 48039660100 MULTIPOLYGON (((963184.6 41...\n",
       "2 48039660200 MULTIPOLYGON (((963387.7 41...\n",
       "3 48039660300 MULTIPOLYGON (((960180 4197...\n",
       "4 48039660400 MULTIPOLYGON (((959989.4 42...\n",
       "5 48039660500 MULTIPOLYGON (((953609.1 41...\n",
       "6 48039660601 MULTIPOLYGON (((950018 4197..."
      ]
     },
     "metadata": {},
     "output_type": "display_data"
    }
   ],
   "source": [
    "# census tracts clipped to the study area\n",
    "sf_tracts <- st_read(\"data/study_area_census_tracts_clipped/study_area_census_tracts_clipped.shp\") %>%\n",
    "    rename(geoid = FIPS) %>%\n",
    "    mutate(geoid = as.character(geoid))\n",
    "\n",
    "df_tracts <- sf_tracts %>% st_set_geometry(NULL)\n",
    "# df_tracts <- read_csv(\"data/study_area_census_tracts/study_area_census_tracts.csv\") %>%\n",
    "#     rename(geoid = FIPS) %>%\n",
    "#     mutate(geoid = as.character(geoid))\n",
    "\n",
    "\n",
    "# table of all the raster cells which are covered by census tracts - used to limit wide output table for smaller size\n",
    "df_study_clipped <- read_csv(\"data/raster_template/raster_template_study_area_lookup.csv\") %>%\n",
    "    filter(study_area == 1)\n",
    "\n",
    "nrow(sf_tracts)\n",
    "head(sf_tracts)"
   ]
  },
  {
   "cell_type": "code",
   "execution_count": 62,
   "metadata": {},
   "outputs": [],
   "source": [
    "rt <- read_stars(\"data/raster_template/raster_template.tif\")"
   ]
  },
  {
   "cell_type": "code",
   "execution_count": 34,
   "metadata": {
    "scrolled": true
   },
   "outputs": [
    {
     "name": "stderr",
     "output_type": "stream",
     "text": [
      "Parsed with column specification:\n",
      "cols(\n",
      "  .default = col_character(),\n",
      "  `Adverse Direction` = col_double(),\n",
      "  to_process = col_double(),\n",
      "  processed = col_double()\n",
      ")\n",
      "See spec(...) for full column specifications.\n"
     ]
    },
    {
     "data": {
      "text/html": [
       "47"
      ],
      "text/latex": [
       "47"
      ],
      "text/markdown": [
       "47"
      ],
      "text/plain": [
       "[1] 47"
      ]
     },
     "metadata": {},
     "output_type": "display_data"
    },
    {
     "data": {
      "text/html": [
       "<table>\n",
       "<caption>A tibble: 6 × 27</caption>\n",
       "<thead>\n",
       "\t<tr><th scope=col>Path To File</th><th scope=col>Document Name</th><th scope=col>CensusIdName</th><th scope=col>Clean/Final Data</th><th scope=col>Domain</th><th scope=col>Subcategory</th><th scope=col>Data Column Name</th><th scope=col>Unit of Data</th><th scope=col>Indicator Name</th><th scope=col>indicator_name_short</th><th scope=col>⋯</th><th scope=col>Format</th><th scope=col>Geographic Level</th><th scope=col>URL</th><th scope=col>Download Date</th><th scope=col>GEOID Column Name</th><th scope=col>missing_data_value</th><th scope=col>to_process</th><th scope=col>processed</th><th scope=col>Notes</th><th scope=col>Data notes</th></tr>\n",
       "\t<tr><th scope=col>&lt;chr&gt;</th><th scope=col>&lt;chr&gt;</th><th scope=col>&lt;chr&gt;</th><th scope=col>&lt;chr&gt;</th><th scope=col>&lt;chr&gt;</th><th scope=col>&lt;chr&gt;</th><th scope=col>&lt;chr&gt;</th><th scope=col>&lt;chr&gt;</th><th scope=col>&lt;chr&gt;</th><th scope=col>&lt;chr&gt;</th><th scope=col>⋯</th><th scope=col>&lt;chr&gt;</th><th scope=col>&lt;chr&gt;</th><th scope=col>&lt;chr&gt;</th><th scope=col>&lt;chr&gt;</th><th scope=col>&lt;chr&gt;</th><th scope=col>&lt;chr&gt;</th><th scope=col>&lt;dbl&gt;</th><th scope=col>&lt;dbl&gt;</th><th scope=col>&lt;chr&gt;</th><th scope=col>&lt;chr&gt;</th></tr>\n",
       "</thead>\n",
       "<tbody>\n",
       "\t<tr><td>Health/LifeExpectancy.csv                                                      </td><td>LifeExpectancy                                                      </td><td>Census Tract</td><td>YES</td><td>Health</td><td>Overall Physical Health</td><td>Life expectancy at birth, as of 2010-2015.</td><td>NA</td><td>Life Expectancy                                                   </td><td>LifeExpectancy</td><td>⋯</td><td>Census Tract              </td><td>Census Tract              </td><td>NA  </td><td>05/08/2021</td><td>Census Tract</td><td>-999</td><td>1</td><td>1</td><td>W Verified. This is a rate.                         </td><td>NA</td></tr>\n",
       "\t<tr><td>Health/PLACES__Local_Data_for_Better_Health__Census_Tract_Data_2021_release.csv</td><td>PLACES__Local_Data_for_Better_Health__Census_Tract_Data_2021_release</td><td><span style=white-space:pre-wrap>LocationID  </span></td><td>YES</td><td>Health</td><td><span style=white-space:pre-wrap>Chronic Disease        </span></td><td><span style=white-space:pre-wrap>CASTHMA                                   </span></td><td>NA</td><td><span style=white-space:pre-wrap>Current asthma among adults aged &gt;=18 years                       </span></td><td><span style=white-space:pre-wrap>CASTHMA       </span></td><td>⋯</td><td>Census Tract (Model based)</td><td>Census Tract (Model based)</td><td>Link</td><td>21/12/2021</td><td>LocationName</td><td>none</td><td>1</td><td>1</td><td>W Verified. This is a % per total population in CST.</td><td>NA</td></tr>\n",
       "\t<tr><td>Health/PLACES__Local_Data_for_Better_Health__Census_Tract_Data_2021_release.csv</td><td>PLACES__Local_Data_for_Better_Health__Census_Tract_Data_2021_release</td><td><span style=white-space:pre-wrap>LocationID  </span></td><td>YES</td><td>Health</td><td><span style=white-space:pre-wrap>Chronic Disease        </span></td><td><span style=white-space:pre-wrap>STROKE                                    </span></td><td>NA</td><td><span style=white-space:pre-wrap>Stroke among adults aged &gt;=18 years                               </span></td><td><span style=white-space:pre-wrap>STROKE        </span></td><td>⋯</td><td>Census Tract (Model based)</td><td>Census Tract (Model based)</td><td>Link</td><td>21/12/2021</td><td>LocationName</td><td>none</td><td>1</td><td>1</td><td>W Verified. This is a % per total population in CST.</td><td>NA</td></tr>\n",
       "\t<tr><td>Health/PLACES__Local_Data_for_Better_Health__Census_Tract_Data_2021_release.csv</td><td>PLACES__Local_Data_for_Better_Health__Census_Tract_Data_2021_release</td><td><span style=white-space:pre-wrap>LocationID  </span></td><td>YES</td><td>Health</td><td><span style=white-space:pre-wrap>Chronic Disease        </span></td><td><span style=white-space:pre-wrap>COPD                                      </span></td><td>NA</td><td>Chronic obstructive pulmonary disease among adults aged &gt;=18 years</td><td><span style=white-space:pre-wrap>COPD          </span></td><td>⋯</td><td>Census Tract (Model based)</td><td>Census Tract (Model based)</td><td>Link</td><td>21/12/2021</td><td>LocationName</td><td>none</td><td>1</td><td>1</td><td>W Verified. This is a % per total population in CST.</td><td>NA</td></tr>\n",
       "\t<tr><td>Health/PLACES__Local_Data_for_Better_Health__Census_Tract_Data_2021_release.csv</td><td>PLACES__Local_Data_for_Better_Health__Census_Tract_Data_2021_release</td><td><span style=white-space:pre-wrap>LocationID  </span></td><td>YES</td><td>Health</td><td><span style=white-space:pre-wrap>Chronic Disease        </span></td><td><span style=white-space:pre-wrap>CHD                                       </span></td><td>NA</td><td><span style=white-space:pre-wrap>Coronary heart disease among adults aged &gt;=18 years               </span></td><td><span style=white-space:pre-wrap>CHD           </span></td><td>⋯</td><td>Census Tract (Model based)</td><td>Census Tract (Model based)</td><td>Link</td><td>21/12/2021</td><td>LocationName</td><td>none</td><td>1</td><td>1</td><td>W Verified. This is a % per total population in CST.</td><td>NA</td></tr>\n",
       "\t<tr><td>Health/PLACES__Local_Data_for_Better_Health__Census_Tract_Data_2021_release.csv</td><td>PLACES__Local_Data_for_Better_Health__Census_Tract_Data_2021_release</td><td><span style=white-space:pre-wrap>LocationID  </span></td><td>YES</td><td>Health</td><td><span style=white-space:pre-wrap>Chronic Disease        </span></td><td><span style=white-space:pre-wrap>CANCER                                    </span></td><td>NA</td><td><span style=white-space:pre-wrap>Cancer (excluding skin cancer) among adults aged &gt;=18 years       </span></td><td><span style=white-space:pre-wrap>CANCER        </span></td><td>⋯</td><td>Census Tract (Model based)</td><td>Census Tract (Model based)</td><td>Link</td><td>21/12/2021</td><td>LocationName</td><td>none</td><td>1</td><td>1</td><td>W Verified. This is a % per total population in CST.</td><td>NA</td></tr>\n",
       "</tbody>\n",
       "</table>\n"
      ],
      "text/latex": [
       "A tibble: 6 × 27\n",
       "\\begin{tabular}{lllllllllllllllllllll}\n",
       " Path To File & Document Name & CensusIdName & Clean/Final Data & Domain & Subcategory & Data Column Name & Unit of Data & Indicator Name & indicator\\_name\\_short & ⋯ & Format & Geographic Level & URL & Download Date & GEOID Column Name & missing\\_data\\_value & to\\_process & processed & Notes & Data notes\\\\\n",
       " <chr> & <chr> & <chr> & <chr> & <chr> & <chr> & <chr> & <chr> & <chr> & <chr> & ⋯ & <chr> & <chr> & <chr> & <chr> & <chr> & <chr> & <dbl> & <dbl> & <chr> & <chr>\\\\\n",
       "\\hline\n",
       "\t Health/LifeExpectancy.csv                                                       & LifeExpectancy                                                       & Census Tract & YES & Health & Overall Physical Health & Life expectancy at birth, as of 2010-2015. & NA & Life Expectancy                                                    & LifeExpectancy & ⋯ & Census Tract               & Census Tract               & NA   & 05/08/2021 & Census Tract & -999 & 1 & 1 & W Verified. This is a rate.                          & NA\\\\\n",
       "\t Health/PLACES\\_\\_Local\\_Data\\_for\\_Better\\_Health\\_\\_Census\\_Tract\\_Data\\_2021\\_release.csv & PLACES\\_\\_Local\\_Data\\_for\\_Better\\_Health\\_\\_Census\\_Tract\\_Data\\_2021\\_release & LocationID   & YES & Health & Chronic Disease         & CASTHMA                                    & NA & Current asthma among adults aged >=18 years                        & CASTHMA        & ⋯ & Census Tract (Model based) & Census Tract (Model based) & Link & 21/12/2021 & LocationName & none & 1 & 1 & W Verified. This is a \\% per total population in CST. & NA\\\\\n",
       "\t Health/PLACES\\_\\_Local\\_Data\\_for\\_Better\\_Health\\_\\_Census\\_Tract\\_Data\\_2021\\_release.csv & PLACES\\_\\_Local\\_Data\\_for\\_Better\\_Health\\_\\_Census\\_Tract\\_Data\\_2021\\_release & LocationID   & YES & Health & Chronic Disease         & STROKE                                     & NA & Stroke among adults aged >=18 years                                & STROKE         & ⋯ & Census Tract (Model based) & Census Tract (Model based) & Link & 21/12/2021 & LocationName & none & 1 & 1 & W Verified. This is a \\% per total population in CST. & NA\\\\\n",
       "\t Health/PLACES\\_\\_Local\\_Data\\_for\\_Better\\_Health\\_\\_Census\\_Tract\\_Data\\_2021\\_release.csv & PLACES\\_\\_Local\\_Data\\_for\\_Better\\_Health\\_\\_Census\\_Tract\\_Data\\_2021\\_release & LocationID   & YES & Health & Chronic Disease         & COPD                                       & NA & Chronic obstructive pulmonary disease among adults aged >=18 years & COPD           & ⋯ & Census Tract (Model based) & Census Tract (Model based) & Link & 21/12/2021 & LocationName & none & 1 & 1 & W Verified. This is a \\% per total population in CST. & NA\\\\\n",
       "\t Health/PLACES\\_\\_Local\\_Data\\_for\\_Better\\_Health\\_\\_Census\\_Tract\\_Data\\_2021\\_release.csv & PLACES\\_\\_Local\\_Data\\_for\\_Better\\_Health\\_\\_Census\\_Tract\\_Data\\_2021\\_release & LocationID   & YES & Health & Chronic Disease         & CHD                                        & NA & Coronary heart disease among adults aged >=18 years                & CHD            & ⋯ & Census Tract (Model based) & Census Tract (Model based) & Link & 21/12/2021 & LocationName & none & 1 & 1 & W Verified. This is a \\% per total population in CST. & NA\\\\\n",
       "\t Health/PLACES\\_\\_Local\\_Data\\_for\\_Better\\_Health\\_\\_Census\\_Tract\\_Data\\_2021\\_release.csv & PLACES\\_\\_Local\\_Data\\_for\\_Better\\_Health\\_\\_Census\\_Tract\\_Data\\_2021\\_release & LocationID   & YES & Health & Chronic Disease         & CANCER                                     & NA & Cancer (excluding skin cancer) among adults aged >=18 years        & CANCER         & ⋯ & Census Tract (Model based) & Census Tract (Model based) & Link & 21/12/2021 & LocationName & none & 1 & 1 & W Verified. This is a \\% per total population in CST. & NA\\\\\n",
       "\\end{tabular}\n"
      ],
      "text/markdown": [
       "\n",
       "A tibble: 6 × 27\n",
       "\n",
       "| Path To File &lt;chr&gt; | Document Name &lt;chr&gt; | CensusIdName &lt;chr&gt; | Clean/Final Data &lt;chr&gt; | Domain &lt;chr&gt; | Subcategory &lt;chr&gt; | Data Column Name &lt;chr&gt; | Unit of Data &lt;chr&gt; | Indicator Name &lt;chr&gt; | indicator_name_short &lt;chr&gt; | ⋯ ⋯ | Format &lt;chr&gt; | Geographic Level &lt;chr&gt; | URL &lt;chr&gt; | Download Date &lt;chr&gt; | GEOID Column Name &lt;chr&gt; | missing_data_value &lt;chr&gt; | to_process &lt;dbl&gt; | processed &lt;dbl&gt; | Notes &lt;chr&gt; | Data notes &lt;chr&gt; |\n",
       "|---|---|---|---|---|---|---|---|---|---|---|---|---|---|---|---|---|---|---|---|---|\n",
       "| Health/LifeExpectancy.csv                                                       | LifeExpectancy                                                       | Census Tract | YES | Health | Overall Physical Health | Life expectancy at birth, as of 2010-2015. | NA | Life Expectancy                                                    | LifeExpectancy | ⋯ | Census Tract               | Census Tract               | NA   | 05/08/2021 | Census Tract | -999 | 1 | 1 | W Verified. This is a rate.                          | NA |\n",
       "| Health/PLACES__Local_Data_for_Better_Health__Census_Tract_Data_2021_release.csv | PLACES__Local_Data_for_Better_Health__Census_Tract_Data_2021_release | LocationID   | YES | Health | Chronic Disease         | CASTHMA                                    | NA | Current asthma among adults aged &gt;=18 years                        | CASTHMA        | ⋯ | Census Tract (Model based) | Census Tract (Model based) | Link | 21/12/2021 | LocationName | none | 1 | 1 | W Verified. This is a % per total population in CST. | NA |\n",
       "| Health/PLACES__Local_Data_for_Better_Health__Census_Tract_Data_2021_release.csv | PLACES__Local_Data_for_Better_Health__Census_Tract_Data_2021_release | LocationID   | YES | Health | Chronic Disease         | STROKE                                     | NA | Stroke among adults aged &gt;=18 years                                | STROKE         | ⋯ | Census Tract (Model based) | Census Tract (Model based) | Link | 21/12/2021 | LocationName | none | 1 | 1 | W Verified. This is a % per total population in CST. | NA |\n",
       "| Health/PLACES__Local_Data_for_Better_Health__Census_Tract_Data_2021_release.csv | PLACES__Local_Data_for_Better_Health__Census_Tract_Data_2021_release | LocationID   | YES | Health | Chronic Disease         | COPD                                       | NA | Chronic obstructive pulmonary disease among adults aged &gt;=18 years | COPD           | ⋯ | Census Tract (Model based) | Census Tract (Model based) | Link | 21/12/2021 | LocationName | none | 1 | 1 | W Verified. This is a % per total population in CST. | NA |\n",
       "| Health/PLACES__Local_Data_for_Better_Health__Census_Tract_Data_2021_release.csv | PLACES__Local_Data_for_Better_Health__Census_Tract_Data_2021_release | LocationID   | YES | Health | Chronic Disease         | CHD                                        | NA | Coronary heart disease among adults aged &gt;=18 years                | CHD            | ⋯ | Census Tract (Model based) | Census Tract (Model based) | Link | 21/12/2021 | LocationName | none | 1 | 1 | W Verified. This is a % per total population in CST. | NA |\n",
       "| Health/PLACES__Local_Data_for_Better_Health__Census_Tract_Data_2021_release.csv | PLACES__Local_Data_for_Better_Health__Census_Tract_Data_2021_release | LocationID   | YES | Health | Chronic Disease         | CANCER                                     | NA | Cancer (excluding skin cancer) among adults aged &gt;=18 years        | CANCER         | ⋯ | Census Tract (Model based) | Census Tract (Model based) | Link | 21/12/2021 | LocationName | none | 1 | 1 | W Verified. This is a % per total population in CST. | NA |\n",
       "\n"
      ],
      "text/plain": [
       "  Path To File                                                                   \n",
       "1 Health/LifeExpectancy.csv                                                      \n",
       "2 Health/PLACES__Local_Data_for_Better_Health__Census_Tract_Data_2021_release.csv\n",
       "3 Health/PLACES__Local_Data_for_Better_Health__Census_Tract_Data_2021_release.csv\n",
       "4 Health/PLACES__Local_Data_for_Better_Health__Census_Tract_Data_2021_release.csv\n",
       "5 Health/PLACES__Local_Data_for_Better_Health__Census_Tract_Data_2021_release.csv\n",
       "6 Health/PLACES__Local_Data_for_Better_Health__Census_Tract_Data_2021_release.csv\n",
       "  Document Name                                                       \n",
       "1 LifeExpectancy                                                      \n",
       "2 PLACES__Local_Data_for_Better_Health__Census_Tract_Data_2021_release\n",
       "3 PLACES__Local_Data_for_Better_Health__Census_Tract_Data_2021_release\n",
       "4 PLACES__Local_Data_for_Better_Health__Census_Tract_Data_2021_release\n",
       "5 PLACES__Local_Data_for_Better_Health__Census_Tract_Data_2021_release\n",
       "6 PLACES__Local_Data_for_Better_Health__Census_Tract_Data_2021_release\n",
       "  CensusIdName Clean/Final Data Domain Subcategory            \n",
       "1 Census Tract YES              Health Overall Physical Health\n",
       "2 LocationID   YES              Health Chronic Disease        \n",
       "3 LocationID   YES              Health Chronic Disease        \n",
       "4 LocationID   YES              Health Chronic Disease        \n",
       "5 LocationID   YES              Health Chronic Disease        \n",
       "6 LocationID   YES              Health Chronic Disease        \n",
       "  Data Column Name                           Unit of Data\n",
       "1 Life expectancy at birth, as of 2010-2015. NA          \n",
       "2 CASTHMA                                    NA          \n",
       "3 STROKE                                     NA          \n",
       "4 COPD                                       NA          \n",
       "5 CHD                                        NA          \n",
       "6 CANCER                                     NA          \n",
       "  Indicator Name                                                    \n",
       "1 Life Expectancy                                                   \n",
       "2 Current asthma among adults aged >=18 years                       \n",
       "3 Stroke among adults aged >=18 years                               \n",
       "4 Chronic obstructive pulmonary disease among adults aged >=18 years\n",
       "5 Coronary heart disease among adults aged >=18 years               \n",
       "6 Cancer (excluding skin cancer) among adults aged >=18 years       \n",
       "  indicator_name_short <U+22EF>        Format                    \n",
       "1 LifeExpectancy       <U+22EF> Census Tract              \n",
       "2 CASTHMA              <U+22EF> Census Tract (Model based)\n",
       "3 STROKE               <U+22EF> Census Tract (Model based)\n",
       "4 COPD                 <U+22EF> Census Tract (Model based)\n",
       "5 CHD                  <U+22EF> Census Tract (Model based)\n",
       "6 CANCER               <U+22EF> Census Tract (Model based)\n",
       "  Geographic Level           URL  Download Date GEOID Column Name\n",
       "1 Census Tract               NA   05/08/2021    Census Tract     \n",
       "2 Census Tract (Model based) Link 21/12/2021    LocationName     \n",
       "3 Census Tract (Model based) Link 21/12/2021    LocationName     \n",
       "4 Census Tract (Model based) Link 21/12/2021    LocationName     \n",
       "5 Census Tract (Model based) Link 21/12/2021    LocationName     \n",
       "6 Census Tract (Model based) Link 21/12/2021    LocationName     \n",
       "  missing_data_value to_process processed\n",
       "1 -999               1          1        \n",
       "2 none               1          1        \n",
       "3 none               1          1        \n",
       "4 none               1          1        \n",
       "5 none               1          1        \n",
       "6 none               1          1        \n",
       "  Notes                                                Data notes\n",
       "1 W Verified. This is a rate.                          NA        \n",
       "2 W Verified. This is a % per total population in CST. NA        \n",
       "3 W Verified. This is a % per total population in CST. NA        \n",
       "4 W Verified. This is a % per total population in CST. NA        \n",
       "5 W Verified. This is a % per total population in CST. NA        \n",
       "6 W Verified. This is a % per total population in CST. NA        "
      ]
     },
     "metadata": {},
     "output_type": "display_data"
    }
   ],
   "source": [
    "# lookup file for datasets to be processed\n",
    "file_key <- read_csv(\"data/CVI for Gulf_2 - csv 2022_07_04.csv\")\n",
    "\n",
    "nrow(file_key)\n",
    "head(file_key)"
   ]
  },
  {
   "cell_type": "code",
   "execution_count": 3,
   "metadata": {},
   "outputs": [
    {
     "data": {
      "text/html": [
       "1017"
      ],
      "text/latex": [
       "1017"
      ],
      "text/markdown": [
       "1017"
      ],
      "text/plain": [
       "[1] 1017"
      ]
     },
     "metadata": {},
     "output_type": "display_data"
    }
   ],
   "source": [
    "nrow(df_tracts)"
   ]
  },
  {
   "cell_type": "code",
   "execution_count": 4,
   "metadata": {},
   "outputs": [
    {
     "data": {
      "text/html": [
       "<table>\n",
       "<caption>A tibble: 1 × 2</caption>\n",
       "<thead>\n",
       "\t<tr><th scope=col>study_area</th><th scope=col>n</th></tr>\n",
       "\t<tr><th scope=col>&lt;dbl&gt;</th><th scope=col>&lt;int&gt;</th></tr>\n",
       "</thead>\n",
       "<tbody>\n",
       "\t<tr><td>1</td><td>1697501</td></tr>\n",
       "</tbody>\n",
       "</table>\n"
      ],
      "text/latex": [
       "A tibble: 1 × 2\n",
       "\\begin{tabular}{ll}\n",
       " study\\_area & n\\\\\n",
       " <dbl> & <int>\\\\\n",
       "\\hline\n",
       "\t 1 & 1697501\\\\\n",
       "\\end{tabular}\n"
      ],
      "text/markdown": [
       "\n",
       "A tibble: 1 × 2\n",
       "\n",
       "| study_area &lt;dbl&gt; | n &lt;int&gt; |\n",
       "|---|---|\n",
       "| 1 | 1697501 |\n",
       "\n"
      ],
      "text/plain": [
       "  study_area n      \n",
       "1 1          1697501"
      ]
     },
     "metadata": {},
     "output_type": "display_data"
    }
   ],
   "source": [
    "df_study_clipped %>% count(study_area)"
   ]
  },
  {
   "cell_type": "code",
   "execution_count": 5,
   "metadata": {},
   "outputs": [
    {
     "data": {
      "image/png": "[encoded data removed]",
      "text/plain": [
       "Plot with title \"geoid\""
      ]
     },
     "metadata": {},
     "output_type": "display_data"
    }
   ],
   "source": [
    "plot(sf_tracts[, 1])"
   ]
  },
  {
   "cell_type": "markdown",
   "metadata": {},
   "source": [
    "## Processing #1 - create study area only datasets for each file (only run once)"
   ]
  },
  {
   "cell_type": "code",
   "execution_count": 26,
   "metadata": {},
   "outputs": [
    {
     "data": {
      "text/html": [
       "<table>\n",
       "<caption>A data.frame: 2 × 2</caption>\n",
       "<thead>\n",
       "\t<tr><th scope=col>Path To File</th><th scope=col>GEOID Column Name</th></tr>\n",
       "\t<tr><th scope=col>&lt;chr&gt;</th><th scope=col>&lt;chr&gt;</th></tr>\n",
       "</thead>\n",
       "<tbody>\n",
       "\t<tr><td>Social/PercentHousing1940-1969.csv</td><td>FIPS Code</td></tr>\n",
       "\t<tr><td>Social/Native Lands_63022.csv     </td><td>FIPS     </td></tr>\n",
       "</tbody>\n",
       "</table>\n"
      ],
      "text/latex": [
       "A data.frame: 2 × 2\n",
       "\\begin{tabular}{ll}\n",
       " Path To File & GEOID Column Name\\\\\n",
       " <chr> & <chr>\\\\\n",
       "\\hline\n",
       "\t Social/PercentHousing1940-1969.csv & FIPS Code\\\\\n",
       "\t Social/Native Lands\\_63022.csv      & FIPS     \\\\\n",
       "\\end{tabular}\n"
      ],
      "text/markdown": [
       "\n",
       "A data.frame: 2 × 2\n",
       "\n",
       "| Path To File &lt;chr&gt; | GEOID Column Name &lt;chr&gt; |\n",
       "|---|---|\n",
       "| Social/PercentHousing1940-1969.csv | FIPS Code |\n",
       "| Social/Native Lands_63022.csv      | FIPS      |\n",
       "\n"
      ],
      "text/plain": [
       "  Path To File                       GEOID Column Name\n",
       "1 Social/PercentHousing1940-1969.csv FIPS Code        \n",
       "2 Social/Native Lands_63022.csv      FIPS             "
      ]
     },
     "metadata": {},
     "output_type": "display_data"
    }
   ],
   "source": [
    "targ <- file_key %>%\n",
    "#     filter(to_process == 1 & processed != 1) %>%\n",
    "    filter(`Document Name` %in% c(\"PercentHousing1940-1969\", \"Native Lands_63022\"))  %>% \n",
    "    distinct(`Path To File`, `GEOID Column Name`) %>% \n",
    "    as.data.frame()\n",
    "\n",
    "targ"
   ]
  },
  {
   "cell_type": "code",
   "execution_count": 33,
   "metadata": {
    "scrolled": false
   },
   "outputs": [
    {
     "name": "stderr",
     "output_type": "stream",
     "text": [
      "Parsed with column specification:\n",
      "cols(\n",
      "  `Census Tract` = col_character(),\n",
      "  State = col_character(),\n",
      "  `FIPS Code` = col_double(),\n",
      "  `Formatted FIPS` = col_character(),\n",
      "  `Estimated percent of all housing units built 1940 to 1969, as of` = col_double()\n",
      ")\n",
      "Parsed with column specification:\n",
      "cols(\n",
      "  OID_ = col_double(),\n",
      "  STATE_ABBR = col_character(),\n",
      "  STATE_FIPS = col_double(),\n",
      "  COUNTY_FIPS = col_double(),\n",
      "  STCOFIPS = col_double(),\n",
      "  TRACT_FIPS = col_double(),\n",
      "  FIPS = col_double(),\n",
      "  POPULATION = col_double(),\n",
      "  POP_SQMI = col_double(),\n",
      "  SQMI = col_double(),\n",
      "  Area_of_intersect_sqmiles = col_double(),\n",
      "  Percent_na_lands = col_double()\n",
      ")\n"
     ]
    }
   ],
   "source": [
    "for (i in 1:nrow(targ)) {\n",
    "# for (i in 1:1) {\n",
    "\n",
    "    # take file path and geoid column name from file key\n",
    "    path <- paste0(\"data/ToxPi_inputs/\", targ[i, \"Path To File\"])\n",
    "    geoid_col_name <- targ[i, \"GEOID Column Name\"]\n",
    "    \n",
    "    # read in file and create new character geoid field\n",
    "    df <- read_csv(path) %>%\n",
    "        mutate(geoid = as.character(!!as.symbol(geoid_col_name)))\n",
    "    \n",
    "    # get list of all required data fields in file from file_key\n",
    "    fields <- filter(file_key, `Path To File` == targ[i, \"Path To File\"]) %>%\n",
    "    distinct(`Data Column Name`) %>% \n",
    "    pull()\n",
    "    \n",
    "    # filter to study area tracts, select required columns, and save\n",
    "    df %>%\n",
    "        filter(geoid %in% df_tracts$geoid) %>%\n",
    "        select(geoid, all_of(fields)) %>%\n",
    "        write_csv(str_replace(path, \".csv\", \" - study_area.csv\"))\n",
    "\n",
    "}"
   ]
  },
  {
   "cell_type": "markdown",
   "metadata": {},
   "source": [
    "### Processing 1.1 - manual fix for health data"
   ]
  },
  {
   "cell_type": "code",
   "execution_count": 226,
   "metadata": {
    "scrolled": false
   },
   "outputs": [
    {
     "name": "stderr",
     "output_type": "stream",
     "text": [
      "Parsed with column specification:\n",
      "cols(\n",
      "  .default = col_character(),\n",
      "  Year = col_double(),\n",
      "  Data_Value = col_double(),\n",
      "  Data_Value_Footnote_Symbol = col_logical(),\n",
      "  Data_Value_Footnote = col_logical(),\n",
      "  Low_Confidence_Limit = col_double(),\n",
      "  High_Confidence_Limit = col_double(),\n",
      "  TotalPopulation = col_double()\n",
      ")\n",
      "See spec(...) for full column specifications.\n"
     ]
    },
    {
     "data": {
      "text/html": [
       "7152"
      ],
      "text/latex": [
       "7152"
      ],
      "text/markdown": [
       "7152"
      ],
      "text/plain": [
       "[1] 7152"
      ]
     },
     "metadata": {},
     "output_type": "display_data"
    },
    {
     "data": {
      "text/html": [
       "<table>\n",
       "<caption>A tibble: 6 × 3</caption>\n",
       "<thead>\n",
       "\t<tr><th scope=col>geoid</th><th scope=col>Data_Value</th><th scope=col>MeasureId</th></tr>\n",
       "\t<tr><th scope=col>&lt;chr&gt;</th><th scope=col>&lt;dbl&gt;</th><th scope=col>&lt;chr&gt;</th></tr>\n",
       "</thead>\n",
       "<tbody>\n",
       "\t<tr><td>48039662100</td><td>3.2</td><td>STROKE </td></tr>\n",
       "\t<tr><td>48039661300</td><td>3.9</td><td>STROKE </td></tr>\n",
       "\t<tr><td>48039661601</td><td>6.4</td><td>CANCER </td></tr>\n",
       "\t<tr><td>48039660702</td><td>1.9</td><td>STROKE </td></tr>\n",
       "\t<tr><td>48039661502</td><td>6.1</td><td>CHD    </td></tr>\n",
       "\t<tr><td>48039660300</td><td>7.7</td><td>CASTHMA</td></tr>\n",
       "</tbody>\n",
       "</table>\n"
      ],
      "text/latex": [
       "A tibble: 6 × 3\n",
       "\\begin{tabular}{lll}\n",
       " geoid & Data\\_Value & MeasureId\\\\\n",
       " <chr> & <dbl> & <chr>\\\\\n",
       "\\hline\n",
       "\t 48039662100 & 3.2 & STROKE \\\\\n",
       "\t 48039661300 & 3.9 & STROKE \\\\\n",
       "\t 48039661601 & 6.4 & CANCER \\\\\n",
       "\t 48039660702 & 1.9 & STROKE \\\\\n",
       "\t 48039661502 & 6.1 & CHD    \\\\\n",
       "\t 48039660300 & 7.7 & CASTHMA\\\\\n",
       "\\end{tabular}\n"
      ],
      "text/markdown": [
       "\n",
       "A tibble: 6 × 3\n",
       "\n",
       "| geoid &lt;chr&gt; | Data_Value &lt;dbl&gt; | MeasureId &lt;chr&gt; |\n",
       "|---|---|---|\n",
       "| 48039662100 | 3.2 | STROKE  |\n",
       "| 48039661300 | 3.9 | STROKE  |\n",
       "| 48039661601 | 6.4 | CANCER  |\n",
       "| 48039660702 | 1.9 | STROKE  |\n",
       "| 48039661502 | 6.1 | CHD     |\n",
       "| 48039660300 | 7.7 | CASTHMA |\n",
       "\n"
      ],
      "text/plain": [
       "  geoid       Data_Value MeasureId\n",
       "1 48039662100 3.2        STROKE   \n",
       "2 48039661300 3.9        STROKE   \n",
       "3 48039661601 6.4        CANCER   \n",
       "4 48039660702 1.9        STROKE   \n",
       "5 48039661502 6.1        CHD      \n",
       "6 48039660300 7.7        CASTHMA  "
      ]
     },
     "metadata": {},
     "output_type": "display_data"
    }
   ],
   "source": [
    "# this is just to create a wide dataset from the narrow table the data is provided in\n",
    "health_fields <- c(\"CASTHMA\", \"STROKE\", \"COPD\", \"CHD\", \"CANCER\", \"ACCESS2\")\n",
    "\n",
    "df_health_wide <- read_csv(\"data/Health/PLACES__Local_Data_for_Better_Health__Census_Tract_Data_2021_release.csv\") %>%\n",
    "    rename(geoid = LocationName) %>%\n",
    "    filter(geoid %in% df_tracts$geoid, MeasureId %in% health_fields) %>%\n",
    "    select(geoid, Data_Value, MeasureId)\n",
    "\n",
    "nrow(df_health_wide)\n",
    "head(df_health_wide)"
   ]
  },
  {
   "cell_type": "code",
   "execution_count": 237,
   "metadata": {},
   "outputs": [],
   "source": [
    "df_health_wide %>% \n",
    "    spread(value = Data_Value, key = MeasureId) %>%\n",
    "    head() \n",
    "#     write_csv(\"data/Health/PLACES__Local_Data_for_Better_Health__Census_Tract_Data_2021_release - study_area.csv\")"
   ]
  },
  {
   "cell_type": "markdown",
   "metadata": {},
   "source": [
    "### Processing 1.2 - manual categorisation for medically underserved"
   ]
  },
  {
   "cell_type": "code",
   "execution_count": 8,
   "metadata": {},
   "outputs": [
    {
     "name": "stderr",
     "output_type": "stream",
     "text": [
      "Parsed with column specification:\n",
      "cols(\n",
      "  geoid = col_double(),\n",
      "  `Medically Underserved Areas (MUA), as of 2020.` = col_character()\n",
      ")\n"
     ]
    },
    {
     "data": {
      "text/html": [
       "<table>\n",
       "<caption>A tibble: 4 × 3</caption>\n",
       "<thead>\n",
       "\t<tr><th scope=col>Medically Underserved Areas (MUA), as of 2020.</th><th scope=col>label</th><th scope=col>n</th></tr>\n",
       "\t<tr><th scope=col>&lt;dbl&gt;</th><th scope=col>&lt;chr&gt;</th><th scope=col>&lt;int&gt;</th></tr>\n",
       "</thead>\n",
       "<tbody>\n",
       "\t<tr><td>1</td><td>Not an MUA or MUP                                      </td><td>663</td></tr>\n",
       "\t<tr><td>2</td><td>Medically Underserved Population                       </td><td> 74</td></tr>\n",
       "\t<tr><td>2</td><td>Medically Underserved Population - Governor's Exception</td><td> 28</td></tr>\n",
       "\t<tr><td>3</td><td>Medically Underserved Area                             </td><td>252</td></tr>\n",
       "</tbody>\n",
       "</table>\n"
      ],
      "text/latex": [
       "A tibble: 4 × 3\n",
       "\\begin{tabular}{lll}\n",
       " Medically Underserved Areas (MUA), as of 2020. & label & n\\\\\n",
       " <dbl> & <chr> & <int>\\\\\n",
       "\\hline\n",
       "\t 1 & Not an MUA or MUP                                       & 663\\\\\n",
       "\t 2 & Medically Underserved Population                        &  74\\\\\n",
       "\t 2 & Medically Underserved Population - Governor's Exception &  28\\\\\n",
       "\t 3 & Medically Underserved Area                              & 252\\\\\n",
       "\\end{tabular}\n"
      ],
      "text/markdown": [
       "\n",
       "A tibble: 4 × 3\n",
       "\n",
       "| Medically Underserved Areas (MUA), as of 2020. &lt;dbl&gt; | label &lt;chr&gt; | n &lt;int&gt; |\n",
       "|---|---|---|\n",
       "| 1 | Not an MUA or MUP                                       | 663 |\n",
       "| 2 | Medically Underserved Population                        |  74 |\n",
       "| 2 | Medically Underserved Population - Governor's Exception |  28 |\n",
       "| 3 | Medically Underserved Area                              | 252 |\n",
       "\n"
      ],
      "text/plain": [
       "  Medically Underserved Areas (MUA), as of 2020.\n",
       "1 1                                             \n",
       "2 2                                             \n",
       "3 2                                             \n",
       "4 3                                             \n",
       "  label                                                   n  \n",
       "1 Not an MUA or MUP                                       663\n",
       "2 Medically Underserved Population                         74\n",
       "3 Medically Underserved Population - Governor's Exception  28\n",
       "4 Medically Underserved Area                              252"
      ]
     },
     "metadata": {},
     "output_type": "display_data"
    }
   ],
   "source": [
    "# recode categorical variable\n",
    "df <- read_csv(\"data/ToxPi_inputs/Health/MedicallyUnderserved - study_area.csv\") %>% \n",
    "    rename(label = `Medically Underserved Areas (MUA), as of 2020.`) %>%\n",
    "    mutate(value = case_when(label == \"Not an MUA or MUP\" ~ 1, \n",
    "                             label %in% c(\"Medically Underserved Population\", \n",
    "                                          \"Medically Underserved Population - Governor's Exception\") ~ 2,\n",
    "                             label == \"Medically Underserved Area\" ~ 3,\n",
    "                             TRUE ~ 0)) %>%\n",
    "    rename(`Medically Underserved Areas (MUA), as of 2020.` = value)\n",
    "\n",
    "df %>% count(`Medically Underserved Areas (MUA), as of 2020.`, label)"
   ]
  },
  {
   "cell_type": "code",
   "execution_count": 9,
   "metadata": {
    "scrolled": true
   },
   "outputs": [
    {
     "data": {
      "text/html": [
       "<table>\n",
       "<caption>A spec_tbl_df: 1017 × 3</caption>\n",
       "<thead>\n",
       "\t<tr><th scope=col>geoid</th><th scope=col>label</th><th scope=col>Medically Underserved Areas (MUA), as of 2020.</th></tr>\n",
       "\t<tr><th scope=col>&lt;dbl&gt;</th><th scope=col>&lt;chr&gt;</th><th scope=col>&lt;dbl&gt;</th></tr>\n",
       "</thead>\n",
       "<tbody>\n",
       "\t<tr><td>48039660100</td><td>Not an MUA or MUP         </td><td>1</td></tr>\n",
       "\t<tr><td>48039660200</td><td>Not an MUA or MUP         </td><td>1</td></tr>\n",
       "\t<tr><td>48039660300</td><td>Not an MUA or MUP         </td><td>1</td></tr>\n",
       "\t<tr><td>48039660400</td><td>Not an MUA or MUP         </td><td>1</td></tr>\n",
       "\t<tr><td>48039660500</td><td>Not an MUA or MUP         </td><td>1</td></tr>\n",
       "\t<tr><td>48039660601</td><td>Not an MUA or MUP         </td><td>1</td></tr>\n",
       "\t<tr><td>48039660602</td><td>Not an MUA or MUP         </td><td>1</td></tr>\n",
       "\t<tr><td>48039660701</td><td>Not an MUA or MUP         </td><td>1</td></tr>\n",
       "\t<tr><td>48039660702</td><td>Not an MUA or MUP         </td><td>1</td></tr>\n",
       "\t<tr><td>48039660801</td><td>Not an MUA or MUP         </td><td>1</td></tr>\n",
       "\t<tr><td>48039660802</td><td>Not an MUA or MUP         </td><td>1</td></tr>\n",
       "\t<tr><td>48039660900</td><td>Not an MUA or MUP         </td><td>1</td></tr>\n",
       "\t<tr><td>48039661000</td><td>Not an MUA or MUP         </td><td>1</td></tr>\n",
       "\t<tr><td>48039661100</td><td>Not an MUA or MUP         </td><td>1</td></tr>\n",
       "\t<tr><td>48039661200</td><td>Not an MUA or MUP         </td><td>1</td></tr>\n",
       "\t<tr><td>48039661300</td><td>Medically Underserved Area</td><td>3</td></tr>\n",
       "\t<tr><td>48039661400</td><td>Not an MUA or MUP         </td><td>1</td></tr>\n",
       "\t<tr><td>48039661501</td><td>Not an MUA or MUP         </td><td>1</td></tr>\n",
       "\t<tr><td>48039661502</td><td>Not an MUA or MUP         </td><td>1</td></tr>\n",
       "\t<tr><td>48039661601</td><td>Not an MUA or MUP         </td><td>1</td></tr>\n",
       "\t<tr><td>48039661602</td><td>Not an MUA or MUP         </td><td>1</td></tr>\n",
       "\t<tr><td>48039661700</td><td>Not an MUA or MUP         </td><td>1</td></tr>\n",
       "\t<tr><td>48039661800</td><td>Not an MUA or MUP         </td><td>1</td></tr>\n",
       "\t<tr><td>48039661900</td><td>Not an MUA or MUP         </td><td>1</td></tr>\n",
       "\t<tr><td>48039664200</td><td>Not an MUA or MUP         </td><td>1</td></tr>\n",
       "\t<tr><td>48071710100</td><td>Not an MUA or MUP         </td><td>1</td></tr>\n",
       "\t<tr><td>48071710200</td><td>Not an MUA or MUP         </td><td>1</td></tr>\n",
       "\t<tr><td>48071710300</td><td>Not an MUA or MUP         </td><td>1</td></tr>\n",
       "\t<tr><td>48071710401</td><td>Not an MUA or MUP         </td><td>1</td></tr>\n",
       "\t<tr><td>48071710500</td><td>Not an MUA or MUP         </td><td>1</td></tr>\n",
       "\t<tr><td>⋮</td><td>⋮</td><td>⋮</td></tr>\n",
       "\t<tr><td>48339693800</td><td>Medically Underserved Area</td><td>3</td></tr>\n",
       "\t<tr><td>48339693900</td><td>Medically Underserved Area</td><td>3</td></tr>\n",
       "\t<tr><td>48339694000</td><td>Medically Underserved Area</td><td>3</td></tr>\n",
       "\t<tr><td>48339694101</td><td>Medically Underserved Area</td><td>3</td></tr>\n",
       "\t<tr><td>48339694102</td><td>Medically Underserved Area</td><td>3</td></tr>\n",
       "\t<tr><td>48339694201</td><td>Not an MUA or MUP         </td><td>1</td></tr>\n",
       "\t<tr><td>48339694202</td><td>Not an MUA or MUP         </td><td>1</td></tr>\n",
       "\t<tr><td>48339694301</td><td>Not an MUA or MUP         </td><td>1</td></tr>\n",
       "\t<tr><td>48339694302</td><td>Not an MUA or MUP         </td><td>1</td></tr>\n",
       "\t<tr><td>48339694400</td><td>Not an MUA or MUP         </td><td>1</td></tr>\n",
       "\t<tr><td>48339694500</td><td>Medically Underserved Area</td><td>3</td></tr>\n",
       "\t<tr><td>48339694600</td><td>Medically Underserved Area</td><td>3</td></tr>\n",
       "\t<tr><td>48339694700</td><td>Medically Underserved Area</td><td>3</td></tr>\n",
       "\t<tr><td>48407200101</td><td>Medically Underserved Area</td><td>3</td></tr>\n",
       "\t<tr><td>48407200102</td><td>Medically Underserved Area</td><td>3</td></tr>\n",
       "\t<tr><td>48407200200</td><td>Medically Underserved Area</td><td>3</td></tr>\n",
       "\t<tr><td>48407200300</td><td>Medically Underserved Area</td><td>3</td></tr>\n",
       "\t<tr><td>48471790103</td><td>Not an MUA or MUP         </td><td>1</td></tr>\n",
       "\t<tr><td>48471790200</td><td>Not an MUA or MUP         </td><td>1</td></tr>\n",
       "\t<tr><td>48471790300</td><td>Not an MUA or MUP         </td><td>1</td></tr>\n",
       "\t<tr><td>48471790400</td><td>Not an MUA or MUP         </td><td>1</td></tr>\n",
       "\t<tr><td>48471790500</td><td>Not an MUA or MUP         </td><td>1</td></tr>\n",
       "\t<tr><td>48471790700</td><td>Not an MUA or MUP         </td><td>1</td></tr>\n",
       "\t<tr><td>48471790800</td><td>Not an MUA or MUP         </td><td>1</td></tr>\n",
       "\t<tr><td>48473680100</td><td>Medically Underserved Area</td><td>3</td></tr>\n",
       "\t<tr><td>48473680200</td><td>Medically Underserved Area</td><td>3</td></tr>\n",
       "\t<tr><td>48473680300</td><td>Medically Underserved Area</td><td>3</td></tr>\n",
       "\t<tr><td>48473680400</td><td>Medically Underserved Area</td><td>3</td></tr>\n",
       "\t<tr><td>48473680500</td><td>Medically Underserved Area</td><td>3</td></tr>\n",
       "\t<tr><td>48473680600</td><td>Medically Underserved Area</td><td>3</td></tr>\n",
       "</tbody>\n",
       "</table>\n"
      ],
      "text/latex": [
       "A spec\\_tbl\\_df: 1017 × 3\n",
       "\\begin{tabular}{lll}\n",
       " geoid & label & Medically Underserved Areas (MUA), as of 2020.\\\\\n",
       " <dbl> & <chr> & <dbl>\\\\\n",
       "\\hline\n",
       "\t 48039660100 & Not an MUA or MUP          & 1\\\\\n",
       "\t 48039660200 & Not an MUA or MUP          & 1\\\\\n",
       "\t 48039660300 & Not an MUA or MUP          & 1\\\\\n",
       "\t 48039660400 & Not an MUA or MUP          & 1\\\\\n",
       "\t 48039660500 & Not an MUA or MUP          & 1\\\\\n",
       "\t 48039660601 & Not an MUA or MUP          & 1\\\\\n",
       "\t 48039660602 & Not an MUA or MUP          & 1\\\\\n",
       "\t 48039660701 & Not an MUA or MUP          & 1\\\\\n",
       "\t 48039660702 & Not an MUA or MUP          & 1\\\\\n",
       "\t 48039660801 & Not an MUA or MUP          & 1\\\\\n",
       "\t 48039660802 & Not an MUA or MUP          & 1\\\\\n",
       "\t 48039660900 & Not an MUA or MUP          & 1\\\\\n",
       "\t 48039661000 & Not an MUA or MUP          & 1\\\\\n",
       "\t 48039661100 & Not an MUA or MUP          & 1\\\\\n",
       "\t 48039661200 & Not an MUA or MUP          & 1\\\\\n",
       "\t 48039661300 & Medically Underserved Area & 3\\\\\n",
       "\t 48039661400 & Not an MUA or MUP          & 1\\\\\n",
       "\t 48039661501 & Not an MUA or MUP          & 1\\\\\n",
       "\t 48039661502 & Not an MUA or MUP          & 1\\\\\n",
       "\t 48039661601 & Not an MUA or MUP          & 1\\\\\n",
       "\t 48039661602 & Not an MUA or MUP          & 1\\\\\n",
       "\t 48039661700 & Not an MUA or MUP          & 1\\\\\n",
       "\t 48039661800 & Not an MUA or MUP          & 1\\\\\n",
       "\t 48039661900 & Not an MUA or MUP          & 1\\\\\n",
       "\t 48039664200 & Not an MUA or MUP          & 1\\\\\n",
       "\t 48071710100 & Not an MUA or MUP          & 1\\\\\n",
       "\t 48071710200 & Not an MUA or MUP          & 1\\\\\n",
       "\t 48071710300 & Not an MUA or MUP          & 1\\\\\n",
       "\t 48071710401 & Not an MUA or MUP          & 1\\\\\n",
       "\t 48071710500 & Not an MUA or MUP          & 1\\\\\n",
       "\t ⋮ & ⋮ & ⋮\\\\\n",
       "\t 48339693800 & Medically Underserved Area & 3\\\\\n",
       "\t 48339693900 & Medically Underserved Area & 3\\\\\n",
       "\t 48339694000 & Medically Underserved Area & 3\\\\\n",
       "\t 48339694101 & Medically Underserved Area & 3\\\\\n",
       "\t 48339694102 & Medically Underserved Area & 3\\\\\n",
       "\t 48339694201 & Not an MUA or MUP          & 1\\\\\n",
       "\t 48339694202 & Not an MUA or MUP          & 1\\\\\n",
       "\t 48339694301 & Not an MUA or MUP          & 1\\\\\n",
       "\t 48339694302 & Not an MUA or MUP          & 1\\\\\n",
       "\t 48339694400 & Not an MUA or MUP          & 1\\\\\n",
       "\t 48339694500 & Medically Underserved Area & 3\\\\\n",
       "\t 48339694600 & Medically Underserved Area & 3\\\\\n",
       "\t 48339694700 & Medically Underserved Area & 3\\\\\n",
       "\t 48407200101 & Medically Underserved Area & 3\\\\\n",
       "\t 48407200102 & Medically Underserved Area & 3\\\\\n",
       "\t 48407200200 & Medically Underserved Area & 3\\\\\n",
       "\t 48407200300 & Medically Underserved Area & 3\\\\\n",
       "\t 48471790103 & Not an MUA or MUP          & 1\\\\\n",
       "\t 48471790200 & Not an MUA or MUP          & 1\\\\\n",
       "\t 48471790300 & Not an MUA or MUP          & 1\\\\\n",
       "\t 48471790400 & Not an MUA or MUP          & 1\\\\\n",
       "\t 48471790500 & Not an MUA or MUP          & 1\\\\\n",
       "\t 48471790700 & Not an MUA or MUP          & 1\\\\\n",
       "\t 48471790800 & Not an MUA or MUP          & 1\\\\\n",
       "\t 48473680100 & Medically Underserved Area & 3\\\\\n",
       "\t 48473680200 & Medically Underserved Area & 3\\\\\n",
       "\t 48473680300 & Medically Underserved Area & 3\\\\\n",
       "\t 48473680400 & Medically Underserved Area & 3\\\\\n",
       "\t 48473680500 & Medically Underserved Area & 3\\\\\n",
       "\t 48473680600 & Medically Underserved Area & 3\\\\\n",
       "\\end{tabular}\n"
      ],
      "text/markdown": [
       "\n",
       "A spec_tbl_df: 1017 × 3\n",
       "\n",
       "| geoid &lt;dbl&gt; | label &lt;chr&gt; | Medically Underserved Areas (MUA), as of 2020. &lt;dbl&gt; |\n",
       "|---|---|---|\n",
       "| 48039660100 | Not an MUA or MUP          | 1 |\n",
       "| 48039660200 | Not an MUA or MUP          | 1 |\n",
       "| 48039660300 | Not an MUA or MUP          | 1 |\n",
       "| 48039660400 | Not an MUA or MUP          | 1 |\n",
       "| 48039660500 | Not an MUA or MUP          | 1 |\n",
       "| 48039660601 | Not an MUA or MUP          | 1 |\n",
       "| 48039660602 | Not an MUA or MUP          | 1 |\n",
       "| 48039660701 | Not an MUA or MUP          | 1 |\n",
       "| 48039660702 | Not an MUA or MUP          | 1 |\n",
       "| 48039660801 | Not an MUA or MUP          | 1 |\n",
       "| 48039660802 | Not an MUA or MUP          | 1 |\n",
       "| 48039660900 | Not an MUA or MUP          | 1 |\n",
       "| 48039661000 | Not an MUA or MUP          | 1 |\n",
       "| 48039661100 | Not an MUA or MUP          | 1 |\n",
       "| 48039661200 | Not an MUA or MUP          | 1 |\n",
       "| 48039661300 | Medically Underserved Area | 3 |\n",
       "| 48039661400 | Not an MUA or MUP          | 1 |\n",
       "| 48039661501 | Not an MUA or MUP          | 1 |\n",
       "| 48039661502 | Not an MUA or MUP          | 1 |\n",
       "| 48039661601 | Not an MUA or MUP          | 1 |\n",
       "| 48039661602 | Not an MUA or MUP          | 1 |\n",
       "| 48039661700 | Not an MUA or MUP          | 1 |\n",
       "| 48039661800 | Not an MUA or MUP          | 1 |\n",
       "| 48039661900 | Not an MUA or MUP          | 1 |\n",
       "| 48039664200 | Not an MUA or MUP          | 1 |\n",
       "| 48071710100 | Not an MUA or MUP          | 1 |\n",
       "| 48071710200 | Not an MUA or MUP          | 1 |\n",
       "| 48071710300 | Not an MUA or MUP          | 1 |\n",
       "| 48071710401 | Not an MUA or MUP          | 1 |\n",
       "| 48071710500 | Not an MUA or MUP          | 1 |\n",
       "| ⋮ | ⋮ | ⋮ |\n",
       "| 48339693800 | Medically Underserved Area | 3 |\n",
       "| 48339693900 | Medically Underserved Area | 3 |\n",
       "| 48339694000 | Medically Underserved Area | 3 |\n",
       "| 48339694101 | Medically Underserved Area | 3 |\n",
       "| 48339694102 | Medically Underserved Area | 3 |\n",
       "| 48339694201 | Not an MUA or MUP          | 1 |\n",
       "| 48339694202 | Not an MUA or MUP          | 1 |\n",
       "| 48339694301 | Not an MUA or MUP          | 1 |\n",
       "| 48339694302 | Not an MUA or MUP          | 1 |\n",
       "| 48339694400 | Not an MUA or MUP          | 1 |\n",
       "| 48339694500 | Medically Underserved Area | 3 |\n",
       "| 48339694600 | Medically Underserved Area | 3 |\n",
       "| 48339694700 | Medically Underserved Area | 3 |\n",
       "| 48407200101 | Medically Underserved Area | 3 |\n",
       "| 48407200102 | Medically Underserved Area | 3 |\n",
       "| 48407200200 | Medically Underserved Area | 3 |\n",
       "| 48407200300 | Medically Underserved Area | 3 |\n",
       "| 48471790103 | Not an MUA or MUP          | 1 |\n",
       "| 48471790200 | Not an MUA or MUP          | 1 |\n",
       "| 48471790300 | Not an MUA or MUP          | 1 |\n",
       "| 48471790400 | Not an MUA or MUP          | 1 |\n",
       "| 48471790500 | Not an MUA or MUP          | 1 |\n",
       "| 48471790700 | Not an MUA or MUP          | 1 |\n",
       "| 48471790800 | Not an MUA or MUP          | 1 |\n",
       "| 48473680100 | Medically Underserved Area | 3 |\n",
       "| 48473680200 | Medically Underserved Area | 3 |\n",
       "| 48473680300 | Medically Underserved Area | 3 |\n",
       "| 48473680400 | Medically Underserved Area | 3 |\n",
       "| 48473680500 | Medically Underserved Area | 3 |\n",
       "| 48473680600 | Medically Underserved Area | 3 |\n",
       "\n"
      ],
      "text/plain": [
       "     geoid       label                     \n",
       "1    48039660100 Not an MUA or MUP         \n",
       "2    48039660200 Not an MUA or MUP         \n",
       "3    48039660300 Not an MUA or MUP         \n",
       "4    48039660400 Not an MUA or MUP         \n",
       "5    48039660500 Not an MUA or MUP         \n",
       "6    48039660601 Not an MUA or MUP         \n",
       "7    48039660602 Not an MUA or MUP         \n",
       "8    48039660701 Not an MUA or MUP         \n",
       "9    48039660702 Not an MUA or MUP         \n",
       "10   48039660801 Not an MUA or MUP         \n",
       "11   48039660802 Not an MUA or MUP         \n",
       "12   48039660900 Not an MUA or MUP         \n",
       "13   48039661000 Not an MUA or MUP         \n",
       "14   48039661100 Not an MUA or MUP         \n",
       "15   48039661200 Not an MUA or MUP         \n",
       "16   48039661300 Medically Underserved Area\n",
       "17   48039661400 Not an MUA or MUP         \n",
       "18   48039661501 Not an MUA or MUP         \n",
       "19   48039661502 Not an MUA or MUP         \n",
       "20   48039661601 Not an MUA or MUP         \n",
       "21   48039661602 Not an MUA or MUP         \n",
       "22   48039661700 Not an MUA or MUP         \n",
       "23   48039661800 Not an MUA or MUP         \n",
       "24   48039661900 Not an MUA or MUP         \n",
       "25   48039664200 Not an MUA or MUP         \n",
       "26   48071710100 Not an MUA or MUP         \n",
       "27   48071710200 Not an MUA or MUP         \n",
       "28   48071710300 Not an MUA or MUP         \n",
       "29   48071710401 Not an MUA or MUP         \n",
       "30   48071710500 Not an MUA or MUP         \n",
       "<U+22EE>    <U+22EE>    <U+22EE>                  \n",
       "988  48339693800 Medically Underserved Area\n",
       "989  48339693900 Medically Underserved Area\n",
       "990  48339694000 Medically Underserved Area\n",
       "991  48339694101 Medically Underserved Area\n",
       "992  48339694102 Medically Underserved Area\n",
       "993  48339694201 Not an MUA or MUP         \n",
       "994  48339694202 Not an MUA or MUP         \n",
       "995  48339694301 Not an MUA or MUP         \n",
       "996  48339694302 Not an MUA or MUP         \n",
       "997  48339694400 Not an MUA or MUP         \n",
       "998  48339694500 Medically Underserved Area\n",
       "999  48339694600 Medically Underserved Area\n",
       "1000 48339694700 Medically Underserved Area\n",
       "1001 48407200101 Medically Underserved Area\n",
       "1002 48407200102 Medically Underserved Area\n",
       "1003 48407200200 Medically Underserved Area\n",
       "1004 48407200300 Medically Underserved Area\n",
       "1005 48471790103 Not an MUA or MUP         \n",
       "1006 48471790200 Not an MUA or MUP         \n",
       "1007 48471790300 Not an MUA or MUP         \n",
       "1008 48471790400 Not an MUA or MUP         \n",
       "1009 48471790500 Not an MUA or MUP         \n",
       "1010 48471790700 Not an MUA or MUP         \n",
       "1011 48471790800 Not an MUA or MUP         \n",
       "1012 48473680100 Medically Underserved Area\n",
       "1013 48473680200 Medically Underserved Area\n",
       "1014 48473680300 Medically Underserved Area\n",
       "1015 48473680400 Medically Underserved Area\n",
       "1016 48473680500 Medically Underserved Area\n",
       "1017 48473680600 Medically Underserved Area\n",
       "     Medically Underserved Areas (MUA), as of 2020.\n",
       "1    1                                             \n",
       "2    1                                             \n",
       "3    1                                             \n",
       "4    1                                             \n",
       "5    1                                             \n",
       "6    1                                             \n",
       "7    1                                             \n",
       "8    1                                             \n",
       "9    1                                             \n",
       "10   1                                             \n",
       "11   1                                             \n",
       "12   1                                             \n",
       "13   1                                             \n",
       "14   1                                             \n",
       "15   1                                             \n",
       "16   3                                             \n",
       "17   1                                             \n",
       "18   1                                             \n",
       "19   1                                             \n",
       "20   1                                             \n",
       "21   1                                             \n",
       "22   1                                             \n",
       "23   1                                             \n",
       "24   1                                             \n",
       "25   1                                             \n",
       "26   1                                             \n",
       "27   1                                             \n",
       "28   1                                             \n",
       "29   1                                             \n",
       "30   1                                             \n",
       "<U+22EE>    <U+22EE>                                      \n",
       "988  3                                             \n",
       "989  3                                             \n",
       "990  3                                             \n",
       "991  3                                             \n",
       "992  3                                             \n",
       "993  1                                             \n",
       "994  1                                             \n",
       "995  1                                             \n",
       "996  1                                             \n",
       "997  1                                             \n",
       "998  3                                             \n",
       "999  3                                             \n",
       "1000 3                                             \n",
       "1001 3                                             \n",
       "1002 3                                             \n",
       "1003 3                                             \n",
       "1004 3                                             \n",
       "1005 1                                             \n",
       "1006 1                                             \n",
       "1007 1                                             \n",
       "1008 1                                             \n",
       "1009 1                                             \n",
       "1010 1                                             \n",
       "1011 1                                             \n",
       "1012 3                                             \n",
       "1013 3                                             \n",
       "1014 3                                             \n",
       "1015 3                                             \n",
       "1016 3                                             \n",
       "1017 3                                             "
      ]
     },
     "metadata": {},
     "output_type": "display_data"
    }
   ],
   "source": [
    "df"
   ]
  },
  {
   "cell_type": "code",
   "execution_count": 10,
   "metadata": {},
   "outputs": [],
   "source": [
    "df %>% select(-label) %>% write_csv(\"data/ToxPi_inputs/Health/MedicallyUnderserved - coded - study_area.csv\")"
   ]
  },
  {
   "cell_type": "code",
   "execution_count": 75,
   "metadata": {},
   "outputs": [
    {
     "data": {
      "text/html": [
       "<table>\n",
       "<caption>A tibble: 4 × 2</caption>\n",
       "<thead>\n",
       "\t<tr><th scope=col>Medically Underserved Areas (MUA), as of 2020.</th><th scope=col>n</th></tr>\n",
       "\t<tr><th scope=col>&lt;chr&gt;</th><th scope=col>&lt;int&gt;</th></tr>\n",
       "</thead>\n",
       "<tbody>\n",
       "\t<tr><td>Medically Underserved Area                             </td><td>252</td></tr>\n",
       "\t<tr><td>Medically Underserved Population                       </td><td> 74</td></tr>\n",
       "\t<tr><td>Medically Underserved Population - Governor's Exception</td><td> 28</td></tr>\n",
       "\t<tr><td>Not an MUA or MUP                                      </td><td>663</td></tr>\n",
       "</tbody>\n",
       "</table>\n"
      ],
      "text/latex": [
       "A tibble: 4 × 2\n",
       "\\begin{tabular}{ll}\n",
       " Medically Underserved Areas (MUA), as of 2020. & n\\\\\n",
       " <chr> & <int>\\\\\n",
       "\\hline\n",
       "\t Medically Underserved Area                              & 252\\\\\n",
       "\t Medically Underserved Population                        &  74\\\\\n",
       "\t Medically Underserved Population - Governor's Exception &  28\\\\\n",
       "\t Not an MUA or MUP                                       & 663\\\\\n",
       "\\end{tabular}\n"
      ],
      "text/markdown": [
       "\n",
       "A tibble: 4 × 2\n",
       "\n",
       "| Medically Underserved Areas (MUA), as of 2020. &lt;chr&gt; | n &lt;int&gt; |\n",
       "|---|---|\n",
       "| Medically Underserved Area                              | 252 |\n",
       "| Medically Underserved Population                        |  74 |\n",
       "| Medically Underserved Population - Governor's Exception |  28 |\n",
       "| Not an MUA or MUP                                       | 663 |\n",
       "\n"
      ],
      "text/plain": [
       "  Medically Underserved Areas (MUA), as of 2020.          n  \n",
       "1 Medically Underserved Area                              252\n",
       "2 Medically Underserved Population                         74\n",
       "3 Medically Underserved Population - Governor's Exception  28\n",
       "4 Not an MUA or MUP                                       663"
      ]
     },
     "metadata": {},
     "output_type": "display_data"
    }
   ],
   "source": [
    "count(df, `Medically Underserved Areas (MUA), as of 2020.`)"
   ]
  },
  {
   "cell_type": "markdown",
   "metadata": {},
   "source": [
    "### Processing 1.3 - manual rasterisation for redlining data"
   ]
  },
  {
   "cell_type": "code",
   "execution_count": 13,
   "metadata": {},
   "outputs": [
    {
     "name": "stdout",
     "output_type": "stream",
     "text": [
      "Reading layer `redlining_A-E_districts_study_area' from data source `C:\\Users\\gslater\\OneDrive - Environmental Defense Fund - edf.org\\GCA Work\\2022 04 - HG ToxPi file processing\\data\\01_Infrastructure\\redlining\\redlining_A-E_districts_study_area.gpkg' using driver `GPKG'\n",
      "Simple feature collection with 44 features and 7 fields\n",
      "Geometry type: MULTIPOLYGON\n",
      "Dimension:     XY\n",
      "Bounding box:  xmin: -95.40254 ymin: 29.26924 xmax: -94.77255 ymax: 29.81406\n",
      "Geodetic CRS:  WGS 84\n"
     ]
    },
    {
     "data": {
      "text/html": [
       "44"
      ],
      "text/latex": [
       "44"
      ],
      "text/markdown": [
       "44"
      ],
      "text/plain": [
       "[1] 44"
      ]
     },
     "metadata": {},
     "output_type": "display_data"
    },
    {
     "data": {
      "application/geo+json": {
       "features": [
        {
         "geometry": {
          "coordinates": [
           [
            [
             [
              1006136.166,
              4166622.4752
             ],
             [
              1005830.3793,
              4166385.0647
             ],
             [
              1005602.2315,
              4166825.5039
             ],
             [
              1005605.3764,
              4166826.4764
             ],
             [
              1006013.7639,
              4166952.7665
             ],
             [
              1006013.9862,
              4166952.1665
             ],
             [
              1006136.166,
              4166622.4752
             ]
            ]
           ],
           [
            [
             [
              1006570.3963,
              4167159.2395
             ],
             [
              1006232.7526,
              4167045.2737
             ],
             [
              1006199.1762,
              4167136.3399
             ],
             [
              1006155.3943,
              4167255.0869
             ],
             [
              1006149.1385,
              4167272.0543
             ],
             [
              1006127.3536,
              4167331.1405
             ],
             [
              1006131.7879,
              4167332.6523
             ],
             [
              1006208.9544,
              4167358.9604
             ],
             [
              1006455.9684,
              4167443.1781
             ],
             [
              1006602.7017,
              4167492.0325
             ],
             [
              1006646.4826,
              4167506.6097
             ],
             [
              1006778.9784,
              4167550.7261
             ],
             [
              1006874.2038,
              4167625.7657
             ],
             [
              1006965.2163,
              4167697.7895
             ],
             [
              1006992.5392,
              4167728.1209
             ],
             [
              1007037.2254,
              4167777.7278
             ],
             [
              1007066.025,
              4167815.8818
             ],
             [
              1007089.4603,
              4167846.9293
             ],
             [
              1007097.7011,
              4167855.2615
             ],
             [
              1007140.872,
              4167898.911
             ],
             [
              1007180.2385,
              4167915.742
             ],
             [
              1007210.3603,
              4167928.6206
             ],
             [
              1007254.6823,
              4167937.3727
             ],
             [
              1007275.4075,
              4167932.2766
             ],
             [
              1007280.7785,
              4167930.956
             ],
             [
              1007285.1885,
              4167929.8716
             ],
             [
              1007332.488,
              4167895.755
             ],
             [
              1007345.8272,
              4167868.9643
             ],
             [
              1007354.2113,
              4167852.1259
             ],
             [
              1007366.1955,
              4167808.4998
             ],
             [
              1007367.4606,
              4167803.8949
             ],
             [
              1007367.3456,
              4167803.3103
             ],
             [
              1007363.6519,
              4167784.517
             ],
             [
              1007346.7604,
              4167698.5766
             ],
             [
              1007314.0947,
              4167645.8329
             ],
             [
              1007301.8007,
              4167634.9675
             ],
             [
              1007249.894,
              4167589.0929
             ],
             [
              1007245.4072,
              4167584.1188
             ],
             [
              1007212.5028,
              4167547.6402
             ],
             [
              1007070.641,
              4167407.8918
             ],
             [
              1006968.8399,
              4167315.4225
             ],
             [
              1006889.4673,
              4167260.8469
             ],
             [
              1006799.0411,
              4167231.8907
             ],
             [
              1006718.1517,
              4167213.4334
             ],
             [
              1006570.3963,
              4167159.2395
             ]
            ]
           ],
           [
            [
             [
              1007325.5544,
              4168586.766
             ],
             [
              1007014.1995,
              4168481.1745
             ],
             [
              1006759.5038,
              4168388.6217
             ],
             [
              1006789.8351,
              4168313.6157
             ],
             [
              1006827.8554,
              4168204.0467
             ],
             [
              1006865.5139,
              4168078.8782
             ],
             [
              1006899.856,
              4167994.846
             ],
             [
              1006925.6859,
              4167916.9259
             ],
             [
              1006845.4184,
              4167893.8799
             ],
             [
              1006736.159,
              4167856.9606
             ],
             [
              1006617.1685,
              4167808.6919
             ],
             [
              1006488.6131,
              4167770.167
             ],
             [
              1006372.0542,
              4167731.156
             ],
             [
              1006168.9455,
              4167664.2957
             ],
             [
              1006005.3444,
              4167600.6849
             ],
             [
              1005903.0498,
              4167575.0241
             ],
             [
              1005812.9485,
              4167543.382
             ],
             [
              1005717.4358,
              4167585.8109
             ],
             [
              1005668.3669,
              4167617.9807
             ],
             [
              1005614.9626,
              4167668.3323
             ],
             [
              1005555.4809,
              4167734.0527
             ],
             [
              1005526.6654,
              4167792.6168
             ],
             [
              1005511.6226,
              4167852.5892
             ],
             [
              1005511.6648,
              4167903.0152
             ],
             [
              1005536.7522,
              4167948.8345
             ],
             [
              1005557.4293,
              4167963.325
             ],
             [
              1005572.9814,
              4167992.3013
             ],
             [
              1005625.1547,
              4168053.7567
             ],
             [
              1005683.9986,
              4168109.0328
             ],
             [
              1005773.9404,
              4168196.5909
             ],
             [
              1005795.9011,
              4168226.7127
             ],
             [
              1005824.77,
              4168295.5862
             ],
             [
              1005867.5413,
              4168362.2058
             ],
             [
              1005882.1102,
              4168418.6495
             ],
             [
              1005823.113,
              4168625.5619
             ],
             [
              1005792.8217,
              4168699.6526
             ],
             [
              1005918.9061,
              4168755.4968
             ],
             [
              1006017.247,
              4168788.3485
             ],
             [
              1006347.0722,
              4168892.7374
             ],
             [
              1006441.7311,
              4168616.5185
             ],
             [
              1006648.6662,
              4168678.9327
             ],
             [
              1006702.0295,
              4168526.8287
             ],
             [
              1006745.9735,
              4168534.8201
             ],
             [
              1006817.0338,
              4168557.5345
             ],
             [
              1006937.9217,
              4168604.0372
             ],
             [
              1007155.5368,
              4168676.9279
             ],
             [
              1007411.4718,
              4168760.3649
             ],
             [
              1007563.5785,
              4168809.8274
             ],
             [
              1007634.5042,
              4168836.2089
             ],
             [
              1007783.2237,
              4168877.3019
             ],
             [
              1008027.2198,
              4168959.4064
             ],
             [
              1008204.4628,
              4169027.1982
             ],
             [
              1008349.0362,
              4169080.9834
             ],
             [
              1008511.2244,
              4169131.7372
             ],
             [
              1008615.3733,
              4169156.5694
             ],
             [
              1008694.5107,
              4169185.0859
             ],
             [
              1008736.0328,
              4169055.4884
             ],
             [
              1008657.5512,
              4169034.3289
             ],
             [
              1008612.0003,
              4169019.8553
             ],
             [
              1008436.1719,
              4168964.0253
             ],
             [
              1007854.5789,
              4168763.4379
             ],
             [
              1007575.0484,
              4168669.9762
             ],
             [
              1007325.5544,
              4168586.766
             ]
            ]
           ],
           [
            [
             [
              1010516.7624,
              4170392.7396
             ],
             [
              1010440.5416,
              4170279.7836
             ],
             [
              1010364.4189,
              4170164.0754
             ],
             [
              1010287.0111,
              4170045.5653
             ],
             [
              1010199.1358,
              4169910.1457
             ],
             [
              1010141.0753,
              4169830.905
             ],
             [
              1010063.6629,
              4169712.3931
             ],
             [
              1010019.4702,
              4169670.8474
             ],
             [
              1009884.3233,
              4169540.6073
             ],
             [
              1009762.5552,
              4169423.2488
             ],
             [
              1009670.4136,
              4169329.0015
             ],
             [
              1009516.3944,
              4169184.3052
             ],
             [
              1009366.4703,
              4169041.1348
             ],
             [
              1009264.8403,
              4168941.0353
             ],
             [
              1009163.0102,
              4168846.4395
             ],
             [
              1009013.0772,
              4168703.2699
             ],
             [
              1008877.9569,
              4168571.6557
             ],
             [
              1008806.4922,
              4168518.1075
             ],
             [
              1008665.0431,
              4168408.3097
             ],
             [
              1008520.9736,
              4168294.2854
             ],
             [
              1008403.8193,
              4168201.8961
             ],
             [
              1008313.7795,
              4168125.6375
             ],
             [
              1008184.3229,
              4168028.6737
             ],
             [
              1008065.9286,
              4167932.1083
             ],
             [
              1007989.1711,
              4167871.4837
             ],
             [
              1007841.285,
              4167747.682
             ],
             [
              1007684.9983,
              4167626.335
             ],
             [
              1007531.672,
              4167499.5842
             ],
             [
              1007507.5534,
              4167576.2492
             ],
             [
              1007617.8834,
              4167686.817
             ],
             [
              1007707.042,
              4167770.2405
             ],
             [
              1007789.2145,
              4167847.6833
             ],
             [
              1007842.4723,
              4167888.2744
             ],
             [
              1008011.1282,
              4168003.2051
             ],
             [
              1008122.057,
              4168081.6822
             ],
             [
              1008229.7483,
              4168170.0711
             ],
             [
              1008317.6664,
              4168247.722
             ],
             [
              1008380.8833,
              4168291.5375
             ],
             [
              1008421.8097,
              4168354.6063
             ],
             [
              1008498.3244,
              4168428.9824
             ],
             [
              1008642.4693,
              4168544.4688
             ],
             [
              1008780.4477,
              4168671.1935
             ],
             [
              1008980.0419,
              4168845.9756
             ],
             [
              1009150.7179,
              4169024.0141
             ],
             [
              1009226.1921,
              4169127.0018
             ],
             [
              1009404.2232,
              4169180.6885
             ],
             [
              1009612.7802,
              4169385.878
             ],
             [
              1009961.5896,
              4169733.6354
             ],
             [
              1009954.6025,
              4169731.2101
             ],
             [
              1010082.1922,
              4169897.3257
             ],
             [
              1010163.709,
              4170007.917
             ],
             [
              1010260.7844,
              4170122.5425
             ],
             [
              1010324.6189,
              4170239.4388
             ],
             [
              1010381.3555,
              4170359.5502
             ],
             [
              1010378.256,
              4170358.3506
             ],
             [
              1010302.1894,
              4170328.9099
             ],
             [
              1010069.5412,
              4170247.5847
             ],
             [
              1009810.6849,
              4170167.054
             ],
             [
              1009547.0343,
              4170074.2025
             ],
             [
              1009392.4078,
              4170014.4424
             ],
             [
              1009389.7102,
              4170022.3773
             ],
             [
              1009167.3796,
              4169959.9358
             ],
             [
              1009043.789,
              4169913.9461
             ],
             [
              1008790.8537,
              4169821.763
             ],
             [
              1008462.5349,
              4169703.956
             ],
             [
              1008324.458,
              4169660.317
             ],
             [
              1008182.2209,
              4169612.2329
             ],
             [
              1007957.412,
              4169538.2662
             ],
             [
              1007621.5287,
              4169430.2363
             ],
             [
              1007622.9818,
              4169425.7666
             ],
             [
              1007518.9934,
              4169396.2281
             ],
             [
              1007419.3768,
              4169355.4582
             ],
             [
              1007379.4709,
              4169348.5159
             ],
             [
              1007192.1384,
              4169282.5594
             ],
             [
              1007035.772,
              4169241.1351
             ],
             [
              1006849.6569,
              4169185.2846
             ],
             [
              1006808.3609,
              4169290.8983
             ],
             [
              1006807.0007,
              4169294.3772
             ],
             [
              1006872.6849,
              4169316.1273
             ],
             [
              1006990.3338,
              4169346.7936
             ],
             [
              1007109.6576,
              4169380.1661
             ],
             [
              1007196.2342,
              4169412.3653
             ],
             [
              1007393.2189,
              4169479.384
             ],
             [
              1007581.6671,
              4169537.283
             ],
             [
              1007732.4687,
              4169582.3715
             ],
             [
              1007853.1152,
              4169628.1419
             ],
             [
              1008005.3682,
              4169682.1024
             ],
             [
              1008267.423,
              4169762.9351
             ],
             [
              1008462.6575,
              4169829.0266
             ],
             [
              1008571.0671,
              4169869.9557
             ],
             [
              1008663.9897,
              4169897.9855
             ],
             [
              1008813.7392,
              4169947.4578
             ],
             [
              1008925.4962,
              4169993.8003
             ],
             [
              1009132.415,
              4170079.7188
             ],
             [
              1009242.4032,
              4170101.3152
             ],
             [
              1009406.5614,
              4170144.2614
             ],
             [
              1009591.5448,
              4170199.4219
             ],
             [
              1009704.8757,
              4170251.1179
             ],
             [
              1009800.5429,
              4170276.6108
             ],
             [
              1009951.1043,
              4170327.8896
             ],
             [
              1010116.5497,
              4170384.116
             ],
             [
              1010221.9496,
              4170409.9638
             ],
             [
              1010408.1181,
              4170476.3855
             ],
             [
              1010409.6744,
              4170482.5374
             ],
             [
              1010554.6327,
              4170539.24
             ],
             [
              1010557.1197,
              4170540.2128
             ],
             [
              1010559.5574,
              4170472.8043
             ],
             [
              1010550.8731,
              4170444.9403
             ],
             [
              1010516.7624,
              4170392.7396
             ]
            ]
           ]
          ],
          "type": "MultiPolygon"
         },
         "properties": {
          "area_descr": "{ \"\" : \"\" }",
          "city": "Galveston",
          "holc_grade": "A",
          "holc_id": "A",
          "name": null,
          "neighborho": 8973,
          "state": "TX",
          "value": 1
         },
         "type": "Feature"
        },
        {
         "geometry": {
          "coordinates": [
           [
            [
             [
              1009392.4078,
              4170014.4424
             ],
             [
              1009537.8751,
              4169586.5696
             ],
             [
              1009954.6025,
              4169731.2101
             ],
             [
              1009961.5896,
              4169733.6354
             ],
             [
              1009612.7802,
              4169385.878
             ],
             [
              1009404.2232,
              4169180.6885
             ],
             [
              1009226.1921,
              4169127.0018
             ],
             [
              1009150.7179,
              4169024.0141
             ],
             [
              1008980.0419,
              4168845.9756
             ],
             [
              1008780.4477,
              4168671.1935
             ],
             [
              1008642.4693,
              4168544.4688
             ],
             [
              1008498.3244,
              4168428.9824
             ],
             [
              1008421.8097,
              4168354.6063
             ],
             [
              1008380.8833,
              4168291.5375
             ],
             [
              1008317.6664,
              4168247.722
             ],
             [
              1008229.7483,
              4168170.0711
             ],
             [
              1008122.057,
              4168081.6822
             ],
             [
              1008011.1282,
              4168003.2051
             ],
             [
              1007842.4723,
              4167888.2744
             ],
             [
              1007789.2145,
              4167847.6833
             ],
             [
              1007707.042,
              4167770.2405
             ],
             [
              1007617.8834,
              4167686.817
             ],
             [
              1007507.5534,
              4167576.2492
             ],
             [
              1007506.6901,
              4167575.3841
             ],
             [
              1007504.3787,
              4167559.5429
             ],
             [
              1007299.3475,
              4167414.6598
             ],
             [
              1007241.5149,
              4167381.0687
             ],
             [
              1006883.1153,
              4167256.4793
             ],
             [
              1006889.4673,
              4167260.8469
             ],
             [
              1006968.8399,
              4167315.4225
             ],
             [
              1007070.641,
              4167407.8918
             ],
             [
              1007212.5028,
              4167547.6402
             ],
             [
              1007245.4072,
              4167584.1188
             ],
             [
              1007249.894,
              4167589.0929
             ],
             [
              1007301.8007,
              4167634.9675
             ],
             [
              1007314.0947,
              4167645.8329
             ],
             [
              1007346.7604,
              4167698.5766
             ],
             [
              1007363.6519,
              4167784.517
             ],
             [
              1007367.3456,
              4167803.3103
             ],
             [
              1007367.4606,
              4167803.8949
             ],
             [
              1007366.1955,
              4167808.4998
             ],
             [
              1007354.2113,
              4167852.1259
             ],
             [
              1007345.8272,
              4167868.9643
             ],
             [
              1007332.488,
              4167895.755
             ],
             [
              1007285.1885,
              4167929.8716
             ],
             [
              1007280.7785,
              4167930.956
             ],
             [
              1007275.4075,
              4167932.2766
             ],
             [
              1007254.6823,
              4167937.3727
             ],
             [
              1007210.3603,
              4167928.6206
             ],
             [
              1007180.2385,
              4167915.742
             ],
             [
              1007140.872,
              4167898.911
             ],
             [
              1007097.7011,
              4167855.2615
             ],
             [
              1007089.4603,
              4167846.9293
             ],
             [
              1007066.025,
              4167815.8818
             ],
             [
              1007037.2254,
              4167777.7278
             ],
             [
              1006992.5392,
              4167728.1209
             ],
             [
              1006965.2163,
              4167697.7895
             ],
             [
              1006874.2038,
              4167625.7657
             ],
             [
              1006778.9784,
              4167550.7261
             ],
             [
              1006646.4826,
              4167506.6097
             ],
             [
              1006602.7017,
              4167492.0325
             ],
             [
              1006455.9684,
              4167443.1781
             ],
             [
              1006208.9544,
              4167358.9604
             ],
             [
              1006131.7879,
              4167332.6523
             ],
             [
              1006127.3536,
              4167331.1405
             ],
             [
              1006149.1385,
              4167272.0543
             ],
             [
              1006155.3943,
              4167255.0869
             ],
             [
              1006199.1762,
              4167136.3399
             ],
             [
              1006232.7526,
              4167045.2737
             ],
             [
              1006235.7896,
              4167037.0369
             ],
             [
              1006013.9862,
              4166952.1665
             ],
             [
              1006013.7639,
              4166952.7665
             ],
             [
              1005605.3764,
              4166826.4764
             ],
             [
              1005518.0172,
              4166977.6278
             ],
             [
              1005425.1377,
              4167247.4025
             ],
             [
              1005320.019,
              4167588.3621
             ],
             [
              1005217.8919,
              4167888.9898
             ],
             [
              1005051.3536,
              4168348.1916
             ],
             [
              1005046.3478,
              4168361.9946
             ],
             [
              1005053.0755,
              4168365.2992
             ],
             [
              1005680.1791,
              4168673.3464
             ],
             [
              1005607.195,
              4168872.5288
             ],
             [
              1005822.0167,
              4168944.6621
             ],
             [
              1006008.0783,
              4169015.7708
             ],
             [
              1006146.1198,
              4169060.814
             ],
             [
              1006310.0932,
              4169105.3545
             ],
             [
              1006493.7345,
              4169163.4926
             ],
             [
              1006494.2411,
              4169161.9822
             ],
             [
              1006563.041,
              4168956.8473
             ],
             [
              1006715.9245,
              4169029.6446
             ],
             [
              1006874.2956,
              4169088.5394
             ],
             [
              1006877.8945,
              4169089.8778
             ],
             [
              1006904.6453,
              4169026.3794
             ],
             [
              1007170.9123,
              4169108.976
             ],
             [
              1007430.0375,
              4169189.8898
             ],
             [
              1007671.6997,
              4169275.9116
             ],
             [
              1007622.9818,
              4169425.7666
             ],
             [
              1007621.5287,
              4169430.2363
             ],
             [
              1007957.412,
              4169538.2662
             ],
             [
              1008182.2209,
              4169612.2329
             ],
             [
              1008324.458,
              4169660.317
             ],
             [
              1008462.5349,
              4169703.956
             ],
             [
              1008790.8537,
              4169821.763
             ],
             [
              1009043.789,
              4169913.9461
             ],
             [
              1009167.3796,
              4169959.9358
             ],
             [
              1009389.7102,
              4170022.3773
             ],
             [
              1009392.4078,
              4170014.4424
             ]
            ],
            [
             [
              1008349.0362,
              4169080.9834
             ],
             [
              1008204.4628,
              4169027.1982
             ],
             [
              1008027.2198,
              4168959.4064
             ],
             [
              1007783.2237,
              4168877.3019
             ],
             [
              1007634.5042,
              4168836.2089
             ],
             [
              1007563.5785,
              4168809.8274
             ],
             [
              1007411.4718,
              4168760.3649
             ],
             [
              1007155.5368,
              4168676.9279
             ],
             [
              1006937.9217,
              4168604.0372
             ],
             [
              1006817.0338,
              4168557.5345
             ],
             [
              1006745.9735,
              4168534.8201
             ],
             [
              1006702.0295,
              4168526.8287
             ],
             [
              1006648.6662,
              4168678.9327
             ],
             [
              1006441.7311,
              4168616.5185
             ],
             [
              1006347.0722,
              4168892.7374
             ],
             [
              1006017.247,
              4168788.3485
             ],
             [
              1005918.9061,
              4168755.4968
             ],
             [
              1005792.8217,
              4168699.6526
             ],
             [
              1005823.113,
              4168625.5619
             ],
             [
              1005882.1102,
              4168418.6495
             ],
             [
              1005867.5413,
              4168362.2058
             ],
             [
              1005824.77,
              4168295.5862
             ],
             [
              1005795.9011,
              4168226.7127
             ],
             [
              1005773.9404,
              4168196.5909
             ],
             [
              1005683.9986,
              4168109.0328
             ],
             [
              1005625.1547,
              4168053.7567
             ],
             [
              1005572.9814,
              4167992.3013
             ],
             [
              1005557.4293,
              4167963.325
             ],
             [
              1005536.7522,
              4167948.8345
             ],
             [
              1005511.6648,
              4167903.0152
             ],
             [
              1005511.6226,
              4167852.5892
             ],
             [
              1005526.6654,
              4167792.6168
             ],
             [
              1005555.4809,
              4167734.0527
             ],
             [
              1005614.9626,
              4167668.3323
             ],
             [
              1005668.3669,
              4167617.9807
             ],
             [
              1005717.4358,
              4167585.8109
             ],
             [
              1005812.9485,
              4167543.382
             ],
             [
              1005903.0498,
              4167575.0241
             ],
             [
              1006005.3444,
              4167600.6849
             ],
             [
              1006168.9455,
              4167664.2957
             ],
             [
              1006372.0542,
              4167731.156
             ],
             [
              1006488.6131,
              4167770.167
             ],
             [
              1006617.1685,
              4167808.6919
             ],
             [
              1006736.159,
              4167856.9606
             ],
             [
              1006845.4184,
              4167893.8799
             ],
             [
              1006925.6859,
              4167916.9259
             ],
             [
              1006899.856,
              4167994.846
             ],
             [
              1006865.5139,
              4168078.8782
             ],
             [
              1006827.8554,
              4168204.0467
             ],
             [
              1006789.8351,
              4168313.6157
             ],
             [
              1006759.5038,
              4168388.6217
             ],
             [
              1007014.1995,
              4168481.1745
             ],
             [
              1007325.5544,
              4168586.766
             ],
             [
              1007575.0484,
              4168669.9762
             ],
             [
              1007854.5789,
              4168763.4379
             ],
             [
              1008436.1719,
              4168964.0253
             ],
             [
              1008612.0003,
              4169019.8553
             ],
             [
              1008657.5512,
              4169034.3289
             ],
             [
              1008736.0328,
              4169055.4884
             ],
             [
              1008694.5107,
              4169185.0859
             ],
             [
              1008615.3733,
              4169156.5694
             ],
             [
              1008511.2244,
              4169131.7372
             ],
             [
              1008349.0362,
              4169080.9834
             ]
            ]
           ],
           [
            [
             [
              1008462.6575,
              4169829.0266
             ],
             [
              1008267.423,
              4169762.9351
             ],
             [
              1008005.3682,
              4169682.1024
             ],
             [
              1007853.1152,
              4169628.1419
             ],
             [
              1007732.4687,
              4169582.3715
             ],
             [
              1007581.6671,
              4169537.283
             ],
             [
              1007393.2189,
              4169479.384
             ],
             [
              1007196.2342,
              4169412.3653
             ],
             [
              1007109.6576,
              4169380.1661
             ],
             [
              1006990.3338,
              4169346.7936
             ],
             [
              1006872.6849,
              4169316.1273
             ],
             [
              1006807.0007,
              4169294.3772
             ],
             [
              1006808.3609,
              4169290.8983
             ],
             [
              1006764.0436,
              4169281.3765
             ],
             [
              1006705.6917,
              4169252.8363
             ],
             [
              1006704.8648,
              4169255.3205
             ],
             [
              1006672.9213,
              4169351.2902
             ],
             [
              1006704.4358,
              4169362.1173
             ],
             [
              1006733.4529,
              4169368.4466
             ],
             [
              1006794.333,
              4169400.6039
             ],
             [
              1006864.3156,
              4169426.0344
             ],
             [
              1006905.8176,
              4169430.1666
             ],
             [
              1007024.0662,
              4169468.7894
             ],
             [
              1007142.4719,
              4169503.0108
             ],
             [
              1007251.9319,
              4169539.5574
             ],
             [
              1007380.5458,
              4169585.6086
             ],
             [
              1007441.9602,
              4169602.8002
             ],
             [
              1007519.2416,
              4169622.3249
             ],
             [
              1007662.646,
              4169675.9631
             ],
             [
              1007696.3079,
              4169700.976
             ],
             [
              1007761.1348,
              4169721.8184
             ],
             [
              1007835.5069,
              4169748.2937
             ],
             [
              1007882.0328,
              4169760.5447
             ],
             [
              1007903.3363,
              4169759.5468
             ],
             [
              1007998.7264,
              4169792.9497
             ],
             [
              1008036.4019,
              4169804.8832
             ],
             [
              1008130.243,
              4169832.0601
             ],
             [
              1008211.5669,
              4169862.3142
             ],
             [
              1008325.382,
              4169900.7903
             ],
             [
              1008430.4414,
              4169936.3075
             ],
             [
              1008516.3156,
              4169963.2009
             ],
             [
              1008554.7166,
              4169979.5702
             ],
             [
              1008644.92,
              4170009.265
             ],
             [
              1008710.5018,
              4170033.6661
             ],
             [
              1008877.7587,
              4170089.0588
             ],
             [
              1008976.4614,
              4170128.76
             ],
             [
              1009097.2244,
              4170171.02
             ],
             [
              1008997.7419,
              4170474.286
             ],
             [
              1008934.7723,
              4170646.5148
             ],
             [
              1009181.9452,
              4170721.5383
             ],
             [
              1009384.079,
              4170792.2981
             ],
             [
              1009578.3731,
              4170859.2522
             ],
             [
              1009783.3794,
              4170923.9513
             ],
             [
              1009961.8679,
              4170986.8147
             ],
             [
              1010171.199,
              4171054.3213
             ],
             [
              1010352.3064,
              4171118.1666
             ],
             [
              1010390.5288,
              4171065.7741
             ],
             [
              1010426.9689,
              4170940.1481
             ],
             [
              1010441.0065,
              4170919.4983
             ],
             [
              1010490.2886,
              4170757.3093
             ],
             [
              1010530.9325,
              4170638.0032
             ],
             [
              1010554.6327,
              4170539.24
             ],
             [
              1010409.6744,
              4170482.5374
             ],
             [
              1010408.1181,
              4170476.3855
             ],
             [
              1010221.9496,
              4170409.9638
             ],
             [
              1010116.5497,
              4170384.116
             ],
             [
              1009951.1043,
              4170327.8896
             ],
             [
              1009800.5429,
              4170276.6108
             ],
             [
              1009704.8757,
              4170251.1179
             ],
             [
              1009591.5448,
              4170199.4219
             ],
             [
              1009406.5614,
              4170144.2614
             ],
             [
              1009242.4032,
              4170101.3152
             ],
             [
              1009132.415,
              4170079.7188
             ],
             [
              1008925.4962,
              4169993.8003
             ],
             [
              1008813.7392,
              4169947.4578
             ],
             [
              1008663.9897,
              4169897.9855
             ],
             [
              1008571.0671,
              4169869.9557
             ],
             [
              1008462.6575,
              4169829.0266
             ]
            ]
           ]
          ],
          "type": "MultiPolygon"
         },
         "properties": {
          "area_descr": "{ \"\" : \"\" }",
          "city": "Galveston",
          "holc_grade": "B",
          "holc_id": "B",
          "name": null,
          "neighborho": 8974,
          "state": "TX",
          "value": 2
         },
         "type": "Feature"
        },
        {
         "geometry": {
          "coordinates": [
           [
            [
             [
              1007170.9123,
              4169108.976
             ],
             [
              1006904.6453,
              4169026.3794
             ],
             [
              1006877.8945,
              4169089.8778
             ],
             [
              1006874.2956,
              4169088.5394
             ],
             [
              1006848.0908,
              4169184.8146
             ],
             [
              1006849.6569,
              4169185.2846
             ],
             [
              1007035.772,
              4169241.1351
             ],
             [
              1007192.1384,
              4169282.5594
             ],
             [
              1007379.4709,
              4169348.5159
             ],
             [
              1007419.3768,
              4169355.4582
             ],
             [
              1007518.9934,
              4169396.2281
             ],
             [
              1007622.9818,
              4169425.7666
             ],
             [
              1007671.6997,
              4169275.9116
             ],
             [
              1007430.0375,
              4169189.8898
             ],
             [
              1007170.9123,
              4169108.976
             ]
            ]
           ],
           [
            [
             [
              1009954.6025,
              4169731.2101
             ],
             [
              1009537.8751,
              4169586.5696
             ],
             [
              1009392.4078,
              4170014.4424
             ],
             [
              1009547.0343,
              4170074.2025
             ],
             [
              1009810.6849,
              4170167.054
             ],
             [
              1010069.5412,
              4170247.5847
             ],
             [
              1010302.1894,
              4170328.9099
             ],
             [
              1010378.256,
              4170358.3506
             ],
             [
              1010381.3555,
              4170359.5502
             ],
             [
              1010324.6189,
              4170239.4388
             ],
             [
              1010260.7844,
              4170122.5425
             ],
             [
              1010163.709,
              4170007.917
             ],
             [
              1010082.1922,
              4169897.3257
             ],
             [
              1009954.6025,
              4169731.2101
             ]
            ]
           ]
          ],
          "type": "MultiPolygon"
         },
         "properties": {
          "area_descr": "{ \"\" : \"\" }",
          "city": "Galveston",
          "holc_grade": "C",
          "holc_id": "C",
          "name": null,
          "neighborho": 8976,
          "state": "TX",
          "value": 3
         },
         "type": "Feature"
        },
        {
         "geometry": {
          "coordinates": [
           [
            [
             [
              1010352.3064,
              4171118.1666
             ],
             [
              1010171.199,
              4171054.3213
             ],
             [
              1009961.8679,
              4170986.8147
             ],
             [
              1009783.3794,
              4170923.9513
             ],
             [
              1009578.3731,
              4170859.2522
             ],
             [
              1009384.079,
              4170792.2981
             ],
             [
              1009181.9452,
              4170721.5383
             ],
             [
              1008934.7723,
              4170646.5148
             ],
             [
              1008997.7419,
              4170474.286
             ],
             [
              1009097.2244,
              4170171.02
             ],
             [
              1008976.4614,
              4170128.76
             ],
             [
              1008877.7587,
              4170089.0588
             ],
             [
              1008710.5018,
              4170033.6661
             ],
             [
              1008644.92,
              4170009.265
             ],
             [
              1008554.7166,
              4169979.5702
             ],
             [
              1008516.3156,
              4169963.2009
             ],
             [
              1008430.4414,
              4169936.3075
             ],
             [
              1008325.382,
              4169900.7903
             ],
             [
              1008211.5669,
              4169862.3142
             ],
             [
              1008130.243,
              4169832.0601
             ],
             [
              1008036.4019,
              4169804.8832
             ],
             [
              1007998.7264,
              4169792.9497
             ],
             [
              1007903.3363,
              4169759.5468
             ],
             [
              1007882.0328,
              4169760.5447
             ],
             [
              1007835.5069,
              4169748.2937
             ],
             [
              1007761.1348,
              4169721.8184
             ],
             [
              1007696.3079,
              4169700.976
             ],
             [
              1007662.646,
              4169675.9631
             ],
             [
              1007519.2416,
              4169622.3249
             ],
             [
              1007441.9602,
              4169602.8002
             ],
             [
              1007380.5458,
              4169585.6086
             ],
             [
              1007251.9319,
              4169539.5574
             ],
             [
              1007142.4719,
              4169503.0108
             ],
             [
              1007024.0662,
              4169468.7894
             ],
             [
              1006905.8176,
              4169430.1666
             ],
             [
              1006864.3156,
              4169426.0344
             ],
             [
              1006794.333,
              4169400.6039
             ],
             [
              1006733.4529,
              4169368.4466
             ],
             [
              1006704.4358,
              4169362.1173
             ],
             [
              1006672.9213,
              4169351.2902
             ],
             [
              1006704.8648,
              4169255.3205
             ],
             [
              1006574.7317,
              4169197.8912
             ],
             [
              1006494.2411,
              4169161.9822
             ],
             [
              1006493.7345,
              4169163.4926
             ],
             [
              1006310.0932,
              4169105.3545
             ],
             [
              1006146.1198,
              4169060.814
             ],
             [
              1006008.0783,
              4169015.7708
             ],
             [
              1005822.0167,
              4168944.6621
             ],
             [
              1005607.195,
              4168872.5288
             ],
             [
              1005680.1791,
              4168673.3464
             ],
             [
              1005053.0755,
              4168365.2992
             ],
             [
              1005046.3478,
              4168361.9946
             ],
             [
              1004905.3859,
              4168797.1396
             ],
             [
              1004733.4385,
              4169308.99
             ],
             [
              1004656.6942,
              4169519.7771
             ],
             [
              1005256.1969,
              4169714.7297
             ],
             [
              1005777.45,
              4169890.3849
             ],
             [
              1005918.9505,
              4169960.1861
             ],
             [
              1005998.661,
              4169976.8114
             ],
             [
              1006591.1064,
              4170174.3325
             ],
             [
              1007260.1273,
              4170398.0462
             ],
             [
              1007299.8322,
              4170410.4903
             ],
             [
              1007672.7762,
              4170627.7397
             ],
             [
              1007899.6388,
              4170710.2702
             ],
             [
              1007986.0079,
              4170734.0352
             ],
             [
              1008060.5258,
              4170740.8457
             ],
             [
              1008417.7994,
              4170854.2454
             ],
             [
              1008602.7795,
              4170907.734
             ],
             [
              1008813.0832,
              4171026.8757
             ],
             [
              1009750.679,
              4171325.138
             ],
             [
              1009831.8729,
              4171261.9546
             ],
             [
              1009861.7189,
              4171163.8597
             ],
             [
              1010152.8945,
              4171266.6615
             ],
             [
              1010352.3064,
              4171118.1666
             ]
            ]
           ]
          ],
          "type": "MultiPolygon"
         },
         "properties": {
          "area_descr": "{ \"\" : \"\" }",
          "city": "Galveston",
          "holc_grade": "D",
          "holc_id": "D",
          "name": null,
          "neighborho": 8983,
          "state": "TX",
          "value": 4
         },
         "type": "Feature"
        },
        {
         "geometry": {
          "coordinates": [
           [
            [
             [
              956535.9511,
              4212102.6664
             ],
             [
              956701.8123,
              4212096.9061
             ],
             [
              957119.9324,
              4211972.7303
             ],
             [
              957418.0428,
              4212850.2899
             ],
             [
              957540.28,
              4212826.6813
             ],
             [
              957291.4866,
              4211961.6634
             ],
             [
              958146.2246,
              4211653.5057
             ],
             [
              958130.8889,
              4211614.5553
             ],
             [
              958409.7159,
              4211529.971
             ],
             [
              958872.7771,
              4211731.4821
             ],
             [
              959158.2247,
              4211960.338
             ],
             [
              959300.801,
              4211992.3402
             ],
             [
              959761.0332,
              4211413.5093
             ],
             [
              959238.0904,
              4211358.4241
             ],
             [
              959256.3346,
              4210957.8509
             ],
             [
              958070.8905,
              4210892.7899
             ],
             [
              957470.8423,
              4210829.8503
             ],
             [
              956637.1361,
              4210820.0226
             ],
             [
              956556.5995,
              4210921.8946
             ],
             [
              956431.3512,
              4211566.3712
             ],
             [
              956535.9511,
              4212102.6664
             ]
            ]
           ]
          ],
          "type": "MultiPolygon"
         },
         "properties": {
          "area_descr": "{ \"\" : \"\" }",
          "city": "Houston",
          "holc_grade": "C",
          "holc_id": null,
          "name": null,
          "neighborho": 7903,
          "state": "TX",
          "value": 3
         },
         "type": "Feature"
        },
        {
         "geometry": {
          "coordinates": [
           [
            [
             [
              959256.3346,
              4210957.8509
             ],
             [
              959238.0904,
              4211358.4241
             ],
             [
              959761.0332,
              4211413.5093
             ],
             [
              959300.801,
              4211992.3402
             ],
             [
              959429.1282,
              4212090.3785
             ],
             [
              959516.8795,
              4212109.6516
             ],
             [
              959582.9109,
              4212117.2453
             ],
             [
              959653.5868,
              4212152.461
             ],
             [
              959759.6346,
              4212117.3698
             ],
             [
              959826.1898,
              4212108.4973
             ],
             [
              959833.5188,
              4212746.1098
             ],
             [
              960078.9813,
              4212841.8332
             ],
             [
              960149.9623,
              4212846.9019
             ],
             [
              960773.2228,
              4212891.4282
             ],
             [
              960781.716,
              4212798.293
             ],
             [
              961355.3177,
              4212129.7695
             ],
             [
              961378.2631,
              4212103.0283
             ],
             [
              961450.8633,
              4212077.8737
             ],
             [
              961482.484,
              4211952.5015
             ],
             [
              961381.8652,
              4211817.4074
             ],
             [
              961356.9092,
              4211734.185
             ],
             [
              961359.3642,
              4211657.3328
             ],
             [
              961171.689,
              4211480.9908
             ],
             [
              961077.7168,
              4211483.486
             ],
             [
              961021.491,
              4211514.6622
             ],
             [
              960949.9392,
              4211506.8837
             ],
             [
              960805.1701,
              4211370.3815
             ],
             [
              960703.3128,
              4211273.7147
             ],
             [
              960732.6512,
              4211219.6978
             ],
             [
              960773.3753,
              4211155.0532
             ],
             [
              960970.5212,
              4211034.9498
             ],
             [
              961012.5604,
              4211102.2354
             ],
             [
              961036.2079,
              4211053.5321
             ],
             [
              961110.2158,
              4210984.4545
             ],
             [
              961139.7322,
              4210924.9475
             ],
             [
              961086.4823,
              4210862.7979
             ],
             [
              961049.2596,
              4210817.6463
             ],
             [
              961078.9512,
              4210752.6483
             ],
             [
              961064.3252,
              4210691.7308
             ],
             [
              961000.038,
              4210629.2283
             ],
             [
              960974.5506,
              4210562.4682
             ],
             [
              960949.9388,
              4210468.2577
             ],
             [
              960872.8624,
              4210460.3032
             ],
             [
              960774.5894,
              4210424.195
             ],
             [
              960720.81,
              4210378.5149
             ],
             [
              960683.9343,
              4210322.3825
             ],
             [
              960596.3457,
              4210297.6076
             ],
             [
              960488.8787,
              4210376.6178
             ],
             [
              960367.1327,
              4210383.7304
             ],
             [
              960324.0378,
              4210349.3838
             ],
             [
              960260.0942,
              4210275.9036
             ],
             [
              960162.6918,
              4210212.3495
             ],
             [
              960062.6673,
              4210231.1485
             ],
             [
              959988.6611,
              4210300.2374
             ],
             [
              959953.806,
              4210354.0849
             ],
             [
              959887.5898,
              4210351.9783
             ],
             [
              959832.4097,
              4210350.2231
             ],
             [
              959772.5843,
              4210320.8422
             ],
             [
              959750.6182,
              4210490.5078
             ],
             [
              959796.4385,
              4210612.867
             ],
             [
              959763.3677,
              4210958.0277
             ],
             [
              959256.3346,
              4210957.8509
             ]
            ]
           ]
          ],
          "type": "MultiPolygon"
         },
         "properties": {
          "area_descr": "{ \"\" : \"\" }",
          "city": "Houston",
          "holc_grade": "B",
          "holc_id": null,
          "name": null,
          "neighborho": 7904,
          "state": "TX",
          "value": 2
         },
         "type": "Feature"
        }
       ],
       "type": "FeatureCollection"
      },
      "text/html": [
       "<table>\n",
       "<caption>A sf: 6 × 9</caption>\n",
       "<thead>\n",
       "\t<tr><th></th><th scope=col>state</th><th scope=col>city</th><th scope=col>name</th><th scope=col>holc_id</th><th scope=col>holc_grade</th><th scope=col>neighborho</th><th scope=col>area_descr</th><th scope=col>geom</th><th scope=col>value</th></tr>\n",
       "\t<tr><th></th><th scope=col>&lt;fct&gt;</th><th scope=col>&lt;fct&gt;</th><th scope=col>&lt;fct&gt;</th><th scope=col>&lt;fct&gt;</th><th scope=col>&lt;fct&gt;</th><th scope=col>&lt;int&gt;</th><th scope=col>&lt;fct&gt;</th><th scope=col>&lt;MULTIPOLYGON [m]&gt;</th><th scope=col>&lt;dbl&gt;</th></tr>\n",
       "</thead>\n",
       "<tbody>\n",
       "\t<tr><th scope=row>1</th><td>TX</td><td>Galveston</td><td>NA</td><td>A </td><td>A</td><td>8973</td><td>{ \"\" : \"\" }</td><td>MULTIPOLYGON (((1006136 416...</td><td>1</td></tr>\n",
       "\t<tr><th scope=row>2</th><td>TX</td><td>Galveston</td><td>NA</td><td>B </td><td>B</td><td>8974</td><td>{ \"\" : \"\" }</td><td>MULTIPOLYGON (((1009392 417...</td><td>2</td></tr>\n",
       "\t<tr><th scope=row>3</th><td>TX</td><td>Galveston</td><td>NA</td><td>C </td><td>C</td><td>8976</td><td>{ \"\" : \"\" }</td><td>MULTIPOLYGON (((1007171 416...</td><td>3</td></tr>\n",
       "\t<tr><th scope=row>4</th><td>TX</td><td>Galveston</td><td>NA</td><td>D </td><td>D</td><td>8983</td><td>{ \"\" : \"\" }</td><td>MULTIPOLYGON (((1010352 417...</td><td>4</td></tr>\n",
       "\t<tr><th scope=row>5</th><td>TX</td><td>Houston  </td><td>NA</td><td>NA</td><td>C</td><td>7903</td><td>{ \"\" : \"\" }</td><td>MULTIPOLYGON (((956536 4212...</td><td>3</td></tr>\n",
       "\t<tr><th scope=row>6</th><td>TX</td><td>Houston  </td><td>NA</td><td>NA</td><td>B</td><td>7904</td><td>{ \"\" : \"\" }</td><td>MULTIPOLYGON (((959256.3 42...</td><td>2</td></tr>\n",
       "</tbody>\n",
       "</table>\n"
      ],
      "text/latex": [
       "A sf: 6 × 9\n",
       "\\begin{tabular}{r|lllllllll}\n",
       "  & state & city & name & holc\\_id & holc\\_grade & neighborho & area\\_descr & geom & value\\\\\n",
       "  & <fct> & <fct> & <fct> & <fct> & <fct> & <int> & <fct> & <MULTIPOLYGON {[}m{]}> & <dbl>\\\\\n",
       "\\hline\n",
       "\t1 & TX & Galveston & NA & A  & A & 8973 & \\{ \"\" : \"\" \\} & MULTIPOLYGON (((1006136 416... & 1\\\\\n",
       "\t2 & TX & Galveston & NA & B  & B & 8974 & \\{ \"\" : \"\" \\} & MULTIPOLYGON (((1009392 417... & 2\\\\\n",
       "\t3 & TX & Galveston & NA & C  & C & 8976 & \\{ \"\" : \"\" \\} & MULTIPOLYGON (((1007171 416... & 3\\\\\n",
       "\t4 & TX & Galveston & NA & D  & D & 8983 & \\{ \"\" : \"\" \\} & MULTIPOLYGON (((1010352 417... & 4\\\\\n",
       "\t5 & TX & Houston   & NA & NA & C & 7903 & \\{ \"\" : \"\" \\} & MULTIPOLYGON (((956536 4212... & 3\\\\\n",
       "\t6 & TX & Houston   & NA & NA & B & 7904 & \\{ \"\" : \"\" \\} & MULTIPOLYGON (((959256.3 42... & 2\\\\\n",
       "\\end{tabular}\n"
      ],
      "text/markdown": [
       "\n",
       "A sf: 6 × 9\n",
       "\n",
       "| <!--/--> | state &lt;fct&gt; | city &lt;fct&gt; | name &lt;fct&gt; | holc_id &lt;fct&gt; | holc_grade &lt;fct&gt; | neighborho &lt;int&gt; | area_descr &lt;fct&gt; | geom &lt;MULTIPOLYGON [m]&gt; | value &lt;dbl&gt; |\n",
       "|---|---|---|---|---|---|---|---|---|---|\n",
       "| 1 | TX | Galveston | NA | A  | A | 8973 | { \"\" : \"\" } | MULTIPOLYGON (((1006136 416... | 1 |\n",
       "| 2 | TX | Galveston | NA | B  | B | 8974 | { \"\" : \"\" } | MULTIPOLYGON (((1009392 417... | 2 |\n",
       "| 3 | TX | Galveston | NA | C  | C | 8976 | { \"\" : \"\" } | MULTIPOLYGON (((1007171 416... | 3 |\n",
       "| 4 | TX | Galveston | NA | D  | D | 8983 | { \"\" : \"\" } | MULTIPOLYGON (((1010352 417... | 4 |\n",
       "| 5 | TX | Houston   | NA | NA | C | 7903 | { \"\" : \"\" } | MULTIPOLYGON (((956536 4212... | 3 |\n",
       "| 6 | TX | Houston   | NA | NA | B | 7904 | { \"\" : \"\" } | MULTIPOLYGON (((959256.3 42... | 2 |\n",
       "\n"
      ],
      "text/plain": [
       "  state city      name holc_id holc_grade neighborho area_descr \n",
       "1 TX    Galveston NA   A       A          8973       { \"\" : \"\" }\n",
       "2 TX    Galveston NA   B       B          8974       { \"\" : \"\" }\n",
       "3 TX    Galveston NA   C       C          8976       { \"\" : \"\" }\n",
       "4 TX    Galveston NA   D       D          8983       { \"\" : \"\" }\n",
       "5 TX    Houston   NA   NA      C          7903       { \"\" : \"\" }\n",
       "6 TX    Houston   NA   NA      B          7904       { \"\" : \"\" }\n",
       "  geom                           value\n",
       "1 MULTIPOLYGON (((1006136 416... 1    \n",
       "2 MULTIPOLYGON (((1009392 417... 2    \n",
       "3 MULTIPOLYGON (((1007171 416... 3    \n",
       "4 MULTIPOLYGON (((1010352 417... 4    \n",
       "5 MULTIPOLYGON (((956536 4212... 3    \n",
       "6 MULTIPOLYGON (((959256.3 42... 2    "
      ]
     },
     "metadata": {},
     "output_type": "display_data"
    }
   ],
   "source": [
    "rl <- st_read(\"data/ToxPi_inputs/Infrastructure/redlining/redlining_A-E_districts_study_area.gpkg\") %>%\n",
    "    st_transform(6587) %>%\n",
    "    mutate(value = case_when(holc_grade == \"A\" ~ 1,\n",
    "                             holc_grade == \"B\" ~ 2,\n",
    "                             holc_grade == \"C\" ~ 3,\n",
    "                             holc_grade == \"D\" ~ 4))\n",
    "\n",
    "nrow(rl)\n",
    "head(rl)"
   ]
  },
  {
   "cell_type": "code",
   "execution_count": 14,
   "metadata": {},
   "outputs": [
    {
     "data": {
      "text/html": [
       "<table>\n",
       "<caption>A tibble: 4 × 3</caption>\n",
       "<thead>\n",
       "\t<tr><th scope=col>holc_grade</th><th scope=col>value</th><th scope=col>n</th></tr>\n",
       "\t<tr><th scope=col>&lt;fct&gt;</th><th scope=col>&lt;dbl&gt;</th><th scope=col>&lt;int&gt;</th></tr>\n",
       "</thead>\n",
       "<tbody>\n",
       "\t<tr><td>A</td><td>1</td><td> 5</td></tr>\n",
       "\t<tr><td>B</td><td>2</td><td>12</td></tr>\n",
       "\t<tr><td>C</td><td>3</td><td>16</td></tr>\n",
       "\t<tr><td>D</td><td>4</td><td>11</td></tr>\n",
       "</tbody>\n",
       "</table>\n"
      ],
      "text/latex": [
       "A tibble: 4 × 3\n",
       "\\begin{tabular}{lll}\n",
       " holc\\_grade & value & n\\\\\n",
       " <fct> & <dbl> & <int>\\\\\n",
       "\\hline\n",
       "\t A & 1 &  5\\\\\n",
       "\t B & 2 & 12\\\\\n",
       "\t C & 3 & 16\\\\\n",
       "\t D & 4 & 11\\\\\n",
       "\\end{tabular}\n"
      ],
      "text/markdown": [
       "\n",
       "A tibble: 4 × 3\n",
       "\n",
       "| holc_grade &lt;fct&gt; | value &lt;dbl&gt; | n &lt;int&gt; |\n",
       "|---|---|---|\n",
       "| A | 1 |  5 |\n",
       "| B | 2 | 12 |\n",
       "| C | 3 | 16 |\n",
       "| D | 4 | 11 |\n",
       "\n"
      ],
      "text/plain": [
       "  holc_grade value n \n",
       "1 A          1      5\n",
       "2 B          2     12\n",
       "3 C          3     16\n",
       "4 D          4     11"
      ]
     },
     "metadata": {},
     "output_type": "display_data"
    }
   ],
   "source": [
    "rl %>% st_set_geometry(NULL) %>% count(holc_grade, value)"
   ]
  },
  {
   "cell_type": "code",
   "execution_count": 15,
   "metadata": {},
   "outputs": [
    {
     "data": {
      "image/png": "[encoded data removed]",
      "text/plain": [
       "Plot with title \"holc_grade\""
      ]
     },
     "metadata": {},
     "output_type": "display_data"
    }
   ],
   "source": [
    "plot(rl[, \"holc_grade\"])"
   ]
  },
  {
   "cell_type": "code",
   "execution_count": 27,
   "metadata": {},
   "outputs": [
    {
     "data": {
      "application/geo+json": {
       "features": [
        {
         "geometry": {
          "coordinates": [
           [
            [
             [
              1007170.9122,
              4169108.976
             ],
             [
              1006904.6454,
              4169026.3794
             ],
             [
              1006877.8945,
              4169089.8778
             ],
             [
              1006874.2956,
              4169088.5395
             ],
             [
              1006848.0909,
              4169184.8146
             ],
             [
              1006849.6569,
              4169185.2845
             ],
             [
              1007035.772,
              4169241.1351
             ],
             [
              1007192.1385,
              4169282.5594
             ],
             [
              1007379.4709,
              4169348.5158
             ],
             [
              1007419.3768,
              4169355.4582
             ],
             [
              1007518.9934,
              4169396.2281
             ],
             [
              1007622.9817,
              4169425.7666
             ],
             [
              1007671.6997,
              4169275.9116
             ],
             [
              1007430.0375,
              4169189.8898
             ],
             [
              1007170.9122,
              4169108.976
             ]
            ]
           ],
           [
            [
             [
              1009954.6026,
              4169731.2102
             ],
             [
              1009537.8751,
              4169586.5696
             ],
             [
              1009392.4078,
              4170014.4424
             ],
             [
              1009547.0343,
              4170074.2025
             ],
             [
              1009810.6849,
              4170167.054
             ],
             [
              1010069.5412,
              4170247.5847
             ],
             [
              1010302.1894,
              4170328.91
             ],
             [
              1010378.256,
              4170358.3506
             ],
             [
              1010381.3556,
              4170359.5502
             ],
             [
              1010324.6189,
              4170239.4388
             ],
             [
              1010260.7844,
              4170122.5425
             ],
             [
              1010163.709,
              4170007.917
             ],
             [
              1010082.1922,
              4169897.3257
             ],
             [
              1009954.6026,
              4169731.2102
             ]
            ]
           ]
          ],
          "type": "MultiPolygon"
         },
         "properties": {
          "OBJECTID": 8011,
          "Shape_Area": 0,
          "Shape_Length": 0.0461,
          "area_descr": "{ \"\" : \"\" }",
          "city": "Galveston",
          "holc_grade": "C",
          "holc_id": "C",
          "name": " ",
          "neighborho": 8976,
          "state": "TX",
          "value": 1
         },
         "type": "Feature"
        },
        {
         "geometry": {
          "coordinates": [
           [
            [
             [
              1010352.3064,
              4171118.1666
             ],
             [
              1010171.199,
              4171054.3213
             ],
             [
              1009961.8679,
              4170986.8147
             ],
             [
              1009783.3794,
              4170923.9514
             ],
             [
              1009578.3731,
              4170859.2522
             ],
             [
              1009384.079,
              4170792.2982
             ],
             [
              1009181.9452,
              4170721.5383
             ],
             [
              1008934.7723,
              4170646.5148
             ],
             [
              1008997.7418,
              4170474.286
             ],
             [
              1009097.2244,
              4170171.02
             ],
             [
              1008976.4614,
              4170128.76
             ],
             [
              1008877.7586,
              4170089.0588
             ],
             [
              1008710.5018,
              4170033.6661
             ],
             [
              1008644.92,
              4170009.265
             ],
             [
              1008554.7166,
              4169979.5702
             ],
             [
              1008516.3155,
              4169963.2009
             ],
             [
              1008430.4414,
              4169936.3075
             ],
             [
              1008325.382,
              4169900.7902
             ],
             [
              1008211.5669,
              4169862.3142
             ],
             [
              1008130.243,
              4169832.0601
             ],
             [
              1008036.402,
              4169804.8832
             ],
             [
              1007998.7264,
              4169792.9497
             ],
             [
              1007903.3363,
              4169759.5468
             ],
             [
              1007882.0327,
              4169760.5446
             ],
             [
              1007835.5069,
              4169748.2937
             ],
             [
              1007761.1348,
              4169721.8184
             ],
             [
              1007696.3079,
              4169700.9761
             ],
             [
              1007662.646,
              4169675.9631
             ],
             [
              1007519.2416,
              4169622.3249
             ],
             [
              1007441.9603,
              4169602.8002
             ],
             [
              1007380.5458,
              4169585.6085
             ],
             [
              1007251.9319,
              4169539.5574
             ],
             [
              1007142.4719,
              4169503.0108
             ],
             [
              1007024.0662,
              4169468.7895
             ],
             [
              1006905.8176,
              4169430.1666
             ],
             [
              1006864.3156,
              4169426.0344
             ],
             [
              1006794.333,
              4169400.6039
             ],
             [
              1006733.4529,
              4169368.4466
             ],
             [
              1006704.4358,
              4169362.1173
             ],
             [
              1006672.9213,
              4169351.2902
             ],
             [
              1006704.8649,
              4169255.3205
             ],
             [
              1006574.7317,
              4169197.8912
             ],
             [
              1006494.2411,
              4169161.9823
             ],
             [
              1006493.7345,
              4169163.4926
             ],
             [
              1006310.0932,
              4169105.3545
             ],
             [
              1006146.1199,
              4169060.8141
             ],
             [
              1006008.0783,
              4169015.7708
             ],
             [
              1005822.0168,
              4168944.6621
             ],
             [
              1005607.1951,
              4168872.5288
             ],
             [
              1005680.1791,
              4168673.3464
             ],
             [
              1005053.0755,
              4168365.2992
             ],
             [
              1005046.3478,
              4168361.9946
             ],
             [
              1004905.3859,
              4168797.1396
             ],
             [
              1004733.4385,
              4169308.99
             ],
             [
              1004656.6941,
              4169519.7771
             ],
             [
              1005256.1969,
              4169714.7297
             ],
             [
              1005777.45,
              4169890.3849
             ],
             [
              1005918.9505,
              4169960.1861
             ],
             [
              1005998.661,
              4169976.8114
             ],
             [
              1006591.1064,
              4170174.3325
             ],
             [
              1007260.1273,
              4170398.0462
             ],
             [
              1007299.8322,
              4170410.4903
             ],
             [
              1007672.7763,
              4170627.7396
             ],
             [
              1007899.6388,
              4170710.2702
             ],
             [
              1007986.008,
              4170734.0352
             ],
             [
              1008060.5258,
              4170740.8457
             ],
             [
              1008417.7993,
              4170854.2455
             ],
             [
              1008602.7795,
              4170907.734
             ],
             [
              1008813.0832,
              4171026.8757
             ],
             [
              1009750.6789,
              4171325.1381
             ],
             [
              1009831.873,
              4171261.9546
             ],
             [
              1009861.7189,
              4171163.8597
             ],
             [
              1010152.8945,
              4171266.6615
             ],
             [
              1010352.3064,
              4171118.1666
             ]
            ]
           ]
          ],
          "type": "MultiPolygon"
         },
         "properties": {
          "OBJECTID": 8012,
          "Shape_Area": 0.0004,
          "Shape_Length": 0.1417,
          "area_descr": "{ \"\" : \"\" }",
          "city": "Galveston",
          "holc_grade": "D",
          "holc_id": "D",
          "name": " ",
          "neighborho": 8983,
          "state": "TX",
          "value": 1
         },
         "type": "Feature"
        },
        {
         "geometry": {
          "coordinates": [
           [
            [
             [
              956535.9511,
              4212102.6664
             ],
             [
              956701.8124,
              4212096.9061
             ],
             [
              957119.9324,
              4211972.7303
             ],
             [
              957418.0428,
              4212850.2899
             ],
             [
              957540.28,
              4212826.6813
             ],
             [
              957291.4866,
              4211961.6634
             ],
             [
              958146.2245,
              4211653.5057
             ],
             [
              958130.889,
              4211614.5553
             ],
             [
              958409.7159,
              4211529.971
             ],
             [
              958872.7772,
              4211731.4821
             ],
             [
              959158.2246,
              4211960.338
             ],
             [
              959300.801,
              4211992.3401
             ],
             [
              959761.0332,
              4211413.5092
             ],
             [
              959238.0904,
              4211358.4241
             ],
             [
              959256.3346,
              4210957.8509
             ],
             [
              958070.8905,
              4210892.7899
             ],
             [
              957470.8423,
              4210829.8503
             ],
             [
              956637.1361,
              4210820.0226
             ],
             [
              956556.5994,
              4210921.8946
             ],
             [
              956431.3512,
              4211566.3712
             ],
             [
              956535.9511,
              4212102.6664
             ]
            ]
           ]
          ],
          "type": "MultiPolygon"
         },
         "properties": {
          "OBJECTID": 8013,
          "Shape_Area": 0.0003,
          "Shape_Length": 0.1024,
          "area_descr": "{ \"\" : \"\" }",
          "city": "Houston",
          "holc_grade": "C",
          "holc_id": " ",
          "name": " ",
          "neighborho": 7903,
          "state": "TX",
          "value": 1
         },
         "type": "Feature"
        },
        {
         "geometry": {
          "coordinates": [
           [
            [
             [
              960149.9623,
              4212846.902
             ],
             [
              960078.9813,
              4212841.8331
             ],
             [
              959833.5189,
              4212746.1098
             ],
             [
              959710.7562,
              4212873.6284
             ],
             [
              959674.458,
              4212929.7075
             ],
             [
              959535.9937,
              4212942.4752
             ],
             [
              959497.7854,
              4213782.5589
             ],
             [
              959486.3367,
              4214142.7323
             ],
             [
              959522.5605,
              4214269.7831
             ],
             [
              959505.2532,
              4214452.3566
             ],
             [
              959028.5284,
              4214431.4895
             ],
             [
              959010.8623,
              4215169.1159
             ],
             [
              959074.0626,
              4215171.1225
             ],
             [
              959115.5518,
              4215132.3846
             ],
             [
              959174.8225,
              4215077.0445
             ],
             [
              959265.8431,
              4215108.5471
             ],
             [
              959328.8622,
              4215116.2716
             ],
             [
              959416.135,
              4215084.7116
             ],
             [
              959483.2643,
              4215144.0678
             ],
             [
              959502.9751,
              4215247.694
             ],
             [
              959587.3391,
              4215307.5979
             ],
             [
              959584.7942,
              4215387.6268
             ],
             [
              959559.0863,
              4215472.6406
             ],
             [
              959606.068,
              4215622.9073
             ],
             [
              959673.5566,
              4215670.8296
             ],
             [
              959772.8623,
              4215622.4908
             ],
             [
              959893.6947,
              4215620.6139
             ],
             [
              959961.5461,
              4215657.1055
             ],
             [
              960036.9622,
              4215636.6185
             ],
             [
              960115.8374,
              4215507.5234
             ],
             [
              960112.4587,
              4215433.0288
             ],
             [
              960093.2998,
              4215312.2539
             ],
             [
              960145.4529,
              4215119.3597
             ],
             [
              960247.8614,
              4214973.8418
             ],
             [
              960386.4843,
              4214955.3693
             ],
             [
              960587.8574,
              4215133.4579
             ],
             [
              960643.3831,
              4214294.0244
             ],
             [
              960936.6082,
              4214297.6563
             ],
             [
              960955.946,
              4214052.1949
             ],
             [
              960901.7693,
              4213947.4548
             ],
             [
              960545.6924,
              4213930.3746
             ],
             [
              960552.3398,
              4213541.4252
             ],
             [
              960260.7344,
              4213486.3482
             ],
             [
              960107.3246,
              4213607.3696
             ],
             [
              960149.9623,
              4212846.902
             ]
            ]
           ]
          ],
          "type": "MultiPolygon"
         },
         "properties": {
          "OBJECTID": 8015,
          "Shape_Area": 0.0003,
          "Shape_Length": 0.0914,
          "area_descr": "{ \"\" : \"\" }",
          "city": "Houston",
          "holc_grade": "C",
          "holc_id": " ",
          "name": " ",
          "neighborho": 7905,
          "state": "TX",
          "value": 1
         },
         "type": "Feature"
        },
        {
         "geometry": {
          "coordinates": [
           [
            [
             [
              961137.4622,
              4215046.7074
             ],
             [
              961538.0459,
              4215199.7035
             ],
             [
              961862.6651,
              4215210.0866
             ],
             [
              962100.0953,
              4215249.1592
             ],
             [
              962342.161,
              4215053.7709
             ],
             [
              962375.609,
              4214548.4024
             ],
             [
              962253.413,
              4214412.8667
             ],
             [
              962187.3355,
              4214410.7502
             ],
             [
              962186.3849,
              4214350.6316
             ],
             [
              961887.9635,
              4214329.6328
             ],
             [
              961169.3045,
              4214589.9291
             ],
             [
              961137.4622,
              4215046.7074
             ]
            ]
           ]
          ],
          "type": "MultiPolygon"
         },
         "properties": {
          "OBJECTID": 8017,
          "Shape_Area": 0.0001,
          "Shape_Length": 0.0358,
          "area_descr": "{ \"\" : \"\" }",
          "city": "Houston",
          "holc_grade": "C",
          "holc_id": " ",
          "name": " ",
          "neighborho": 7907,
          "state": "TX",
          "value": 1
         },
         "type": "Feature"
        },
        {
         "geometry": {
          "coordinates": [
           [
            [
             [
              958109.0771,
              4214765.3415
             ],
             [
              957761.3069,
              4214806.522
             ],
             [
              957656.583,
              4214844.4102
             ],
             [
              957589.516,
              4214913.7035
             ],
             [
              957545.5015,
              4214996.0857
             ],
             [
              957548.0767,
              4215045.6071
             ],
             [
              957514.6262,
              4215099.4827
             ],
             [
              957502.2936,
              4215140.2925
             ],
             [
              957523.8611,
              4215243.9728
             ],
             [
              957546.6768,
              4215351.8116
             ],
             [
              957569.0676,
              4215429.4238
             ],
             [
              957605.8977,
              4215486.8931
             ],
             [
              957621.7065,
              4215510.7387
             ],
             [
              957667.2529,
              4215510.806
             ],
             [
              957690.7274,
              4215554.1199
             ],
             [
              957753.9284,
              4215606.9302
             ],
             [
              957805.9345,
              4215620.9351
             ],
             [
              957922.1064,
              4215613.6254
             ],
             [
              957972.9615,
              4215576.7836
             ],
             [
              958052.0249,
              4215433.7192
             ],
             [
              958060.0165,
              4215355.6945
             ],
             [
              958135.6386,
              4215364.9557
             ],
             [
              958263.7573,
              4215329.1884
             ],
             [
              958109.0771,
              4214765.3415
             ]
            ]
           ]
          ],
          "type": "MultiPolygon"
         },
         "properties": {
          "OBJECTID": 8018,
          "Shape_Area": 0,
          "Shape_Length": 0.0254,
          "area_descr": "{ \"\" : \"\" }",
          "city": "Houston",
          "holc_grade": "C",
          "holc_id": " ",
          "name": " ",
          "neighborho": 7908,
          "state": "TX",
          "value": 1
         },
         "type": "Feature"
        }
       ],
       "type": "FeatureCollection"
      },
      "text/html": [
       "<table>\n",
       "<caption>A sf: 6 × 12</caption>\n",
       "<thead>\n",
       "\t<tr><th></th><th scope=col>OBJECTID</th><th scope=col>state</th><th scope=col>city</th><th scope=col>name</th><th scope=col>holc_id</th><th scope=col>holc_grade</th><th scope=col>neighborho</th><th scope=col>area_descr</th><th scope=col>Shape_Length</th><th scope=col>Shape_Area</th><th scope=col>geom</th><th scope=col>value</th></tr>\n",
       "\t<tr><th></th><th scope=col>&lt;dbl&gt;</th><th scope=col>&lt;fct&gt;</th><th scope=col>&lt;fct&gt;</th><th scope=col>&lt;fct&gt;</th><th scope=col>&lt;fct&gt;</th><th scope=col>&lt;fct&gt;</th><th scope=col>&lt;int&gt;</th><th scope=col>&lt;fct&gt;</th><th scope=col>&lt;dbl&gt;</th><th scope=col>&lt;dbl&gt;</th><th scope=col>&lt;MULTIPOLYGON [m]&gt;</th><th scope=col>&lt;dbl&gt;</th></tr>\n",
       "</thead>\n",
       "<tbody>\n",
       "\t<tr><th scope=row>1</th><td>8011</td><td>TX</td><td>Galveston</td><td> </td><td>C</td><td>C</td><td>8976</td><td>{ \"\" : \"\" }</td><td>0.04608466</td><td>0.00004489546</td><td>MULTIPOLYGON (((1007171 416...</td><td>1</td></tr>\n",
       "\t<tr><th scope=row>2</th><td>8012</td><td>TX</td><td>Galveston</td><td> </td><td>D</td><td>D</td><td>8983</td><td>{ \"\" : \"\" }</td><td>0.14172299</td><td>0.00042157447</td><td>MULTIPOLYGON (((1010352 417...</td><td>1</td></tr>\n",
       "\t<tr><th scope=row>3</th><td>8013</td><td>TX</td><td>Houston  </td><td> </td><td> </td><td>C</td><td>7903</td><td>{ \"\" : \"\" }</td><td>0.10239977</td><td>0.00027372826</td><td>MULTIPOLYGON (((956536 4212...</td><td>1</td></tr>\n",
       "\t<tr><th scope=row>4</th><td>8015</td><td>TX</td><td>Houston  </td><td> </td><td> </td><td>C</td><td>7905</td><td>{ \"\" : \"\" }</td><td>0.09143210</td><td>0.00026535854</td><td>MULTIPOLYGON (((960150 4212...</td><td>1</td></tr>\n",
       "\t<tr><th scope=row>5</th><td>8017</td><td>TX</td><td>Houston  </td><td> </td><td> </td><td>C</td><td>7907</td><td>{ \"\" : \"\" }</td><td>0.03581940</td><td>0.00008339763</td><td>MULTIPOLYGON (((961137.5 42...</td><td>1</td></tr>\n",
       "\t<tr><th scope=row>6</th><td>8018</td><td>TX</td><td>Houston  </td><td> </td><td> </td><td>C</td><td>7908</td><td>{ \"\" : \"\" }</td><td>0.02543743</td><td>0.00004264769</td><td>MULTIPOLYGON (((958109.1 42...</td><td>1</td></tr>\n",
       "</tbody>\n",
       "</table>\n"
      ],
      "text/latex": [
       "A sf: 6 × 12\n",
       "\\begin{tabular}{r|llllllllllll}\n",
       "  & OBJECTID & state & city & name & holc\\_id & holc\\_grade & neighborho & area\\_descr & Shape\\_Length & Shape\\_Area & geom & value\\\\\n",
       "  & <dbl> & <fct> & <fct> & <fct> & <fct> & <fct> & <int> & <fct> & <dbl> & <dbl> & <MULTIPOLYGON {[}m{]}> & <dbl>\\\\\n",
       "\\hline\n",
       "\t1 & 8011 & TX & Galveston &   & C & C & 8976 & \\{ \"\" : \"\" \\} & 0.04608466 & 0.00004489546 & MULTIPOLYGON (((1007171 416... & 1\\\\\n",
       "\t2 & 8012 & TX & Galveston &   & D & D & 8983 & \\{ \"\" : \"\" \\} & 0.14172299 & 0.00042157447 & MULTIPOLYGON (((1010352 417... & 1\\\\\n",
       "\t3 & 8013 & TX & Houston   &   &   & C & 7903 & \\{ \"\" : \"\" \\} & 0.10239977 & 0.00027372826 & MULTIPOLYGON (((956536 4212... & 1\\\\\n",
       "\t4 & 8015 & TX & Houston   &   &   & C & 7905 & \\{ \"\" : \"\" \\} & 0.09143210 & 0.00026535854 & MULTIPOLYGON (((960150 4212... & 1\\\\\n",
       "\t5 & 8017 & TX & Houston   &   &   & C & 7907 & \\{ \"\" : \"\" \\} & 0.03581940 & 0.00008339763 & MULTIPOLYGON (((961137.5 42... & 1\\\\\n",
       "\t6 & 8018 & TX & Houston   &   &   & C & 7908 & \\{ \"\" : \"\" \\} & 0.02543743 & 0.00004264769 & MULTIPOLYGON (((958109.1 42... & 1\\\\\n",
       "\\end{tabular}\n"
      ],
      "text/markdown": [
       "\n",
       "A sf: 6 × 12\n",
       "\n",
       "| <!--/--> | OBJECTID &lt;dbl&gt; | state &lt;fct&gt; | city &lt;fct&gt; | name &lt;fct&gt; | holc_id &lt;fct&gt; | holc_grade &lt;fct&gt; | neighborho &lt;int&gt; | area_descr &lt;fct&gt; | Shape_Length &lt;dbl&gt; | Shape_Area &lt;dbl&gt; | geom &lt;MULTIPOLYGON [m]&gt; | value &lt;dbl&gt; |\n",
       "|---|---|---|---|---|---|---|---|---|---|---|---|---|\n",
       "| 1 | 8011 | TX | Galveston | <!----> | C | C | 8976 | { \"\" : \"\" } | 0.04608466 | 0.00004489546 | MULTIPOLYGON (((1007171 416... | 1 |\n",
       "| 2 | 8012 | TX | Galveston | <!----> | D | D | 8983 | { \"\" : \"\" } | 0.14172299 | 0.00042157447 | MULTIPOLYGON (((1010352 417... | 1 |\n",
       "| 3 | 8013 | TX | Houston   | <!----> | <!----> | C | 7903 | { \"\" : \"\" } | 0.10239977 | 0.00027372826 | MULTIPOLYGON (((956536 4212... | 1 |\n",
       "| 4 | 8015 | TX | Houston   | <!----> | <!----> | C | 7905 | { \"\" : \"\" } | 0.09143210 | 0.00026535854 | MULTIPOLYGON (((960150 4212... | 1 |\n",
       "| 5 | 8017 | TX | Houston   | <!----> | <!----> | C | 7907 | { \"\" : \"\" } | 0.03581940 | 0.00008339763 | MULTIPOLYGON (((961137.5 42... | 1 |\n",
       "| 6 | 8018 | TX | Houston   | <!----> | <!----> | C | 7908 | { \"\" : \"\" } | 0.02543743 | 0.00004264769 | MULTIPOLYGON (((958109.1 42... | 1 |\n",
       "\n"
      ],
      "text/plain": [
       "  OBJECTID state city      name holc_id holc_grade neighborho area_descr \n",
       "1 8011     TX    Galveston      C       C          8976       { \"\" : \"\" }\n",
       "2 8012     TX    Galveston      D       D          8983       { \"\" : \"\" }\n",
       "3 8013     TX    Houston                C          7903       { \"\" : \"\" }\n",
       "4 8015     TX    Houston                C          7905       { \"\" : \"\" }\n",
       "5 8017     TX    Houston                C          7907       { \"\" : \"\" }\n",
       "6 8018     TX    Houston                C          7908       { \"\" : \"\" }\n",
       "  Shape_Length Shape_Area    geom                           value\n",
       "1 0.04608466   0.00004489546 MULTIPOLYGON (((1007171 416... 1    \n",
       "2 0.14172299   0.00042157447 MULTIPOLYGON (((1010352 417... 1    \n",
       "3 0.10239977   0.00027372826 MULTIPOLYGON (((956536 4212... 1    \n",
       "4 0.09143210   0.00026535854 MULTIPOLYGON (((960150 4212... 1    \n",
       "5 0.03581940   0.00008339763 MULTIPOLYGON (((961137.5 42... 1    \n",
       "6 0.02543743   0.00004264769 MULTIPOLYGON (((958109.1 42... 1    "
      ]
     },
     "metadata": {},
     "output_type": "display_data"
    }
   ],
   "source": [
    "head(rl)"
   ]
  },
  {
   "cell_type": "code",
   "execution_count": 16,
   "metadata": {},
   "outputs": [
    {
     "data": {
      "text/plain": [
       "stars object with 2 dimensions and 1 attribute\n",
       "attribute(s), summary of first 100000 cells:\n",
       "     value      \n",
       " Min.   :0      \n",
       " 1st Qu.:0      \n",
       " Median :0      \n",
       " Mean   :0      \n",
       " 3rd Qu.:0      \n",
       " Max.   :0      \n",
       " NA's   :91698  \n",
       "dimension(s):\n",
       "  from   to  offset delta                       refsys point values    \n",
       "x    1 2132  890267   100 NAD83(2011) / Texas South... FALSE   NULL [x]\n",
       "y    1 1884 4330396  -100 NAD83(2011) / Texas South... FALSE   NULL [y]"
      ]
     },
     "metadata": {},
     "output_type": "display_data"
    }
   ],
   "source": [
    "# rasterise polygon data and write to tif to check in QGIS\n",
    "\n",
    "# copy raster template, set all cells to NA, then all study area cells to 0\n",
    "# this should ensure study area is 0 or 1 based on RL areas, beyond study area will be NA\n",
    "rl_rast_blank <- rt\n",
    "rl_rast_blank[[1]][] <- NA\n",
    "rl_rast_blank[[1]][df_study_clipped$cell_id] <- 0\n",
    "\n",
    "\n",
    "rl_rast <- rl %>% \n",
    "    select(value) %>%\n",
    "    st_rasterize(template = rl_rast_blank, options = \"ALL_TOUCHED=TRUE\")\n",
    "\n",
    "rl_rast\n",
    "\n",
    "write_stars(rl_rast, \"data/ToxPi_inputs/Infrastructure/redlining/redlining_A-E_districts_study_area.tif\")"
   ]
  },
  {
   "cell_type": "code",
   "execution_count": 86,
   "metadata": {},
   "outputs": [
    {
     "data": {
      "text/html": [
       "4016688"
      ],
      "text/latex": [
       "4016688"
      ],
      "text/markdown": [
       "4016688"
      ],
      "text/plain": [
       "[1] 4016688"
      ]
     },
     "metadata": {},
     "output_type": "display_data"
    },
    {
     "data": {
      "text/html": [
       "1697511"
      ],
      "text/latex": [
       "1697511"
      ],
      "text/markdown": [
       "1697511"
      ],
      "text/plain": [
       "[1] 1697511"
      ]
     },
     "metadata": {},
     "output_type": "display_data"
    },
    {
     "data": {
      "text/html": [
       "<table>\n",
       "<caption>A data.frame: 6 × 2</caption>\n",
       "<thead>\n",
       "\t<tr><th></th><th scope=col>cell_id</th><th scope=col>value</th></tr>\n",
       "\t<tr><th></th><th scope=col>&lt;dbl&gt;</th><th scope=col>&lt;dbl&gt;</th></tr>\n",
       "</thead>\n",
       "<tbody>\n",
       "\t<tr><th scope=row>1</th><td>1</td><td>NA</td></tr>\n",
       "\t<tr><th scope=row>2</th><td>2</td><td>NA</td></tr>\n",
       "\t<tr><th scope=row>3</th><td>3</td><td>NA</td></tr>\n",
       "\t<tr><th scope=row>4</th><td>4</td><td>NA</td></tr>\n",
       "\t<tr><th scope=row>5</th><td>5</td><td>NA</td></tr>\n",
       "\t<tr><th scope=row>6</th><td>6</td><td>NA</td></tr>\n",
       "</tbody>\n",
       "</table>\n"
      ],
      "text/latex": [
       "A data.frame: 6 × 2\n",
       "\\begin{tabular}{r|ll}\n",
       "  & cell\\_id & value\\\\\n",
       "  & <dbl> & <dbl>\\\\\n",
       "\\hline\n",
       "\t1 & 1 & NA\\\\\n",
       "\t2 & 2 & NA\\\\\n",
       "\t3 & 3 & NA\\\\\n",
       "\t4 & 4 & NA\\\\\n",
       "\t5 & 5 & NA\\\\\n",
       "\t6 & 6 & NA\\\\\n",
       "\\end{tabular}\n"
      ],
      "text/markdown": [
       "\n",
       "A data.frame: 6 × 2\n",
       "\n",
       "| <!--/--> | cell_id &lt;dbl&gt; | value &lt;dbl&gt; |\n",
       "|---|---|---|\n",
       "| 1 | 1 | NA |\n",
       "| 2 | 2 | NA |\n",
       "| 3 | 3 | NA |\n",
       "| 4 | 4 | NA |\n",
       "| 5 | 5 | NA |\n",
       "| 6 | 6 | NA |\n",
       "\n"
      ],
      "text/plain": [
       "  cell_id value\n",
       "1 1       NA   \n",
       "2 2       NA   \n",
       "3 3       NA   \n",
       "4 4       NA   \n",
       "5 5       NA   \n",
       "6 6       NA   "
      ]
     },
     "metadata": {},
     "output_type": "display_data"
    }
   ],
   "source": [
    "# transform to df and write to csv file\n",
    "rl_output <- raster_to_df(rl_rast)\n",
    "\n",
    "nrow(rl_output)\n",
    "rl_output %>% drop_na() %>% nrow()\n",
    "head(rl_output)\n",
    "\n",
    "rl_output %>% drop_na() %>% write_csv(\"outputs/ToxPi_inputs_processed/Infrastructure_Redlining1.csv\")"
   ]
  },
  {
   "cell_type": "code",
   "execution_count": 18,
   "metadata": {},
   "outputs": [
    {
     "data": {
      "text/html": [
       "<table>\n",
       "<caption>A tibble: 6 × 2</caption>\n",
       "<thead>\n",
       "\t<tr><th scope=col>value</th><th scope=col>n</th></tr>\n",
       "\t<tr><th scope=col>&lt;dbl&gt;</th><th scope=col>&lt;int&gt;</th></tr>\n",
       "</thead>\n",
       "<tbody>\n",
       "\t<tr><td> 0</td><td>1686589</td></tr>\n",
       "\t<tr><td> 1</td><td>   1337</td></tr>\n",
       "\t<tr><td> 2</td><td>   2435</td></tr>\n",
       "\t<tr><td> 3</td><td>   4729</td></tr>\n",
       "\t<tr><td> 4</td><td>   2421</td></tr>\n",
       "\t<tr><td>NA</td><td>2319177</td></tr>\n",
       "</tbody>\n",
       "</table>\n"
      ],
      "text/latex": [
       "A tibble: 6 × 2\n",
       "\\begin{tabular}{ll}\n",
       " value & n\\\\\n",
       " <dbl> & <int>\\\\\n",
       "\\hline\n",
       "\t  0 & 1686589\\\\\n",
       "\t  1 &    1337\\\\\n",
       "\t  2 &    2435\\\\\n",
       "\t  3 &    4729\\\\\n",
       "\t  4 &    2421\\\\\n",
       "\t NA & 2319177\\\\\n",
       "\\end{tabular}\n"
      ],
      "text/markdown": [
       "\n",
       "A tibble: 6 × 2\n",
       "\n",
       "| value &lt;dbl&gt; | n &lt;int&gt; |\n",
       "|---|---|\n",
       "|  0 | 1686589 |\n",
       "|  1 |    1337 |\n",
       "|  2 |    2435 |\n",
       "|  3 |    4729 |\n",
       "|  4 |    2421 |\n",
       "| NA | 2319177 |\n",
       "\n"
      ],
      "text/plain": [
       "  value n      \n",
       "1  0    1686589\n",
       "2  1       1337\n",
       "3  2       2435\n",
       "4  3       4729\n",
       "5  4       2421\n",
       "6 NA    2319177"
      ]
     },
     "metadata": {},
     "output_type": "display_data"
    }
   ],
   "source": [
    "rl_output %>% count(value)"
   ]
  },
  {
   "cell_type": "code",
   "execution_count": null,
   "metadata": {},
   "outputs": [],
   "source": []
  },
  {
   "cell_type": "markdown",
   "metadata": {},
   "source": [
    "### Processing 1.4 - manual rasterisation for NFIP data"
   ]
  },
  {
   "cell_type": "code",
   "execution_count": 55,
   "metadata": {},
   "outputs": [
    {
     "name": "stdout",
     "output_type": "stream",
     "text": [
      "Reading layer `Zip codes study area' from data source `C:\\Users\\gslater\\OneDrive - Environmental Defense Fund - edf.org\\GCA Work\\2022 04 - HG ToxPi file processing\\data\\02_zip_codes_study_area\\Zip codes study area.gpkg' using driver `GPKG'\n",
      "Simple feature collection with 224 features and 5 fields\n",
      "Geometry type: MULTIPOLYGON\n",
      "Dimension:     XY\n",
      "Bounding box:  xmin: -96.30693 ymin: 28.91208 xmax: -94.00579 ymax: 30.94042\n",
      "Geodetic CRS:  NAD83\n"
     ]
    },
    {
     "name": "stderr",
     "output_type": "stream",
     "text": [
      "Parsed with column specification:\n",
      "cols(\n",
      "  .default = col_double(),\n",
      "  AFFGEOID10 = col_character()\n",
      ")\n",
      "See spec(...) for full column specifications.\n"
     ]
    },
    {
     "data": {
      "text/html": [
       "224"
      ],
      "text/latex": [
       "224"
      ],
      "text/markdown": [
       "224"
      ],
      "text/plain": [
       "[1] 224"
      ]
     },
     "metadata": {},
     "output_type": "display_data"
    },
    {
     "data": {
      "text/html": [
       "367"
      ],
      "text/latex": [
       "367"
      ],
      "text/markdown": [
       "367"
      ],
      "text/plain": [
       "[1] 367"
      ]
     },
     "metadata": {},
     "output_type": "display_data"
    }
   ],
   "source": [
    "zip_sf <- st_read(\"data/zip_codes_study_area/Zip codes study area.gpkg\") %>%\n",
    "    st_transform(6587)\n",
    "\n",
    "nfip_df <- read_csv(\"data/ToxPi_inputs/Social/FEMA_NFIP_market_penetration.csv\") %>%\n",
    "    select(AFFGEOID10, market_pen = `Market Penetration`)\n",
    "\n",
    "nrow(zip_sf)\n",
    "nrow(nfip_df)"
   ]
  },
  {
   "cell_type": "code",
   "execution_count": 75,
   "metadata": {
    "scrolled": true
   },
   "outputs": [
    {
     "name": "stderr",
     "output_type": "stream",
     "text": [
      "Warning message:\n",
      "\"Column `AFFGEOID10` joining factor and character vector, coercing into character vector\"Warning message:\n",
      "\"attribute variables are assumed to be spatially constant throughout all geometries\""
     ]
    }
   ],
   "source": [
    "# inner join zip code sf to data\n",
    "# and clip to study area extent\n",
    "\n",
    "tracts_boundary_sf <- sf_tracts %>% st_union()\n",
    "\n",
    "nfip_sf <- zip_sf %>% \n",
    "    select(AFFGEOID10) %>%\n",
    "    inner_join(nfip_df, by = \"AFFGEOID10\") %>% \n",
    "    st_intersection(tracts_boundary_sf)"
   ]
  },
  {
   "cell_type": "code",
   "execution_count": 76,
   "metadata": {},
   "outputs": [
    {
     "data": {
      "image/png": "[encoded data removed]",
      "text/plain": [
       "Plot with title \"market_pen\""
      ]
     },
     "metadata": {},
     "output_type": "display_data"
    }
   ],
   "source": [
    "plot(nfip_sf[\"market_pen\"])"
   ]
  },
  {
   "cell_type": "code",
   "execution_count": 80,
   "metadata": {},
   "outputs": [],
   "source": [
    "new_rast <- rt\n",
    "new_rast[[1]][] <- NA\n",
    "\n",
    "# rasterise sf file and export to .tif\n",
    "nfip_rt <- nfip_sf %>% \n",
    "    select(value = market_pen) %>%\n",
    "    st_rasterize(template = new_rast)\n",
    "\n",
    "nfip_rt %>% write_stars(\"outputs/ToxPi_inputs_processed/Social_FloodInsPenetration.tif\")"
   ]
  },
  {
   "cell_type": "code",
   "execution_count": 79,
   "metadata": {},
   "outputs": [],
   "source": [
    "# write NFIP raster to csv\n",
    "raster_to_df(nfip_rt) %>% \n",
    "    drop_na() %>%\n",
    "    write_csv(\"outputs/ToxPi_inputs_processed/Social_FloodInsPenetration.csv\")"
   ]
  },
  {
   "cell_type": "code",
   "execution_count": 47,
   "metadata": {},
   "outputs": [
    {
     "data": {
      "application/geo+json": {
       "features": [
        {
         "geometry": {
          "coordinates": [
           [
            [
             [
              -94.8506,
              30.1895
             ],
             [
              -94.8494,
              30.1911
             ],
             [
              -94.847,
              30.1922
             ],
             [
              -94.8431,
              30.1936
             ],
             [
              -94.8402,
              30.1951
             ],
             [
              -94.8372,
              30.1957
             ],
             [
              -94.8322,
              30.1947
             ],
             [
              -94.8304,
              30.1952
             ],
             [
              -94.8293,
              30.1963
             ],
             [
              -94.8291,
              30.1982
             ],
             [
              -94.8308,
              30.2019
             ],
             [
              -94.8306,
              30.204
             ],
             [
              -94.8264,
              30.2116
             ],
             [
              -94.825,
              30.2135
             ],
             [
              -94.8218,
              30.2179
             ],
             [
              -94.821,
              30.2193
             ],
             [
              -94.8202,
              30.2247
             ],
             [
              -94.8183,
              30.2261
             ],
             [
              -94.8128,
              30.2276
             ],
             [
              -94.81,
              30.2268
             ],
             [
              -94.8083,
              30.2242
             ],
             [
              -94.8067,
              30.2241
             ],
             [
              -94.8063,
              30.2252
             ],
             [
              -94.8076,
              30.2288
             ],
             [
              -94.8082,
              30.2322
             ],
             [
              -94.8067,
              30.2365
             ],
             [
              -94.807,
              30.2384
             ],
             [
              -94.8094,
              30.2433
             ],
             [
              -94.8104,
              30.2469
             ],
             [
              -94.8102,
              30.2495
             ],
             [
              -94.8086,
              30.2511
             ],
             [
              -94.8061,
              30.2506
             ],
             [
              -94.8053,
              30.2494
             ],
             [
              -94.8052,
              30.2469
             ],
             [
              -94.8064,
              30.2399
             ],
             [
              -94.8036,
              30.2386
             ],
             [
              -94.8019,
              30.2388
             ],
             [
              -94.8012,
              30.2397
             ],
             [
              -94.801,
              30.2419
             ],
             [
              -94.8014,
              30.2434
             ],
             [
              -94.8011,
              30.2454
             ],
             [
              -94.7997,
              30.2474
             ],
             [
              -94.7975,
              30.2486
             ],
             [
              -94.7932,
              30.2494
             ],
             [
              -94.7903,
              30.2507
             ],
             [
              -94.7892,
              30.2523
             ],
             [
              -94.789,
              30.2531
             ],
             [
              -94.7911,
              30.2577
             ],
             [
              -94.7908,
              30.2594
             ],
             [
              -94.7888,
              30.2635
             ],
             [
              -94.7878,
              30.2664
             ],
             [
              -94.7875,
              30.2688
             ],
             [
              -94.7879,
              30.2702
             ],
             [
              -94.7887,
              30.2717
             ],
             [
              -94.7901,
              30.2726
             ],
             [
              -94.7919,
              30.2722
             ],
             [
              -94.7961,
              30.2693
             ],
             [
              -94.7979,
              30.2693
             ],
             [
              -94.8003,
              30.2706
             ],
             [
              -94.8006,
              30.2716
             ],
             [
              -94.8001,
              30.2736
             ],
             [
              -94.7982,
              30.2763
             ],
             [
              -94.7981,
              30.278
             ],
             [
              -94.7989,
              30.2792
             ],
             [
              -94.8014,
              30.2804
             ],
             [
              -94.8055,
              30.2834
             ],
             [
              -94.8073,
              30.2861
             ],
             [
              -94.8075,
              30.2871
             ],
             [
              -94.8072,
              30.2878
             ],
             [
              -94.8039,
              30.2898
             ],
             [
              -94.8018,
              30.292
             ],
             [
              -94.8002,
              30.2943
             ],
             [
              -94.7994,
              30.2948
             ],
             [
              -94.7964,
              30.2955
             ],
             [
              -94.792,
              30.2971
             ],
             [
              -94.7907,
              30.2989
             ],
             [
              -94.7522,
              30.2742
             ],
             [
              -94.749,
              30.2755
             ],
             [
              -94.7497,
              30.2783
             ],
             [
              -94.7487,
              30.2803
             ],
             [
              -94.7509,
              30.2838
             ],
             [
              -94.7543,
              30.2864
             ],
             [
              -94.7568,
              30.2881
             ],
             [
              -94.7556,
              30.289
             ],
             [
              -94.7562,
              30.2909
             ],
             [
              -94.7533,
              30.2909
             ],
             [
              -94.7541,
              30.2921
             ],
             [
              -94.7479,
              30.2921
             ],
             [
              -94.7485,
              30.2984
             ],
             [
              -94.7024,
              30.3085
             ],
             [
              -94.6981,
              30.3087
             ],
             [
              -94.6931,
              30.2726
             ],
             [
              -94.6934,
              30.2714
             ],
             [
              -94.6926,
              30.2692
             ],
             [
              -94.6914,
              30.2676
             ],
             [
              -94.6921,
              30.2653
             ],
             [
              -94.6913,
              30.2618
             ],
             [
              -94.6934,
              30.262
             ],
             [
              -94.6954,
              30.261
             ],
             [
              -94.6974,
              30.2609
             ],
             [
              -94.6989,
              30.2598
             ],
             [
              -94.6988,
              30.2472
             ],
             [
              -94.6955,
              30.2473
             ],
             [
              -94.6936,
              30.2427
             ],
             [
              -94.6991,
              30.2243
             ],
             [
              -94.7061,
              30.2244
             ],
             [
              -94.7079,
              30.2248
             ],
             [
              -94.7081,
              30.2282
             ],
             [
              -94.7174,
              30.2281
             ],
             [
              -94.7172,
              30.2211
             ],
             [
              -94.7175,
              30.2201
             ],
             [
              -94.7168,
              30.2174
             ],
             [
              -94.7175,
              30.2161
             ],
             [
              -94.7163,
              30.2137
             ],
             [
              -94.7167,
              30.2128
             ],
             [
              -94.7161,
              30.2088
             ],
             [
              -94.722,
              30.209
             ],
             [
              -94.7222,
              30.2138
             ],
             [
              -94.7244,
              30.2142
             ],
             [
              -94.7311,
              30.2139
             ],
             [
              -94.732,
              30.2117
             ],
             [
              -94.7348,
              30.2117
             ],
             [
              -94.7309,
              30.1769
             ],
             [
              -94.712,
              30.1802
             ],
             [
              -94.7108,
              30.1802
             ],
             [
              -94.711,
              30.1708
             ],
             [
              -94.7177,
              30.1705
             ],
             [
              -94.718,
              30.1549
             ],
             [
              -94.7076,
              30.154
             ],
             [
              -94.7055,
              30.1542
             ],
             [
              -94.701,
              30.1567
             ],
             [
              -94.7008,
              30.1556
             ],
             [
              -94.6996,
              30.1553
             ],
             [
              -94.6986,
              30.153
             ],
             [
              -94.6961,
              30.1507
             ],
             [
              -94.6955,
              30.1474
             ],
             [
              -94.6485,
              30.1431
             ],
             [
              -94.6486,
              30.1331
             ],
             [
              -94.6494,
              30.1328
             ],
             [
              -94.6539,
              30.1328
             ],
             [
              -94.6541,
              30.1346
             ],
             [
              -94.6566,
              30.1346
             ],
             [
              -94.6566,
              30.1326
             ],
             [
              -94.6557,
              30.1305
             ],
             [
              -94.6544,
              30.1305
             ],
             [
              -94.6544,
              30.1288
             ],
             [
              -94.6597,
              30.1296
             ],
             [
              -94.6645,
              30.1295
             ],
             [
              -94.6645,
              30.1281
             ],
             [
              -94.6626,
              30.1281
             ],
             [
              -94.6621,
              30.1271
             ],
             [
              -94.6573,
              30.1271
             ],
             [
              -94.6572,
              30.1255
             ],
             [
              -94.6616,
              30.1255
             ],
             [
              -94.6623,
              30.1221
             ],
             [
              -94.6647,
              30.1232
             ],
             [
              -94.6645,
              30.1183
             ],
             [
              -94.6615,
              30.1183
             ],
             [
              -94.6598,
              30.1119
             ],
             [
              -94.6535,
              30.1128
             ],
             [
              -94.6522,
              30.1063
             ],
             [
              -94.654,
              30.1051
             ],
             [
              -94.652,
              30.1036
             ],
             [
              -94.6517,
              30.1024
             ],
             [
              -94.653,
              30.1012
             ],
             [
              -94.6522,
              30.0999
             ],
             [
              -94.6547,
              30.0999
             ],
             [
              -94.657,
              30.097
             ],
             [
              -94.6564,
              30.0963
             ],
             [
              -94.6559,
              30.0957
             ],
             [
              -94.6489,
              30.0932
             ],
             [
              -94.6521,
              30.0869
             ],
             [
              -94.6488,
              30.0837
             ],
             [
              -94.6468,
              30.0837
             ],
             [
              -94.6445,
              30.0848
             ],
             [
              -94.6427,
              30.0845
             ],
             [
              -94.6379,
              30.0821
             ],
             [
              -94.6349,
              30.0815
             ],
             [
              -94.6318,
              30.0767
             ],
             [
              -94.6296,
              30.0744
             ],
             [
              -94.6267,
              30.077
             ],
             [
              -94.6254,
              30.0771
             ],
             [
              -94.6231,
              30.0757
             ],
             [
              -94.6227,
              30.074
             ],
             [
              -94.6194,
              30.072
             ],
             [
              -94.6171,
              30.0684
             ],
             [
              -94.6171,
              30.0662
             ],
             [
              -94.616,
              30.0655
             ],
             [
              -94.6142,
              30.0624
             ],
             [
              -94.609,
              30.0578
             ],
             [
              -94.6081,
              30.0578
             ],
             [
              -94.6056,
              30.0558
             ],
             [
              -94.6053,
              30.0546
             ],
             [
              -94.6155,
              30.0437
             ],
             [
              -94.6077,
              30.039
             ],
             [
              -94.6079,
              30.0327
             ],
             [
              -94.638,
              30.0373
             ],
             [
              -94.6252,
              30.0347
             ],
             [
              -94.6237,
              30.0322
             ],
             [
              -94.6178,
              30.0281
             ],
             [
              -94.6174,
              30.025
             ],
             [
              -94.6211,
              30.0245
             ],
             [
              -94.6258,
              30.0221
             ],
             [
              -94.6258,
              30.0194
             ],
             [
              -94.6302,
              30.0195
             ],
             [
              -94.6385,
              30.0208
             ],
             [
              -94.6386,
              30.0315
             ],
             [
              -94.6457,
              30.0314
             ],
             [
              -94.6484,
              30.0309
             ],
             [
              -94.6488,
              30.0265
             ],
             [
              -94.6494,
              30.0239
             ],
             [
              -94.6495,
              30.0175
             ],
             [
              -94.6544,
              30.0173
             ],
             [
              -94.6542,
              30.0141
             ],
             [
              -94.6482,
              30.0095
             ],
             [
              -94.6472,
              30.008
             ],
             [
              -94.6395,
              30.0079
             ],
             [
              -94.6395,
              29.9995
             ],
             [
              -94.6385,
              29.9979
             ],
             [
              -94.6366,
              29.9906
             ],
             [
              -94.6331,
              29.9891
             ],
             [
              -94.6314,
              29.9866
             ],
             [
              -94.6296,
              29.9855
             ],
             [
              -94.6394,
              29.9823
             ],
             [
              -94.6393,
              29.959
             ],
             [
              -94.636,
              29.9589
             ],
             [
              -94.6363,
              29.9448
             ],
             [
              -94.6448,
              29.9448
             ],
             [
              -94.6449,
              29.9398
             ],
             [
              -94.6374,
              29.9398
             ],
             [
              -94.6384,
              29.8888
             ],
             [
              -94.639,
              29.8884
             ],
             [
              -94.6599,
              29.8881
             ],
             [
              -94.6847,
              29.8878
             ],
             [
              -94.6831,
              29.882
             ],
             [
              -94.6894,
              29.8685
             ],
             [
              -94.6965,
              29.8683
             ],
             [
              -94.6962,
              29.8709
             ],
             [
              -94.6958,
              29.8877
             ],
             [
              -94.7389,
              29.8872
             ],
             [
              -94.7386,
              29.8889
             ],
             [
              -94.7392,
              29.8918
             ],
             [
              -94.7402,
              29.8924
             ],
             [
              -94.7415,
              29.8928
             ],
             [
              -94.745,
              29.8897
             ],
             [
              -94.7477,
              29.8896
             ],
             [
              -94.7487,
              29.8905
             ],
             [
              -94.7487,
              29.892
             ],
             [
              -94.7475,
              29.895
             ],
             [
              -94.7462,
              29.8969
             ],
             [
              -94.7453,
              29.8991
             ],
             [
              -94.745,
              29.9054
             ],
             [
              -94.7454,
              29.9076
             ],
             [
              -94.7468,
              29.9089
             ],
             [
              -94.7502,
              29.9087
             ],
             [
              -94.7517,
              29.907
             ],
             [
              -94.7541,
              29.9056
             ],
             [
              -94.7576,
              29.9057
             ],
             [
              -94.7611,
              29.9069
             ],
             [
              -94.7652,
              29.9056
             ],
             [
              -94.7676,
              29.9064
             ],
             [
              -94.7693,
              29.9086
             ],
             [
              -94.7691,
              29.912
             ],
             [
              -94.7672,
              29.9117
             ],
             [
              -94.7656,
              29.9094
             ],
             [
              -94.7629,
              29.9088
             ],
             [
              -94.7574,
              29.9102
             ],
             [
              -94.7556,
              29.9112
             ],
             [
              -94.7535,
              29.9135
             ],
             [
              -94.754,
              29.9155
             ],
             [
              -94.7548,
              29.9158
             ],
             [
              -94.7593,
              29.9141
             ],
             [
              -94.7618,
              29.9136
             ],
             [
              -94.7639,
              29.9141
             ],
             [
              -94.765,
              29.9153
             ],
             [
              -94.7654,
              29.9186
             ],
             [
              -94.7671,
              29.9212
             ],
             [
              -94.7697,
              29.9235
             ],
             [
              -94.7695,
              29.9258
             ],
             [
              -94.7663,
              29.9254
             ],
             [
              -94.7655,
              29.9279
             ],
             [
              -94.7634,
              29.9303
             ],
             [
              -94.7627,
              29.9334
             ],
             [
              -94.7643,
              29.9354
             ],
             [
              -94.7655,
              29.9359
             ],
             [
              -94.7674,
              29.9355
             ],
             [
              -94.7689,
              29.9334
             ],
             [
              -94.7712,
              29.9318
             ],
             [
              -94.7722,
              29.9331
             ],
             [
              -94.7719,
              29.9372
             ],
             [
              -94.7732,
              29.9405
             ],
             [
              -94.7746,
              29.941
             ],
             [
              -94.7765,
              29.9378
             ],
             [
              -94.7792,
              29.936
             ],
             [
              -94.7813,
              29.9367
             ],
             [
              -94.7838,
              29.9408
             ],
             [
              -94.7853,
              29.9421
             ],
             [
              -94.7871,
              29.9413
             ],
             [
              -94.7898,
              29.9454
             ],
             [
              -94.791,
              29.9454
             ],
             [
              -94.7924,
              29.943
             ],
             [
              -94.7947,
              29.943
             ],
             [
              -94.7936,
              29.9462
             ],
             [
              -94.7944,
              29.9477
             ],
             [
              -94.7982,
              29.9471
             ],
             [
              -94.7996,
              29.9475
             ],
             [
              -94.8029,
              29.9497
             ],
             [
              -94.8041,
              29.95
             ],
             [
              -94.8055,
              29.9485
             ],
             [
              -94.8048,
              29.9464
             ],
             [
              -94.8051,
              29.9433
             ],
             [
              -94.8078,
              29.9408
             ],
             [
              -94.8093,
              29.9405
             ],
             [
              -94.8108,
              29.9412
             ],
             [
              -94.8117,
              29.9461
             ],
             [
              -94.8131,
              29.9484
             ],
             [
              -94.8132,
              29.9518
             ],
             [
              -94.8127,
              29.9553
             ],
             [
              -94.8111,
              29.9559
             ],
             [
              -94.8094,
              29.9528
             ],
             [
              -94.8084,
              29.952
             ],
             [
              -94.8062,
              29.9525
             ],
             [
              -94.8057,
              29.9533
             ],
             [
              -94.8055,
              29.9555
             ],
             [
              -94.8068,
              29.958
             ],
             [
              -94.8089,
              29.9606
             ],
             [
              -94.8106,
              29.9647
             ],
             [
              -94.8101,
              29.9659
             ],
             [
              -94.8071,
              29.9644
             ],
             [
              -94.8054,
              29.9641
             ],
             [
              -94.8045,
              29.965
             ],
             [
              -94.8046,
              29.9661
             ],
             [
              -94.8068,
              29.968
             ],
             [
              -94.8087,
              29.9688
             ],
             [
              -94.813,
              29.9697
             ],
             [
              -94.8144,
              29.9714
             ],
             [
              -94.812,
              29.9747
             ],
             [
              -94.8119,
              29.9771
             ],
             [
              -94.8125,
              29.9802
             ],
             [
              -94.8122,
              29.9817
             ],
             [
              -94.8107,
              29.9829
             ],
             [
              -94.81,
              29.9843
             ],
             [
              -94.8105,
              29.9857
             ],
             [
              -94.8152,
              29.9887
             ],
             [
              -94.8167,
              29.99
             ],
             [
              -94.8172,
              29.9922
             ],
             [
              -94.8143,
              29.9945
             ],
             [
              -94.8128,
              29.997
             ],
             [
              -94.8107,
              30
             ],
             [
              -94.8098,
              30.0027
             ],
             [
              -94.8106,
              30.005
             ],
             [
              -94.8126,
              30.0057
             ],
             [
              -94.8159,
              30.005
             ],
             [
              -94.8192,
              30.0038
             ],
             [
              -94.821,
              30.0043
             ],
             [
              -94.8225,
              30.0058
             ],
             [
              -94.8227,
              30.0075
             ],
             [
              -94.8218,
              30.0082
             ],
             [
              -94.8187,
              30.0094
             ],
             [
              -94.8184,
              30.0105
             ],
             [
              -94.8212,
              30.0161
             ],
             [
              -94.8239,
              30.0174
             ],
             [
              -94.8243,
              30.0188
             ],
             [
              -94.8222,
              30.0204
             ],
             [
              -94.8222,
              30.0216
             ],
             [
              -94.8257,
              30.0247
             ],
             [
              -94.8269,
              30.0265
             ],
             [
              -94.827,
              30.0283
             ],
             [
              -94.8252,
              30.0315
             ],
             [
              -94.8241,
              30.0328
             ],
             [
              -94.8235,
              30.0351
             ],
             [
              -94.8264,
              30.0359
             ],
             [
              -94.828,
              30.0368
             ],
             [
              -94.8278,
              30.0389
             ],
             [
              -94.83,
              30.041
             ],
             [
              -94.8336,
              30.0466
             ],
             [
              -94.833,
              30.0492
             ],
             [
              -94.8301,
              30.055
             ],
             [
              -94.8299,
              30.0572
             ],
             [
              -94.8352,
              30.0566
             ],
             [
              -94.8351,
              30.0564
             ],
             [
              -94.8433,
              30.0552
             ],
             [
              -94.844,
              30.0557
             ],
             [
              -94.8478,
              30.0553
             ],
             [
              -94.8471,
              30.0582
             ],
             [
              -94.8461,
              30.0612
             ],
             [
              -94.847,
              30.0625
             ],
             [
              -94.8453,
              30.0629
             ],
             [
              -94.8455,
              30.0652
             ],
             [
              -94.848,
              30.066
             ],
             [
              -94.8484,
              30.0671
             ],
             [
              -94.8463,
              30.0687
             ],
             [
              -94.8443,
              30.0727
             ],
             [
              -94.8445,
              30.0745
             ],
             [
              -94.8437,
              30.0758
             ],
             [
              -94.8393,
              30.0783
             ],
             [
              -94.8371,
              30.0783
             ],
             [
              -94.8362,
              30.0797
             ],
             [
              -94.8347,
              30.08
             ],
             [
              -94.8322,
              30.0814
             ],
             [
              -94.8321,
              30.0856
             ],
             [
              -94.8304,
              30.0864
             ],
             [
              -94.829,
              30.0881
             ],
             [
              -94.8271,
              30.088
             ],
             [
              -94.8274,
              30.0908
             ],
             [
              -94.8258,
              30.0937
             ],
             [
              -94.8247,
              30.0975
             ],
             [
              -94.8209,
              30.0976
             ],
             [
              -94.8206,
              30.0996
             ],
             [
              -94.8181,
              30.1011
             ],
             [
              -94.8133,
              30.1023
             ],
             [
              -94.8117,
              30.1039
             ],
             [
              -94.8129,
              30.1067
             ],
             [
              -94.8148,
              30.1086
             ],
             [
              -94.8152,
              30.1107
             ],
             [
              -94.8143,
              30.1117
             ],
             [
              -94.8103,
              30.1137
             ],
             [
              -94.8042,
              30.1144
             ],
             [
              -94.8037,
              30.1152
             ],
             [
              -94.8037,
              30.1169
             ],
             [
              -94.8053,
              30.1187
             ],
             [
              -94.8074,
              30.1183
             ],
             [
              -94.8105,
              30.1156
             ],
             [
              -94.8121,
              30.1148
             ],
             [
              -94.8149,
              30.1144
             ],
             [
              -94.8164,
              30.1158
             ],
             [
              -94.8169,
              30.1176
             ],
             [
              -94.8164,
              30.1204
             ],
             [
              -94.8165,
              30.1225
             ],
             [
              -94.8173,
              30.1229
             ],
             [
              -94.821,
              30.1216
             ],
             [
              -94.8232,
              30.1221
             ],
             [
              -94.8254,
              30.1258
             ],
             [
              -94.8274,
              30.1281
             ],
             [
              -94.827,
              30.1294
             ],
             [
              -94.8255,
              30.1298
             ],
             [
              -94.82,
              30.1294
             ],
             [
              -94.8157,
              30.1278
             ],
             [
              -94.8131,
              30.1281
             ],
             [
              -94.8121,
              30.1287
             ],
             [
              -94.8115,
              30.1313
             ],
             [
              -94.8122,
              30.1324
             ],
             [
              -94.8143,
              30.133
             ],
             [
              -94.818,
              30.1327
             ],
             [
              -94.8199,
              30.1329
             ],
             [
              -94.8214,
              30.1344
             ],
             [
              -94.8216,
              30.1354
             ],
             [
              -94.8205,
              30.1366
             ],
             [
              -94.8179,
              30.1371
             ],
             [
              -94.8144,
              30.1372
             ],
             [
              -94.8124,
              30.1377
             ],
             [
              -94.8092,
              30.139
             ],
             [
              -94.807,
              30.1409
             ],
             [
              -94.8065,
              30.1439
             ],
             [
              -94.808,
              30.1482
             ],
             [
              -94.8107,
              30.1508
             ],
             [
              -94.8116,
              30.1524
             ],
             [
              -94.8109,
              30.1579
             ],
             [
              -94.81,
              30.1621
             ],
             [
              -94.8113,
              30.1671
             ],
             [
              -94.8128,
              30.1683
             ],
             [
              -94.8152,
              30.1678
             ],
             [
              -94.8196,
              30.166
             ],
             [
              -94.8235,
              30.1661
             ],
             [
              -94.8282,
              30.1694
             ],
             [
              -94.8293,
              30.171
             ],
             [
              -94.8304,
              30.1775
             ],
             [
              -94.8341,
              30.1827
             ],
             [
              -94.8365,
              30.1846
             ],
             [
              -94.8411,
              30.1864
             ],
             [
              -94.8433,
              30.1866
             ],
             [
              -94.8471,
              30.1863
             ],
             [
              -94.8496,
              30.1871
             ],
             [
              -94.8506,
              30.1895
             ]
            ],
            [
             [
              -94.742,
              30.1775
             ],
             [
              -94.7398,
              30.1681
             ],
             [
              -94.7396,
              30.1639
             ],
             [
              -94.7372,
              30.1591
             ],
             [
              -94.7292,
              30.159
             ],
             [
              -94.7296,
              30.167
             ],
             [
              -94.7392,
              30.1754
             ],
             [
              -94.7398,
              30.178
             ],
             [
              -94.742,
              30.1775
             ]
            ]
           ]
          ],
          "type": "MultiPolygon"
         },
         "properties": {
          "AFFGEOID10": "8600000US77575",
          "ALAND10": 619991214,
          "AWATER10": 17419213,
          "GEOID10": "77575",
          "ZCTA5CE10": "77575"
         },
         "type": "Feature"
        },
        {
         "geometry": {
          "coordinates": [
           [
            [
             [
              -95.9693,
              30.1929
             ],
             [
              -95.9626,
              30.193
             ],
             [
              -95.9619,
              30.1965
             ],
             [
              -95.95,
              30.1967
             ],
             [
              -95.9496,
              30.1749
             ],
             [
              -95.9692,
              30.1746
             ],
             [
              -95.9697,
              30.1874
             ],
             [
              -95.9693,
              30.1929
             ]
            ]
           ],
           [
            [
             [
              -96.0053,
              30.0818
             ],
             [
              -96.0043,
              30.0835
             ],
             [
              -96.0011,
              30.082
             ],
             [
              -95.9953,
              30.0805
             ],
             [
              -95.991,
              30.0804
             ],
             [
              -95.9917,
              30.0776
             ],
             [
              -95.9931,
              30.078
             ],
             [
              -95.9935,
              30.0762
             ],
             [
              -95.9945,
              30.0739
             ],
             [
              -95.9987,
              30.0747
             ],
             [
              -95.9989,
              30.077
             ],
             [
              -96.0018,
              30.0775
             ],
             [
              -96.0009,
              30.0747
             ],
             [
              -96.0052,
              30.0758
             ],
             [
              -96.0053,
              30.0818
             ]
            ]
           ],
           [
            [
             [
              -96.1918,
              30.1384
             ],
             [
              -96.1902,
              30.1402
             ],
             [
              -96.1878,
              30.1417
             ],
             [
              -96.1861,
              30.1419
             ],
             [
              -96.1818,
              30.1409
             ],
             [
              -96.1791,
              30.1388
             ],
             [
              -96.1759,
              30.1377
             ],
             [
              -96.1744,
              30.1378
             ],
             [
              -96.1726,
              30.1386
             ],
             [
              -96.1718,
              30.1398
             ],
             [
              -96.1719,
              30.1412
             ],
             [
              -96.1746,
              30.1437
             ],
             [
              -96.1782,
              30.145
             ],
             [
              -96.1819,
              30.1481
             ],
             [
              -96.1832,
              30.1507
             ],
             [
              -96.1832,
              30.1524
             ],
             [
              -96.1825,
              30.154
             ],
             [
              -96.1807,
              30.1557
             ],
             [
              -96.1787,
              30.1558
             ],
             [
              -96.1763,
              30.1548
             ],
             [
              -96.1726,
              30.1516
             ],
             [
              -96.1684,
              30.1492
             ],
             [
              -96.1645,
              30.1466
             ],
             [
              -96.1606,
              30.1431
             ],
             [
              -96.1569,
              30.1414
             ],
             [
              -96.1549,
              30.1414
             ],
             [
              -96.1525,
              30.1431
             ],
             [
              -96.1511,
              30.1469
             ],
             [
              -96.1511,
              30.1499
             ],
             [
              -96.1504,
              30.1521
             ],
             [
              -96.1501,
              30.1554
             ],
             [
              -96.1534,
              30.1595
             ],
             [
              -96.1573,
              30.1606
             ],
             [
              -96.16,
              30.1618
             ],
             [
              -96.162,
              30.1649
             ],
             [
              -96.1609,
              30.1686
             ],
             [
              -96.1568,
              30.1713
             ],
             [
              -96.1552,
              30.1732
             ],
             [
              -96.1546,
              30.1771
             ],
             [
              -96.1566,
              30.1789
             ],
             [
              -96.1592,
              30.1804
             ],
             [
              -96.1598,
              30.1832
             ],
             [
              -96.1573,
              30.1881
             ],
             [
              -96.1572,
              30.1903
             ],
             [
              -96.1585,
              30.1926
             ],
             [
              -96.1591,
              30.1959
             ],
             [
              -96.1583,
              30.1992
             ],
             [
              -96.1591,
              30.2013
             ],
             [
              -96.1593,
              30.2034
             ],
             [
              -96.159,
              30.2066
             ],
             [
              -96.1516,
              30.2115
             ],
             [
              -96.1499,
              30.213
             ],
             [
              -96.1485,
              30.2166
             ],
             [
              -96.1474,
              30.218
             ],
             [
              -96.1451,
              30.2186
             ],
             [
              -96.1435,
              30.2168
             ],
             [
              -96.1419,
              30.2139
             ],
             [
              -96.1402,
              30.2122
             ],
             [
              -96.1363,
              30.2108
             ],
             [
              -96.134,
              30.2106
             ],
             [
              -96.1301,
              30.2108
             ],
             [
              -96.1282,
              30.2116
             ],
             [
              -96.118,
              30.2242
             ],
             [
              -96.1172,
              30.2273
             ],
             [
              -96.1148,
              30.2279
             ],
             [
              -96.1137,
              30.2272
             ],
             [
              -96.111,
              30.2223
             ],
             [
              -96.1094,
              30.2199
             ],
             [
              -96.1034,
              30.2166
             ],
             [
              -96.0989,
              30.2145
             ],
             [
              -96.0967,
              30.2149
             ],
             [
              -96.0931,
              30.2204
             ],
             [
              -96.0927,
              30.2236
             ],
             [
              -96.0932,
              30.2252
             ],
             [
              -96.0915,
              30.226
             ],
             [
              -96.0899,
              30.2274
             ],
             [
              -96.0889,
              30.2287
             ],
             [
              -96.0728,
              30.2295
             ],
             [
              -96.0693,
              30.23
             ],
             [
              -96.0048,
              30.2337
             ],
             [
              -96.0041,
              30.2118
             ],
             [
              -96.0028,
              30.2133
             ],
             [
              -96.0017,
              30.2135
             ],
             [
              -95.9884,
              30.214
             ],
             [
              -95.9872,
              30.2144
             ],
             [
              -95.9853,
              30.2171
             ],
             [
              -95.9855,
              30.2271
             ],
             [
              -95.9951,
              30.2273
             ],
             [
              -95.9954,
              30.2343
             ],
             [
              -95.9538,
              30.237
             ],
             [
              -95.9503,
              30.2369
             ],
             [
              -95.9485,
              30.2336
             ],
             [
              -95.9436,
              30.2267
             ],
             [
              -95.9418,
              30.2236
             ],
             [
              -95.9415,
              30.2222
             ],
             [
              -95.9413,
              30.2141
             ],
             [
              -95.9492,
              30.2139
             ],
             [
              -95.9541,
              30.2154
             ],
             [
              -95.9607,
              30.2154
             ],
             [
              -95.9643,
              30.2171
             ],
             [
              -95.9653,
              30.2172
             ],
             [
              -95.9746,
              30.2171
             ],
             [
              -95.9777,
              30.218
             ],
             [
              -95.9823,
              30.218
             ],
             [
              -95.9823,
              30.2151
             ],
             [
              -95.9846,
              30.2124
             ],
             [
              -95.9852,
              30.211
             ],
             [
              -95.9849,
              30.1926
             ],
             [
              -95.9896,
              30.1924
             ],
             [
              -95.9902,
              30.1909
             ],
             [
              -95.9956,
              30.1908
             ],
             [
              -95.9955,
              30.1873
             ],
             [
              -95.9951,
              30.1857
             ],
             [
              -95.9951,
              30.1787
             ],
             [
              -95.9919,
              30.1788
             ],
             [
              -95.9894,
              30.1849
             ],
             [
              -95.9892,
              30.1878
             ],
             [
              -95.9748,
              30.1733
             ],
             [
              -95.9692,
              30.1735
             ],
             [
              -95.9688,
              30.1652
             ],
             [
              -95.9681,
              30.1646
             ],
             [
              -95.9632,
              30.1645
             ],
             [
              -95.9607,
              30.1634
             ],
             [
              -95.9574,
              30.1537
             ],
             [
              -95.9571,
              30.1446
             ],
             [
              -95.956,
              30.1446
             ],
             [
              -95.9513,
              30.1269
             ],
             [
              -95.9505,
              30.1254
             ],
             [
              -95.9531,
              30.1253
             ],
             [
              -95.9543,
              30.1232
             ],
             [
              -95.9551,
              30.1194
             ],
             [
              -95.9581,
              30.1187
             ],
             [
              -95.9586,
              30.12
             ],
             [
              -95.9616,
              30.1202
             ],
             [
              -95.9623,
              30.1188
             ],
             [
              -95.9617,
              30.1175
             ],
             [
              -95.9651,
              30.1158
             ],
             [
              -95.9675,
              30.1136
             ],
             [
              -95.969,
              30.1134
             ],
             [
              -95.9724,
              30.1112
             ],
             [
              -95.9745,
              30.1122
             ],
             [
              -95.9762,
              30.1122
             ],
             [
              -95.976,
              30.1107
             ],
             [
              -95.9777,
              30.1102
             ],
             [
              -95.9794,
              30.1072
             ],
             [
              -95.9838,
              30.1053
             ],
             [
              -95.9844,
              30.1042
             ],
             [
              -95.9838,
              30.1016
             ],
             [
              -95.9865,
              30.1016
             ],
             [
              -95.9872,
              30.103
             ],
             [
              -95.9899,
              30.1045
             ],
             [
              -95.9908,
              30.103
             ],
             [
              -95.9977,
              30.1022
             ],
             [
              -96.0044,
              30.1026
             ],
             [
              -96.0068,
              30.1028
             ],
             [
              -96.0105,
              30.1043
             ],
             [
              -96.0163,
              30.1045
             ],
             [
              -96.0187,
              30.1049
             ],
             [
              -96.0214,
              30.1062
             ],
             [
              -96.021,
              30.0905
             ],
             [
              -96.0166,
              30.0897
             ],
             [
              -96.0127,
              30.0879
             ],
             [
              -96.0127,
              30.0772
             ],
             [
              -96.0137,
              30.0773
             ],
             [
              -96.0138,
              30.0762
             ],
             [
              -96.0138,
              30.0729
             ],
             [
              -96.0106,
              30.0714
             ],
             [
              -96.0044,
              30.0715
             ],
             [
              -96.0045,
              30.0739
             ],
             [
              -96.0107,
              30.0733
             ],
             [
              -96.013,
              30.0738
             ],
             [
              -96.013,
              30.0748
             ],
             [
              -96.0107,
              30.0742
             ],
             [
              -96.0107,
              30.0765
             ],
             [
              -96.0107,
              30.0767
             ],
             [
              -95.9927,
              30.0721
             ],
             [
              -95.9927,
              30.0715
             ],
             [
              -95.9949,
              30.0715
             ],
             [
              -95.9948,
              30.0676
             ],
             [
              -95.9953,
              30.0665
             ],
             [
              -95.9971,
              30.0653
             ],
             [
              -95.9965,
              30.0628
             ],
             [
              -96.0105,
              30.065
             ],
             [
              -96.0102,
              30.0585
             ],
             [
              -95.9982,
              30.0588
             ],
             [
              -95.9966,
              30.0585
             ],
             [
              -95.9928,
              30.0601
             ],
             [
              -95.9926,
              30.0577
             ],
             [
              -95.9903,
              30.055
             ],
             [
              -95.9897,
              30.0537
             ],
             [
              -95.9896,
              30.0468
             ],
             [
              -95.9901,
              30.0437
             ],
             [
              -95.9897,
              30.0216
             ],
             [
              -96.0009,
              30.0217
             ],
             [
              -96.0014,
              30.0225
             ],
             [
              -96.0019,
              30.0405
             ],
             [
              -96.0025,
              30.0414
             ],
             [
              -96.0032,
              30.0415
             ],
             [
              -96.0182,
              30.0412
             ],
             [
              -96.0195,
              30.0419
             ],
             [
              -96.0199,
              30.0582
             ],
             [
              -96.0376,
              30.0578
             ],
             [
              -96.0382,
              30.0414
             ],
             [
              -96.037,
              30.0364
             ],
             [
              -96.036,
              30.0295
             ],
             [
              -96.0367,
              30.0209
             ],
             [
              -96.0362,
              30.0102
             ],
             [
              -96.0239,
              30.0104
             ],
             [
              -96.0109,
              29.9539
             ],
             [
              -96.011,
              29.9477
             ],
             [
              -96.0108,
              29.9409
             ],
             [
              -96.0314,
              29.9406
             ],
             [
              -96.0327,
              29.9406
             ],
             [
              -96.0141,
              29.8959
             ],
             [
              -96.0305,
              29.8955
             ],
             [
              -96.0308,
              29.9074
             ],
             [
              -96.0361,
              29.9074
             ],
             [
              -96.0358,
              29.9154
             ],
             [
              -96.036,
              29.9397
             ],
             [
              -96.0538,
              29.934
             ],
             [
              -96.0539,
              29.9363
             ],
             [
              -96.072,
              29.9355
             ],
             [
              -96.0718,
              29.9237
             ],
             [
              -96.0596,
              29.9238
             ],
             [
              -96.0601,
              29.9223
             ],
             [
              -96.0631,
              29.9195
             ],
             [
              -96.062,
              29.9156
             ],
             [
              -96.0621,
              29.913
             ],
             [
              -96.0608,
              29.9124
             ],
             [
              -96.0664,
              29.9123
             ],
             [
              -96.0661,
              29.9054
             ],
             [
              -96.0682,
              29.905
             ],
             [
              -96.0681,
              29.8995
             ],
             [
              -96.0668,
              29.8988
             ],
             [
              -96.0664,
              29.8884
             ],
             [
              -96.0755,
              29.8881
             ],
             [
              -96.0755,
              29.89
             ],
             [
              -96.0724,
              29.89
             ],
             [
              -96.0724,
              29.8963
             ],
             [
              -96.0758,
              29.8963
             ],
             [
              -96.0766,
              29.8971
             ],
             [
              -96.0789,
              29.8962
             ],
             [
              -96.0837,
              29.8956
             ],
             [
              -96.0843,
              29.8982
             ],
             [
              -96.0855,
              29.9005
             ],
             [
              -96.0856,
              29.9022
             ],
             [
              -96.0832,
              29.9039
             ],
             [
              -96.0842,
              29.9071
             ],
             [
              -96.0843,
              29.9098
             ],
             [
              -96.083,
              29.9124
             ],
             [
              -96.0832,
              29.9134
             ],
             [
              -96.1065,
              29.916
             ],
             [
              -96.1098,
              29.9159
             ],
             [
              -96.1133,
              29.9153
             ],
             [
              -96.1163,
              29.9212
             ],
             [
              -96.119,
              29.9275
             ],
             [
              -96.1197,
              29.9285
             ],
             [
              -96.1226,
              29.9292
             ],
             [
              -96.1252,
              29.9305
             ],
             [
              -96.1286,
              29.9315
             ],
             [
              -96.1312,
              29.9337
             ],
             [
              -96.1317,
              29.9367
             ],
             [
              -96.1306,
              29.9396
             ],
             [
              -96.1275,
              29.9425
             ],
             [
              -96.1255,
              29.9449
             ],
             [
              -96.1243,
              29.948
             ],
             [
              -96.1229,
              29.949
             ],
             [
              -96.1215,
              29.9492
             ],
             [
              -96.1156,
              29.9465
             ],
             [
              -96.1131,
              29.9431
             ],
             [
              -96.1084,
              29.9406
             ],
             [
              -96.1066,
              29.9403
             ],
             [
              -96.1031,
              29.9404
             ],
             [
              -96.1014,
              29.9414
             ],
             [
              -96.1008,
              29.9435
             ],
             [
              -96.1035,
              29.9466
             ],
             [
              -96.1037,
              29.9482
             ],
             [
              -96.1031,
              29.9497
             ],
             [
              -96.1038,
              29.9524
             ],
             [
              -96.1064,
              29.9555
             ],
             [
              -96.1093,
              29.9559
             ],
             [
              -96.1141,
              29.9556
             ],
             [
              -96.118,
              29.9549
             ],
             [
              -96.1195,
              29.955
             ],
             [
              -96.1218,
              29.9565
             ],
             [
              -96.1241,
              29.959
             ],
             [
              -96.126,
              29.9638
             ],
             [
              -96.126,
              29.965
             ],
             [
              -96.1242,
              29.9681
             ],
             [
              -96.1228,
              29.9685
             ],
             [
              -96.1201,
              29.9671
             ],
             [
              -96.1173,
              29.9646
             ],
             [
              -96.1144,
              29.9625
             ],
             [
              -96.111,
              29.9617
             ],
             [
              -96.1077,
              29.9593
             ],
             [
              -96.1053,
              29.9592
             ],
             [
              -96.1039,
              29.96
             ],
             [
              -96.1035,
              29.9614
             ],
             [
              -96.099,
              29.9611
             ],
             [
              -96.0969,
              29.9598
             ],
             [
              -96.0949,
              29.9598
             ],
             [
              -96.0928,
              29.9615
             ],
             [
              -96.093,
              29.9632
             ],
             [
              -96.0947,
              29.9643
             ],
             [
              -96.098,
              29.9651
             ],
             [
              -96.1011,
              29.9662
             ],
             [
              -96.1029,
              29.9678
             ],
             [
              -96.1004,
              29.9716
             ],
             [
              -96.096,
              29.9767
             ],
             [
              -96.0957,
              29.9781
             ],
             [
              -96.1003,
              29.9838
             ],
             [
              -96.102,
              29.9866
             ],
             [
              -96.103,
              29.9896
             ],
             [
              -96.1034,
              29.9938
             ],
             [
              -96.1045,
              29.9964
             ],
             [
              -96.1027,
              30.0002
             ],
             [
              -96.1015,
              30.0037
             ],
             [
              -96.0997,
              30.0043
             ],
             [
              -96.0984,
              30.004
             ],
             [
              -96.0963,
              30.0018
             ],
             [
              -96.0936,
              29.9994
             ],
             [
              -96.0908,
              29.9983
             ],
             [
              -96.0892,
              29.9986
             ],
             [
              -96.0863,
              29.9999
             ],
             [
              -96.0848,
              30.0019
             ],
             [
              -96.0845,
              30.0051
             ],
             [
              -96.0905,
              30.014
             ],
             [
              -96.0922,
              30.0179
             ],
             [
              -96.0947,
              30.0254
             ],
             [
              -96.0966,
              30.0276
             ],
             [
              -96.0999,
              30.0282
             ],
             [
              -96.103,
              30.0257
             ],
             [
              -96.1047,
              30.0251
             ],
             [
              -96.1083,
              30.0248
             ],
             [
              -96.1121,
              30.0261
             ],
             [
              -96.1132,
              30.027
             ],
             [
              -96.1128,
              30.0295
             ],
             [
              -96.1087,
              30.032
             ],
             [
              -96.1077,
              30.0333
             ],
             [
              -96.1071,
              30.0361
             ],
             [
              -96.1075,
              30.0386
             ],
             [
              -96.1096,
              30.0425
             ],
             [
              -96.112,
              30.0463
             ],
             [
              -96.1147,
              30.0488
             ],
             [
              -96.1172,
              30.0501
             ],
             [
              -96.1218,
              30.0509
             ],
             [
              -96.1267,
              30.0533
             ],
             [
              -96.1299,
              30.0543
             ],
             [
              -96.1347,
              30.0554
             ],
             [
              -96.1389,
              30.0569
             ],
             [
              -96.1406,
              30.0582
             ],
             [
              -96.1464,
              30.0645
             ],
             [
              -96.1463,
              30.0658
             ],
             [
              -96.1441,
              30.0669
             ],
             [
              -96.1442,
              30.0678
             ],
             [
              -96.1461,
              30.0702
             ],
             [
              -96.15,
              30.0717
             ],
             [
              -96.1513,
              30.0734
             ],
             [
              -96.1519,
              30.0752
             ],
             [
              -96.1512,
              30.0764
             ],
             [
              -96.1491,
              30.0766
             ],
             [
              -96.1463,
              30.0749
             ],
             [
              -96.1429,
              30.0709
             ],
             [
              -96.137,
              30.067
             ],
             [
              -96.1347,
              30.0675
             ],
             [
              -96.1336,
              30.069
             ],
             [
              -96.1338,
              30.071
             ],
             [
              -96.1354,
              30.0732
             ],
             [
              -96.1397,
              30.0756
             ],
             [
              -96.1409,
              30.0768
             ],
             [
              -96.1413,
              30.0788
             ],
             [
              -96.1412,
              30.0812
             ],
             [
              -96.1416,
              30.0832
             ],
             [
              -96.1435,
              30.085
             ],
             [
              -96.1453,
              30.0852
             ],
             [
              -96.1505,
              30.0847
             ],
             [
              -96.1521,
              30.085
             ],
             [
              -96.1543,
              30.0865
             ],
             [
              -96.1584,
              30.0917
             ],
             [
              -96.1592,
              30.0941
             ],
             [
              -96.159,
              30.097
             ],
             [
              -96.1577,
              30.0983
             ],
             [
              -96.1562,
              30.0988
             ],
             [
              -96.1526,
              30.1025
             ],
             [
              -96.1525,
              30.1042
             ],
             [
              -96.1533,
              30.1072
             ],
             [
              -96.154,
              30.108
             ],
             [
              -96.155,
              30.1085
             ],
             [
              -96.1577,
              30.1085
             ],
             [
              -96.1603,
              30.1081
             ],
             [
              -96.1624,
              30.1035
             ],
             [
              -96.1643,
              30.1012
             ],
             [
              -96.1681,
              30.099
             ],
             [
              -96.1699,
              30.0988
             ],
             [
              -96.1728,
              30.0993
             ],
             [
              -96.1736,
              30.1
             ],
             [
              -96.1747,
              30.1027
             ],
             [
              -96.1714,
              30.1081
             ],
             [
              -96.1719,
              30.1101
             ],
             [
              -96.175,
              30.1124
             ],
             [
              -96.1835,
              30.1092
             ],
             [
              -96.1861,
              30.1093
             ],
             [
              -96.1887,
              30.1105
             ],
             [
              -96.1911,
              30.1139
             ],
             [
              -96.1917,
              30.1152
             ],
             [
              -96.1912,
              30.1176
             ],
             [
              -96.1898,
              30.1185
             ],
             [
              -96.1874,
              30.1186
             ],
             [
              -96.183,
              30.1171
             ],
             [
              -96.1798,
              30.1174
             ],
             [
              -96.1789,
              30.1184
             ],
             [
              -96.1789,
              30.1209
             ],
             [
              -96.1799,
              30.123
             ],
             [
              -96.1824,
              30.1252
             ],
             [
              -96.1846,
              30.1266
             ],
             [
              -96.187,
              30.129
             ],
             [
              -96.1883,
              30.132
             ],
             [
              -96.1914,
              30.1347
             ],
             [
              -96.1922,
              30.1367
             ],
             [
              -96.1918,
              30.1384
             ]
            ]
           ]
          ],
          "type": "MultiPolygon"
         },
         "properties": {
          "AFFGEOID10": "8600000US77445",
          "ALAND10": 458544625,
          "AWATER10": 7003639,
          "GEOID10": "77445",
          "ZCTA5CE10": "77445"
         },
         "type": "Feature"
        },
        {
         "geometry": {
          "coordinates": [
           [
            [
             [
              -95.0082,
              29.5211
             ],
             [
              -95.0053,
              29.523
             ],
             [
              -95.0019,
              29.5252
             ],
             [
              -94.9947,
              29.5198
             ],
             [
              -94.9896,
              29.5169
             ],
             [
              -94.982,
              29.5132
             ],
             [
              -94.9765,
              29.5113
             ],
             [
              -94.9599,
              29.507
             ],
             [
              -94.9588,
              29.5065
             ],
             [
              -94.9594,
              29.5052
             ],
             [
              -94.961,
              29.5036
             ],
             [
              -94.9639,
              29.5035
             ],
             [
              -94.9654,
              29.5024
             ],
             [
              -94.9671,
              29.5022
             ],
             [
              -94.9683,
              29.5006
             ],
             [
              -94.9708,
              29.5018
             ],
             [
              -94.9891,
              29.4896
             ],
             [
              -94.9844,
              29.4825
             ],
             [
              -94.9855,
              29.4823
             ],
             [
              -94.9905,
              29.491
             ],
             [
              -94.9951,
              29.4988
             ],
             [
              -95.0037,
              29.5133
             ],
             [
              -95.0039,
              29.5132
             ],
             [
              -95.0115,
              29.5261
             ],
             [
              -95.0082,
              29.5211
             ]
            ]
           ]
          ],
          "type": "MultiPolygon"
         },
         "properties": {
          "AFFGEOID10": "8600000US77518",
          "ALAND10": 7509514,
          "AWATER10": 47494,
          "GEOID10": "77518",
          "ZCTA5CE10": "77518"
         },
         "type": "Feature"
        },
        {
         "geometry": {
          "coordinates": [
           [
            [
             [
              -95.416,
              29.5117
             ],
             [
              -95.4076,
              29.5119
             ],
             [
              -95.4076,
              29.5082
             ],
             [
              -95.4158,
              29.5081
             ],
             [
              -95.416,
              29.5117
             ]
            ]
           ],
           [
            [
             [
              -95.5908,
              29.3275
             ],
             [
              -95.5894,
              29.3305
             ],
             [
              -95.5891,
              29.3346
             ],
             [
              -95.5872,
              29.3369
             ],
             [
              -95.5812,
              29.3391
             ],
             [
              -95.5796,
              29.3401
             ],
             [
              -95.5788,
              29.3421
             ],
             [
              -95.5792,
              29.3437
             ],
             [
              -95.5813,
              29.3462
             ],
             [
              -95.5826,
              29.3486
             ],
             [
              -95.5821,
              29.3515
             ],
             [
              -95.5803,
              29.3525
             ],
             [
              -95.5761,
              29.3529
             ],
             [
              -95.5748,
              29.3535
             ],
             [
              -95.5739,
              29.3555
             ],
             [
              -95.574,
              29.3564
             ],
             [
              -95.5755,
              29.3579
             ],
             [
              -95.5805,
              29.3609
             ],
             [
              -95.5808,
              29.3621
             ],
             [
              -95.5799,
              29.3635
             ],
             [
              -95.5779,
              29.3651
             ],
             [
              -95.5771,
              29.3681
             ],
             [
              -95.5759,
              29.3718
             ],
             [
              -95.5757,
              29.3759
             ],
             [
              -95.5746,
              29.3776
             ],
             [
              -95.5723,
              29.3838
             ],
             [
              -95.5667,
              29.3902
             ],
             [
              -95.5656,
              29.3908
             ],
             [
              -95.5629,
              29.3911
             ],
             [
              -95.5589,
              29.3905
             ],
             [
              -95.5562,
              29.3915
             ],
             [
              -95.553,
              29.3935
             ],
             [
              -95.5476,
              29.3952
             ],
             [
              -95.5472,
              29.3971
             ],
             [
              -95.5489,
              29.3994
             ],
             [
              -95.5499,
              29.4026
             ],
             [
              -95.5491,
              29.4038
             ],
             [
              -95.5469,
              29.4051
             ],
             [
              -95.5458,
              29.4077
             ],
             [
              -95.547,
              29.4106
             ],
             [
              -95.5489,
              29.4135
             ],
             [
              -95.5496,
              29.4154
             ],
             [
              -95.5519,
              29.4196
             ],
             [
              -95.556,
              29.4228
             ],
             [
              -95.5564,
              29.4246
             ],
             [
              -95.5559,
              29.4253
             ],
             [
              -95.5528,
              29.4273
             ],
             [
              -95.5518,
              29.4288
             ],
             [
              -95.5513,
              29.4319
             ],
             [
              -95.5501,
              29.4352
             ],
             [
              -95.5499,
              29.4372
             ],
             [
              -95.5506,
              29.4383
             ],
             [
              -95.5501,
              29.4412
             ],
             [
              -95.5475,
              29.4434
             ],
             [
              -95.5446,
              29.4443
             ],
             [
              -95.5425,
              29.4437
             ],
             [
              -95.5416,
              29.4427
             ],
             [
              -95.5411,
              29.4397
             ],
             [
              -95.5388,
              29.4385
             ],
             [
              -95.5372,
              29.4387
             ],
             [
              -95.5357,
              29.4396
             ],
             [
              -95.5347,
              29.4406
             ],
             [
              -95.534,
              29.4425
             ],
             [
              -95.5339,
              29.4488
             ],
             [
              -95.533,
              29.4584
             ],
             [
              -95.5319,
              29.4588
             ],
             [
              -95.5311,
              29.4559
             ],
             [
              -95.5269,
              29.4564
             ],
             [
              -95.4991,
              29.4575
             ],
             [
              -95.4996,
              29.4596
             ],
             [
              -95.4925,
              29.4596
             ],
             [
              -95.4943,
              29.4658
             ],
             [
              -95.4964,
              29.4655
             ],
             [
              -95.4989,
              29.4642
             ],
             [
              -95.4983,
              29.4666
             ],
             [
              -95.4957,
              29.4674
             ],
             [
              -95.4941,
              29.4671
             ],
             [
              -95.4901,
              29.465
             ],
             [
              -95.488,
              29.4654
             ],
             [
              -95.485,
              29.4646
             ],
             [
              -95.4834,
              29.4658
             ],
             [
              -95.4821,
              29.4657
             ],
             [
              -95.4806,
              29.4638
             ],
             [
              -95.479,
              29.4637
             ],
             [
              -95.4771,
              29.4646
             ],
             [
              -95.4765,
              29.4659
             ],
             [
              -95.4767,
              29.4678
             ],
             [
              -95.4757,
              29.4704
             ],
             [
              -95.4765,
              29.4716
             ],
             [
              -95.4804,
              29.4723
             ],
             [
              -95.4845,
              29.4709
             ],
             [
              -95.4868,
              29.4708
             ],
             [
              -95.4876,
              29.4741
             ],
             [
              -95.4894,
              29.4739
             ],
             [
              -95.4921,
              29.4759
             ],
             [
              -95.4938,
              29.476
             ],
             [
              -95.4967,
              29.4752
             ],
             [
              -95.4954,
              29.4766
             ],
             [
              -95.4809,
              29.477
             ],
             [
              -95.4729,
              29.479
             ],
             [
              -95.4724,
              29.4806
             ],
             [
              -95.4713,
              29.4831
             ],
             [
              -95.4708,
              29.4831
             ],
             [
              -95.4676,
              29.4914
             ],
             [
              -95.4686,
              29.4917
             ],
             [
              -95.4793,
              29.4916
             ],
             [
              -95.4793,
              29.4934
             ],
             [
              -95.4893,
              29.4933
             ],
             [
              -95.4893,
              29.4913
             ],
             [
              -95.493,
              29.4913
             ],
             [
              -95.4943,
              29.4913
             ],
             [
              -95.4958,
              29.494
             ],
             [
              -95.4951,
              29.4971
             ],
             [
              -95.4918,
              29.4982
             ],
             [
              -95.4915,
              29.5014
             ],
             [
              -95.4921,
              29.5018
             ],
             [
              -95.4946,
              29.5022
             ],
             [
              -95.4945,
              29.5032
             ],
             [
              -95.4956,
              29.5037
             ],
             [
              -95.495,
              29.5026
             ],
             [
              -95.501,
              29.5005
             ],
             [
              -95.511,
              29.5001
             ],
             [
              -95.5107,
              29.5031
             ],
             [
              -95.5074,
              29.5042
             ],
             [
              -95.5077,
              29.5068
             ],
             [
              -95.524,
              29.5066
             ],
             [
              -95.5247,
              29.5072
             ],
             [
              -95.5265,
              29.5112
             ],
             [
              -95.5236,
              29.5109
             ],
             [
              -95.5211,
              29.5076
             ],
             [
              -95.5203,
              29.5072
             ],
             [
              -95.5101,
              29.5071
             ],
             [
              -95.51,
              29.5109
             ],
             [
              -95.5091,
              29.5132
             ],
             [
              -95.5034,
              29.513
             ],
             [
              -95.5031,
              29.515
             ],
             [
              -95.4986,
              29.5152
             ],
             [
              -95.4977,
              29.5139
             ],
             [
              -95.4971,
              29.5154
             ],
             [
              -95.4951,
              29.5152
             ],
             [
              -95.4935,
              29.5124
             ],
             [
              -95.4894,
              29.5138
             ],
             [
              -95.4879,
              29.5149
             ],
             [
              -95.4878,
              29.5144
             ],
             [
              -95.4901,
              29.5125
             ],
             [
              -95.4941,
              29.5111
             ],
             [
              -95.4948,
              29.5078
             ],
             [
              -95.4957,
              29.5074
             ],
             [
              -95.4946,
              29.5074
             ],
             [
              -95.4946,
              29.5077
             ],
             [
              -95.4681,
              29.508
             ],
             [
              -95.4694,
              29.5097
             ],
             [
              -95.4833,
              29.516
             ],
             [
              -95.4803,
              29.5173
             ],
             [
              -95.4675,
              29.5107
             ],
             [
              -95.4682,
              29.5132
             ],
             [
              -95.4592,
              29.5134
             ],
             [
              -95.4566,
              29.52
             ],
             [
              -95.4582,
              29.52
             ],
             [
              -95.4583,
              29.525
             ],
             [
              -95.4539,
              29.5251
             ],
             [
              -95.4573,
              29.5168
             ],
             [
              -95.4563,
              29.5168
             ],
             [
              -95.457,
              29.5151
             ],
             [
              -95.4521,
              29.5152
             ],
             [
              -95.4501,
              29.5152
             ],
             [
              -95.4488,
              29.5162
             ],
             [
              -95.4482,
              29.5187
             ],
             [
              -95.4454,
              29.518
             ],
             [
              -95.4446,
              29.5177
             ],
             [
              -95.4444,
              29.5187
             ],
             [
              -95.4479,
              29.5195
             ],
             [
              -95.4475,
              29.5211
             ],
             [
              -95.4494,
              29.521
             ],
             [
              -95.4498,
              29.5196
             ],
             [
              -95.4521,
              29.5194
             ],
             [
              -95.4522,
              29.521
             ],
             [
              -95.4513,
              29.5225
             ],
             [
              -95.4491,
              29.5226
             ],
             [
              -95.4488,
              29.5236
             ],
             [
              -95.4466,
              29.5236
             ],
             [
              -95.4466,
              29.5228
             ],
             [
              -95.4438,
              29.5228
             ],
             [
              -95.4438,
              29.5237
             ],
             [
              -95.4393,
              29.5238
             ],
             [
              -95.4359,
              29.5364
             ],
             [
              -95.4348,
              29.5399
             ],
             [
              -95.4343,
              29.5417
             ],
             [
              -95.4335,
              29.5448
             ],
             [
              -95.4335,
              29.5449
             ],
             [
              -95.427,
              29.5443
             ],
             [
              -95.4255,
              29.5433
             ],
             [
              -95.4256,
              29.5475
             ],
             [
              -95.4184,
              29.5479
             ],
             [
              -95.4184,
              29.551
             ],
             [
              -95.4173,
              29.5511
             ],
             [
              -95.417,
              29.5407
             ],
             [
              -95.4169,
              29.535
             ],
             [
              -95.4164,
              29.5185
             ],
             [
              -95.4162,
              29.5117
             ],
             [
              -95.4159,
              29.4941
             ],
             [
              -95.4155,
              29.4911
             ],
             [
              -95.4154,
              29.4874
             ],
             [
              -95.4012,
              29.4826
             ],
             [
              -95.4035,
              29.4797
             ],
             [
              -95.4031,
              29.479
             ],
             [
              -95.3922,
              29.4753
             ],
             [
              -95.3919,
              29.4687
             ],
             [
              -95.3965,
              29.4686
             ],
             [
              -95.3961,
              29.4643
             ],
             [
              -95.3961,
              29.4546
             ],
             [
              -95.384,
              29.4603
             ],
             [
              -95.3851,
              29.4588
             ],
             [
              -95.387,
              29.4581
             ],
             [
              -95.3875,
              29.4571
             ],
             [
              -95.3903,
              29.4561
             ],
             [
              -95.3904,
              29.4546
             ],
             [
              -95.392,
              29.4532
             ],
             [
              -95.3911,
              29.4511
             ],
             [
              -95.3899,
              29.4503
             ],
             [
              -95.389,
              29.4487
             ],
             [
              -95.3856,
              29.4494
             ],
             [
              -95.3838,
              29.4484
             ],
             [
              -95.3824,
              29.4464
             ],
             [
              -95.3791,
              29.4448
             ],
             [
              -95.3787,
              29.4422
             ],
             [
              -95.3769,
              29.4397
             ],
             [
              -95.3754,
              29.4394
             ],
             [
              -95.3857,
              29.4345
             ],
             [
              -95.3903,
              29.4395
             ],
             [
              -95.3945,
              29.4395
             ],
             [
              -95.3934,
              29.4251
             ],
             [
              -95.393,
              29.4106
             ],
             [
              -95.366,
              29.411
             ],
             [
              -95.3647,
              29.4091
             ],
             [
              -95.3633,
              29.4086
             ],
             [
              -95.3605,
              29.4087
             ],
             [
              -95.3586,
              29.4104
             ],
             [
              -95.3554,
              29.4075
             ],
             [
              -95.3558,
              29.4053
             ],
             [
              -95.3531,
              29.4033
             ],
             [
              -95.351,
              29.4031
             ],
             [
              -95.3515,
              29.4022
             ],
             [
              -95.3534,
              29.4016
             ],
             [
              -95.3536,
              29.4001
             ],
             [
              -95.3516,
              29.3994
             ],
             [
              -95.3535,
              29.3964
             ],
             [
              -95.3573,
              29.3946
             ],
             [
              -95.3584,
              29.3919
             ],
             [
              -95.357,
              29.3893
             ],
             [
              -95.3583,
              29.3886
             ],
             [
              -95.3579,
              29.3868
             ],
             [
              -95.3581,
              29.3834
             ],
             [
              -95.3568,
              29.3808
             ],
             [
              -95.3573,
              29.3787
             ],
             [
              -95.3553,
              29.3783
             ],
             [
              -95.3535,
              29.377
             ],
             [
              -95.3521,
              29.3774
             ],
             [
              -95.3517,
              29.3762
             ],
             [
              -95.3504,
              29.3768
             ],
             [
              -95.3501,
              29.3745
             ],
             [
              -95.3458,
              29.3749
             ],
             [
              -95.344,
              29.3759
             ],
             [
              -95.3425,
              29.3749
             ],
             [
              -95.3379,
              29.3758
             ],
             [
              -95.3369,
              29.3748
             ],
             [
              -95.3351,
              29.3754
             ],
             [
              -95.3328,
              29.3744
             ],
             [
              -95.3319,
              29.3749
             ],
             [
              -95.332,
              29.3729
             ],
             [
              -95.3295,
              29.3734
             ],
             [
              -95.3285,
              29.3721
             ],
             [
              -95.3275,
              29.3736
             ],
             [
              -95.3259,
              29.3718
             ],
             [
              -95.3243,
              29.3727
             ],
             [
              -95.3228,
              29.3702
             ],
             [
              -95.3195,
              29.3695
             ],
             [
              -95.3185,
              29.3707
             ],
             [
              -95.3188,
              29.3685
             ],
             [
              -95.3168,
              29.3679
             ],
             [
              -95.319,
              29.3672
             ],
             [
              -95.3197,
              29.3664
             ],
             [
              -95.3214,
              29.3667
             ],
             [
              -95.3213,
              29.3655
             ],
             [
              -95.3205,
              29.3642
             ],
             [
              -95.3165,
              29.3649
             ],
             [
              -95.3167,
              29.3625
             ],
             [
              -95.3149,
              29.362
             ],
             [
              -95.3165,
              29.3601
             ],
             [
              -95.3131,
              29.3588
             ],
             [
              -95.313,
              29.3578
             ],
             [
              -95.3148,
              29.357
             ],
             [
              -95.3235,
              29.3462
             ],
             [
              -95.3256,
              29.3348
             ],
             [
              -95.3427,
              29.3267
             ],
             [
              -95.3654,
              29.3356
             ],
             [
              -95.3651,
              29.3248
             ],
             [
              -95.366,
              29.3184
             ],
             [
              -95.3673,
              29.3121
             ],
             [
              -95.3667,
              29.3089
             ],
             [
              -95.3685,
              29.3073
             ],
             [
              -95.3708,
              29.303
             ],
             [
              -95.3711,
              29.3017
             ],
             [
              -95.3727,
              29.3035
             ],
             [
              -95.3763,
              29.3052
             ],
             [
              -95.378,
              29.3053
             ],
             [
              -95.3796,
              29.3063
             ],
             [
              -95.3857,
              29.3045
             ],
             [
              -95.3889,
              29.3059
             ],
             [
              -95.3884,
              29.2973
             ],
             [
              -95.3808,
              29.2976
             ],
             [
              -95.3805,
              29.3005
             ],
             [
              -95.3802,
              29.2973
             ],
             [
              -95.3795,
              29.2961
             ],
             [
              -95.3806,
              29.2954
             ],
             [
              -95.3804,
              29.2901
             ],
             [
              -95.3787,
              29.2907
             ],
             [
              -95.3769,
              29.2846
             ],
             [
              -95.3782,
              29.2799
             ],
             [
              -95.3802,
              29.2796
             ],
             [
              -95.3802,
              29.2819
             ],
             [
              -95.4006,
              29.2817
             ],
             [
              -95.4029,
              29.2858
             ],
             [
              -95.4332,
              29.285
             ],
             [
              -95.4327,
              29.2823
             ],
             [
              -95.4335,
              29.2814
             ],
             [
              -95.4348,
              29.285
             ],
             [
              -95.4374,
              29.281
             ],
             [
              -95.454,
              29.2807
             ],
             [
              -95.4548,
              29.2832
             ],
             [
              -95.4545,
              29.2848
             ],
             [
              -95.4555,
              29.2848
             ],
             [
              -95.4528,
              29.3019
             ],
             [
              -95.4778,
              29.3014
             ],
             [
              -95.4779,
              29.2949
             ],
             [
              -95.4977,
              29.2947
             ],
             [
              -95.4979,
              29.3017
             ],
             [
              -95.5361,
              29.3008
             ],
             [
              -95.5359,
              29.2976
             ],
             [
              -95.5414,
              29.2973
             ],
             [
              -95.5417,
              29.2993
             ],
             [
              -95.5442,
              29.2993
             ],
             [
              -95.5446,
              29.2954
             ],
             [
              -95.542,
              29.296
             ],
             [
              -95.5386,
              29.296
             ],
             [
              -95.5377,
              29.2954
             ],
             [
              -95.5374,
              29.293
             ],
             [
              -95.538,
              29.2915
             ],
             [
              -95.541,
              29.2878
             ],
             [
              -95.5428,
              29.2874
             ],
             [
              -95.5462,
              29.288
             ],
             [
              -95.5499,
              29.2866
             ],
             [
              -95.5498,
              29.2857
             ],
             [
              -95.5478,
              29.2858
             ],
             [
              -95.5478,
              29.2872
             ],
             [
              -95.5449,
              29.2872
             ],
             [
              -95.5443,
              29.284
             ],
             [
              -95.5424,
              29.2838
             ],
             [
              -95.5415,
              29.2788
             ],
             [
              -95.5405,
              29.2704
             ],
             [
              -95.5418,
              29.2646
             ],
             [
              -95.5418,
              29.2614
             ],
             [
              -95.5428,
              29.259
             ],
             [
              -95.5432,
              29.2559
             ],
             [
              -95.5485,
              29.256
             ],
             [
              -95.5532,
              29.2564
             ],
             [
              -95.5589,
              29.2563
             ],
             [
              -95.5589,
              29.2512
             ],
             [
              -95.5599,
              29.2506
             ],
             [
              -95.5619,
              29.2506
             ],
             [
              -95.5607,
              29.2529
             ],
             [
              -95.5611,
              29.2541
             ],
             [
              -95.5625,
              29.2545
             ],
             [
              -95.5681,
              29.2552
             ],
             [
              -95.5694,
              29.2561
             ],
             [
              -95.5691,
              29.257
             ],
             [
              -95.5651,
              29.2599
             ],
             [
              -95.564,
              29.2613
             ],
             [
              -95.5632,
              29.2636
             ],
             [
              -95.5645,
              29.265
             ],
             [
              -95.5664,
              29.2659
             ],
             [
              -95.5697,
              29.2662
             ],
             [
              -95.5711,
              29.2644
             ],
             [
              -95.5707,
              29.2606
             ],
             [
              -95.5714,
              29.2594
             ],
             [
              -95.573,
              29.2587
             ],
             [
              -95.5745,
              29.2595
             ],
             [
              -95.5753,
              29.2615
             ],
             [
              -95.5755,
              29.2641
             ],
             [
              -95.5733,
              29.2701
             ],
             [
              -95.573,
              29.2722
             ],
             [
              -95.5733,
              29.274
             ],
             [
              -95.5748,
              29.2774
             ],
             [
              -95.5757,
              29.2779
             ],
             [
              -95.5768,
              29.2771
             ],
             [
              -95.5776,
              29.2719
             ],
             [
              -95.5783,
              29.2711
             ],
             [
              -95.5793,
              29.2713
             ],
             [
              -95.5806,
              29.2727
             ],
             [
              -95.5817,
              29.2757
             ],
             [
              -95.583,
              29.2773
             ],
             [
              -95.5864,
              29.2791
             ],
             [
              -95.5871,
              29.2799
             ],
             [
              -95.5872,
              29.2818
             ],
             [
              -95.5859,
              29.2844
             ],
             [
              -95.5858,
              29.2862
             ],
             [
              -95.5867,
              29.2873
             ],
             [
              -95.5893,
              29.2892
             ],
             [
              -95.5898,
              29.2904
             ],
             [
              -95.5896,
              29.2927
             ],
             [
              -95.5887,
              29.2954
             ],
             [
              -95.5867,
              29.2985
             ],
             [
              -95.5854,
              29.3023
             ],
             [
              -95.5826,
              29.3024
             ],
             [
              -95.5796,
              29.3009
             ],
             [
              -95.578,
              29.301
             ],
             [
              -95.577,
              29.3027
             ],
             [
              -95.5773,
              29.304
             ],
             [
              -95.5789,
              29.3053
             ],
             [
              -95.5826,
              29.307
             ],
             [
              -95.584,
              29.3092
             ],
             [
              -95.5842,
              29.3126
             ],
             [
              -95.5833,
              29.3142
             ],
             [
              -95.5806,
              29.3157
             ],
             [
              -95.5795,
              29.3175
             ],
             [
              -95.581,
              29.3181
             ],
             [
              -95.5846,
              29.3184
             ],
             [
              -95.5865,
              29.3196
             ],
             [
              -95.5873,
              29.3239
             ],
             [
              -95.5888,
              29.3256
             ],
             [
              -95.5909,
              29.3264
             ],
             [
              -95.5908,
              29.3275
             ]
            ],
            [
             [
              -95.4434,
              29.5187
             ],
             [
              -95.4409,
              29.5188
             ],
             [
              -95.4404,
              29.5204
             ],
             [
              -95.4402,
              29.5212
             ],
             [
              -95.4428,
              29.5211
             ],
             [
              -95.4434,
              29.5187
             ]
            ]
           ]
          ],
          "type": "MultiPolygon"
         },
         "properties": {
          "AFFGEOID10": "8600000US77583",
          "ALAND10": 432246130,
          "AWATER10": 8204018,
          "GEOID10": "77583",
          "ZCTA5CE10": "77583"
         },
         "type": "Feature"
        },
        {
         "geometry": {
          "coordinates": [
           [
            [
             [
              -95.0707,
              30.1037
             ],
             [
              -95.0689,
              30.1028
             ],
             [
              -95.0659,
              30.105
             ],
             [
              -95.064,
              30.1057
             ],
             [
              -95.0618,
              30.1058
             ],
             [
              -95.0608,
              30.1092
             ],
             [
              -95.0598,
              30.1096
             ],
             [
              -95.0584,
              30.1119
             ],
             [
              -95.0602,
              30.1126
             ],
             [
              -95.0587,
              30.1145
             ],
             [
              -95.059,
              30.1164
             ],
             [
              -95.0576,
              30.1175
             ],
             [
              -95.0579,
              30.1185
             ],
             [
              -95.0545,
              30.1206
             ],
             [
              -95.0547,
              30.1225
             ],
             [
              -95.0486,
              30.1254
             ],
             [
              -95.0469,
              30.1265
             ],
             [
              -95.0457,
              30.1265
             ],
             [
              -95.0443,
              30.1303
             ],
             [
              -95.0415,
              30.1301
             ],
             [
              -95.0404,
              30.1311
             ],
             [
              -95.0382,
              30.1316
             ],
             [
              -95.036,
              30.1339
             ],
             [
              -95.0332,
              30.1352
             ],
             [
              -95.0334,
              30.1361
             ],
             [
              -95.0319,
              30.1371
             ],
             [
              -95.0315,
              30.1364
             ],
             [
              -95.0294,
              30.1367
             ],
             [
              -95.0259,
              30.1403
             ],
             [
              -95.025,
              30.1398
             ],
             [
              -95.0233,
              30.1418
             ],
             [
              -95.0213,
              30.1422
             ],
             [
              -95.0198,
              30.1412
             ],
             [
              -95.0192,
              30.1423
             ],
             [
              -95.0182,
              30.1419
             ],
             [
              -95.0165,
              30.1436
             ],
             [
              -95.0168,
              30.1446
             ],
             [
              -95.0143,
              30.1456
             ],
             [
              -95.011,
              30.1448
             ],
             [
              -95.01,
              30.1457
             ],
             [
              -95.0089,
              30.1453
             ],
             [
              -95.0078,
              30.1465
             ],
             [
              -95.0066,
              30.1463
             ],
             [
              -95.004,
              30.1489
             ],
             [
              -95.0038,
              30.1509
             ],
             [
              -95.0023,
              30.1525
             ],
             [
              -95.0008,
              30.152
             ],
             [
              -94.9996,
              30.1534
             ],
             [
              -95.0001,
              30.1556
             ],
             [
              -94.9993,
              30.1569
             ],
             [
              -94.9981,
              30.1567
             ],
             [
              -94.9985,
              30.1605
             ],
             [
              -94.9972,
              30.1606
             ],
             [
              -94.9975,
              30.1616
             ],
             [
              -94.9961,
              30.1641
             ],
             [
              -94.995,
              30.164
             ],
             [
              -94.9951,
              30.1656
             ],
             [
              -94.994,
              30.1685
             ],
             [
              -94.992,
              30.1696
             ],
             [
              -94.9918,
              30.1704
             ],
             [
              -94.9931,
              30.1733
             ],
             [
              -94.995,
              30.1749
             ],
             [
              -94.9954,
              30.1775
             ],
             [
              -94.9981,
              30.1786
             ],
             [
              -95.0003,
              30.1832
             ],
             [
              -95.0006,
              30.1866
             ],
             [
              -95.0022,
              30.1881
             ],
             [
              -95.0016,
              30.1899
             ],
             [
              -95.0038,
              30.1906
             ],
             [
              -95.0092,
              30.1937
             ],
             [
              -95.01,
              30.1949
             ],
             [
              -95.011,
              30.1989
             ],
             [
              -95.0098,
              30.1989
             ],
             [
              -95.0096,
              30.2004
             ],
             [
              -95.0116,
              30.2027
             ],
             [
              -95.0109,
              30.2038
             ],
             [
              -95.0118,
              30.2051
             ],
             [
              -95.0111,
              30.2066
             ],
             [
              -95.013,
              30.2074
             ],
             [
              -95.0137,
              30.2088
             ],
             [
              -95.0141,
              30.214
             ],
             [
              -95.0137,
              30.2168
             ],
             [
              -95.0156,
              30.2185
             ],
             [
              -95.0147,
              30.2195
             ],
             [
              -95.0152,
              30.2209
             ],
             [
              -95.0167,
              30.2224
             ],
             [
              -95.0178,
              30.2218
             ],
             [
              -95.0204,
              30.2228
             ],
             [
              -95.0189,
              30.2239
             ],
             [
              -95.0196,
              30.2261
             ],
             [
              -95.0189,
              30.2274
             ],
             [
              -95.0169,
              30.2281
             ],
             [
              -95.0177,
              30.2287
             ],
             [
              -95.0193,
              30.2339
             ],
             [
              -95.0214,
              30.2351
             ],
             [
              -95.0211,
              30.2368
             ],
             [
              -95.0255,
              30.2396
             ],
             [
              -95.0256,
              30.2404
             ],
             [
              -95.0284,
              30.2415
             ],
             [
              -95.0293,
              30.2461
             ],
             [
              -95.0333,
              30.2499
             ],
             [
              -95.033,
              30.2524
             ],
             [
              -95.0349,
              30.2548
             ],
             [
              -95.0359,
              30.2585
             ],
             [
              -95.0379,
              30.2607
             ],
             [
              -95.0378,
              30.2626
             ],
             [
              -95.0386,
              30.2625
             ],
             [
              -95.0376,
              30.2645
             ],
             [
              -95.0386,
              30.2651
             ],
             [
              -95.0375,
              30.2657
             ],
             [
              -95.0359,
              30.2685
             ],
             [
              -95.0336,
              30.2697
             ],
             [
              -95.0314,
              30.273
             ],
             [
              -95.0299,
              30.2745
             ],
             [
              -95.03,
              30.2768
             ],
             [
              -95.0292,
              30.2787
             ],
             [
              -95.0257,
              30.282
             ],
             [
              -95.0246,
              30.2791
             ],
             [
              -95.0188,
              30.2812
             ],
             [
              -95.0178,
              30.2822
             ],
             [
              -95.0166,
              30.2877
             ],
             [
              -95.0142,
              30.279
             ],
             [
              -95.0124,
              30.2791
             ],
             [
              -95.0124,
              30.2749
             ],
             [
              -95.0107,
              30.2735
             ],
             [
              -95.0095,
              30.2739
             ],
             [
              -95.0032,
              30.2794
             ],
             [
              -94.9953,
              30.2792
             ],
             [
              -94.9956,
              30.2757
             ],
             [
              -94.9849,
              30.2632
             ],
             [
              -94.9859,
              30.2616
             ],
             [
              -94.9882,
              30.2563
             ],
             [
              -94.9701,
              30.2563
             ],
             [
              -94.9697,
              30.2548
             ],
             [
              -94.9333,
              30.2556
             ],
             [
              -94.9329,
              30.2476
             ],
             [
              -94.9299,
              30.2392
             ],
             [
              -94.9297,
              30.2336
             ],
             [
              -94.9271,
              30.2332
             ],
             [
              -94.9256,
              30.2322
             ],
             [
              -94.9169,
              30.2228
             ],
             [
              -94.9124,
              30.2235
             ],
             [
              -94.9116,
              30.226
             ],
             [
              -94.9116,
              30.2295
             ],
             [
              -94.911,
              30.2326
             ],
             [
              -94.908,
              30.2322
             ],
             [
              -94.9021,
              30.232
             ],
             [
              -94.9006,
              30.2309
             ],
             [
              -94.9007,
              30.2255
             ],
             [
              -94.9074,
              30.2255
             ],
             [
              -94.9075,
              30.2238
             ],
             [
              -94.873,
              30.2239
             ],
             [
              -94.8731,
              30.2266
             ],
             [
              -94.8187,
              30.2264
             ],
             [
              -94.8206,
              30.2245
             ],
             [
              -94.8213,
              30.2212
             ],
             [
              -94.8214,
              30.2188
             ],
             [
              -94.8253,
              30.2137
             ],
             [
              -94.825,
              30.2135
             ],
             [
              -94.8264,
              30.2116
             ],
             [
              -94.8306,
              30.204
             ],
             [
              -94.8308,
              30.2019
             ],
             [
              -94.8291,
              30.1982
             ],
             [
              -94.8293,
              30.1963
             ],
             [
              -94.8304,
              30.1952
             ],
             [
              -94.8322,
              30.1947
             ],
             [
              -94.8372,
              30.1957
             ],
             [
              -94.8402,
              30.1951
             ],
             [
              -94.8431,
              30.1936
             ],
             [
              -94.847,
              30.1922
             ],
             [
              -94.8494,
              30.1911
             ],
             [
              -94.8506,
              30.1895
             ],
             [
              -94.8496,
              30.1871
             ],
             [
              -94.8471,
              30.1863
             ],
             [
              -94.8433,
              30.1866
             ],
             [
              -94.8411,
              30.1864
             ],
             [
              -94.8365,
              30.1846
             ],
             [
              -94.8341,
              30.1827
             ],
             [
              -94.8304,
              30.1775
             ],
             [
              -94.8293,
              30.171
             ],
             [
              -94.8282,
              30.1694
             ],
             [
              -94.8235,
              30.1661
             ],
             [
              -94.8196,
              30.166
             ],
             [
              -94.8152,
              30.1678
             ],
             [
              -94.8128,
              30.1683
             ],
             [
              -94.8113,
              30.1671
             ],
             [
              -94.81,
              30.1621
             ],
             [
              -94.8109,
              30.1579
             ],
             [
              -94.8116,
              30.1524
             ],
             [
              -94.8107,
              30.1508
             ],
             [
              -94.808,
              30.1482
             ],
             [
              -94.8065,
              30.1439
             ],
             [
              -94.807,
              30.1409
             ],
             [
              -94.8092,
              30.139
             ],
             [
              -94.8124,
              30.1377
             ],
             [
              -94.8144,
              30.1372
             ],
             [
              -94.8179,
              30.1371
             ],
             [
              -94.8205,
              30.1366
             ],
             [
              -94.8216,
              30.1354
             ],
             [
              -94.8214,
              30.1344
             ],
             [
              -94.8199,
              30.1329
             ],
             [
              -94.818,
              30.1327
             ],
             [
              -94.8143,
              30.133
             ],
             [
              -94.8122,
              30.1324
             ],
             [
              -94.8115,
              30.1313
             ],
             [
              -94.8121,
              30.1287
             ],
             [
              -94.8131,
              30.1281
             ],
             [
              -94.8157,
              30.1278
             ],
             [
              -94.82,
              30.1294
             ],
             [
              -94.8255,
              30.1298
             ],
             [
              -94.827,
              30.1294
             ],
             [
              -94.8274,
              30.1281
             ],
             [
              -94.8254,
              30.1258
             ],
             [
              -94.8232,
              30.1221
             ],
             [
              -94.821,
              30.1216
             ],
             [
              -94.8173,
              30.1229
             ],
             [
              -94.8165,
              30.1225
             ],
             [
              -94.8164,
              30.1204
             ],
             [
              -94.8169,
              30.1176
             ],
             [
              -94.8164,
              30.1158
             ],
             [
              -94.8149,
              30.1144
             ],
             [
              -94.8121,
              30.1148
             ],
             [
              -94.8105,
              30.1156
             ],
             [
              -94.8074,
              30.1183
             ],
             [
              -94.8053,
              30.1187
             ],
             [
              -94.8037,
              30.1169
             ],
             [
              -94.8037,
              30.1152
             ],
             [
              -94.8042,
              30.1144
             ],
             [
              -94.8103,
              30.1137
             ],
             [
              -94.8143,
              30.1117
             ],
             [
              -94.8152,
              30.1107
             ],
             [
              -94.8148,
              30.1086
             ],
             [
              -94.8129,
              30.1067
             ],
             [
              -94.8117,
              30.1039
             ],
             [
              -94.8133,
              30.1023
             ],
             [
              -94.8181,
              30.1011
             ],
             [
              -94.8206,
              30.0996
             ],
             [
              -94.8209,
              30.0976
             ],
             [
              -94.8247,
              30.0975
             ],
             [
              -94.8258,
              30.0937
             ],
             [
              -94.8274,
              30.0908
             ],
             [
              -94.8271,
              30.088
             ],
             [
              -94.829,
              30.0881
             ],
             [
              -94.8304,
              30.0864
             ],
             [
              -94.8321,
              30.0856
             ],
             [
              -94.8322,
              30.0814
             ],
             [
              -94.8347,
              30.08
             ],
             [
              -94.8362,
              30.0797
             ],
             [
              -94.8371,
              30.0783
             ],
             [
              -94.8393,
              30.0783
             ],
             [
              -94.8437,
              30.0758
             ],
             [
              -94.8445,
              30.0745
             ],
             [
              -94.8443,
              30.0727
             ],
             [
              -94.8463,
              30.0687
             ],
             [
              -94.8484,
              30.0671
             ],
             [
              -94.848,
              30.066
             ],
             [
              -94.8455,
              30.0652
             ],
             [
              -94.8453,
              30.0629
             ],
             [
              -94.847,
              30.0625
             ],
             [
              -94.8461,
              30.0612
             ],
             [
              -94.8471,
              30.0582
             ],
             [
              -94.8478,
              30.0553
             ],
             [
              -94.844,
              30.0557
             ],
             [
              -94.8433,
              30.0552
             ],
             [
              -94.8351,
              30.0564
             ],
             [
              -94.8352,
              30.0566
             ],
             [
              -94.8299,
              30.0572
             ],
             [
              -94.8301,
              30.055
             ],
             [
              -94.833,
              30.0492
             ],
             [
              -94.8336,
              30.0466
             ],
             [
              -94.83,
              30.041
             ],
             [
              -94.8278,
              30.0389
             ],
             [
              -94.828,
              30.0368
             ],
             [
              -94.8264,
              30.0359
             ],
             [
              -94.8235,
              30.0351
             ],
             [
              -94.8241,
              30.0328
             ],
             [
              -94.8252,
              30.0315
             ],
             [
              -94.827,
              30.0283
             ],
             [
              -94.8269,
              30.0265
             ],
             [
              -94.8257,
              30.0247
             ],
             [
              -94.8222,
              30.0216
             ],
             [
              -94.8222,
              30.0204
             ],
             [
              -94.8243,
              30.0188
             ],
             [
              -94.8239,
              30.0174
             ],
             [
              -94.8212,
              30.0161
             ],
             [
              -94.8184,
              30.0105
             ],
             [
              -94.8187,
              30.0094
             ],
             [
              -94.8218,
              30.0082
             ],
             [
              -94.8227,
              30.0075
             ],
             [
              -94.8225,
              30.0058
             ],
             [
              -94.821,
              30.0043
             ],
             [
              -94.8192,
              30.0038
             ],
             [
              -94.8159,
              30.005
             ],
             [
              -94.8126,
              30.0057
             ],
             [
              -94.8106,
              30.005
             ],
             [
              -94.8098,
              30.0027
             ],
             [
              -94.8107,
              30
             ],
             [
              -94.8128,
              29.997
             ],
             [
              -94.8143,
              29.9945
             ],
             [
              -94.8172,
              29.9922
             ],
             [
              -94.8167,
              29.99
             ],
             [
              -94.8152,
              29.9887
             ],
             [
              -94.8105,
              29.9857
             ],
             [
              -94.81,
              29.9843
             ],
             [
              -94.8107,
              29.9829
             ],
             [
              -94.8122,
              29.9817
             ],
             [
              -94.8125,
              29.9802
             ],
             [
              -94.8119,
              29.9771
             ],
             [
              -94.812,
              29.9747
             ],
             [
              -94.8144,
              29.9714
             ],
             [
              -94.813,
              29.9697
             ],
             [
              -94.8087,
              29.9688
             ],
             [
              -94.8068,
              29.968
             ],
             [
              -94.8046,
              29.9661
             ],
             [
              -94.8045,
              29.965
             ],
             [
              -94.8054,
              29.9641
             ],
             [
              -94.8071,
              29.9644
             ],
             [
              -94.8101,
              29.9659
             ],
             [
              -94.8106,
              29.9647
             ],
             [
              -94.8089,
              29.9606
             ],
             [
              -94.8068,
              29.958
             ],
             [
              -94.8055,
              29.9555
             ],
             [
              -94.8057,
              29.9533
             ],
             [
              -94.8062,
              29.9525
             ],
             [
              -94.8084,
              29.952
             ],
             [
              -94.8094,
              29.9528
             ],
             [
              -94.8111,
              29.9559
             ],
             [
              -94.8127,
              29.9553
             ],
             [
              -94.8132,
              29.9518
             ],
             [
              -94.8131,
              29.9484
             ],
             [
              -94.8117,
              29.9461
             ],
             [
              -94.8108,
              29.9412
             ],
             [
              -94.8093,
              29.9405
             ],
             [
              -94.8078,
              29.9408
             ],
             [
              -94.8051,
              29.9433
             ],
             [
              -94.8048,
              29.9464
             ],
             [
              -94.8055,
              29.9485
             ],
             [
              -94.8041,
              29.95
             ],
             [
              -94.8029,
              29.9497
             ],
             [
              -94.7996,
              29.9475
             ],
             [
              -94.7982,
              29.9471
             ],
             [
              -94.7944,
              29.9477
             ],
             [
              -94.7936,
              29.9462
             ],
             [
              -94.7947,
              29.943
             ],
             [
              -94.7924,
              29.943
             ],
             [
              -94.791,
              29.9454
             ],
             [
              -94.7898,
              29.9454
             ],
             [
              -94.7871,
              29.9413
             ],
             [
              -94.7853,
              29.9421
             ],
             [
              -94.7838,
              29.9408
             ],
             [
              -94.7813,
              29.9367
             ],
             [
              -94.7792,
              29.936
             ],
             [
              -94.7765,
              29.9378
             ],
             [
              -94.7746,
              29.941
             ],
             [
              -94.7732,
              29.9405
             ],
             [
              -94.7719,
              29.9372
             ],
             [
              -94.7722,
              29.9331
             ],
             [
              -94.7712,
              29.9318
             ],
             [
              -94.7689,
              29.9334
             ],
             [
              -94.7674,
              29.9355
             ],
             [
              -94.7655,
              29.9359
             ],
             [
              -94.7643,
              29.9354
             ],
             [
              -94.7627,
              29.9334
             ],
             [
              -94.7634,
              29.9303
             ],
             [
              -94.7655,
              29.9279
             ],
             [
              -94.7663,
              29.9254
             ],
             [
              -94.7695,
              29.9258
             ],
             [
              -94.7697,
              29.9235
             ],
             [
              -94.7671,
              29.9212
             ],
             [
              -94.7654,
              29.9186
             ],
             [
              -94.765,
              29.9153
             ],
             [
              -94.7639,
              29.9141
             ],
             [
              -94.7618,
              29.9136
             ],
             [
              -94.7593,
              29.9141
             ],
             [
              -94.7548,
              29.9158
             ],
             [
              -94.754,
              29.9155
             ],
             [
              -94.7535,
              29.9135
             ],
             [
              -94.7556,
              29.9112
             ],
             [
              -94.7574,
              29.9102
             ],
             [
              -94.7629,
              29.9088
             ],
             [
              -94.7656,
              29.9094
             ],
             [
              -94.7672,
              29.9117
             ],
             [
              -94.7691,
              29.912
             ],
             [
              -94.7693,
              29.9086
             ],
             [
              -94.7676,
              29.9064
             ],
             [
              -94.7652,
              29.9056
             ],
             [
              -94.7611,
              29.9069
             ],
             [
              -94.7576,
              29.9057
             ],
             [
              -94.7541,
              29.9056
             ],
             [
              -94.7517,
              29.907
             ],
             [
              -94.7502,
              29.9087
             ],
             [
              -94.7468,
              29.9089
             ],
             [
              -94.7454,
              29.9076
             ],
             [
              -94.745,
              29.9054
             ],
             [
              -94.7453,
              29.8991
             ],
             [
              -94.7462,
              29.8969
             ],
             [
              -94.7475,
              29.895
             ],
             [
              -94.7487,
              29.892
             ],
             [
              -94.7487,
              29.8905
             ],
             [
              -94.7477,
              29.8896
             ],
             [
              -94.745,
              29.8897
             ],
             [
              -94.7415,
              29.8928
             ],
             [
              -94.7402,
              29.8924
             ],
             [
              -94.7392,
              29.8918
             ],
             [
              -94.7386,
              29.8889
             ],
             [
              -94.7389,
              29.8872
             ],
             [
              -94.7391,
              29.8872
             ],
             [
              -94.7788,
              29.8867
             ],
             [
              -94.7787,
              29.8839
             ],
             [
              -94.7754,
              29.8814
             ],
             [
              -94.7742,
              29.8842
             ],
             [
              -94.7711,
              29.882
             ],
             [
              -94.7703,
              29.8806
             ],
             [
              -94.7751,
              29.8799
             ],
             [
              -94.7768,
              29.8803
             ],
             [
              -94.7788,
              29.8819
             ],
             [
              -94.7759,
              29.8735
             ],
             [
              -94.7794,
              29.8694
             ],
             [
              -94.7804,
              29.871
             ],
             [
              -94.7824,
              29.8712
             ],
             [
              -94.7813,
              29.8721
             ],
             [
              -94.7779,
              29.8731
             ],
             [
              -94.7798,
              29.8727
             ],
             [
              -94.7822,
              29.873
             ],
             [
              -94.7826,
              29.8711
             ],
             [
              -94.7879,
              29.8712
             ],
             [
              -94.7898,
              29.8718
             ],
             [
              -94.7906,
              29.871
             ],
             [
              -94.7886,
              29.8711
             ],
             [
              -94.7934,
              29.8686
             ],
             [
              -94.794,
              29.8672
             ],
             [
              -94.7941,
              29.8634
             ],
             [
              -94.7938,
              29.8595
             ],
             [
              -94.792,
              29.8547
             ],
             [
              -94.7885,
              29.8512
             ],
             [
              -94.7871,
              29.8507
             ],
             [
              -94.7836,
              29.8504
             ],
             [
              -94.7822,
              29.851
             ],
             [
              -94.7773,
              29.8543
             ],
             [
              -94.7762,
              29.8541
             ],
             [
              -94.7737,
              29.8499
             ],
             [
              -94.7721,
              29.8491
             ],
             [
              -94.7739,
              29.848
             ],
             [
              -94.777,
              29.8474
             ],
             [
              -94.7797,
              29.8477
             ],
             [
              -94.7824,
              29.8473
             ],
             [
              -94.7871,
              29.8435
             ],
             [
              -94.7882,
              29.8439
             ],
             [
              -94.7899,
              29.8428
             ],
             [
              -94.7885,
              29.8427
             ],
             [
              -94.7905,
              29.8418
             ],
             [
              -94.7923,
              29.8377
             ],
             [
              -94.7943,
              29.8363
             ],
             [
              -94.794,
              29.8345
             ],
             [
              -94.7966,
              29.8345
             ],
             [
              -94.7934,
              29.832
             ],
             [
              -94.8008,
              29.8307
             ],
             [
              -94.8013,
              29.8339
             ],
             [
              -94.8023,
              29.8358
             ],
             [
              -94.801,
              29.8395
             ],
             [
              -94.7985,
              29.8422
             ],
             [
              -94.7988,
              29.8439
             ],
             [
              -94.8013,
              29.8478
             ],
             [
              -94.8021,
              29.8502
             ],
             [
              -94.8033,
              29.8513
             ],
             [
              -94.8024,
              29.8531
             ],
             [
              -94.7985,
              29.8533
             ],
             [
              -94.797,
              29.855
             ],
             [
              -94.7991,
              29.856
             ],
             [
              -94.7996,
              29.8586
             ],
             [
              -94.7982,
              29.8594
             ],
             [
              -94.7987,
              29.8607
             ],
             [
              -94.8011,
              29.8609
             ],
             [
              -94.8067,
              29.8602
             ],
             [
              -94.809,
              29.8603
             ],
             [
              -94.8104,
              29.8617
             ],
             [
              -94.8091,
              29.8621
             ],
             [
              -94.8049,
              29.8619
             ],
             [
              -94.8032,
              29.8626
             ],
             [
              -94.8028,
              29.8654
             ],
             [
              -94.8039,
              29.8665
             ],
             [
              -94.8054,
              29.8662
             ],
             [
              -94.8083,
              29.8644
             ],
             [
              -94.8101,
              29.8639
             ],
             [
              -94.8125,
              29.8646
             ],
             [
              -94.8136,
              29.8661
             ],
             [
              -94.814,
              29.87
             ],
             [
              -94.8133,
              29.8717
             ],
             [
              -94.8124,
              29.8728
             ],
             [
              -94.8085,
              29.8723
             ],
             [
              -94.8074,
              29.8738
             ],
             [
              -94.8078,
              29.8754
             ],
             [
              -94.8097,
              29.8738
             ],
             [
              -94.811,
              29.8753
             ],
             [
              -94.8111,
              29.8766
             ],
             [
              -94.8132,
              29.8783
             ],
             [
              -94.815,
              29.877
             ],
             [
              -94.8167,
              29.8798
             ],
             [
              -94.8167,
              29.8817
             ],
             [
              -94.8174,
              29.882
             ],
             [
              -94.817,
              29.8812
             ],
             [
              -94.8183,
              29.8804
             ],
             [
              -94.8165,
              29.8767
             ],
             [
              -94.8166,
              29.8752
             ],
             [
              -94.8186,
              29.8752
             ],
             [
              -94.8226,
              29.8739
             ],
             [
              -94.824,
              29.8739
             ],
             [
              -94.8269,
              29.8728
             ],
             [
              -94.8269,
              29.8744
             ],
             [
              -94.8287,
              29.8748
             ],
             [
              -94.831,
              29.8743
             ],
             [
              -94.8337,
              29.8721
             ],
             [
              -94.8361,
              29.8728
             ],
             [
              -94.8394,
              29.8734
             ],
             [
              -94.8421,
              29.8766
             ],
             [
              -94.8428,
              29.8774
             ],
             [
              -94.847,
              29.8787
             ],
             [
              -94.8482,
              29.8769
             ],
             [
              -94.8469,
              29.8742
             ],
             [
              -94.8476,
              29.873
             ],
             [
              -94.8483,
              29.8727
             ],
             [
              -94.8512,
              29.8758
             ],
             [
              -94.8527,
              29.8763
             ],
             [
              -94.8523,
              29.878
             ],
             [
              -94.8553,
              29.8788
             ],
             [
              -94.8571,
              29.8806
             ],
             [
              -94.855,
              29.8816
             ],
             [
              -94.8528,
              29.8841
             ],
             [
              -94.8557,
              29.8853
             ],
             [
              -94.8548,
              29.8858
             ],
             [
              -94.8647,
              29.8857
             ],
             [
              -94.8714,
              29.8826
             ],
             [
              -94.8703,
              29.8812
             ],
             [
              -94.8726,
              29.88
             ],
             [
              -94.8707,
              29.8782
             ],
             [
              -94.8727,
              29.8778
             ],
             [
              -94.8817,
              29.8717
             ],
             [
              -94.8792,
              29.8699
             ],
             [
              -94.8729,
              29.866
             ],
             [
              -94.8709,
              29.8647
             ],
             [
              -94.8694,
              29.8631
             ],
             [
              -94.8688,
              29.8623
             ],
             [
              -94.8795,
              29.8607
             ],
             [
              -94.8933,
              29.8668
             ],
             [
              -94.893,
              29.8695
             ],
             [
              -94.8946,
              29.8853
             ],
             [
              -94.8941,
              29.8854
             ],
             [
              -94.9521,
              29.8846
             ],
             [
              -94.9546,
              29.8847
             ],
             [
              -94.9586,
              29.8844
             ],
             [
              -94.9815,
              29.8843
             ],
             [
              -94.9861,
              29.8911
             ],
             [
              -94.9844,
              29.8932
             ],
             [
              -94.9852,
              29.8967
             ],
             [
              -94.9879,
              29.9047
             ],
             [
              -94.9929,
              29.9119
             ],
             [
              -94.9937,
              29.9124
             ],
             [
              -94.9948,
              29.9154
             ],
             [
              -94.9964,
              29.9181
             ],
             [
              -94.9987,
              29.9198
             ],
             [
              -94.9977,
              29.922
             ],
             [
              -94.9965,
              29.9238
             ],
             [
              -94.9955,
              29.924
             ],
             [
              -94.9942,
              29.9257
             ],
             [
              -94.9931,
              29.926
             ],
             [
              -94.9929,
              29.9278
             ],
             [
              -94.9952,
              29.929
             ],
             [
              -94.9961,
              29.9301
             ],
             [
              -94.9951,
              29.9362
             ],
             [
              -94.9947,
              29.9373
             ],
             [
              -94.992,
              29.9408
             ],
             [
              -94.9877,
              29.9528
             ],
             [
              -94.9812,
              29.9556
             ],
             [
              -94.9806,
              29.9571
             ],
             [
              -94.9821,
              29.9648
             ],
             [
              -94.9848,
              29.968
             ],
             [
              -94.9854,
              29.9723
             ],
             [
              -94.9859,
              29.973
             ],
             [
              -94.9878,
              29.9745
             ],
             [
              -94.9954,
              29.9778
             ],
             [
              -94.9953,
              29.9794
             ],
             [
              -94.9998,
              29.9913
             ],
             [
              -95.0031,
              29.9923
             ],
             [
              -95.0171,
              29.9958
             ],
             [
              -95.0187,
              29.9965
             ],
             [
              -95.0219,
              29.9969
             ],
             [
              -95.0272,
              29.9967
             ],
             [
              -95.0287,
              29.9946
             ],
             [
              -95.0309,
              29.9937
             ],
             [
              -95.0357,
              30.0051
             ],
             [
              -95.0446,
              30.028
             ],
             [
              -95.0461,
              30.0327
             ],
             [
              -95.0726,
              30.1031
             ],
             [
              -95.0707,
              30.1037
             ]
            ]
           ]
          ],
          "type": "MultiPolygon"
         },
         "properties": {
          "AFFGEOID10": "8600000US77535",
          "ALAND10": 813235411,
          "AWATER10": 8784382,
          "GEOID10": "77535",
          "ZCTA5CE10": "77535"
         },
         "type": "Feature"
        },
        {
         "geometry": {
          "coordinates": [
           [
            [
             [
              -95.5217,
              29.9367
             ],
             [
              -95.4978,
              29.9372
             ],
             [
              -95.4833,
              29.9377
             ],
             [
              -95.4833,
              29.9376
             ],
             [
              -95.4833,
              29.9374
             ],
             [
              -95.4832,
              29.9352
             ],
             [
              -95.4725,
              29.9351
             ],
             [
              -95.4706,
              29.9324
             ],
             [
              -95.4705,
              29.9297
             ],
             [
              -95.4683,
              29.928
             ],
             [
              -95.4683,
              29.9249
             ],
             [
              -95.4704,
              29.9236
             ],
             [
              -95.4694,
              29.921
             ],
             [
              -95.4693,
              29.9134
             ],
             [
              -95.4699,
              29.91
             ],
             [
              -95.4699,
              29.9049
             ],
             [
              -95.4673,
              29.9031
             ],
             [
              -95.4627,
              29.8985
             ],
             [
              -95.4601,
              29.8976
             ],
             [
              -95.4533,
              29.8975
             ],
             [
              -95.4635,
              29.8975
             ],
             [
              -95.4647,
              29.8987
             ],
             [
              -95.4681,
              29.8989
             ],
             [
              -95.4702,
              29.8997
             ],
             [
              -95.4756,
              29.8997
             ],
             [
              -95.4758,
              29.8977
             ],
             [
              -95.4802,
              29.898
             ],
             [
              -95.4804,
              29.8997
             ],
             [
              -95.4957,
              29.8997
             ],
             [
              -95.4956,
              29.8936
             ],
             [
              -95.4944,
              29.8892
             ],
             [
              -95.4949,
              29.8892
             ],
             [
              -95.4957,
              29.8906
             ],
             [
              -95.4957,
              29.8911
             ],
             [
              -95.5038,
              29.8916
             ],
             [
              -95.5041,
              29.8992
             ],
             [
              -95.5007,
              29.8996
             ],
             [
              -95.5217,
              29.9367
             ]
            ]
           ]
          ],
          "type": "MultiPolygon"
         },
         "properties": {
          "AFFGEOID10": "8600000US77086",
          "ALAND10": 17574575,
          "AWATER10": 13632,
          "GEOID10": "77086",
          "ZCTA5CE10": "77086"
         },
         "type": "Feature"
        }
       ],
       "type": "FeatureCollection"
      },
      "text/html": [
       "<table>\n",
       "<caption>A sf: 6 × 6</caption>\n",
       "<thead>\n",
       "\t<tr><th></th><th scope=col>ZCTA5CE10</th><th scope=col>AFFGEOID10</th><th scope=col>GEOID10</th><th scope=col>ALAND10</th><th scope=col>AWATER10</th><th scope=col>geom</th></tr>\n",
       "\t<tr><th></th><th scope=col>&lt;fct&gt;</th><th scope=col>&lt;fct&gt;</th><th scope=col>&lt;fct&gt;</th><th scope=col>&lt;dbl&gt;</th><th scope=col>&lt;dbl&gt;</th><th scope=col>&lt;MULTIPOLYGON [°]&gt;</th></tr>\n",
       "</thead>\n",
       "<tbody>\n",
       "\t<tr><th scope=row>1</th><td>77575</td><td>8600000US77575</td><td>77575</td><td>619991214</td><td>17419213</td><td>MULTIPOLYGON (((-94.85061 3...</td></tr>\n",
       "\t<tr><th scope=row>2</th><td>77445</td><td>8600000US77445</td><td>77445</td><td>458544625</td><td> 7003639</td><td>MULTIPOLYGON (((-95.96928 3...</td></tr>\n",
       "\t<tr><th scope=row>3</th><td>77518</td><td>8600000US77518</td><td>77518</td><td>  7509514</td><td>   47494</td><td>MULTIPOLYGON (((-95.00817 2...</td></tr>\n",
       "\t<tr><th scope=row>4</th><td>77583</td><td>8600000US77583</td><td>77583</td><td>432246130</td><td> 8204018</td><td>MULTIPOLYGON (((-95.41597 2...</td></tr>\n",
       "\t<tr><th scope=row>5</th><td>77535</td><td>8600000US77535</td><td>77535</td><td>813235411</td><td> 8784382</td><td>MULTIPOLYGON (((-95.0707 30...</td></tr>\n",
       "\t<tr><th scope=row>6</th><td>77086</td><td>8600000US77086</td><td>77086</td><td> 17574575</td><td>   13632</td><td>MULTIPOLYGON (((-95.52172 2...</td></tr>\n",
       "</tbody>\n",
       "</table>\n"
      ],
      "text/latex": [
       "A sf: 6 × 6\n",
       "\\begin{tabular}{r|llllll}\n",
       "  & ZCTA5CE10 & AFFGEOID10 & GEOID10 & ALAND10 & AWATER10 & geom\\\\\n",
       "  & <fct> & <fct> & <fct> & <dbl> & <dbl> & <MULTIPOLYGON {[}°{]}>\\\\\n",
       "\\hline\n",
       "\t1 & 77575 & 8600000US77575 & 77575 & 619991214 & 17419213 & MULTIPOLYGON (((-94.85061 3...\\\\\n",
       "\t2 & 77445 & 8600000US77445 & 77445 & 458544625 &  7003639 & MULTIPOLYGON (((-95.96928 3...\\\\\n",
       "\t3 & 77518 & 8600000US77518 & 77518 &   7509514 &    47494 & MULTIPOLYGON (((-95.00817 2...\\\\\n",
       "\t4 & 77583 & 8600000US77583 & 77583 & 432246130 &  8204018 & MULTIPOLYGON (((-95.41597 2...\\\\\n",
       "\t5 & 77535 & 8600000US77535 & 77535 & 813235411 &  8784382 & MULTIPOLYGON (((-95.0707 30...\\\\\n",
       "\t6 & 77086 & 8600000US77086 & 77086 &  17574575 &    13632 & MULTIPOLYGON (((-95.52172 2...\\\\\n",
       "\\end{tabular}\n"
      ],
      "text/markdown": [
       "\n",
       "A sf: 6 × 6\n",
       "\n",
       "| <!--/--> | ZCTA5CE10 &lt;fct&gt; | AFFGEOID10 &lt;fct&gt; | GEOID10 &lt;fct&gt; | ALAND10 &lt;dbl&gt; | AWATER10 &lt;dbl&gt; | geom &lt;MULTIPOLYGON [°]&gt; |\n",
       "|---|---|---|---|---|---|---|\n",
       "| 1 | 77575 | 8600000US77575 | 77575 | 619991214 | 17419213 | MULTIPOLYGON (((-94.85061 3... |\n",
       "| 2 | 77445 | 8600000US77445 | 77445 | 458544625 |  7003639 | MULTIPOLYGON (((-95.96928 3... |\n",
       "| 3 | 77518 | 8600000US77518 | 77518 |   7509514 |    47494 | MULTIPOLYGON (((-95.00817 2... |\n",
       "| 4 | 77583 | 8600000US77583 | 77583 | 432246130 |  8204018 | MULTIPOLYGON (((-95.41597 2... |\n",
       "| 5 | 77535 | 8600000US77535 | 77535 | 813235411 |  8784382 | MULTIPOLYGON (((-95.0707 30... |\n",
       "| 6 | 77086 | 8600000US77086 | 77086 |  17574575 |    13632 | MULTIPOLYGON (((-95.52172 2... |\n",
       "\n"
      ],
      "text/plain": [
       "  ZCTA5CE10 AFFGEOID10     GEOID10 ALAND10   AWATER10\n",
       "1 77575     8600000US77575 77575   619991214 17419213\n",
       "2 77445     8600000US77445 77445   458544625  7003639\n",
       "3 77518     8600000US77518 77518     7509514    47494\n",
       "4 77583     8600000US77583 77583   432246130  8204018\n",
       "5 77535     8600000US77535 77535   813235411  8784382\n",
       "6 77086     8600000US77086 77086    17574575    13632\n",
       "  geom                          \n",
       "1 MULTIPOLYGON (((-94.85061 3...\n",
       "2 MULTIPOLYGON (((-95.96928 3...\n",
       "3 MULTIPOLYGON (((-95.00817 2...\n",
       "4 MULTIPOLYGON (((-95.41597 2...\n",
       "5 MULTIPOLYGON (((-95.0707 30...\n",
       "6 MULTIPOLYGON (((-95.52172 2..."
      ]
     },
     "metadata": {},
     "output_type": "display_data"
    }
   ],
   "source": [
    "head(zip_sf)"
   ]
  },
  {
   "cell_type": "code",
   "execution_count": 48,
   "metadata": {},
   "outputs": [
    {
     "data": {
      "text/html": [
       "<table>\n",
       "<caption>A tibble: 6 × 20</caption>\n",
       "<thead>\n",
       "\t<tr><th scope=col>OBJECTID</th><th scope=col>Zipcode</th><th scope=col>AFFGEOID10</th><th scope=col>Total A-Zone Structures</th><th scope=col>Total Structures Out of Flood Plain</th><th scope=col>Total VE-Zone Structures</th><th scope=col>Total X500-Zone Structures</th><th scope=col>Total Structures</th><th scope=col>Total A-Zone Policies</th><th scope=col>Total Policies Out of Flood Plain</th><th scope=col>Total VE-Zone Policies</th><th scope=col>Total XX500-Zone Policies</th><th scope=col>Total Policies</th><th scope=col>A-Zone Market Penetration</th><th scope=col>Market Penetration Out of Flood Plain</th><th scope=col>VE-Zone Market Penetration</th><th scope=col>X500-Zone Market Penetration</th><th scope=col>Market Penetration</th><th scope=col>Shape_Area</th><th scope=col>Shape_Length</th></tr>\n",
       "\t<tr><th scope=col>&lt;dbl&gt;</th><th scope=col>&lt;dbl&gt;</th><th scope=col>&lt;chr&gt;</th><th scope=col>&lt;dbl&gt;</th><th scope=col>&lt;dbl&gt;</th><th scope=col>&lt;dbl&gt;</th><th scope=col>&lt;dbl&gt;</th><th scope=col>&lt;dbl&gt;</th><th scope=col>&lt;dbl&gt;</th><th scope=col>&lt;dbl&gt;</th><th scope=col>&lt;dbl&gt;</th><th scope=col>&lt;dbl&gt;</th><th scope=col>&lt;dbl&gt;</th><th scope=col>&lt;dbl&gt;</th><th scope=col>&lt;dbl&gt;</th><th scope=col>&lt;dbl&gt;</th><th scope=col>&lt;dbl&gt;</th><th scope=col>&lt;dbl&gt;</th><th scope=col>&lt;dbl&gt;</th><th scope=col>&lt;dbl&gt;</th></tr>\n",
       "</thead>\n",
       "<tbody>\n",
       "\t<tr><td>1</td><td>77630</td><td>8600000US77630</td><td>4753</td><td> 7656</td><td>0</td><td> 4042</td><td>16451</td><td>1128</td><td>1447</td><td>0</td><td> 718</td><td>3293</td><td>0.237324</td><td>0.189002</td><td>0</td><td>0.177635</td><td>0.200170</td><td>359294057</td><td>179435.00</td></tr>\n",
       "\t<tr><td>2</td><td>77584</td><td>8600000US77584</td><td>4168</td><td>22802</td><td>0</td><td> 1558</td><td>28528</td><td>1190</td><td>5054</td><td>0</td><td> 464</td><td>6708</td><td>0.285509</td><td>0.221647</td><td>0</td><td>0.297818</td><td>0.235137</td><td>110432168</td><td> 76457.95</td></tr>\n",
       "\t<tr><td>3</td><td>77089</td><td>8600000US77089</td><td>2983</td><td>  402</td><td>0</td><td>11176</td><td>14561</td><td>1954</td><td>  37</td><td>0</td><td>2512</td><td>4503</td><td>0.655045</td><td>0.092040</td><td>0</td><td>0.224767</td><td>0.309251</td><td> 45612532</td><td> 42899.19</td></tr>\n",
       "\t<tr><td>4</td><td>77536</td><td>8600000US77536</td><td> 668</td><td>11949</td><td>0</td><td> 1517</td><td>14134</td><td> 300</td><td>3120</td><td>0</td><td> 613</td><td>4033</td><td>0.449102</td><td>0.261110</td><td>0</td><td>0.404087</td><td>0.285340</td><td> 44901819</td><td> 36119.95</td></tr>\n",
       "\t<tr><td>5</td><td>77447</td><td>8600000US77447</td><td> 249</td><td> 4420</td><td>0</td><td>  150</td><td> 4819</td><td>  69</td><td> 208</td><td>0</td><td>  17</td><td> 294</td><td>0.277108</td><td>0.047059</td><td>0</td><td>0.113333</td><td>0.061009</td><td>353948341</td><td>121780.77</td></tr>\n",
       "\t<tr><td>6</td><td>77038</td><td>8600000US77038</td><td>2504</td><td> 3867</td><td>0</td><td> 1216</td><td> 7587</td><td> 596</td><td> 248</td><td>0</td><td> 109</td><td> 953</td><td>0.238019</td><td>0.064132</td><td>0</td><td>0.089638</td><td>0.125610</td><td> 32783280</td><td> 30082.85</td></tr>\n",
       "</tbody>\n",
       "</table>\n"
      ],
      "text/latex": [
       "A tibble: 6 × 20\n",
       "\\begin{tabular}{llllllllllllllllllll}\n",
       " OBJECTID & Zipcode & AFFGEOID10 & Total A-Zone Structures & Total Structures Out of Flood Plain & Total VE-Zone Structures & Total X500-Zone Structures & Total Structures & Total A-Zone Policies & Total Policies Out of Flood Plain & Total VE-Zone Policies & Total XX500-Zone Policies & Total Policies & A-Zone Market Penetration & Market Penetration Out of Flood Plain & VE-Zone Market Penetration & X500-Zone Market Penetration & Market Penetration & Shape\\_Area & Shape\\_Length\\\\\n",
       " <dbl> & <dbl> & <chr> & <dbl> & <dbl> & <dbl> & <dbl> & <dbl> & <dbl> & <dbl> & <dbl> & <dbl> & <dbl> & <dbl> & <dbl> & <dbl> & <dbl> & <dbl> & <dbl> & <dbl>\\\\\n",
       "\\hline\n",
       "\t 1 & 77630 & 8600000US77630 & 4753 &  7656 & 0 &  4042 & 16451 & 1128 & 1447 & 0 &  718 & 3293 & 0.237324 & 0.189002 & 0 & 0.177635 & 0.200170 & 359294057 & 179435.00\\\\\n",
       "\t 2 & 77584 & 8600000US77584 & 4168 & 22802 & 0 &  1558 & 28528 & 1190 & 5054 & 0 &  464 & 6708 & 0.285509 & 0.221647 & 0 & 0.297818 & 0.235137 & 110432168 &  76457.95\\\\\n",
       "\t 3 & 77089 & 8600000US77089 & 2983 &   402 & 0 & 11176 & 14561 & 1954 &   37 & 0 & 2512 & 4503 & 0.655045 & 0.092040 & 0 & 0.224767 & 0.309251 &  45612532 &  42899.19\\\\\n",
       "\t 4 & 77536 & 8600000US77536 &  668 & 11949 & 0 &  1517 & 14134 &  300 & 3120 & 0 &  613 & 4033 & 0.449102 & 0.261110 & 0 & 0.404087 & 0.285340 &  44901819 &  36119.95\\\\\n",
       "\t 5 & 77447 & 8600000US77447 &  249 &  4420 & 0 &   150 &  4819 &   69 &  208 & 0 &   17 &  294 & 0.277108 & 0.047059 & 0 & 0.113333 & 0.061009 & 353948341 & 121780.77\\\\\n",
       "\t 6 & 77038 & 8600000US77038 & 2504 &  3867 & 0 &  1216 &  7587 &  596 &  248 & 0 &  109 &  953 & 0.238019 & 0.064132 & 0 & 0.089638 & 0.125610 &  32783280 &  30082.85\\\\\n",
       "\\end{tabular}\n"
      ],
      "text/markdown": [
       "\n",
       "A tibble: 6 × 20\n",
       "\n",
       "| OBJECTID &lt;dbl&gt; | Zipcode &lt;dbl&gt; | AFFGEOID10 &lt;chr&gt; | Total A-Zone Structures &lt;dbl&gt; | Total Structures Out of Flood Plain &lt;dbl&gt; | Total VE-Zone Structures &lt;dbl&gt; | Total X500-Zone Structures &lt;dbl&gt; | Total Structures &lt;dbl&gt; | Total A-Zone Policies &lt;dbl&gt; | Total Policies Out of Flood Plain &lt;dbl&gt; | Total VE-Zone Policies &lt;dbl&gt; | Total XX500-Zone Policies &lt;dbl&gt; | Total Policies &lt;dbl&gt; | A-Zone Market Penetration &lt;dbl&gt; | Market Penetration Out of Flood Plain &lt;dbl&gt; | VE-Zone Market Penetration &lt;dbl&gt; | X500-Zone Market Penetration &lt;dbl&gt; | Market Penetration &lt;dbl&gt; | Shape_Area &lt;dbl&gt; | Shape_Length &lt;dbl&gt; |\n",
       "|---|---|---|---|---|---|---|---|---|---|---|---|---|---|---|---|---|---|---|---|\n",
       "| 1 | 77630 | 8600000US77630 | 4753 |  7656 | 0 |  4042 | 16451 | 1128 | 1447 | 0 |  718 | 3293 | 0.237324 | 0.189002 | 0 | 0.177635 | 0.200170 | 359294057 | 179435.00 |\n",
       "| 2 | 77584 | 8600000US77584 | 4168 | 22802 | 0 |  1558 | 28528 | 1190 | 5054 | 0 |  464 | 6708 | 0.285509 | 0.221647 | 0 | 0.297818 | 0.235137 | 110432168 |  76457.95 |\n",
       "| 3 | 77089 | 8600000US77089 | 2983 |   402 | 0 | 11176 | 14561 | 1954 |   37 | 0 | 2512 | 4503 | 0.655045 | 0.092040 | 0 | 0.224767 | 0.309251 |  45612532 |  42899.19 |\n",
       "| 4 | 77536 | 8600000US77536 |  668 | 11949 | 0 |  1517 | 14134 |  300 | 3120 | 0 |  613 | 4033 | 0.449102 | 0.261110 | 0 | 0.404087 | 0.285340 |  44901819 |  36119.95 |\n",
       "| 5 | 77447 | 8600000US77447 |  249 |  4420 | 0 |   150 |  4819 |   69 |  208 | 0 |   17 |  294 | 0.277108 | 0.047059 | 0 | 0.113333 | 0.061009 | 353948341 | 121780.77 |\n",
       "| 6 | 77038 | 8600000US77038 | 2504 |  3867 | 0 |  1216 |  7587 |  596 |  248 | 0 |  109 |  953 | 0.238019 | 0.064132 | 0 | 0.089638 | 0.125610 |  32783280 |  30082.85 |\n",
       "\n"
      ],
      "text/plain": [
       "  OBJECTID Zipcode AFFGEOID10     Total A-Zone Structures\n",
       "1 1        77630   8600000US77630 4753                   \n",
       "2 2        77584   8600000US77584 4168                   \n",
       "3 3        77089   8600000US77089 2983                   \n",
       "4 4        77536   8600000US77536  668                   \n",
       "5 5        77447   8600000US77447  249                   \n",
       "6 6        77038   8600000US77038 2504                   \n",
       "  Total Structures Out of Flood Plain Total VE-Zone Structures\n",
       "1  7656                               0                       \n",
       "2 22802                               0                       \n",
       "3   402                               0                       \n",
       "4 11949                               0                       \n",
       "5  4420                               0                       \n",
       "6  3867                               0                       \n",
       "  Total X500-Zone Structures Total Structures Total A-Zone Policies\n",
       "1  4042                      16451            1128                 \n",
       "2  1558                      28528            1190                 \n",
       "3 11176                      14561            1954                 \n",
       "4  1517                      14134             300                 \n",
       "5   150                       4819              69                 \n",
       "6  1216                       7587             596                 \n",
       "  Total Policies Out of Flood Plain Total VE-Zone Policies\n",
       "1 1447                              0                     \n",
       "2 5054                              0                     \n",
       "3   37                              0                     \n",
       "4 3120                              0                     \n",
       "5  208                              0                     \n",
       "6  248                              0                     \n",
       "  Total XX500-Zone Policies Total Policies A-Zone Market Penetration\n",
       "1  718                      3293           0.237324                 \n",
       "2  464                      6708           0.285509                 \n",
       "3 2512                      4503           0.655045                 \n",
       "4  613                      4033           0.449102                 \n",
       "5   17                       294           0.277108                 \n",
       "6  109                       953           0.238019                 \n",
       "  Market Penetration Out of Flood Plain VE-Zone Market Penetration\n",
       "1 0.189002                              0                         \n",
       "2 0.221647                              0                         \n",
       "3 0.092040                              0                         \n",
       "4 0.261110                              0                         \n",
       "5 0.047059                              0                         \n",
       "6 0.064132                              0                         \n",
       "  X500-Zone Market Penetration Market Penetration Shape_Area Shape_Length\n",
       "1 0.177635                     0.200170           359294057  179435.00   \n",
       "2 0.297818                     0.235137           110432168   76457.95   \n",
       "3 0.224767                     0.309251            45612532   42899.19   \n",
       "4 0.404087                     0.285340            44901819   36119.95   \n",
       "5 0.113333                     0.061009           353948341  121780.77   \n",
       "6 0.089638                     0.125610            32783280   30082.85   "
      ]
     },
     "metadata": {},
     "output_type": "display_data"
    }
   ],
   "source": [
    "head(nfip_df)"
   ]
  },
  {
   "cell_type": "code",
   "execution_count": null,
   "metadata": {},
   "outputs": [],
   "source": []
  },
  {
   "cell_type": "code",
   "execution_count": null,
   "metadata": {},
   "outputs": [],
   "source": []
  },
  {
   "cell_type": "markdown",
   "metadata": {},
   "source": [
    "## Processing #2 - rasterise"
   ]
  },
  {
   "cell_type": "code",
   "execution_count": 36,
   "metadata": {
    "scrolled": true
   },
   "outputs": [
    {
     "data": {
      "text/html": [
       "<table>\n",
       "<caption>A data.frame: 29 × 27</caption>\n",
       "<thead>\n",
       "\t<tr><th scope=col>Path To File</th><th scope=col>Document Name</th><th scope=col>CensusIdName</th><th scope=col>Clean/Final Data</th><th scope=col>Domain</th><th scope=col>Subcategory</th><th scope=col>Data Column Name</th><th scope=col>Unit of Data</th><th scope=col>Indicator Name</th><th scope=col>indicator_name_short</th><th scope=col>⋯</th><th scope=col>Format</th><th scope=col>Geographic Level</th><th scope=col>URL</th><th scope=col>Download Date</th><th scope=col>GEOID Column Name</th><th scope=col>missing_data_value</th><th scope=col>to_process</th><th scope=col>processed</th><th scope=col>Notes</th><th scope=col>Data notes</th></tr>\n",
       "\t<tr><th scope=col>&lt;chr&gt;</th><th scope=col>&lt;chr&gt;</th><th scope=col>&lt;chr&gt;</th><th scope=col>&lt;chr&gt;</th><th scope=col>&lt;chr&gt;</th><th scope=col>&lt;chr&gt;</th><th scope=col>&lt;chr&gt;</th><th scope=col>&lt;chr&gt;</th><th scope=col>&lt;chr&gt;</th><th scope=col>&lt;chr&gt;</th><th scope=col>⋯</th><th scope=col>&lt;chr&gt;</th><th scope=col>&lt;chr&gt;</th><th scope=col>&lt;chr&gt;</th><th scope=col>&lt;chr&gt;</th><th scope=col>&lt;chr&gt;</th><th scope=col>&lt;chr&gt;</th><th scope=col>&lt;dbl&gt;</th><th scope=col>&lt;dbl&gt;</th><th scope=col>&lt;chr&gt;</th><th scope=col>&lt;chr&gt;</th></tr>\n",
       "</thead>\n",
       "<tbody>\n",
       "\t<tr><td>Health/LifeExpectancy.csv                                                          </td><td>LifeExpectancy                                                      </td><td>Census Tract</td><td>YES            </td><td>Health        </td><td>Overall Physical Health          </td><td>Life expectancy at birth, as of 2010-2015.                      </td><td>NA</td><td>Life Expectancy                                                   </td><td>LifeExpectancy        </td><td>⋯</td><td>Census Tract              </td><td>Census Tract              </td><td>NA  </td><td>05/08/2021</td><td>Census Tract</td><td>-999</td><td>1</td><td>1</td><td>W Verified. This is a rate.                                                                                                                                                                                                                                                                                                                                                                                                                                                                                                                                                                                                                                                </td><td>NA                                                                                                                                                                  </td></tr>\n",
       "\t<tr><td><span style=white-space:pre-wrap>Health/PLACES__Local_Data_for_Better_Health__Census_Tract_Data_2021_release.csv    </span></td><td>PLACES__Local_Data_for_Better_Health__Census_Tract_Data_2021_release</td><td><span style=white-space:pre-wrap>LocationID  </span></td><td><span style=white-space:pre-wrap>YES            </span></td><td><span style=white-space:pre-wrap>Health        </span></td><td><span style=white-space:pre-wrap>Chronic Disease                  </span></td><td><span style=white-space:pre-wrap>CASTHMA                                                         </span></td><td>NA</td><td><span style=white-space:pre-wrap>Current asthma among adults aged &gt;=18 years                       </span></td><td><span style=white-space:pre-wrap>CASTHMA               </span></td><td>⋯</td><td>Census Tract (Model based)</td><td>Census Tract (Model based)</td><td>Link</td><td>21/12/2021</td><td>LocationName</td><td>none</td><td>1</td><td>1</td><td><span style=white-space:pre-wrap>W Verified. This is a % per total population in CST.                                                                                                                                                                                                                                                                                                                                                                                                                                                                                                                                                                                                                       </span></td><td><span style=white-space:pre-wrap>NA                                                                                                                                                                  </span></td></tr>\n",
       "\t<tr><td><span style=white-space:pre-wrap>Health/PLACES__Local_Data_for_Better_Health__Census_Tract_Data_2021_release.csv    </span></td><td>PLACES__Local_Data_for_Better_Health__Census_Tract_Data_2021_release</td><td><span style=white-space:pre-wrap>LocationID  </span></td><td><span style=white-space:pre-wrap>YES            </span></td><td><span style=white-space:pre-wrap>Health        </span></td><td><span style=white-space:pre-wrap>Chronic Disease                  </span></td><td><span style=white-space:pre-wrap>STROKE                                                          </span></td><td>NA</td><td><span style=white-space:pre-wrap>Stroke among adults aged &gt;=18 years                               </span></td><td><span style=white-space:pre-wrap>STROKE                </span></td><td>⋯</td><td>Census Tract (Model based)</td><td>Census Tract (Model based)</td><td>Link</td><td>21/12/2021</td><td>LocationName</td><td>none</td><td>1</td><td>1</td><td><span style=white-space:pre-wrap>W Verified. This is a % per total population in CST.                                                                                                                                                                                                                                                                                                                                                                                                                                                                                                                                                                                                                       </span></td><td><span style=white-space:pre-wrap>NA                                                                                                                                                                  </span></td></tr>\n",
       "\t<tr><td><span style=white-space:pre-wrap>Health/PLACES__Local_Data_for_Better_Health__Census_Tract_Data_2021_release.csv    </span></td><td>PLACES__Local_Data_for_Better_Health__Census_Tract_Data_2021_release</td><td><span style=white-space:pre-wrap>LocationID  </span></td><td><span style=white-space:pre-wrap>YES            </span></td><td><span style=white-space:pre-wrap>Health        </span></td><td><span style=white-space:pre-wrap>Chronic Disease                  </span></td><td><span style=white-space:pre-wrap>COPD                                                            </span></td><td>NA</td><td>Chronic obstructive pulmonary disease among adults aged &gt;=18 years</td><td><span style=white-space:pre-wrap>COPD                  </span></td><td>⋯</td><td>Census Tract (Model based)</td><td>Census Tract (Model based)</td><td>Link</td><td>21/12/2021</td><td>LocationName</td><td>none</td><td>1</td><td>1</td><td><span style=white-space:pre-wrap>W Verified. This is a % per total population in CST.                                                                                                                                                                                                                                                                                                                                                                                                                                                                                                                                                                                                                       </span></td><td><span style=white-space:pre-wrap>NA                                                                                                                                                                  </span></td></tr>\n",
       "\t<tr><td><span style=white-space:pre-wrap>Health/PLACES__Local_Data_for_Better_Health__Census_Tract_Data_2021_release.csv    </span></td><td>PLACES__Local_Data_for_Better_Health__Census_Tract_Data_2021_release</td><td><span style=white-space:pre-wrap>LocationID  </span></td><td><span style=white-space:pre-wrap>YES            </span></td><td><span style=white-space:pre-wrap>Health        </span></td><td><span style=white-space:pre-wrap>Chronic Disease                  </span></td><td><span style=white-space:pre-wrap>CHD                                                             </span></td><td>NA</td><td><span style=white-space:pre-wrap>Coronary heart disease among adults aged &gt;=18 years               </span></td><td><span style=white-space:pre-wrap>CHD                   </span></td><td>⋯</td><td>Census Tract (Model based)</td><td>Census Tract (Model based)</td><td>Link</td><td>21/12/2021</td><td>LocationName</td><td>none</td><td>1</td><td>1</td><td><span style=white-space:pre-wrap>W Verified. This is a % per total population in CST.                                                                                                                                                                                                                                                                                                                                                                                                                                                                                                                                                                                                                       </span></td><td><span style=white-space:pre-wrap>NA                                                                                                                                                                  </span></td></tr>\n",
       "\t<tr><td><span style=white-space:pre-wrap>Health/PLACES__Local_Data_for_Better_Health__Census_Tract_Data_2021_release.csv    </span></td><td>PLACES__Local_Data_for_Better_Health__Census_Tract_Data_2021_release</td><td><span style=white-space:pre-wrap>LocationID  </span></td><td><span style=white-space:pre-wrap>YES            </span></td><td><span style=white-space:pre-wrap>Health        </span></td><td><span style=white-space:pre-wrap>Chronic Disease                  </span></td><td><span style=white-space:pre-wrap>CANCER                                                          </span></td><td>NA</td><td><span style=white-space:pre-wrap>Cancer (excluding skin cancer) among adults aged &gt;=18 years       </span></td><td><span style=white-space:pre-wrap>CANCER                </span></td><td>⋯</td><td>Census Tract (Model based)</td><td>Census Tract (Model based)</td><td>Link</td><td>21/12/2021</td><td>LocationName</td><td>none</td><td>1</td><td>1</td><td><span style=white-space:pre-wrap>W Verified. This is a % per total population in CST.                                                                                                                                                                                                                                                                                                                                                                                                                                                                                                                                                                                                                       </span></td><td><span style=white-space:pre-wrap>NA                                                                                                                                                                  </span></td></tr>\n",
       "\t<tr><td>Health/PLACES__Local_Data_for_Better_Health__Census_Tract_Data_2021_release.csv    </td><td>PLACES__Local_Data_for_Better_Health__Census_Tract_Data_2021_release</td><td>LocationID  </td><td>YES            </td><td>Health        </td><td>Chronic Disease Prevention       </td><td>ACCESS2                                                         </td><td>NA</td><td>Current lack of health insurance among adults aged 18-64 years    </td><td>ACCESS2               </td><td>⋯</td><td>Census Tract (Model based)</td><td>Census Tract (Model based)</td><td>Link</td><td>21/12/2021</td><td>LocationName</td><td>none</td><td>1</td><td>1</td><td>W Verified. This is a % per total population in CST.                                                                                                                                                                                                                                                                                                                                                                                                                                                                                                                                                                                                                       </td><td>NA                                                                                                                                                                  </td></tr>\n",
       "\t<tr><td>Health/MedicallyUnderserved - coded.csv                                            </td><td>MedicallyUnderserved                                                </td><td>Census Tract</td><td>YES* (see note)</td><td>Health        </td><td>Access to Care                   </td><td>Medically Underserved Areas (MUA), as of 2020.                  </td><td>NA</td><td>MedicallyUnderserved                                              </td><td>MedicallyUnderserved  </td><td>⋯</td><td>Census Tract              </td><td>Census Tract              </td><td>NA  </td><td>13/08/2021</td><td>Census Tract</td><td>none</td><td>1</td><td>0</td><td>Suggest categorizing as follows: \n",
       "Not an MUA or MUP=1\n",
       "Medically Underserved Area (MUA)=2 (A shortage of primary health care services for residents within a geographic area (e.g., a whole county, a group of neighboring counties, a group of urban census tracts, and others geographic areas). \n",
       "Medically Underserved Population (MUP)=3 (Are specific sub- groups of people living in a defined geographic area with a shortage of primary health care services and facing economic, cultural or linguistic barriers to access to health care (e.g., homeless, low-income, Medicaid-eligible, Native American, migrant farmworkers, among others population groups).</td><td>NA                                                                                                                                                                  </td></tr>\n",
       "\t<tr><td>Social/SVI2018_US.csv                                                              </td><td>SVI2018_US                                                          </td><td>FIPS        </td><td>YES            </td><td>Social        </td><td>Socioeconomic Status             </td><td>EPL_POV                                                         </td><td>NA</td><td>Below Poverty                                                     </td><td>BelowPoverty          </td><td>⋯</td><td>Census Tract              </td><td>Census Tract              </td><td>Link</td><td>03/12/2020</td><td>FIPS        </td><td>-999</td><td>1</td><td>1</td><td>W Verified. Medians calculated separately in R.                                                                                                                                                                                                                                                                                                                                                                                                                                                                                                                                                                                                                            </td><td>NA                                                                                                                                                                  </td></tr>\n",
       "\t<tr><td>Social/SVI2018_US.csv                                                              </td><td>SVI2018_US                                                          </td><td>FIPS        </td><td>YES            </td><td>Social        </td><td>Socioeconomic Status             </td><td>EPL_UNEMP                                                       </td><td>NA</td><td>Unemployed                                                        </td><td>Unemployed            </td><td>⋯</td><td>Census Tract              </td><td>Census Tract              </td><td>Link</td><td>03/12/2020</td><td>FIPS        </td><td>-999</td><td>1</td><td>1</td><td>W Verified. Medians calculated separately in R.                                                                                                                                                                                                                                                                                                                                                                                                                                                                                                                                                                                                                            </td><td>NA                                                                                                                                                                  </td></tr>\n",
       "\t<tr><td>Social/SVI2018_US.csv                                                              </td><td>SVI2018_US                                                          </td><td>FIPS        </td><td>YES            </td><td>Social        </td><td>Socioeconomic Status             </td><td>EPL_PCI                                                         </td><td>NA</td><td>Income                                                            </td><td>Income                </td><td>⋯</td><td>Census Tract              </td><td>Census Tract              </td><td>Link</td><td>03/12/2020</td><td>FIPS        </td><td>-999</td><td>1</td><td>1</td><td>W Verified. Medians calculated separately in R.                                                                                                                                                                                                                                                                                                                                                                                                                                                                                                                                                                                                                            </td><td>NA                                                                                                                                                                  </td></tr>\n",
       "\t<tr><td>Social/SVI2018_US.csv                                                              </td><td>SVI2018_US                                                          </td><td>FIPS        </td><td>YES            </td><td>Social        </td><td>Socioeconomic Status             </td><td>EPL_NOHSDP                                                      </td><td>NA</td><td>No High School Diploma                                            </td><td>NoHSDiploma           </td><td>⋯</td><td>Census Tract              </td><td>Census Tract              </td><td>Link</td><td>03/12/2020</td><td>FIPS        </td><td>-999</td><td>1</td><td>1</td><td>W Verified. Medians calculated separately in R.                                                                                                                                                                                                                                                                                                                                                                                                                                                                                                                                                                                                                            </td><td>NA                                                                                                                                                                  </td></tr>\n",
       "\t<tr><td><span style=white-space:pre-wrap>Social/SVI2018_US.csv                                                              </span></td><td><span style=white-space:pre-wrap>SVI2018_US                                                          </span></td><td><span style=white-space:pre-wrap>FIPS        </span></td><td><span style=white-space:pre-wrap>YES            </span></td><td><span style=white-space:pre-wrap>Social        </span></td><td>Housing Composition &amp; Disability </td><td><span style=white-space:pre-wrap>EPL_AGE65                                                       </span></td><td>NA</td><td><span style=white-space:pre-wrap>Aged 65 or Older                                                  </span></td><td><span style=white-space:pre-wrap>Aged65Older           </span></td><td>⋯</td><td><span style=white-space:pre-wrap>Census Tract              </span></td><td><span style=white-space:pre-wrap>Census Tract              </span></td><td>Link</td><td>03/12/2020</td><td><span style=white-space:pre-wrap>FIPS        </span></td><td>-999</td><td>1</td><td>1</td><td><span style=white-space:pre-wrap>W Verified. Medians calculated separately in R.                                                                                                                                                                                                                                                                                                                                                                                                                                                                                                                                                                                                                            </span></td><td><span style=white-space:pre-wrap>NA                                                                                                                                                                  </span></td></tr>\n",
       "\t<tr><td><span style=white-space:pre-wrap>Social/SVI2018_US.csv                                                              </span></td><td><span style=white-space:pre-wrap>SVI2018_US                                                          </span></td><td><span style=white-space:pre-wrap>FIPS        </span></td><td><span style=white-space:pre-wrap>YES            </span></td><td><span style=white-space:pre-wrap>Social        </span></td><td>Housing Composition &amp; Disability </td><td><span style=white-space:pre-wrap>EPL_AGE17                                                       </span></td><td>NA</td><td><span style=white-space:pre-wrap>Aged 17 or Younger                                                </span></td><td><span style=white-space:pre-wrap>Aged17Younger         </span></td><td>⋯</td><td><span style=white-space:pre-wrap>Census Tract              </span></td><td><span style=white-space:pre-wrap>Census Tract              </span></td><td>Link</td><td>03/12/2020</td><td><span style=white-space:pre-wrap>FIPS        </span></td><td>-999</td><td>1</td><td>1</td><td><span style=white-space:pre-wrap>W Verified. Medians calculated separately in R.                                                                                                                                                                                                                                                                                                                                                                                                                                                                                                                                                                                                                            </span></td><td><span style=white-space:pre-wrap>NA                                                                                                                                                                  </span></td></tr>\n",
       "\t<tr><td><span style=white-space:pre-wrap>Social/SVI2018_US.csv                                                              </span></td><td><span style=white-space:pre-wrap>SVI2018_US                                                          </span></td><td><span style=white-space:pre-wrap>FIPS        </span></td><td><span style=white-space:pre-wrap>YES            </span></td><td><span style=white-space:pre-wrap>Social        </span></td><td>Housing Composition &amp; Disability </td><td><span style=white-space:pre-wrap>EPL_DISABL                                                      </span></td><td>NA</td><td><span style=white-space:pre-wrap>Civilian with a Disability                                        </span></td><td>CivilianWithDisability</td><td>⋯</td><td><span style=white-space:pre-wrap>Census Tract              </span></td><td><span style=white-space:pre-wrap>Census Tract              </span></td><td>Link</td><td>03/12/2020</td><td><span style=white-space:pre-wrap>FIPS        </span></td><td>-999</td><td>1</td><td>1</td><td><span style=white-space:pre-wrap>W Verified. Medians calculated separately in R.                                                                                                                                                                                                                                                                                                                                                                                                                                                                                                                                                                                                                            </span></td><td><span style=white-space:pre-wrap>NA                                                                                                                                                                  </span></td></tr>\n",
       "\t<tr><td><span style=white-space:pre-wrap>Social/SVI2018_US.csv                                                              </span></td><td><span style=white-space:pre-wrap>SVI2018_US                                                          </span></td><td><span style=white-space:pre-wrap>FIPS        </span></td><td><span style=white-space:pre-wrap>YES            </span></td><td><span style=white-space:pre-wrap>Social        </span></td><td>Housing Composition &amp; Disability </td><td><span style=white-space:pre-wrap>EPL_SNGPNT                                                      </span></td><td>NA</td><td><span style=white-space:pre-wrap>Single-Parent Households                                          </span></td><td><span style=white-space:pre-wrap>SingleParentHhld      </span></td><td>⋯</td><td><span style=white-space:pre-wrap>Census Tract              </span></td><td><span style=white-space:pre-wrap>Census Tract              </span></td><td>Link</td><td>03/12/2020</td><td><span style=white-space:pre-wrap>FIPS        </span></td><td>-999</td><td>1</td><td>1</td><td><span style=white-space:pre-wrap>W Verified. Medians calculated separately in R.                                                                                                                                                                                                                                                                                                                                                                                                                                                                                                                                                                                                                            </span></td><td><span style=white-space:pre-wrap>NA                                                                                                                                                                  </span></td></tr>\n",
       "\t<tr><td><span style=white-space:pre-wrap>Social/SVI2018_US.csv                                                              </span></td><td><span style=white-space:pre-wrap>SVI2018_US                                                          </span></td><td><span style=white-space:pre-wrap>FIPS        </span></td><td><span style=white-space:pre-wrap>YES            </span></td><td><span style=white-space:pre-wrap>Social        </span></td><td><span style=white-space:pre-wrap>Minority Status &amp; Language       </span></td><td><span style=white-space:pre-wrap>EPL_MINRTY                                                      </span></td><td>NA</td><td><span style=white-space:pre-wrap>Minority                                                          </span></td><td><span style=white-space:pre-wrap>Minority              </span></td><td>⋯</td><td><span style=white-space:pre-wrap>Census Tract              </span></td><td><span style=white-space:pre-wrap>Census Tract              </span></td><td>Link</td><td>03/12/2020</td><td><span style=white-space:pre-wrap>FIPS        </span></td><td>-999</td><td>1</td><td>1</td><td><span style=white-space:pre-wrap>W Verified. Medians calculated separately in R.                                                                                                                                                                                                                                                                                                                                                                                                                                                                                                                                                                                                                            </span></td><td><span style=white-space:pre-wrap>NA                                                                                                                                                                  </span></td></tr>\n",
       "\t<tr><td><span style=white-space:pre-wrap>Social/SVI2018_US.csv                                                              </span></td><td><span style=white-space:pre-wrap>SVI2018_US                                                          </span></td><td><span style=white-space:pre-wrap>FIPS        </span></td><td><span style=white-space:pre-wrap>YES            </span></td><td><span style=white-space:pre-wrap>Social        </span></td><td><span style=white-space:pre-wrap>Minority Status &amp; Language       </span></td><td><span style=white-space:pre-wrap>EPL_LIMENG                                                      </span></td><td>NA</td><td><span style=white-space:pre-wrap>Speaks English \"Less than Well\"                                   </span></td><td>SpeaksEnglishLessWell </td><td>⋯</td><td><span style=white-space:pre-wrap>Census Tract              </span></td><td><span style=white-space:pre-wrap>Census Tract              </span></td><td>Link</td><td>03/12/2020</td><td><span style=white-space:pre-wrap>FIPS        </span></td><td>-999</td><td>1</td><td>1</td><td><span style=white-space:pre-wrap>W Verified. Medians calculated separately in R.                                                                                                                                                                                                                                                                                                                                                                                                                                                                                                                                                                                                                            </span></td><td><span style=white-space:pre-wrap>~40 0 values in this dataset.                                                                                                                                       </span></td></tr>\n",
       "\t<tr><td><span style=white-space:pre-wrap>Social/SVI2018_US.csv                                                              </span></td><td><span style=white-space:pre-wrap>SVI2018_US                                                          </span></td><td><span style=white-space:pre-wrap>FIPS        </span></td><td><span style=white-space:pre-wrap>YES            </span></td><td><span style=white-space:pre-wrap>Social        </span></td><td><span style=white-space:pre-wrap>Housing &amp; Transportation         </span></td><td><span style=white-space:pre-wrap>EPL_MUNIT                                                       </span></td><td>NA</td><td><span style=white-space:pre-wrap>Multi-Unit Structures                                             </span></td><td><span style=white-space:pre-wrap>MultiUnitStructures   </span></td><td>⋯</td><td><span style=white-space:pre-wrap>Census Tract              </span></td><td><span style=white-space:pre-wrap>Census Tract              </span></td><td>Link</td><td>03/12/2020</td><td><span style=white-space:pre-wrap>FIPS        </span></td><td>-999</td><td>1</td><td>1</td><td><span style=white-space:pre-wrap>W Verified. Medians calculated separately in R.                                                                                                                                                                                                                                                                                                                                                                                                                                                                                                                                                                                                                            </span></td><td><span style=white-space:pre-wrap>Over 200 0 values in this dataset.                                                                                                                                  </span></td></tr>\n",
       "\t<tr><td><span style=white-space:pre-wrap>Social/SVI2018_US.csv                                                              </span></td><td><span style=white-space:pre-wrap>SVI2018_US                                                          </span></td><td><span style=white-space:pre-wrap>FIPS        </span></td><td><span style=white-space:pre-wrap>YES            </span></td><td><span style=white-space:pre-wrap>Social        </span></td><td><span style=white-space:pre-wrap>Housing &amp; Transportation         </span></td><td><span style=white-space:pre-wrap>EPL_MOBILE                                                      </span></td><td>NA</td><td><span style=white-space:pre-wrap>Mobile Homes                                                      </span></td><td><span style=white-space:pre-wrap>MobileHomes           </span></td><td>⋯</td><td><span style=white-space:pre-wrap>Census Tract              </span></td><td><span style=white-space:pre-wrap>Census Tract              </span></td><td>Link</td><td>03/12/2020</td><td><span style=white-space:pre-wrap>FIPS        </span></td><td>-999</td><td>1</td><td>1</td><td><span style=white-space:pre-wrap>W Verified. Medians calculated separately in R.                                                                                                                                                                                                                                                                                                                                                                                                                                                                                                                                                                                                                            </span></td><td><span style=white-space:pre-wrap>Over 500 0 values in this dataset.                                                                                                                                  </span></td></tr>\n",
       "\t<tr><td><span style=white-space:pre-wrap>Social/SVI2018_US.csv                                                              </span></td><td><span style=white-space:pre-wrap>SVI2018_US                                                          </span></td><td><span style=white-space:pre-wrap>FIPS        </span></td><td><span style=white-space:pre-wrap>YES            </span></td><td><span style=white-space:pre-wrap>Social        </span></td><td><span style=white-space:pre-wrap>Housing &amp; Transportation         </span></td><td><span style=white-space:pre-wrap>EPL_CROWD                                                       </span></td><td>NA</td><td><span style=white-space:pre-wrap>Crowding                                                          </span></td><td><span style=white-space:pre-wrap>Crowding              </span></td><td>⋯</td><td><span style=white-space:pre-wrap>Census Tract              </span></td><td><span style=white-space:pre-wrap>Census Tract              </span></td><td>Link</td><td>03/12/2020</td><td><span style=white-space:pre-wrap>FIPS        </span></td><td>-999</td><td>1</td><td>1</td><td><span style=white-space:pre-wrap>W Verified. Medians calculated separately in R.                                                                                                                                                                                                                                                                                                                                                                                                                                                                                                                                                                                                                            </span></td><td><span style=white-space:pre-wrap>Not many missing (-999) values here but there are more than 100 tracts with 0 values, despite the next lowest score being ~0.15.                                    </span></td></tr>\n",
       "\t<tr><td><span style=white-space:pre-wrap>Social/SVI2018_US.csv                                                              </span></td><td><span style=white-space:pre-wrap>SVI2018_US                                                          </span></td><td><span style=white-space:pre-wrap>FIPS        </span></td><td><span style=white-space:pre-wrap>YES            </span></td><td><span style=white-space:pre-wrap>Social        </span></td><td><span style=white-space:pre-wrap>Housing &amp; Transportation         </span></td><td><span style=white-space:pre-wrap>EPL_NOVEH                                                       </span></td><td>NA</td><td><span style=white-space:pre-wrap>No Vehicle                                                        </span></td><td><span style=white-space:pre-wrap>NoVehicle             </span></td><td>⋯</td><td><span style=white-space:pre-wrap>Census Tract              </span></td><td><span style=white-space:pre-wrap>Census Tract              </span></td><td>Link</td><td>03/12/2020</td><td><span style=white-space:pre-wrap>FIPS        </span></td><td>-999</td><td>1</td><td>1</td><td><span style=white-space:pre-wrap>W Verified. Medians calculated separately in R.                                                                                                                                                                                                                                                                                                                                                                                                                                                                                                                                                                                                                            </span></td><td><span style=white-space:pre-wrap>NA                                                                                                                                                                  </span></td></tr>\n",
       "\t<tr><td><span style=white-space:pre-wrap>Social/SVI2018_US.csv                                                              </span></td><td><span style=white-space:pre-wrap>SVI2018_US                                                          </span></td><td><span style=white-space:pre-wrap>FIPS        </span></td><td><span style=white-space:pre-wrap>YES            </span></td><td><span style=white-space:pre-wrap>Social        </span></td><td><span style=white-space:pre-wrap>Housing &amp; Transportation         </span></td><td><span style=white-space:pre-wrap>EPL_GROUPQ                                                      </span></td><td>NA</td><td><span style=white-space:pre-wrap>Group Quarters                                                    </span></td><td><span style=white-space:pre-wrap>GroupQuarters         </span></td><td>⋯</td><td><span style=white-space:pre-wrap>Census Tract              </span></td><td><span style=white-space:pre-wrap>Census Tract              </span></td><td>Link</td><td>03/12/2020</td><td><span style=white-space:pre-wrap>FIPS        </span></td><td>-999</td><td>1</td><td>1</td><td><span style=white-space:pre-wrap>W Verified. Medians calculated separately in R.                                                                                                                                                                                                                                                                                                                                                                                                                                                                                                                                                                                                                            </span></td><td><span style=white-space:pre-wrap>More than half of census tracts have 0 values in this dataset.                                                                                                      </span></td></tr>\n",
       "\t<tr><td>Social/NSP2 - US Total.csv                                                         </td><td>NSP2 - US Total                                                     </td><td>NA          </td><td>YES            </td><td>Social        </td><td>HUD Foreclosure                  </td><td>fordq_rate                                                      </td><td>NA</td><td>Foreclosure Rate                                                  </td><td>ForeclosureRate       </td><td>⋯</td><td>Census Tract              </td><td>Census Tract              </td><td>Link</td><td>03/01/2022</td><td>geoid       </td><td>none</td><td>1</td><td>1</td><td>W Verified. fordq_rate = Estimated percent of mortgages to start foreclosure process or be seriously delinquent in past 2 years                                                                                                                                                                                                                                                                                                                                                                                                                                                                                                                                            </td><td>Need to check missing value in this dataset                                                                                                                         </td></tr>\n",
       "\t<tr><td>Infrastructure/BroadbandAcess_PercentHousehold_nointernet_allstates-fixedtracts.csv</td><td>BroadbandAcess_PercentHousehold_nointernet_allstates                </td><td>CensusTract </td><td>n/a            </td><td>Infrastructure</td><td>Communications                   </td><td>data_value                                                      </td><td>NA</td><td>No Broadband Access                                               </td><td>NoBroadbandAccess     </td><td>⋯</td><td>Census Tract              </td><td>Census Tract              </td><td>Link</td><td>01/11/2021</td><td>CensusTract </td><td>none</td><td>1</td><td>1</td><td>W verfied. Fixed census tracts.                                                                                                                                                                                                                                                                                                                                                                                                                                                                                                                                                                                                                                            </td><td>NA                                                                                                                                                                  </td></tr>\n",
       "\t<tr><td>Infrastructure/MRFEIData_CLEAN.csv                                                 </td><td>MRFEIData                                                           </td><td>GEOID       </td><td>n/a            </td><td>Infrastructure</td><td>Food, Water, and Waste Management</td><td>mrfei                                                           </td><td>NA</td><td>Retail Food                                                       </td><td>RetailFood            </td><td>⋯</td><td>Census Tract              </td><td>Census Tract              </td><td>Link</td><td>17/12/2020</td><td>GEOID       </td><td>none</td><td>1</td><td>1</td><td>W Verified. FIXED leading zeros in Excel, W converted to CSV. Zero reflects zero count not missing data.\n",
       "The mRFEI measures the number of healthy and less healthy food retailers within census tracts across each state as defined by typical food offerings in specific types of retail stores (e.g., supermarkets, convenience stores, or fast food restaurants).                                                                                                                                                                                                                                                                                                      </td><td>There are a lot of missing values in this data, perhaps should be used with caution as a large no. of census tracts are based on just the median for the study area.</td></tr>\n",
       "\t<tr><td>Social/PercentHousing1940-1969.csv                                                 </td><td>PercentHousing1940-1969                                             </td><td>NA          </td><td>n/a            </td><td>Infrastructure</td><td>Financial Services               </td><td>Estimated percent of all housing units built 1940 to 1969, as of</td><td>NA</td><td>Housing Built Past v.s. Now                                       </td><td>HousingBuiltPastVsNow </td><td>⋯</td><td>Census Tract              </td><td>Census Tract              </td><td>NA  </td><td>11/08/2021</td><td>FIPS Code   </td><td>none</td><td>1</td><td>0</td><td>W Verified                                                                                                                                                                                                                                                                                                                                                                                                                                                                                                                                                                                                                                                                 </td><td>NA                                                                                                                                                                  </td></tr>\n",
       "\t<tr><td><span style=white-space:pre-wrap>Infrastructure/Table8.csv                                                          </span></td><td><span style=white-space:pre-wrap>Table 8                                                             </span></td><td><span style=white-space:pre-wrap>NA          </span></td><td><span style=white-space:pre-wrap>n/a            </span></td><td>Infrastructure</td><td><span style=white-space:pre-wrap>Financial Services               </span></td><td><span style=white-space:pre-wrap>T8_est76                                                        </span></td><td>NA</td><td><span style=white-space:pre-wrap>Housing Affordability.1                                           </span></td><td>HousingAffordability1 </td><td>⋯</td><td><span style=white-space:pre-wrap>Census Tract              </span></td><td><span style=white-space:pre-wrap>Census Tract              </span></td><td>Link</td><td>12/01/2022</td><td>CensusTract </td><td>none</td><td>1</td><td>1</td><td><span style=white-space:pre-wrap>Renter Occupied, household income (less than or equal to 30% of HUD Area Median Family Income), cost burden &gt; 50%\n",
       " Found here: https://www.huduser.gov/portal/datasets/cp.html Downloaded and saved as file name 2014thru2018-140-csv                                                                                                                                                                                                                                                                                                                                                                                                                                     </span></td><td><span style=white-space:pre-wrap>NA                                                                                                                                                                  </span></td></tr>\n",
       "\t<tr><td><span style=white-space:pre-wrap>Infrastructure/Table8.csv                                                          </span></td><td><span style=white-space:pre-wrap>Table 8                                                             </span></td><td><span style=white-space:pre-wrap>NA          </span></td><td><span style=white-space:pre-wrap>n/a            </span></td><td>Infrastructure</td><td><span style=white-space:pre-wrap>Financial Services               </span></td><td><span style=white-space:pre-wrap>T8_est10                                                        </span></td><td>NA</td><td><span style=white-space:pre-wrap>Housing Affordability.2                                           </span></td><td>HousingAffordability2 </td><td>⋯</td><td><span style=white-space:pre-wrap>Census Tract              </span></td><td><span style=white-space:pre-wrap>Census Tract              </span></td><td>Link</td><td>12/01/2022</td><td>CensusTract </td><td>none</td><td>1</td><td>1</td><td><span style=white-space:pre-wrap>Owner Occupied, household income (less than or equal to 30% of HUD Area Median Family Income), cost burden &gt; 50%\n",
       " Found here: https://www.huduser.gov/portal/datasets/cp.html Downloaded and saved as file name 2014thru2018-140-csv                                                                                                                                                                                                                                                                                                                                                                                                                                      </span></td><td><span style=white-space:pre-wrap>NA                                                                                                                                                                  </span></td></tr>\n",
       "</tbody>\n",
       "</table>\n"
      ],
      "text/latex": [
       "A data.frame: 29 × 27\n",
       "\\begin{tabular}{lllllllllllllllllllll}\n",
       " Path To File & Document Name & CensusIdName & Clean/Final Data & Domain & Subcategory & Data Column Name & Unit of Data & Indicator Name & indicator\\_name\\_short & ⋯ & Format & Geographic Level & URL & Download Date & GEOID Column Name & missing\\_data\\_value & to\\_process & processed & Notes & Data notes\\\\\n",
       " <chr> & <chr> & <chr> & <chr> & <chr> & <chr> & <chr> & <chr> & <chr> & <chr> & ⋯ & <chr> & <chr> & <chr> & <chr> & <chr> & <chr> & <dbl> & <dbl> & <chr> & <chr>\\\\\n",
       "\\hline\n",
       "\t Health/LifeExpectancy.csv                                                           & LifeExpectancy                                                       & Census Tract & YES             & Health         & Overall Physical Health           & Life expectancy at birth, as of 2010-2015.                       & NA & Life Expectancy                                                    & LifeExpectancy         & ⋯ & Census Tract               & Census Tract               & NA   & 05/08/2021 & Census Tract & -999 & 1 & 1 & W Verified. This is a rate.                                                                                                                                                                                                                                                                                                                                                                                                                                                                                                                                                                                                                                                 & NA                                                                                                                                                                  \\\\\n",
       "\t Health/PLACES\\_\\_Local\\_Data\\_for\\_Better\\_Health\\_\\_Census\\_Tract\\_Data\\_2021\\_release.csv     & PLACES\\_\\_Local\\_Data\\_for\\_Better\\_Health\\_\\_Census\\_Tract\\_Data\\_2021\\_release & LocationID   & YES             & Health         & Chronic Disease                   & CASTHMA                                                          & NA & Current asthma among adults aged >=18 years                        & CASTHMA                & ⋯ & Census Tract (Model based) & Census Tract (Model based) & Link & 21/12/2021 & LocationName & none & 1 & 1 & W Verified. This is a \\% per total population in CST.                                                                                                                                                                                                                                                                                                                                                                                                                                                                                                                                                                                                                        & NA                                                                                                                                                                  \\\\\n",
       "\t Health/PLACES\\_\\_Local\\_Data\\_for\\_Better\\_Health\\_\\_Census\\_Tract\\_Data\\_2021\\_release.csv     & PLACES\\_\\_Local\\_Data\\_for\\_Better\\_Health\\_\\_Census\\_Tract\\_Data\\_2021\\_release & LocationID   & YES             & Health         & Chronic Disease                   & STROKE                                                           & NA & Stroke among adults aged >=18 years                                & STROKE                 & ⋯ & Census Tract (Model based) & Census Tract (Model based) & Link & 21/12/2021 & LocationName & none & 1 & 1 & W Verified. This is a \\% per total population in CST.                                                                                                                                                                                                                                                                                                                                                                                                                                                                                                                                                                                                                        & NA                                                                                                                                                                  \\\\\n",
       "\t Health/PLACES\\_\\_Local\\_Data\\_for\\_Better\\_Health\\_\\_Census\\_Tract\\_Data\\_2021\\_release.csv     & PLACES\\_\\_Local\\_Data\\_for\\_Better\\_Health\\_\\_Census\\_Tract\\_Data\\_2021\\_release & LocationID   & YES             & Health         & Chronic Disease                   & COPD                                                             & NA & Chronic obstructive pulmonary disease among adults aged >=18 years & COPD                   & ⋯ & Census Tract (Model based) & Census Tract (Model based) & Link & 21/12/2021 & LocationName & none & 1 & 1 & W Verified. This is a \\% per total population in CST.                                                                                                                                                                                                                                                                                                                                                                                                                                                                                                                                                                                                                        & NA                                                                                                                                                                  \\\\\n",
       "\t Health/PLACES\\_\\_Local\\_Data\\_for\\_Better\\_Health\\_\\_Census\\_Tract\\_Data\\_2021\\_release.csv     & PLACES\\_\\_Local\\_Data\\_for\\_Better\\_Health\\_\\_Census\\_Tract\\_Data\\_2021\\_release & LocationID   & YES             & Health         & Chronic Disease                   & CHD                                                              & NA & Coronary heart disease among adults aged >=18 years                & CHD                    & ⋯ & Census Tract (Model based) & Census Tract (Model based) & Link & 21/12/2021 & LocationName & none & 1 & 1 & W Verified. This is a \\% per total population in CST.                                                                                                                                                                                                                                                                                                                                                                                                                                                                                                                                                                                                                        & NA                                                                                                                                                                  \\\\\n",
       "\t Health/PLACES\\_\\_Local\\_Data\\_for\\_Better\\_Health\\_\\_Census\\_Tract\\_Data\\_2021\\_release.csv     & PLACES\\_\\_Local\\_Data\\_for\\_Better\\_Health\\_\\_Census\\_Tract\\_Data\\_2021\\_release & LocationID   & YES             & Health         & Chronic Disease                   & CANCER                                                           & NA & Cancer (excluding skin cancer) among adults aged >=18 years        & CANCER                 & ⋯ & Census Tract (Model based) & Census Tract (Model based) & Link & 21/12/2021 & LocationName & none & 1 & 1 & W Verified. This is a \\% per total population in CST.                                                                                                                                                                                                                                                                                                                                                                                                                                                                                                                                                                                                                        & NA                                                                                                                                                                  \\\\\n",
       "\t Health/PLACES\\_\\_Local\\_Data\\_for\\_Better\\_Health\\_\\_Census\\_Tract\\_Data\\_2021\\_release.csv     & PLACES\\_\\_Local\\_Data\\_for\\_Better\\_Health\\_\\_Census\\_Tract\\_Data\\_2021\\_release & LocationID   & YES             & Health         & Chronic Disease Prevention        & ACCESS2                                                          & NA & Current lack of health insurance among adults aged 18-64 years     & ACCESS2                & ⋯ & Census Tract (Model based) & Census Tract (Model based) & Link & 21/12/2021 & LocationName & none & 1 & 1 & W Verified. This is a \\% per total population in CST.                                                                                                                                                                                                                                                                                                                                                                                                                                                                                                                                                                                                                        & NA                                                                                                                                                                  \\\\\n",
       "\t Health/MedicallyUnderserved - coded.csv                                             & MedicallyUnderserved                                                 & Census Tract & YES* (see note) & Health         & Access to Care                    & Medically Underserved Areas (MUA), as of 2020.                   & NA & MedicallyUnderserved                                               & MedicallyUnderserved   & ⋯ & Census Tract               & Census Tract               & NA   & 13/08/2021 & Census Tract & none & 1 & 0 & Suggest categorizing as follows: \n",
       "Not an MUA or MUP=1\n",
       "Medically Underserved Area (MUA)=2 (A shortage of primary health care services for residents within a geographic area (e.g., a whole county, a group of neighboring counties, a group of urban census tracts, and others geographic areas). \n",
       "Medically Underserved Population (MUP)=3 (Are specific sub- groups of people living in a defined geographic area with a shortage of primary health care services and facing economic, cultural or linguistic barriers to access to health care (e.g., homeless, low-income, Medicaid-eligible, Native American, migrant farmworkers, among others population groups). & NA                                                                                                                                                                  \\\\\n",
       "\t Social/SVI2018\\_US.csv                                                               & SVI2018\\_US                                                           & FIPS         & YES             & Social         & Socioeconomic Status              & EPL\\_POV                                                          & NA & Below Poverty                                                      & BelowPoverty           & ⋯ & Census Tract               & Census Tract               & Link & 03/12/2020 & FIPS         & -999 & 1 & 1 & W Verified. Medians calculated separately in R.                                                                                                                                                                                                                                                                                                                                                                                                                                                                                                                                                                                                                             & NA                                                                                                                                                                  \\\\\n",
       "\t Social/SVI2018\\_US.csv                                                               & SVI2018\\_US                                                           & FIPS         & YES             & Social         & Socioeconomic Status              & EPL\\_UNEMP                                                        & NA & Unemployed                                                         & Unemployed             & ⋯ & Census Tract               & Census Tract               & Link & 03/12/2020 & FIPS         & -999 & 1 & 1 & W Verified. Medians calculated separately in R.                                                                                                                                                                                                                                                                                                                                                                                                                                                                                                                                                                                                                             & NA                                                                                                                                                                  \\\\\n",
       "\t Social/SVI2018\\_US.csv                                                               & SVI2018\\_US                                                           & FIPS         & YES             & Social         & Socioeconomic Status              & EPL\\_PCI                                                          & NA & Income                                                             & Income                 & ⋯ & Census Tract               & Census Tract               & Link & 03/12/2020 & FIPS         & -999 & 1 & 1 & W Verified. Medians calculated separately in R.                                                                                                                                                                                                                                                                                                                                                                                                                                                                                                                                                                                                                             & NA                                                                                                                                                                  \\\\\n",
       "\t Social/SVI2018\\_US.csv                                                               & SVI2018\\_US                                                           & FIPS         & YES             & Social         & Socioeconomic Status              & EPL\\_NOHSDP                                                       & NA & No High School Diploma                                             & NoHSDiploma            & ⋯ & Census Tract               & Census Tract               & Link & 03/12/2020 & FIPS         & -999 & 1 & 1 & W Verified. Medians calculated separately in R.                                                                                                                                                                                                                                                                                                                                                                                                                                                                                                                                                                                                                             & NA                                                                                                                                                                  \\\\\n",
       "\t Social/SVI2018\\_US.csv                                                               & SVI2018\\_US                                                           & FIPS         & YES             & Social         & Housing Composition \\& Disability  & EPL\\_AGE65                                                        & NA & Aged 65 or Older                                                   & Aged65Older            & ⋯ & Census Tract               & Census Tract               & Link & 03/12/2020 & FIPS         & -999 & 1 & 1 & W Verified. Medians calculated separately in R.                                                                                                                                                                                                                                                                                                                                                                                                                                                                                                                                                                                                                             & NA                                                                                                                                                                  \\\\\n",
       "\t Social/SVI2018\\_US.csv                                                               & SVI2018\\_US                                                           & FIPS         & YES             & Social         & Housing Composition \\& Disability  & EPL\\_AGE17                                                        & NA & Aged 17 or Younger                                                 & Aged17Younger          & ⋯ & Census Tract               & Census Tract               & Link & 03/12/2020 & FIPS         & -999 & 1 & 1 & W Verified. Medians calculated separately in R.                                                                                                                                                                                                                                                                                                                                                                                                                                                                                                                                                                                                                             & NA                                                                                                                                                                  \\\\\n",
       "\t Social/SVI2018\\_US.csv                                                               & SVI2018\\_US                                                           & FIPS         & YES             & Social         & Housing Composition \\& Disability  & EPL\\_DISABL                                                       & NA & Civilian with a Disability                                         & CivilianWithDisability & ⋯ & Census Tract               & Census Tract               & Link & 03/12/2020 & FIPS         & -999 & 1 & 1 & W Verified. Medians calculated separately in R.                                                                                                                                                                                                                                                                                                                                                                                                                                                                                                                                                                                                                             & NA                                                                                                                                                                  \\\\\n",
       "\t Social/SVI2018\\_US.csv                                                               & SVI2018\\_US                                                           & FIPS         & YES             & Social         & Housing Composition \\& Disability  & EPL\\_SNGPNT                                                       & NA & Single-Parent Households                                           & SingleParentHhld       & ⋯ & Census Tract               & Census Tract               & Link & 03/12/2020 & FIPS         & -999 & 1 & 1 & W Verified. Medians calculated separately in R.                                                                                                                                                                                                                                                                                                                                                                                                                                                                                                                                                                                                                             & NA                                                                                                                                                                  \\\\\n",
       "\t Social/SVI2018\\_US.csv                                                               & SVI2018\\_US                                                           & FIPS         & YES             & Social         & Minority Status \\& Language        & EPL\\_MINRTY                                                       & NA & Minority                                                           & Minority               & ⋯ & Census Tract               & Census Tract               & Link & 03/12/2020 & FIPS         & -999 & 1 & 1 & W Verified. Medians calculated separately in R.                                                                                                                                                                                                                                                                                                                                                                                                                                                                                                                                                                                                                             & NA                                                                                                                                                                  \\\\\n",
       "\t Social/SVI2018\\_US.csv                                                               & SVI2018\\_US                                                           & FIPS         & YES             & Social         & Minority Status \\& Language        & EPL\\_LIMENG                                                       & NA & Speaks English \"Less than Well\"                                    & SpeaksEnglishLessWell  & ⋯ & Census Tract               & Census Tract               & Link & 03/12/2020 & FIPS         & -999 & 1 & 1 & W Verified. Medians calculated separately in R.                                                                                                                                                                                                                                                                                                                                                                                                                                                                                                                                                                                                                             & \\textasciitilde{}40 0 values in this dataset.                                                                                                                                       \\\\\n",
       "\t Social/SVI2018\\_US.csv                                                               & SVI2018\\_US                                                           & FIPS         & YES             & Social         & Housing \\& Transportation          & EPL\\_MUNIT                                                        & NA & Multi-Unit Structures                                              & MultiUnitStructures    & ⋯ & Census Tract               & Census Tract               & Link & 03/12/2020 & FIPS         & -999 & 1 & 1 & W Verified. Medians calculated separately in R.                                                                                                                                                                                                                                                                                                                                                                                                                                                                                                                                                                                                                             & Over 200 0 values in this dataset.                                                                                                                                  \\\\\n",
       "\t Social/SVI2018\\_US.csv                                                               & SVI2018\\_US                                                           & FIPS         & YES             & Social         & Housing \\& Transportation          & EPL\\_MOBILE                                                       & NA & Mobile Homes                                                       & MobileHomes            & ⋯ & Census Tract               & Census Tract               & Link & 03/12/2020 & FIPS         & -999 & 1 & 1 & W Verified. Medians calculated separately in R.                                                                                                                                                                                                                                                                                                                                                                                                                                                                                                                                                                                                                             & Over 500 0 values in this dataset.                                                                                                                                  \\\\\n",
       "\t Social/SVI2018\\_US.csv                                                               & SVI2018\\_US                                                           & FIPS         & YES             & Social         & Housing \\& Transportation          & EPL\\_CROWD                                                        & NA & Crowding                                                           & Crowding               & ⋯ & Census Tract               & Census Tract               & Link & 03/12/2020 & FIPS         & -999 & 1 & 1 & W Verified. Medians calculated separately in R.                                                                                                                                                                                                                                                                                                                                                                                                                                                                                                                                                                                                                             & Not many missing (-999) values here but there are more than 100 tracts with 0 values, despite the next lowest score being \\textasciitilde{}0.15.                                    \\\\\n",
       "\t Social/SVI2018\\_US.csv                                                               & SVI2018\\_US                                                           & FIPS         & YES             & Social         & Housing \\& Transportation          & EPL\\_NOVEH                                                        & NA & No Vehicle                                                         & NoVehicle              & ⋯ & Census Tract               & Census Tract               & Link & 03/12/2020 & FIPS         & -999 & 1 & 1 & W Verified. Medians calculated separately in R.                                                                                                                                                                                                                                                                                                                                                                                                                                                                                                                                                                                                                             & NA                                                                                                                                                                  \\\\\n",
       "\t Social/SVI2018\\_US.csv                                                               & SVI2018\\_US                                                           & FIPS         & YES             & Social         & Housing \\& Transportation          & EPL\\_GROUPQ                                                       & NA & Group Quarters                                                     & GroupQuarters          & ⋯ & Census Tract               & Census Tract               & Link & 03/12/2020 & FIPS         & -999 & 1 & 1 & W Verified. Medians calculated separately in R.                                                                                                                                                                                                                                                                                                                                                                                                                                                                                                                                                                                                                             & More than half of census tracts have 0 values in this dataset.                                                                                                      \\\\\n",
       "\t Social/NSP2 - US Total.csv                                                          & NSP2 - US Total                                                      & NA           & YES             & Social         & HUD Foreclosure                   & fordq\\_rate                                                       & NA & Foreclosure Rate                                                   & ForeclosureRate        & ⋯ & Census Tract               & Census Tract               & Link & 03/01/2022 & geoid        & none & 1 & 1 & W Verified. fordq\\_rate = Estimated percent of mortgages to start foreclosure process or be seriously delinquent in past 2 years                                                                                                                                                                                                                                                                                                                                                                                                                                                                                                                                             & Need to check missing value in this dataset                                                                                                                         \\\\\n",
       "\t Infrastructure/BroadbandAcess\\_PercentHousehold\\_nointernet\\_allstates-fixedtracts.csv & BroadbandAcess\\_PercentHousehold\\_nointernet\\_allstates                 & CensusTract  & n/a             & Infrastructure & Communications                    & data\\_value                                                       & NA & No Broadband Access                                                & NoBroadbandAccess      & ⋯ & Census Tract               & Census Tract               & Link & 01/11/2021 & CensusTract  & none & 1 & 1 & W verfied. Fixed census tracts.                                                                                                                                                                                                                                                                                                                                                                                                                                                                                                                                                                                                                                             & NA                                                                                                                                                                  \\\\\n",
       "\t Infrastructure/MRFEIData\\_CLEAN.csv                                                  & MRFEIData                                                            & GEOID        & n/a             & Infrastructure & Food, Water, and Waste Management & mrfei                                                            & NA & Retail Food                                                        & RetailFood             & ⋯ & Census Tract               & Census Tract               & Link & 17/12/2020 & GEOID        & none & 1 & 1 & W Verified. FIXED leading zeros in Excel, W converted to CSV. Zero reflects zero count not missing data.\n",
       "The mRFEI measures the number of healthy and less healthy food retailers within census tracts across each state as defined by typical food offerings in specific types of retail stores (e.g., supermarkets, convenience stores, or fast food restaurants).                                                                                                                                                                                                                                                                                                       & There are a lot of missing values in this data, perhaps should be used with caution as a large no. of census tracts are based on just the median for the study area.\\\\\n",
       "\t Social/PercentHousing1940-1969.csv                                                  & PercentHousing1940-1969                                              & NA           & n/a             & Infrastructure & Financial Services                & Estimated percent of all housing units built 1940 to 1969, as of & NA & Housing Built Past v.s. Now                                        & HousingBuiltPastVsNow  & ⋯ & Census Tract               & Census Tract               & NA   & 11/08/2021 & FIPS Code    & none & 1 & 0 & W Verified                                                                                                                                                                                                                                                                                                                                                                                                                                                                                                                                                                                                                                                                  & NA                                                                                                                                                                  \\\\\n",
       "\t Infrastructure/Table8.csv                                                           & Table 8                                                              & NA           & n/a             & Infrastructure & Financial Services                & T8\\_est76                                                         & NA & Housing Affordability.1                                            & HousingAffordability1  & ⋯ & Census Tract               & Census Tract               & Link & 12/01/2022 & CensusTract  & none & 1 & 1 & Renter Occupied, household income (less than or equal to 30\\% of HUD Area Median Family Income), cost burden > 50\\%\n",
       " Found here: https://www.huduser.gov/portal/datasets/cp.html Downloaded and saved as file name 2014thru2018-140-csv                                                                                                                                                                                                                                                                                                                                                                                                                                      & NA                                                                                                                                                                  \\\\\n",
       "\t Infrastructure/Table8.csv                                                           & Table 8                                                              & NA           & n/a             & Infrastructure & Financial Services                & T8\\_est10                                                         & NA & Housing Affordability.2                                            & HousingAffordability2  & ⋯ & Census Tract               & Census Tract               & Link & 12/01/2022 & CensusTract  & none & 1 & 1 & Owner Occupied, household income (less than or equal to 30\\% of HUD Area Median Family Income), cost burden > 50\\%\n",
       " Found here: https://www.huduser.gov/portal/datasets/cp.html Downloaded and saved as file name 2014thru2018-140-csv                                                                                                                                                                                                                                                                                                                                                                                                                                       & NA                                                                                                                                                                  \\\\\n",
       "\\end{tabular}\n"
      ],
      "text/markdown": [
       "\n",
       "A data.frame: 29 × 27\n",
       "\n",
       "| Path To File &lt;chr&gt; | Document Name &lt;chr&gt; | CensusIdName &lt;chr&gt; | Clean/Final Data &lt;chr&gt; | Domain &lt;chr&gt; | Subcategory &lt;chr&gt; | Data Column Name &lt;chr&gt; | Unit of Data &lt;chr&gt; | Indicator Name &lt;chr&gt; | indicator_name_short &lt;chr&gt; | ⋯ ⋯ | Format &lt;chr&gt; | Geographic Level &lt;chr&gt; | URL &lt;chr&gt; | Download Date &lt;chr&gt; | GEOID Column Name &lt;chr&gt; | missing_data_value &lt;chr&gt; | to_process &lt;dbl&gt; | processed &lt;dbl&gt; | Notes &lt;chr&gt; | Data notes &lt;chr&gt; |\n",
       "|---|---|---|---|---|---|---|---|---|---|---|---|---|---|---|---|---|---|---|---|---|\n",
       "| Health/LifeExpectancy.csv                                                           | LifeExpectancy                                                       | Census Tract | YES             | Health         | Overall Physical Health           | Life expectancy at birth, as of 2010-2015.                       | NA | Life Expectancy                                                    | LifeExpectancy         | ⋯ | Census Tract               | Census Tract               | NA   | 05/08/2021 | Census Tract | -999 | 1 | 1 | W Verified. This is a rate.                                                                                                                                                                                                                                                                                                                                                                                                                                                                                                                                                                                                                                                 | NA                                                                                                                                                                   |\n",
       "| Health/PLACES__Local_Data_for_Better_Health__Census_Tract_Data_2021_release.csv     | PLACES__Local_Data_for_Better_Health__Census_Tract_Data_2021_release | LocationID   | YES             | Health         | Chronic Disease                   | CASTHMA                                                          | NA | Current asthma among adults aged &gt;=18 years                        | CASTHMA                | ⋯ | Census Tract (Model based) | Census Tract (Model based) | Link | 21/12/2021 | LocationName | none | 1 | 1 | W Verified. This is a % per total population in CST.                                                                                                                                                                                                                                                                                                                                                                                                                                                                                                                                                                                                                        | NA                                                                                                                                                                   |\n",
       "| Health/PLACES__Local_Data_for_Better_Health__Census_Tract_Data_2021_release.csv     | PLACES__Local_Data_for_Better_Health__Census_Tract_Data_2021_release | LocationID   | YES             | Health         | Chronic Disease                   | STROKE                                                           | NA | Stroke among adults aged &gt;=18 years                                | STROKE                 | ⋯ | Census Tract (Model based) | Census Tract (Model based) | Link | 21/12/2021 | LocationName | none | 1 | 1 | W Verified. This is a % per total population in CST.                                                                                                                                                                                                                                                                                                                                                                                                                                                                                                                                                                                                                        | NA                                                                                                                                                                   |\n",
       "| Health/PLACES__Local_Data_for_Better_Health__Census_Tract_Data_2021_release.csv     | PLACES__Local_Data_for_Better_Health__Census_Tract_Data_2021_release | LocationID   | YES             | Health         | Chronic Disease                   | COPD                                                             | NA | Chronic obstructive pulmonary disease among adults aged &gt;=18 years | COPD                   | ⋯ | Census Tract (Model based) | Census Tract (Model based) | Link | 21/12/2021 | LocationName | none | 1 | 1 | W Verified. This is a % per total population in CST.                                                                                                                                                                                                                                                                                                                                                                                                                                                                                                                                                                                                                        | NA                                                                                                                                                                   |\n",
       "| Health/PLACES__Local_Data_for_Better_Health__Census_Tract_Data_2021_release.csv     | PLACES__Local_Data_for_Better_Health__Census_Tract_Data_2021_release | LocationID   | YES             | Health         | Chronic Disease                   | CHD                                                              | NA | Coronary heart disease among adults aged &gt;=18 years                | CHD                    | ⋯ | Census Tract (Model based) | Census Tract (Model based) | Link | 21/12/2021 | LocationName | none | 1 | 1 | W Verified. This is a % per total population in CST.                                                                                                                                                                                                                                                                                                                                                                                                                                                                                                                                                                                                                        | NA                                                                                                                                                                   |\n",
       "| Health/PLACES__Local_Data_for_Better_Health__Census_Tract_Data_2021_release.csv     | PLACES__Local_Data_for_Better_Health__Census_Tract_Data_2021_release | LocationID   | YES             | Health         | Chronic Disease                   | CANCER                                                           | NA | Cancer (excluding skin cancer) among adults aged &gt;=18 years        | CANCER                 | ⋯ | Census Tract (Model based) | Census Tract (Model based) | Link | 21/12/2021 | LocationName | none | 1 | 1 | W Verified. This is a % per total population in CST.                                                                                                                                                                                                                                                                                                                                                                                                                                                                                                                                                                                                                        | NA                                                                                                                                                                   |\n",
       "| Health/PLACES__Local_Data_for_Better_Health__Census_Tract_Data_2021_release.csv     | PLACES__Local_Data_for_Better_Health__Census_Tract_Data_2021_release | LocationID   | YES             | Health         | Chronic Disease Prevention        | ACCESS2                                                          | NA | Current lack of health insurance among adults aged 18-64 years     | ACCESS2                | ⋯ | Census Tract (Model based) | Census Tract (Model based) | Link | 21/12/2021 | LocationName | none | 1 | 1 | W Verified. This is a % per total population in CST.                                                                                                                                                                                                                                                                                                                                                                                                                                                                                                                                                                                                                        | NA                                                                                                                                                                   |\n",
       "| Health/MedicallyUnderserved - coded.csv                                             | MedicallyUnderserved                                                 | Census Tract | YES* (see note) | Health         | Access to Care                    | Medically Underserved Areas (MUA), as of 2020.                   | NA | MedicallyUnderserved                                               | MedicallyUnderserved   | ⋯ | Census Tract               | Census Tract               | NA   | 13/08/2021 | Census Tract | none | 1 | 0 | Suggest categorizing as follows: \n",
       "Not an MUA or MUP=1\n",
       "Medically Underserved Area (MUA)=2 (A shortage of primary health care services for residents within a geographic area (e.g., a whole county, a group of neighboring counties, a group of urban census tracts, and others geographic areas). \n",
       "Medically Underserved Population (MUP)=3 (Are specific sub- groups of people living in a defined geographic area with a shortage of primary health care services and facing economic, cultural or linguistic barriers to access to health care (e.g., homeless, low-income, Medicaid-eligible, Native American, migrant farmworkers, among others population groups). | NA                                                                                                                                                                   |\n",
       "| Social/SVI2018_US.csv                                                               | SVI2018_US                                                           | FIPS         | YES             | Social         | Socioeconomic Status              | EPL_POV                                                          | NA | Below Poverty                                                      | BelowPoverty           | ⋯ | Census Tract               | Census Tract               | Link | 03/12/2020 | FIPS         | -999 | 1 | 1 | W Verified. Medians calculated separately in R.                                                                                                                                                                                                                                                                                                                                                                                                                                                                                                                                                                                                                             | NA                                                                                                                                                                   |\n",
       "| Social/SVI2018_US.csv                                                               | SVI2018_US                                                           | FIPS         | YES             | Social         | Socioeconomic Status              | EPL_UNEMP                                                        | NA | Unemployed                                                         | Unemployed             | ⋯ | Census Tract               | Census Tract               | Link | 03/12/2020 | FIPS         | -999 | 1 | 1 | W Verified. Medians calculated separately in R.                                                                                                                                                                                                                                                                                                                                                                                                                                                                                                                                                                                                                             | NA                                                                                                                                                                   |\n",
       "| Social/SVI2018_US.csv                                                               | SVI2018_US                                                           | FIPS         | YES             | Social         | Socioeconomic Status              | EPL_PCI                                                          | NA | Income                                                             | Income                 | ⋯ | Census Tract               | Census Tract               | Link | 03/12/2020 | FIPS         | -999 | 1 | 1 | W Verified. Medians calculated separately in R.                                                                                                                                                                                                                                                                                                                                                                                                                                                                                                                                                                                                                             | NA                                                                                                                                                                   |\n",
       "| Social/SVI2018_US.csv                                                               | SVI2018_US                                                           | FIPS         | YES             | Social         | Socioeconomic Status              | EPL_NOHSDP                                                       | NA | No High School Diploma                                             | NoHSDiploma            | ⋯ | Census Tract               | Census Tract               | Link | 03/12/2020 | FIPS         | -999 | 1 | 1 | W Verified. Medians calculated separately in R.                                                                                                                                                                                                                                                                                                                                                                                                                                                                                                                                                                                                                             | NA                                                                                                                                                                   |\n",
       "| Social/SVI2018_US.csv                                                               | SVI2018_US                                                           | FIPS         | YES             | Social         | Housing Composition &amp; Disability  | EPL_AGE65                                                        | NA | Aged 65 or Older                                                   | Aged65Older            | ⋯ | Census Tract               | Census Tract               | Link | 03/12/2020 | FIPS         | -999 | 1 | 1 | W Verified. Medians calculated separately in R.                                                                                                                                                                                                                                                                                                                                                                                                                                                                                                                                                                                                                             | NA                                                                                                                                                                   |\n",
       "| Social/SVI2018_US.csv                                                               | SVI2018_US                                                           | FIPS         | YES             | Social         | Housing Composition &amp; Disability  | EPL_AGE17                                                        | NA | Aged 17 or Younger                                                 | Aged17Younger          | ⋯ | Census Tract               | Census Tract               | Link | 03/12/2020 | FIPS         | -999 | 1 | 1 | W Verified. Medians calculated separately in R.                                                                                                                                                                                                                                                                                                                                                                                                                                                                                                                                                                                                                             | NA                                                                                                                                                                   |\n",
       "| Social/SVI2018_US.csv                                                               | SVI2018_US                                                           | FIPS         | YES             | Social         | Housing Composition &amp; Disability  | EPL_DISABL                                                       | NA | Civilian with a Disability                                         | CivilianWithDisability | ⋯ | Census Tract               | Census Tract               | Link | 03/12/2020 | FIPS         | -999 | 1 | 1 | W Verified. Medians calculated separately in R.                                                                                                                                                                                                                                                                                                                                                                                                                                                                                                                                                                                                                             | NA                                                                                                                                                                   |\n",
       "| Social/SVI2018_US.csv                                                               | SVI2018_US                                                           | FIPS         | YES             | Social         | Housing Composition &amp; Disability  | EPL_SNGPNT                                                       | NA | Single-Parent Households                                           | SingleParentHhld       | ⋯ | Census Tract               | Census Tract               | Link | 03/12/2020 | FIPS         | -999 | 1 | 1 | W Verified. Medians calculated separately in R.                                                                                                                                                                                                                                                                                                                                                                                                                                                                                                                                                                                                                             | NA                                                                                                                                                                   |\n",
       "| Social/SVI2018_US.csv                                                               | SVI2018_US                                                           | FIPS         | YES             | Social         | Minority Status &amp; Language        | EPL_MINRTY                                                       | NA | Minority                                                           | Minority               | ⋯ | Census Tract               | Census Tract               | Link | 03/12/2020 | FIPS         | -999 | 1 | 1 | W Verified. Medians calculated separately in R.                                                                                                                                                                                                                                                                                                                                                                                                                                                                                                                                                                                                                             | NA                                                                                                                                                                   |\n",
       "| Social/SVI2018_US.csv                                                               | SVI2018_US                                                           | FIPS         | YES             | Social         | Minority Status &amp; Language        | EPL_LIMENG                                                       | NA | Speaks English \"Less than Well\"                                    | SpeaksEnglishLessWell  | ⋯ | Census Tract               | Census Tract               | Link | 03/12/2020 | FIPS         | -999 | 1 | 1 | W Verified. Medians calculated separately in R.                                                                                                                                                                                                                                                                                                                                                                                                                                                                                                                                                                                                                             | ~40 0 values in this dataset.                                                                                                                                        |\n",
       "| Social/SVI2018_US.csv                                                               | SVI2018_US                                                           | FIPS         | YES             | Social         | Housing &amp; Transportation          | EPL_MUNIT                                                        | NA | Multi-Unit Structures                                              | MultiUnitStructures    | ⋯ | Census Tract               | Census Tract               | Link | 03/12/2020 | FIPS         | -999 | 1 | 1 | W Verified. Medians calculated separately in R.                                                                                                                                                                                                                                                                                                                                                                                                                                                                                                                                                                                                                             | Over 200 0 values in this dataset.                                                                                                                                   |\n",
       "| Social/SVI2018_US.csv                                                               | SVI2018_US                                                           | FIPS         | YES             | Social         | Housing &amp; Transportation          | EPL_MOBILE                                                       | NA | Mobile Homes                                                       | MobileHomes            | ⋯ | Census Tract               | Census Tract               | Link | 03/12/2020 | FIPS         | -999 | 1 | 1 | W Verified. Medians calculated separately in R.                                                                                                                                                                                                                                                                                                                                                                                                                                                                                                                                                                                                                             | Over 500 0 values in this dataset.                                                                                                                                   |\n",
       "| Social/SVI2018_US.csv                                                               | SVI2018_US                                                           | FIPS         | YES             | Social         | Housing &amp; Transportation          | EPL_CROWD                                                        | NA | Crowding                                                           | Crowding               | ⋯ | Census Tract               | Census Tract               | Link | 03/12/2020 | FIPS         | -999 | 1 | 1 | W Verified. Medians calculated separately in R.                                                                                                                                                                                                                                                                                                                                                                                                                                                                                                                                                                                                                             | Not many missing (-999) values here but there are more than 100 tracts with 0 values, despite the next lowest score being ~0.15.                                     |\n",
       "| Social/SVI2018_US.csv                                                               | SVI2018_US                                                           | FIPS         | YES             | Social         | Housing &amp; Transportation          | EPL_NOVEH                                                        | NA | No Vehicle                                                         | NoVehicle              | ⋯ | Census Tract               | Census Tract               | Link | 03/12/2020 | FIPS         | -999 | 1 | 1 | W Verified. Medians calculated separately in R.                                                                                                                                                                                                                                                                                                                                                                                                                                                                                                                                                                                                                             | NA                                                                                                                                                                   |\n",
       "| Social/SVI2018_US.csv                                                               | SVI2018_US                                                           | FIPS         | YES             | Social         | Housing &amp; Transportation          | EPL_GROUPQ                                                       | NA | Group Quarters                                                     | GroupQuarters          | ⋯ | Census Tract               | Census Tract               | Link | 03/12/2020 | FIPS         | -999 | 1 | 1 | W Verified. Medians calculated separately in R.                                                                                                                                                                                                                                                                                                                                                                                                                                                                                                                                                                                                                             | More than half of census tracts have 0 values in this dataset.                                                                                                       |\n",
       "| Social/NSP2 - US Total.csv                                                          | NSP2 - US Total                                                      | NA           | YES             | Social         | HUD Foreclosure                   | fordq_rate                                                       | NA | Foreclosure Rate                                                   | ForeclosureRate        | ⋯ | Census Tract               | Census Tract               | Link | 03/01/2022 | geoid        | none | 1 | 1 | W Verified. fordq_rate = Estimated percent of mortgages to start foreclosure process or be seriously delinquent in past 2 years                                                                                                                                                                                                                                                                                                                                                                                                                                                                                                                                             | Need to check missing value in this dataset                                                                                                                          |\n",
       "| Infrastructure/BroadbandAcess_PercentHousehold_nointernet_allstates-fixedtracts.csv | BroadbandAcess_PercentHousehold_nointernet_allstates                 | CensusTract  | n/a             | Infrastructure | Communications                    | data_value                                                       | NA | No Broadband Access                                                | NoBroadbandAccess      | ⋯ | Census Tract               | Census Tract               | Link | 01/11/2021 | CensusTract  | none | 1 | 1 | W verfied. Fixed census tracts.                                                                                                                                                                                                                                                                                                                                                                                                                                                                                                                                                                                                                                             | NA                                                                                                                                                                   |\n",
       "| Infrastructure/MRFEIData_CLEAN.csv                                                  | MRFEIData                                                            | GEOID        | n/a             | Infrastructure | Food, Water, and Waste Management | mrfei                                                            | NA | Retail Food                                                        | RetailFood             | ⋯ | Census Tract               | Census Tract               | Link | 17/12/2020 | GEOID        | none | 1 | 1 | W Verified. FIXED leading zeros in Excel, W converted to CSV. Zero reflects zero count not missing data.\n",
       "The mRFEI measures the number of healthy and less healthy food retailers within census tracts across each state as defined by typical food offerings in specific types of retail stores (e.g., supermarkets, convenience stores, or fast food restaurants).                                                                                                                                                                                                                                                                                                       | There are a lot of missing values in this data, perhaps should be used with caution as a large no. of census tracts are based on just the median for the study area. |\n",
       "| Social/PercentHousing1940-1969.csv                                                  | PercentHousing1940-1969                                              | NA           | n/a             | Infrastructure | Financial Services                | Estimated percent of all housing units built 1940 to 1969, as of | NA | Housing Built Past v.s. Now                                        | HousingBuiltPastVsNow  | ⋯ | Census Tract               | Census Tract               | NA   | 11/08/2021 | FIPS Code    | none | 1 | 0 | W Verified                                                                                                                                                                                                                                                                                                                                                                                                                                                                                                                                                                                                                                                                  | NA                                                                                                                                                                   |\n",
       "| Infrastructure/Table8.csv                                                           | Table 8                                                              | NA           | n/a             | Infrastructure | Financial Services                | T8_est76                                                         | NA | Housing Affordability.1                                            | HousingAffordability1  | ⋯ | Census Tract               | Census Tract               | Link | 12/01/2022 | CensusTract  | none | 1 | 1 | Renter Occupied, household income (less than or equal to 30% of HUD Area Median Family Income), cost burden &gt; 50%\n",
       " Found here: https://www.huduser.gov/portal/datasets/cp.html Downloaded and saved as file name 2014thru2018-140-csv                                                                                                                                                                                                                                                                                                                                                                                                                                      | NA                                                                                                                                                                   |\n",
       "| Infrastructure/Table8.csv                                                           | Table 8                                                              | NA           | n/a             | Infrastructure | Financial Services                | T8_est10                                                         | NA | Housing Affordability.2                                            | HousingAffordability2  | ⋯ | Census Tract               | Census Tract               | Link | 12/01/2022 | CensusTract  | none | 1 | 1 | Owner Occupied, household income (less than or equal to 30% of HUD Area Median Family Income), cost burden &gt; 50%\n",
       " Found here: https://www.huduser.gov/portal/datasets/cp.html Downloaded and saved as file name 2014thru2018-140-csv                                                                                                                                                                                                                                                                                                                                                                                                                                       | NA                                                                                                                                                                   |\n",
       "\n"
      ],
      "text/plain": [
       "   Path To File                                                                       \n",
       "1  Health/LifeExpectancy.csv                                                          \n",
       "2  Health/PLACES__Local_Data_for_Better_Health__Census_Tract_Data_2021_release.csv    \n",
       "3  Health/PLACES__Local_Data_for_Better_Health__Census_Tract_Data_2021_release.csv    \n",
       "4  Health/PLACES__Local_Data_for_Better_Health__Census_Tract_Data_2021_release.csv    \n",
       "5  Health/PLACES__Local_Data_for_Better_Health__Census_Tract_Data_2021_release.csv    \n",
       "6  Health/PLACES__Local_Data_for_Better_Health__Census_Tract_Data_2021_release.csv    \n",
       "7  Health/PLACES__Local_Data_for_Better_Health__Census_Tract_Data_2021_release.csv    \n",
       "8  Health/MedicallyUnderserved - coded.csv                                            \n",
       "9  Social/SVI2018_US.csv                                                              \n",
       "10 Social/SVI2018_US.csv                                                              \n",
       "11 Social/SVI2018_US.csv                                                              \n",
       "12 Social/SVI2018_US.csv                                                              \n",
       "13 Social/SVI2018_US.csv                                                              \n",
       "14 Social/SVI2018_US.csv                                                              \n",
       "15 Social/SVI2018_US.csv                                                              \n",
       "16 Social/SVI2018_US.csv                                                              \n",
       "17 Social/SVI2018_US.csv                                                              \n",
       "18 Social/SVI2018_US.csv                                                              \n",
       "19 Social/SVI2018_US.csv                                                              \n",
       "20 Social/SVI2018_US.csv                                                              \n",
       "21 Social/SVI2018_US.csv                                                              \n",
       "22 Social/SVI2018_US.csv                                                              \n",
       "23 Social/SVI2018_US.csv                                                              \n",
       "24 Social/NSP2 - US Total.csv                                                         \n",
       "25 Infrastructure/BroadbandAcess_PercentHousehold_nointernet_allstates-fixedtracts.csv\n",
       "26 Infrastructure/MRFEIData_CLEAN.csv                                                 \n",
       "27 Social/PercentHousing1940-1969.csv                                                 \n",
       "28 Infrastructure/Table8.csv                                                          \n",
       "29 Infrastructure/Table8.csv                                                          \n",
       "   Document Name                                                       \n",
       "1  LifeExpectancy                                                      \n",
       "2  PLACES__Local_Data_for_Better_Health__Census_Tract_Data_2021_release\n",
       "3  PLACES__Local_Data_for_Better_Health__Census_Tract_Data_2021_release\n",
       "4  PLACES__Local_Data_for_Better_Health__Census_Tract_Data_2021_release\n",
       "5  PLACES__Local_Data_for_Better_Health__Census_Tract_Data_2021_release\n",
       "6  PLACES__Local_Data_for_Better_Health__Census_Tract_Data_2021_release\n",
       "7  PLACES__Local_Data_for_Better_Health__Census_Tract_Data_2021_release\n",
       "8  MedicallyUnderserved                                                \n",
       "9  SVI2018_US                                                          \n",
       "10 SVI2018_US                                                          \n",
       "11 SVI2018_US                                                          \n",
       "12 SVI2018_US                                                          \n",
       "13 SVI2018_US                                                          \n",
       "14 SVI2018_US                                                          \n",
       "15 SVI2018_US                                                          \n",
       "16 SVI2018_US                                                          \n",
       "17 SVI2018_US                                                          \n",
       "18 SVI2018_US                                                          \n",
       "19 SVI2018_US                                                          \n",
       "20 SVI2018_US                                                          \n",
       "21 SVI2018_US                                                          \n",
       "22 SVI2018_US                                                          \n",
       "23 SVI2018_US                                                          \n",
       "24 NSP2 - US Total                                                     \n",
       "25 BroadbandAcess_PercentHousehold_nointernet_allstates                \n",
       "26 MRFEIData                                                           \n",
       "27 PercentHousing1940-1969                                             \n",
       "28 Table 8                                                             \n",
       "29 Table 8                                                             \n",
       "   CensusIdName Clean/Final Data Domain        \n",
       "1  Census Tract YES              Health        \n",
       "2  LocationID   YES              Health        \n",
       "3  LocationID   YES              Health        \n",
       "4  LocationID   YES              Health        \n",
       "5  LocationID   YES              Health        \n",
       "6  LocationID   YES              Health        \n",
       "7  LocationID   YES              Health        \n",
       "8  Census Tract YES* (see note)  Health        \n",
       "9  FIPS         YES              Social        \n",
       "10 FIPS         YES              Social        \n",
       "11 FIPS         YES              Social        \n",
       "12 FIPS         YES              Social        \n",
       "13 FIPS         YES              Social        \n",
       "14 FIPS         YES              Social        \n",
       "15 FIPS         YES              Social        \n",
       "16 FIPS         YES              Social        \n",
       "17 FIPS         YES              Social        \n",
       "18 FIPS         YES              Social        \n",
       "19 FIPS         YES              Social        \n",
       "20 FIPS         YES              Social        \n",
       "21 FIPS         YES              Social        \n",
       "22 FIPS         YES              Social        \n",
       "23 FIPS         YES              Social        \n",
       "24 NA           YES              Social        \n",
       "25 CensusTract  n/a              Infrastructure\n",
       "26 GEOID        n/a              Infrastructure\n",
       "27 NA           n/a              Infrastructure\n",
       "28 NA           n/a              Infrastructure\n",
       "29 NA           n/a              Infrastructure\n",
       "   Subcategory                      \n",
       "1  Overall Physical Health          \n",
       "2  Chronic Disease                  \n",
       "3  Chronic Disease                  \n",
       "4  Chronic Disease                  \n",
       "5  Chronic Disease                  \n",
       "6  Chronic Disease                  \n",
       "7  Chronic Disease Prevention       \n",
       "8  Access to Care                   \n",
       "9  Socioeconomic Status             \n",
       "10 Socioeconomic Status             \n",
       "11 Socioeconomic Status             \n",
       "12 Socioeconomic Status             \n",
       "13 Housing Composition & Disability \n",
       "14 Housing Composition & Disability \n",
       "15 Housing Composition & Disability \n",
       "16 Housing Composition & Disability \n",
       "17 Minority Status & Language       \n",
       "18 Minority Status & Language       \n",
       "19 Housing & Transportation         \n",
       "20 Housing & Transportation         \n",
       "21 Housing & Transportation         \n",
       "22 Housing & Transportation         \n",
       "23 Housing & Transportation         \n",
       "24 HUD Foreclosure                  \n",
       "25 Communications                   \n",
       "26 Food, Water, and Waste Management\n",
       "27 Financial Services               \n",
       "28 Financial Services               \n",
       "29 Financial Services               \n",
       "   Data Column Name                                                \n",
       "1  Life expectancy at birth, as of 2010-2015.                      \n",
       "2  CASTHMA                                                         \n",
       "3  STROKE                                                          \n",
       "4  COPD                                                            \n",
       "5  CHD                                                             \n",
       "6  CANCER                                                          \n",
       "7  ACCESS2                                                         \n",
       "8  Medically Underserved Areas (MUA), as of 2020.                  \n",
       "9  EPL_POV                                                         \n",
       "10 EPL_UNEMP                                                       \n",
       "11 EPL_PCI                                                         \n",
       "12 EPL_NOHSDP                                                      \n",
       "13 EPL_AGE65                                                       \n",
       "14 EPL_AGE17                                                       \n",
       "15 EPL_DISABL                                                      \n",
       "16 EPL_SNGPNT                                                      \n",
       "17 EPL_MINRTY                                                      \n",
       "18 EPL_LIMENG                                                      \n",
       "19 EPL_MUNIT                                                       \n",
       "20 EPL_MOBILE                                                      \n",
       "21 EPL_CROWD                                                       \n",
       "22 EPL_NOVEH                                                       \n",
       "23 EPL_GROUPQ                                                      \n",
       "24 fordq_rate                                                      \n",
       "25 data_value                                                      \n",
       "26 mrfei                                                           \n",
       "27 Estimated percent of all housing units built 1940 to 1969, as of\n",
       "28 T8_est76                                                        \n",
       "29 T8_est10                                                        \n",
       "   Unit of Data\n",
       "1  NA          \n",
       "2  NA          \n",
       "3  NA          \n",
       "4  NA          \n",
       "5  NA          \n",
       "6  NA          \n",
       "7  NA          \n",
       "8  NA          \n",
       "9  NA          \n",
       "10 NA          \n",
       "11 NA          \n",
       "12 NA          \n",
       "13 NA          \n",
       "14 NA          \n",
       "15 NA          \n",
       "16 NA          \n",
       "17 NA          \n",
       "18 NA          \n",
       "19 NA          \n",
       "20 NA          \n",
       "21 NA          \n",
       "22 NA          \n",
       "23 NA          \n",
       "24 NA          \n",
       "25 NA          \n",
       "26 NA          \n",
       "27 NA          \n",
       "28 NA          \n",
       "29 NA          \n",
       "   Indicator Name                                                    \n",
       "1  Life Expectancy                                                   \n",
       "2  Current asthma among adults aged >=18 years                       \n",
       "3  Stroke among adults aged >=18 years                               \n",
       "4  Chronic obstructive pulmonary disease among adults aged >=18 years\n",
       "5  Coronary heart disease among adults aged >=18 years               \n",
       "6  Cancer (excluding skin cancer) among adults aged >=18 years       \n",
       "7  Current lack of health insurance among adults aged 18-64 years    \n",
       "8  MedicallyUnderserved                                              \n",
       "9  Below Poverty                                                     \n",
       "10 Unemployed                                                        \n",
       "11 Income                                                            \n",
       "12 No High School Diploma                                            \n",
       "13 Aged 65 or Older                                                  \n",
       "14 Aged 17 or Younger                                                \n",
       "15 Civilian with a Disability                                        \n",
       "16 Single-Parent Households                                          \n",
       "17 Minority                                                          \n",
       "18 Speaks English \"Less than Well\"                                   \n",
       "19 Multi-Unit Structures                                             \n",
       "20 Mobile Homes                                                      \n",
       "21 Crowding                                                          \n",
       "22 No Vehicle                                                        \n",
       "23 Group Quarters                                                    \n",
       "24 Foreclosure Rate                                                  \n",
       "25 No Broadband Access                                               \n",
       "26 Retail Food                                                       \n",
       "27 Housing Built Past v.s. Now                                       \n",
       "28 Housing Affordability.1                                           \n",
       "29 Housing Affordability.2                                           \n",
       "   indicator_name_short   <U+22EF>        Format                    \n",
       "1  LifeExpectancy         <U+22EF> Census Tract              \n",
       "2  CASTHMA                <U+22EF> Census Tract (Model based)\n",
       "3  STROKE                 <U+22EF> Census Tract (Model based)\n",
       "4  COPD                   <U+22EF> Census Tract (Model based)\n",
       "5  CHD                    <U+22EF> Census Tract (Model based)\n",
       "6  CANCER                 <U+22EF> Census Tract (Model based)\n",
       "7  ACCESS2                <U+22EF> Census Tract (Model based)\n",
       "8  MedicallyUnderserved   <U+22EF> Census Tract              \n",
       "9  BelowPoverty           <U+22EF> Census Tract              \n",
       "10 Unemployed             <U+22EF> Census Tract              \n",
       "11 Income                 <U+22EF> Census Tract              \n",
       "12 NoHSDiploma            <U+22EF> Census Tract              \n",
       "13 Aged65Older            <U+22EF> Census Tract              \n",
       "14 Aged17Younger          <U+22EF> Census Tract              \n",
       "15 CivilianWithDisability <U+22EF> Census Tract              \n",
       "16 SingleParentHhld       <U+22EF> Census Tract              \n",
       "17 Minority               <U+22EF> Census Tract              \n",
       "18 SpeaksEnglishLessWell  <U+22EF> Census Tract              \n",
       "19 MultiUnitStructures    <U+22EF> Census Tract              \n",
       "20 MobileHomes            <U+22EF> Census Tract              \n",
       "21 Crowding               <U+22EF> Census Tract              \n",
       "22 NoVehicle              <U+22EF> Census Tract              \n",
       "23 GroupQuarters          <U+22EF> Census Tract              \n",
       "24 ForeclosureRate        <U+22EF> Census Tract              \n",
       "25 NoBroadbandAccess      <U+22EF> Census Tract              \n",
       "26 RetailFood             <U+22EF> Census Tract              \n",
       "27 HousingBuiltPastVsNow  <U+22EF> Census Tract              \n",
       "28 HousingAffordability1  <U+22EF> Census Tract              \n",
       "29 HousingAffordability2  <U+22EF> Census Tract              \n",
       "   Geographic Level           URL  Download Date GEOID Column Name\n",
       "1  Census Tract               NA   05/08/2021    Census Tract     \n",
       "2  Census Tract (Model based) Link 21/12/2021    LocationName     \n",
       "3  Census Tract (Model based) Link 21/12/2021    LocationName     \n",
       "4  Census Tract (Model based) Link 21/12/2021    LocationName     \n",
       "5  Census Tract (Model based) Link 21/12/2021    LocationName     \n",
       "6  Census Tract (Model based) Link 21/12/2021    LocationName     \n",
       "7  Census Tract (Model based) Link 21/12/2021    LocationName     \n",
       "8  Census Tract               NA   13/08/2021    Census Tract     \n",
       "9  Census Tract               Link 03/12/2020    FIPS             \n",
       "10 Census Tract               Link 03/12/2020    FIPS             \n",
       "11 Census Tract               Link 03/12/2020    FIPS             \n",
       "12 Census Tract               Link 03/12/2020    FIPS             \n",
       "13 Census Tract               Link 03/12/2020    FIPS             \n",
       "14 Census Tract               Link 03/12/2020    FIPS             \n",
       "15 Census Tract               Link 03/12/2020    FIPS             \n",
       "16 Census Tract               Link 03/12/2020    FIPS             \n",
       "17 Census Tract               Link 03/12/2020    FIPS             \n",
       "18 Census Tract               Link 03/12/2020    FIPS             \n",
       "19 Census Tract               Link 03/12/2020    FIPS             \n",
       "20 Census Tract               Link 03/12/2020    FIPS             \n",
       "21 Census Tract               Link 03/12/2020    FIPS             \n",
       "22 Census Tract               Link 03/12/2020    FIPS             \n",
       "23 Census Tract               Link 03/12/2020    FIPS             \n",
       "24 Census Tract               Link 03/01/2022    geoid            \n",
       "25 Census Tract               Link 01/11/2021    CensusTract      \n",
       "26 Census Tract               Link 17/12/2020    GEOID            \n",
       "27 Census Tract               NA   11/08/2021    FIPS Code        \n",
       "28 Census Tract               Link 12/01/2022    CensusTract      \n",
       "29 Census Tract               Link 12/01/2022    CensusTract      \n",
       "   missing_data_value to_process processed\n",
       "1  -999               1          1        \n",
       "2  none               1          1        \n",
       "3  none               1          1        \n",
       "4  none               1          1        \n",
       "5  none               1          1        \n",
       "6  none               1          1        \n",
       "7  none               1          1        \n",
       "8  none               1          0        \n",
       "9  -999               1          1        \n",
       "10 -999               1          1        \n",
       "11 -999               1          1        \n",
       "12 -999               1          1        \n",
       "13 -999               1          1        \n",
       "14 -999               1          1        \n",
       "15 -999               1          1        \n",
       "16 -999               1          1        \n",
       "17 -999               1          1        \n",
       "18 -999               1          1        \n",
       "19 -999               1          1        \n",
       "20 -999               1          1        \n",
       "21 -999               1          1        \n",
       "22 -999               1          1        \n",
       "23 -999               1          1        \n",
       "24 none               1          1        \n",
       "25 none               1          1        \n",
       "26 none               1          1        \n",
       "27 none               1          0        \n",
       "28 none               1          1        \n",
       "29 none               1          1        \n",
       "   Notes                                                                                                                                                                                                                                                                                                                                                                                                                                                                                                                                                                                                                                                                      \n",
       "1  W Verified. This is a rate.                                                                                                                                                                                                                                                                                                                                                                                                                                                                                                                                                                                                                                                \n",
       "2  W Verified. This is a % per total population in CST.                                                                                                                                                                                                                                                                                                                                                                                                                                                                                                                                                                                                                       \n",
       "3  W Verified. This is a % per total population in CST.                                                                                                                                                                                                                                                                                                                                                                                                                                                                                                                                                                                                                       \n",
       "4  W Verified. This is a % per total population in CST.                                                                                                                                                                                                                                                                                                                                                                                                                                                                                                                                                                                                                       \n",
       "5  W Verified. This is a % per total population in CST.                                                                                                                                                                                                                                                                                                                                                                                                                                                                                                                                                                                                                       \n",
       "6  W Verified. This is a % per total population in CST.                                                                                                                                                                                                                                                                                                                                                                                                                                                                                                                                                                                                                       \n",
       "7  W Verified. This is a % per total population in CST.                                                                                                                                                                                                                                                                                                                                                                                                                                                                                                                                                                                                                       \n",
       "8  Suggest categorizing as follows: \\nNot an MUA or MUP=1\\nMedically Underserved Area (MUA)=2 (A shortage of primary health care services for residents within a geographic area (e.g., a whole county, a group of neighboring counties, a group of urban census tracts, and others geographic areas). \\nMedically Underserved Population (MUP)=3 (Are specific sub- groups of people living in a defined geographic area with a shortage of primary health care services and facing economic, cultural or linguistic barriers to access to health care (e.g., homeless, low-income, Medicaid-eligible, Native American, migrant farmworkers, among others population groups).\n",
       "9  W Verified. Medians calculated separately in R.                                                                                                                                                                                                                                                                                                                                                                                                                                                                                                                                                                                                                            \n",
       "10 W Verified. Medians calculated separately in R.                                                                                                                                                                                                                                                                                                                                                                                                                                                                                                                                                                                                                            \n",
       "11 W Verified. Medians calculated separately in R.                                                                                                                                                                                                                                                                                                                                                                                                                                                                                                                                                                                                                            \n",
       "12 W Verified. Medians calculated separately in R.                                                                                                                                                                                                                                                                                                                                                                                                                                                                                                                                                                                                                            \n",
       "13 W Verified. Medians calculated separately in R.                                                                                                                                                                                                                                                                                                                                                                                                                                                                                                                                                                                                                            \n",
       "14 W Verified. Medians calculated separately in R.                                                                                                                                                                                                                                                                                                                                                                                                                                                                                                                                                                                                                            \n",
       "15 W Verified. Medians calculated separately in R.                                                                                                                                                                                                                                                                                                                                                                                                                                                                                                                                                                                                                            \n",
       "16 W Verified. Medians calculated separately in R.                                                                                                                                                                                                                                                                                                                                                                                                                                                                                                                                                                                                                            \n",
       "17 W Verified. Medians calculated separately in R.                                                                                                                                                                                                                                                                                                                                                                                                                                                                                                                                                                                                                            \n",
       "18 W Verified. Medians calculated separately in R.                                                                                                                                                                                                                                                                                                                                                                                                                                                                                                                                                                                                                            \n",
       "19 W Verified. Medians calculated separately in R.                                                                                                                                                                                                                                                                                                                                                                                                                                                                                                                                                                                                                            \n",
       "20 W Verified. Medians calculated separately in R.                                                                                                                                                                                                                                                                                                                                                                                                                                                                                                                                                                                                                            \n",
       "21 W Verified. Medians calculated separately in R.                                                                                                                                                                                                                                                                                                                                                                                                                                                                                                                                                                                                                            \n",
       "22 W Verified. Medians calculated separately in R.                                                                                                                                                                                                                                                                                                                                                                                                                                                                                                                                                                                                                            \n",
       "23 W Verified. Medians calculated separately in R.                                                                                                                                                                                                                                                                                                                                                                                                                                                                                                                                                                                                                            \n",
       "24 W Verified. fordq_rate = Estimated percent of mortgages to start foreclosure process or be seriously delinquent in past 2 years                                                                                                                                                                                                                                                                                                                                                                                                                                                                                                                                            \n",
       "25 W verfied. Fixed census tracts.                                                                                                                                                                                                                                                                                                                                                                                                                                                                                                                                                                                                                                            \n",
       "26 W Verified. FIXED leading zeros in Excel, W converted to CSV. Zero reflects zero count not missing data.\\nThe mRFEI measures the number of healthy and less healthy food retailers within census tracts across each state as defined by typical food offerings in specific types of retail stores (e.g., supermarkets, convenience stores, or fast food restaurants).                                                                                                                                                                                                                                                                                                      \n",
       "27 W Verified                                                                                                                                                                                                                                                                                                                                                                                                                                                                                                                                                                                                                                                                 \n",
       "28 Renter Occupied, household income (less than or equal to 30% of HUD Area Median Family Income), cost burden > 50%\\n Found here: https://www.huduser.gov/portal/datasets/cp.html Downloaded and saved as file name 2014thru2018-140-csv                                                                                                                                                                                                                                                                                                                                                                                                                                     \n",
       "29 Owner Occupied, household income (less than or equal to 30% of HUD Area Median Family Income), cost burden > 50%\\n Found here: https://www.huduser.gov/portal/datasets/cp.html Downloaded and saved as file name 2014thru2018-140-csv                                                                                                                                                                                                                                                                                                                                                                                                                                      \n",
       "   Data notes                                                                                                                                                          \n",
       "1  NA                                                                                                                                                                  \n",
       "2  NA                                                                                                                                                                  \n",
       "3  NA                                                                                                                                                                  \n",
       "4  NA                                                                                                                                                                  \n",
       "5  NA                                                                                                                                                                  \n",
       "6  NA                                                                                                                                                                  \n",
       "7  NA                                                                                                                                                                  \n",
       "8  NA                                                                                                                                                                  \n",
       "9  NA                                                                                                                                                                  \n",
       "10 NA                                                                                                                                                                  \n",
       "11 NA                                                                                                                                                                  \n",
       "12 NA                                                                                                                                                                  \n",
       "13 NA                                                                                                                                                                  \n",
       "14 NA                                                                                                                                                                  \n",
       "15 NA                                                                                                                                                                  \n",
       "16 NA                                                                                                                                                                  \n",
       "17 NA                                                                                                                                                                  \n",
       "18 ~40 0 values in this dataset.                                                                                                                                       \n",
       "19 Over 200 0 values in this dataset.                                                                                                                                  \n",
       "20 Over 500 0 values in this dataset.                                                                                                                                  \n",
       "21 Not many missing (-999) values here but there are more than 100 tracts with 0 values, despite the next lowest score being ~0.15.                                    \n",
       "22 NA                                                                                                                                                                  \n",
       "23 More than half of census tracts have 0 values in this dataset.                                                                                                      \n",
       "24 Need to check missing value in this dataset                                                                                                                         \n",
       "25 NA                                                                                                                                                                  \n",
       "26 There are a lot of missing values in this data, perhaps should be used with caution as a large no. of census tracts are based on just the median for the study area.\n",
       "27 NA                                                                                                                                                                  \n",
       "28 NA                                                                                                                                                                  \n",
       "29 NA                                                                                                                                                                  "
      ]
     },
     "metadata": {},
     "output_type": "display_data"
    }
   ],
   "source": [
    "targ2 <- file_key %>%\n",
    "    filter(to_process == 1) %>%\n",
    "#     filter(`Document Name` == \"MedicallyUnderserved\") %>%\n",
    "    as.data.frame()\n",
    "\n",
    "targ2\n",
    "# targ2[17:18, ]"
   ]
  },
  {
   "cell_type": "code",
   "execution_count": 20,
   "metadata": {},
   "outputs": [],
   "source": []
  },
  {
   "cell_type": "code",
   "execution_count": 37,
   "metadata": {
    "scrolled": true
   },
   "outputs": [
    {
     "name": "stdout",
     "output_type": "stream",
     "text": [
      "[1] \"---------------------------------------------------------\"\n",
      "[1] \"FILE READ\"\n",
      "[1] \"Processing file: data/01_Health/LifeExpectancy - study_area.csv\"\n",
      "[1] \"Processing date: 2022-07-19 13:03:20\"\n",
      "[1] \"MISSING DATA\"\n",
      "[1] \"99 missing values found in file\"\n",
      "[1] \"GEOGRAPHY FUNCTIONS\"\n",
      "[1] \"No. of census tracts in study area: 1017\"\n",
      "[1] \"No. of joined census tracts joined to Health_LifeExpectancy data: 1017\"\n",
      "[1] \"OUTPUTS\"\n",
      "[1] \"Created file: Health_LifeExpectancy.tif\"\n",
      "[1] \"n records: 4,016,688\"\n",
      "[1] \"Created file: Health_LifeExpectancy.csv\"\n",
      "[1] \"n records (with NAs removed): 1,697,501\"\n",
      "[1] \"---------------------------------------------------------\"\n",
      "[1] \"FILE READ\"\n",
      "[1] \"Processing file: data/01_Health/PLACES__Local_Data_for_Better_Health__Census_Tract_Data_2021_release - study_area.csv\"\n",
      "[1] \"Processing date: 2022-07-19 13:03:20\"\n",
      "[1] \"MISSING TRACTS\"\n",
      "[1] \"2 tracts are missing from input file\"\n",
      "[1] \"GEOGRAPHY FUNCTIONS\"\n",
      "[1] \"No. of census tracts in study area: 1017\"\n",
      "[1] \"No. of joined census tracts joined to Health_CASTHMA data: 1017\"\n",
      "[1] \"OUTPUTS\"\n",
      "[1] \"Created file: Health_CASTHMA.tif\"\n",
      "[1] \"n records: 4,016,688\"\n",
      "[1] \"Created file: Health_CASTHMA.csv\"\n",
      "[1] \"n records (with NAs removed): 1,694,876\"\n",
      "[1] \"---------------------------------------------------------\"\n",
      "[1] \"FILE READ\"\n",
      "[1] \"Processing file: data/01_Health/PLACES__Local_Data_for_Better_Health__Census_Tract_Data_2021_release - study_area.csv\"\n",
      "[1] \"Processing date: 2022-07-19 13:03:21\"\n",
      "[1] \"MISSING TRACTS\"\n",
      "[1] \"2 tracts are missing from input file\"\n",
      "[1] \"GEOGRAPHY FUNCTIONS\"\n",
      "[1] \"No. of census tracts in study area: 1017\"\n",
      "[1] \"No. of joined census tracts joined to Health_STROKE data: 1017\"\n",
      "[1] \"OUTPUTS\"\n",
      "[1] \"Created file: Health_STROKE.tif\"\n",
      "[1] \"n records: 4,016,688\"\n",
      "[1] \"Created file: Health_STROKE.csv\"\n",
      "[1] \"n records (with NAs removed): 1,694,876\"\n",
      "[1] \"---------------------------------------------------------\"\n",
      "[1] \"FILE READ\"\n",
      "[1] \"Processing file: data/01_Health/PLACES__Local_Data_for_Better_Health__Census_Tract_Data_2021_release - study_area.csv\"\n",
      "[1] \"Processing date: 2022-07-19 13:03:22\"\n",
      "[1] \"MISSING TRACTS\"\n",
      "[1] \"2 tracts are missing from input file\"\n",
      "[1] \"GEOGRAPHY FUNCTIONS\"\n",
      "[1] \"No. of census tracts in study area: 1017\"\n",
      "[1] \"No. of joined census tracts joined to Health_COPD data: 1017\"\n",
      "[1] \"OUTPUTS\"\n",
      "[1] \"Created file: Health_COPD.tif\"\n",
      "[1] \"n records: 4,016,688\"\n",
      "[1] \"Created file: Health_COPD.csv\"\n",
      "[1] \"n records (with NAs removed): 1,694,876\"\n",
      "[1] \"---------------------------------------------------------\"\n",
      "[1] \"FILE READ\"\n",
      "[1] \"Processing file: data/01_Health/PLACES__Local_Data_for_Better_Health__Census_Tract_Data_2021_release - study_area.csv\"\n",
      "[1] \"Processing date: 2022-07-19 13:03:23\"\n",
      "[1] \"MISSING TRACTS\"\n",
      "[1] \"2 tracts are missing from input file\"\n",
      "[1] \"GEOGRAPHY FUNCTIONS\"\n",
      "[1] \"No. of census tracts in study area: 1017\"\n",
      "[1] \"No. of joined census tracts joined to Health_CHD data: 1017\"\n",
      "[1] \"OUTPUTS\"\n",
      "[1] \"Created file: Health_CHD.tif\"\n",
      "[1] \"n records: 4,016,688\"\n",
      "[1] \"Created file: Health_CHD.csv\"\n",
      "[1] \"n records (with NAs removed): 1,694,876\"\n",
      "[1] \"---------------------------------------------------------\"\n",
      "[1] \"FILE READ\"\n",
      "[1] \"Processing file: data/01_Health/PLACES__Local_Data_for_Better_Health__Census_Tract_Data_2021_release - study_area.csv\"\n",
      "[1] \"Processing date: 2022-07-19 13:03:24\"\n",
      "[1] \"MISSING TRACTS\"\n",
      "[1] \"2 tracts are missing from input file\"\n",
      "[1] \"GEOGRAPHY FUNCTIONS\"\n",
      "[1] \"No. of census tracts in study area: 1017\"\n",
      "[1] \"No. of joined census tracts joined to Health_CANCER data: 1017\"\n",
      "[1] \"OUTPUTS\"\n",
      "[1] \"Created file: Health_CANCER.tif\"\n",
      "[1] \"n records: 4,016,688\"\n",
      "[1] \"Created file: Health_CANCER.csv\"\n",
      "[1] \"n records (with NAs removed): 1,694,876\"\n",
      "[1] \"---------------------------------------------------------\"\n",
      "[1] \"FILE READ\"\n",
      "[1] \"Processing file: data/01_Health/PLACES__Local_Data_for_Better_Health__Census_Tract_Data_2021_release - study_area.csv\"\n",
      "[1] \"Processing date: 2022-07-19 13:03:25\"\n",
      "[1] \"MISSING TRACTS\"\n",
      "[1] \"2 tracts are missing from input file\"\n",
      "[1] \"GEOGRAPHY FUNCTIONS\"\n",
      "[1] \"No. of census tracts in study area: 1017\"\n",
      "[1] \"No. of joined census tracts joined to Health_ACCESS2 data: 1017\"\n",
      "[1] \"OUTPUTS\"\n",
      "[1] \"Created file: Health_ACCESS2.tif\"\n",
      "[1] \"n records: 4,016,688\"\n",
      "[1] \"Created file: Health_ACCESS2.csv\"\n",
      "[1] \"n records (with NAs removed): 1,694,876\"\n",
      "[1] \"---------------------------------------------------------\"\n",
      "[1] \"FILE READ\"\n",
      "[1] \"Processing file: data/01_Health/MedicallyUnderserved - coded - study_area.csv\"\n",
      "[1] \"Processing date: 2022-07-19 13:03:25\"\n",
      "[1] \"GEOGRAPHY FUNCTIONS\"\n",
      "[1] \"No. of census tracts in study area: 1017\"\n",
      "[1] \"No. of joined census tracts joined to Health_MedicallyUnderserved data: 1017\"\n",
      "[1] \"OUTPUTS\"\n",
      "[1] \"Created file: Health_MedicallyUnderserved.tif\"\n",
      "[1] \"n records: 4,016,688\"\n",
      "[1] \"Created file: Health_MedicallyUnderserved.csv\"\n",
      "[1] \"n records (with NAs removed): 1,697,501\"\n",
      "[1] \"---------------------------------------------------------\"\n",
      "[1] \"FILE READ\"\n",
      "[1] \"Processing file: data/01_Social/SVI2018_US - study_area.csv\"\n",
      "[1] \"Processing date: 2022-07-19 13:03:26\"\n",
      "[1] \"MISSING DATA\"\n",
      "[1] \"3 missing values found in file\"\n",
      "[1] \"GEOGRAPHY FUNCTIONS\"\n",
      "[1] \"No. of census tracts in study area: 1017\"\n",
      "[1] \"No. of joined census tracts joined to Social_BelowPoverty data: 1017\"\n",
      "[1] \"OUTPUTS\"\n",
      "[1] \"Created file: Social_BelowPoverty.tif\"\n",
      "[1] \"n records: 4,016,688\"\n",
      "[1] \"Created file: Social_BelowPoverty.csv\"\n",
      "[1] \"n records (with NAs removed): 1,697,501\"\n",
      "[1] \"---------------------------------------------------------\"\n",
      "[1] \"FILE READ\"\n",
      "[1] \"Processing file: data/01_Social/SVI2018_US - study_area.csv\"\n",
      "[1] \"Processing date: 2022-07-19 13:03:27\"\n",
      "[1] \"MISSING DATA\"\n",
      "[1] \"2 missing values found in file\"\n",
      "[1] \"GEOGRAPHY FUNCTIONS\"\n",
      "[1] \"No. of census tracts in study area: 1017\"\n",
      "[1] \"No. of joined census tracts joined to Social_Unemployed data: 1017\"\n",
      "[1] \"OUTPUTS\"\n",
      "[1] \"Created file: Social_Unemployed.tif\"\n",
      "[1] \"n records: 4,016,688\"\n",
      "[1] \"Created file: Social_Unemployed.csv\"\n",
      "[1] \"n records (with NAs removed): 1,697,501\"\n",
      "[1] \"---------------------------------------------------------\"\n",
      "[1] \"FILE READ\"\n",
      "[1] \"Processing file: data/01_Social/SVI2018_US - study_area.csv\"\n",
      "[1] \"Processing date: 2022-07-19 13:03:31\"\n",
      "[1] \"MISSING DATA\"\n",
      "[1] \"2 missing values found in file\"\n",
      "[1] \"GEOGRAPHY FUNCTIONS\"\n",
      "[1] \"No. of census tracts in study area: 1017\"\n",
      "[1] \"No. of joined census tracts joined to Social_Income data: 1017\"\n",
      "[1] \"OUTPUTS\"\n",
      "[1] \"Created file: Social_Income.tif\"\n",
      "[1] \"n records: 4,016,688\"\n",
      "[1] \"Created file: Social_Income.csv\"\n",
      "[1] \"n records (with NAs removed): 1,697,501\"\n",
      "[1] \"---------------------------------------------------------\"\n",
      "[1] \"FILE READ\"\n",
      "[1] \"Processing file: data/01_Social/SVI2018_US - study_area.csv\"\n",
      "[1] \"Processing date: 2022-07-19 13:03:33\"\n",
      "[1] \"MISSING DATA\"\n",
      "[1] \"1 missing values found in file\"\n",
      "[1] \"GEOGRAPHY FUNCTIONS\"\n",
      "[1] \"No. of census tracts in study area: 1017\"\n",
      "[1] \"No. of joined census tracts joined to Social_NoHSDiploma data: 1017\"\n",
      "[1] \"OUTPUTS\"\n",
      "[1] \"Created file: Social_NoHSDiploma.tif\"\n",
      "[1] \"n records: 4,016,688\"\n",
      "[1] \"Created file: Social_NoHSDiploma.csv\"\n",
      "[1] \"n records (with NAs removed): 1,697,501\"\n",
      "[1] \"---------------------------------------------------------\"\n",
      "[1] \"FILE READ\"\n",
      "[1] \"Processing file: data/01_Social/SVI2018_US - study_area.csv\"\n",
      "[1] \"Processing date: 2022-07-19 13:03:35\"\n",
      "[1] \"MISSING DATA\"\n",
      "[1] \"1 missing values found in file\"\n",
      "[1] \"GEOGRAPHY FUNCTIONS\"\n",
      "[1] \"No. of census tracts in study area: 1017\"\n",
      "[1] \"No. of joined census tracts joined to Social_Aged65Older data: 1017\"\n",
      "[1] \"OUTPUTS\"\n",
      "[1] \"Created file: Social_Aged65Older.tif\"\n",
      "[1] \"n records: 4,016,688\"\n",
      "[1] \"Created file: Social_Aged65Older.csv\"\n",
      "[1] \"n records (with NAs removed): 1,697,501\"\n",
      "[1] \"---------------------------------------------------------\"\n",
      "[1] \"FILE READ\"\n",
      "[1] \"Processing file: data/01_Social/SVI2018_US - study_area.csv\"\n",
      "[1] \"Processing date: 2022-07-19 13:03:38\"\n",
      "[1] \"MISSING DATA\"\n",
      "[1] \"1 missing values found in file\"\n",
      "[1] \"GEOGRAPHY FUNCTIONS\"\n",
      "[1] \"No. of census tracts in study area: 1017\"\n",
      "[1] \"No. of joined census tracts joined to Social_Aged17Younger data: 1017\"\n",
      "[1] \"OUTPUTS\"\n",
      "[1] \"Created file: Social_Aged17Younger.tif\"\n",
      "[1] \"n records: 4,016,688\"\n",
      "[1] \"Created file: Social_Aged17Younger.csv\"\n",
      "[1] \"n records (with NAs removed): 1,697,501\"\n",
      "[1] \"---------------------------------------------------------\"\n",
      "[1] \"FILE READ\"\n",
      "[1] \"Processing file: data/01_Social/SVI2018_US - study_area.csv\"\n",
      "[1] \"Processing date: 2022-07-19 13:03:39\"\n",
      "[1] \"MISSING DATA\"\n",
      "[1] \"1 missing values found in file\"\n",
      "[1] \"GEOGRAPHY FUNCTIONS\"\n",
      "[1] \"No. of census tracts in study area: 1017\"\n",
      "[1] \"No. of joined census tracts joined to Social_CivilianWithDisability data: 1017\"\n",
      "[1] \"OUTPUTS\"\n",
      "[1] \"Created file: Social_CivilianWithDisability.tif\"\n",
      "[1] \"n records: 4,016,688\"\n",
      "[1] \"Created file: Social_CivilianWithDisability.csv\"\n",
      "[1] \"n records (with NAs removed): 1,697,501\"\n",
      "[1] \"---------------------------------------------------------\"\n",
      "[1] \"FILE READ\"\n",
      "[1] \"Processing file: data/01_Social/SVI2018_US - study_area.csv\"\n",
      "[1] \"Processing date: 2022-07-19 13:03:40\"\n",
      "[1] \"MISSING DATA\"\n",
      "[1] \"1 missing values found in file\"\n",
      "[1] \"GEOGRAPHY FUNCTIONS\"\n",
      "[1] \"No. of census tracts in study area: 1017\"\n",
      "[1] \"No. of joined census tracts joined to Social_SingleParentHhld data: 1017\"\n",
      "[1] \"OUTPUTS\"\n",
      "[1] \"Created file: Social_SingleParentHhld.tif\"\n",
      "[1] \"n records: 4,016,688\"\n",
      "[1] \"Created file: Social_SingleParentHhld.csv\"\n",
      "[1] \"n records (with NAs removed): 1,697,501\"\n",
      "[1] \"---------------------------------------------------------\"\n",
      "[1] \"FILE READ\"\n",
      "[1] \"Processing file: data/01_Social/SVI2018_US - study_area.csv\"\n",
      "[1] \"Processing date: 2022-07-19 13:03:40\"\n",
      "[1] \"MISSING DATA\"\n",
      "[1] \"1 missing values found in file\"\n",
      "[1] \"GEOGRAPHY FUNCTIONS\"\n",
      "[1] \"No. of census tracts in study area: 1017\"\n",
      "[1] \"No. of joined census tracts joined to Social_Minority data: 1017\"\n",
      "[1] \"OUTPUTS\"\n",
      "[1] \"Created file: Social_Minority.tif\"\n",
      "[1] \"n records: 4,016,688\"\n",
      "[1] \"Created file: Social_Minority.csv\"\n",
      "[1] \"n records (with NAs removed): 1,697,501\"\n",
      "[1] \"---------------------------------------------------------\"\n",
      "[1] \"FILE READ\"\n",
      "[1] \"Processing file: data/01_Social/SVI2018_US - study_area.csv\"\n",
      "[1] \"Processing date: 2022-07-19 13:03:41\"\n",
      "[1] \"MISSING DATA\"\n",
      "[1] \"1 missing values found in file\"\n",
      "[1] \"GEOGRAPHY FUNCTIONS\"\n",
      "[1] \"No. of census tracts in study area: 1017\"\n",
      "[1] \"No. of joined census tracts joined to Social_SpeaksEnglishLessWell data: 1017\"\n",
      "[1] \"OUTPUTS\"\n",
      "[1] \"Created file: Social_SpeaksEnglishLessWell.tif\"\n",
      "[1] \"n records: 4,016,688\"\n",
      "[1] \"Created file: Social_SpeaksEnglishLessWell.csv\"\n",
      "[1] \"n records (with NAs removed): 1,697,501\"\n",
      "[1] \"---------------------------------------------------------\"\n",
      "[1] \"FILE READ\"\n",
      "[1] \"Processing file: data/01_Social/SVI2018_US - study_area.csv\"\n",
      "[1] \"Processing date: 2022-07-19 13:03:42\"\n",
      "[1] \"MISSING DATA\"\n",
      "[1] \"1 missing values found in file\"\n",
      "[1] \"GEOGRAPHY FUNCTIONS\"\n",
      "[1] \"No. of census tracts in study area: 1017\"\n",
      "[1] \"No. of joined census tracts joined to Social_MultiUnitStructures data: 1017\"\n",
      "[1] \"OUTPUTS\"\n",
      "[1] \"Created file: Social_MultiUnitStructures.tif\"\n",
      "[1] \"n records: 4,016,688\"\n",
      "[1] \"Created file: Social_MultiUnitStructures.csv\"\n",
      "[1] \"n records (with NAs removed): 1,697,501\"\n",
      "[1] \"---------------------------------------------------------\"\n",
      "[1] \"FILE READ\"\n",
      "[1] \"Processing file: data/01_Social/SVI2018_US - study_area.csv\"\n",
      "[1] \"Processing date: 2022-07-19 13:03:43\"\n",
      "[1] \"MISSING DATA\"\n",
      "[1] \"3 missing values found in file\"\n",
      "[1] \"GEOGRAPHY FUNCTIONS\"\n",
      "[1] \"No. of census tracts in study area: 1017\"\n",
      "[1] \"No. of joined census tracts joined to Social_MobileHomes data: 1017\"\n",
      "[1] \"OUTPUTS\"\n",
      "[1] \"Created file: Social_MobileHomes.tif\"\n",
      "[1] \"n records: 4,016,688\"\n",
      "[1] \"Created file: Social_MobileHomes.csv\"\n",
      "[1] \"n records (with NAs removed): 1,697,501\"\n",
      "[1] \"---------------------------------------------------------\"\n",
      "[1] \"FILE READ\"\n",
      "[1] \"Processing file: data/01_Social/SVI2018_US - study_area.csv\"\n",
      "[1] \"Processing date: 2022-07-19 13:03:44\"\n",
      "[1] \"MISSING DATA\"\n",
      "[1] \"1 missing values found in file\"\n",
      "[1] \"GEOGRAPHY FUNCTIONS\"\n",
      "[1] \"No. of census tracts in study area: 1017\"\n",
      "[1] \"No. of joined census tracts joined to Social_Crowding data: 1017\"\n",
      "[1] \"OUTPUTS\"\n",
      "[1] \"Created file: Social_Crowding.tif\"\n",
      "[1] \"n records: 4,016,688\"\n",
      "[1] \"Created file: Social_Crowding.csv\"\n",
      "[1] \"n records (with NAs removed): 1,697,501\"\n",
      "[1] \"---------------------------------------------------------\"\n",
      "[1] \"FILE READ\"\n",
      "[1] \"Processing file: data/01_Social/SVI2018_US - study_area.csv\"\n",
      "[1] \"Processing date: 2022-07-19 13:03:45\"\n",
      "[1] \"MISSING DATA\"\n",
      "[1] \"3 missing values found in file\"\n",
      "[1] \"GEOGRAPHY FUNCTIONS\"\n",
      "[1] \"No. of census tracts in study area: 1017\"\n",
      "[1] \"No. of joined census tracts joined to Social_NoVehicle data: 1017\"\n",
      "[1] \"OUTPUTS\"\n",
      "[1] \"Created file: Social_NoVehicle.tif\"\n",
      "[1] \"n records: 4,016,688\"\n",
      "[1] \"Created file: Social_NoVehicle.csv\"\n",
      "[1] \"n records (with NAs removed): 1,697,501\"\n",
      "[1] \"---------------------------------------------------------\"\n",
      "[1] \"FILE READ\"\n",
      "[1] \"Processing file: data/01_Social/SVI2018_US - study_area.csv\"\n",
      "[1] \"Processing date: 2022-07-19 13:03:45\"\n",
      "[1] \"MISSING DATA\"\n",
      "[1] \"1 missing values found in file\"\n",
      "[1] \"GEOGRAPHY FUNCTIONS\"\n",
      "[1] \"No. of census tracts in study area: 1017\"\n",
      "[1] \"No. of joined census tracts joined to Social_GroupQuarters data: 1017\"\n",
      "[1] \"OUTPUTS\"\n",
      "[1] \"Created file: Social_GroupQuarters.tif\"\n",
      "[1] \"n records: 4,016,688\"\n",
      "[1] \"Created file: Social_GroupQuarters.csv\"\n",
      "[1] \"n records (with NAs removed): 1,697,501\"\n",
      "[1] \"---------------------------------------------------------\"\n",
      "[1] \"FILE READ\"\n",
      "[1] \"Processing file: data/01_Social/NSP2 - US Total - study_area.csv\"\n",
      "[1] \"Processing date: 2022-07-19 13:03:46\"\n",
      "[1] \"MISSING TRACTS\"\n",
      "[1] \"358 tracts are missing from input file\"\n",
      "[1] \"GEOGRAPHY FUNCTIONS\"\n",
      "[1] \"No. of census tracts in study area: 1017\"\n",
      "[1] \"No. of joined census tracts joined to Social_ForeclosureRate data: 1017\"\n",
      "[1] \"OUTPUTS\"\n",
      "[1] \"Created file: Social_ForeclosureRate.tif\"\n",
      "[1] \"n records: 4,016,688\"\n",
      "[1] \"Created file: Social_ForeclosureRate.csv\"\n",
      "[1] \"n records (with NAs removed): 1,314,802\"\n",
      "[1] \"---------------------------------------------------------\"\n",
      "[1] \"FILE READ\"\n",
      "[1] \"Processing file: data/01_Infrastructure/BroadbandAcess_PercentHousehold_nointernet_allstates-fixedtracts - study_area.csv\"\n",
      "[1] \"Processing date: 2022-07-19 13:03:47\"\n",
      "[1] \"GEOGRAPHY FUNCTIONS\"\n",
      "[1] \"No. of census tracts in study area: 1017\"\n",
      "[1] \"No. of joined census tracts joined to Infrastructure_NoBroadbandAccess data: 1017\"\n",
      "[1] \"OUTPUTS\"\n",
      "[1] \"Created file: Infrastructure_NoBroadbandAccess.tif\"\n",
      "[1] \"n records: 4,016,688\"\n",
      "[1] \"Created file: Infrastructure_NoBroadbandAccess.csv\"\n",
      "[1] \"n records (with NAs removed): 1,697,501\"\n",
      "[1] \"---------------------------------------------------------\"\n",
      "[1] \"FILE READ\"\n",
      "[1] \"Processing file: data/01_Infrastructure/MRFEIData_CLEAN - study_area.csv\"\n",
      "[1] \"Processing date: 2022-07-19 13:03:49\"\n",
      "[1] \"MISSING DATA\"\n",
      "[1] \"2 missing values found in file\"\n",
      "[1] \"MISSING TRACTS\"\n",
      "[1] \"358 tracts are missing from input file\"\n",
      "[1] \"GEOGRAPHY FUNCTIONS\"\n",
      "[1] \"No. of census tracts in study area: 1017\"\n",
      "[1] \"No. of joined census tracts joined to Infrastructure_RetailFood data: 1017\"\n",
      "[1] \"OUTPUTS\"\n",
      "[1] \"Created file: Infrastructure_RetailFood.tif\"\n",
      "[1] \"n records: 4,016,688\"\n",
      "[1] \"Created file: Infrastructure_RetailFood.csv\"\n",
      "[1] \"n records (with NAs removed): 1,314,802\"\n",
      "[1] \"---------------------------------------------------------\"\n",
      "[1] \"FILE READ\"\n",
      "[1] \"Processing file: data/01_Social/PercentHousing1940-1969 - study_area.csv\"\n",
      "[1] \"Processing date: 2022-07-19 13:03:50\"\n",
      "[1] \"MISSING DATA\"\n",
      "[1] \"5 missing values found in file\"\n",
      "[1] \"GEOGRAPHY FUNCTIONS\"\n",
      "[1] \"No. of census tracts in study area: 1017\"\n",
      "[1] \"No. of joined census tracts joined to Infrastructure_HousingBuiltPastVsNow data: 1017\"\n",
      "[1] \"OUTPUTS\"\n",
      "[1] \"Created file: Infrastructure_HousingBuiltPastVsNow.tif\"\n",
      "[1] \"n records: 4,016,688\"\n",
      "[1] \"Created file: Infrastructure_HousingBuiltPastVsNow.csv\"\n",
      "[1] \"n records (with NAs removed): 1,697,501\"\n",
      "[1] \"---------------------------------------------------------\"\n",
      "[1] \"FILE READ\"\n",
      "[1] \"Processing file: data/01_Infrastructure/Table8 - study_area.csv\"\n",
      "[1] \"Processing date: 2022-07-19 13:03:51\"\n",
      "[1] \"GEOGRAPHY FUNCTIONS\"\n",
      "[1] \"No. of census tracts in study area: 1017\"\n",
      "[1] \"No. of joined census tracts joined to Infrastructure_HousingAffordability1 data: 1017\"\n",
      "[1] \"OUTPUTS\"\n",
      "[1] \"Created file: Infrastructure_HousingAffordability1.tif\"\n",
      "[1] \"n records: 4,016,688\"\n",
      "[1] \"Created file: Infrastructure_HousingAffordability1.csv\"\n",
      "[1] \"n records (with NAs removed): 1,697,501\"\n",
      "[1] \"---------------------------------------------------------\"\n",
      "[1] \"FILE READ\"\n",
      "[1] \"Processing file: data/01_Infrastructure/Table8 - study_area.csv\"\n",
      "[1] \"Processing date: 2022-07-19 13:03:52\"\n",
      "[1] \"GEOGRAPHY FUNCTIONS\"\n",
      "[1] \"No. of census tracts in study area: 1017\"\n",
      "[1] \"No. of joined census tracts joined to Infrastructure_HousingAffordability2 data: 1017\"\n",
      "[1] \"OUTPUTS\"\n",
      "[1] \"Created file: Infrastructure_HousingAffordability2.tif\"\n",
      "[1] \"n records: 4,016,688\"\n",
      "[1] \"Created file: Infrastructure_HousingAffordability2.csv\"\n",
      "[1] \"n records (with NAs removed): 1,697,501\"\n"
     ]
    }
   ],
   "source": [
    "# set raster template values to NA\n",
    "rt[[1]][] <- NA\n",
    "\n",
    "# create logging df\n",
    "log_df <- data.frame()\n",
    "\n",
    "# df for wide output of all raster data - these are just all raster cells covered by census tracts, not full raster area\n",
    "wide_output_df <- data.frame(\"cell_id\" = df_study_clipped$cell_id)\n",
    "\n",
    "\n",
    "# loop through data sets in the target list\n",
    "\n",
    "for (i in 1:nrow(targ2)) {\n",
    "# for (i in 1:2) {\n",
    "\n",
    "    # take file path from file key\n",
    "    path_data <- paste0(\"data/ToxPi_inputs/\", targ2[i, \"Path To File\"]) %>%\n",
    "        str_replace(\".csv\", \" - study_area.csv\")\n",
    "    \n",
    "    # __ FIELDS AND FILE PATHS __________________________________________ # \n",
    "    \n",
    "    # create nice short name for indicator by combining domain and short indicator\n",
    "    dom <- targ2[i, \"Domain\"]\n",
    "    ind <- targ2[i, \"indicator_name_short\"]\n",
    "    \n",
    "    ind_name <- paste(dom, ind, sep = \"_\")\n",
    "    \n",
    "    # pull important fields from data_key\n",
    "    data_field <- targ2[i, \"Data Column Name\"]\n",
    "#     missing_field <- as.numeric(targ2[i, \"missing_data_value\"])\n",
    "    \n",
    "    # new folder path to save file-specific outputs\n",
    "#     path_out <- file.path(getwd(), \"output/ToxPi_inputs_processed\", ind_name)\n",
    "#     dir.create(path_out)\n",
    "    \n",
    "    \n",
    "    # __ LOGGING AND FILE READ-IN __________________________________________ # \n",
    "    \n",
    "#     sink(file.path(path_out, \"log.txt\"))\n",
    "    print(\"---------------------------------------------------------\")\n",
    "    print(\"FILE READ\")\n",
    "    print(paste0(\"Processing file: \", path_data))\n",
    "    print(paste0(\"Processing date: \", now()))\n",
    "    \n",
    "\n",
    "    # read in file (with field type default as numeric, geoid as character), \n",
    "    # rename data field as value, and restrict to tracts in sf\n",
    "    df <- read_csv(path_data, col_types = cols(.default = \"n\", geoid = \"c\")) %>%\n",
    "        rename(value = !!as.symbol(data_field)) %>%\n",
    "        select(geoid, value) %>%\n",
    "        filter(geoid %in% sf_tracts$geoid)\n",
    "    \n",
    "    # array of all non missing values\n",
    "    non_missing_vals <- df %>%\n",
    "        filter(!is.na(value) & value != -999) %>%\n",
    "        pull(value) \n",
    "    \n",
    "    # count missing values\n",
    "    n_missing_vals <- df %>%\n",
    "        filter(is.na(value) | value == -999) %>%\n",
    "        nrow()\n",
    "    \n",
    "    # set value to 0 before if clause\n",
    "    missing_tracts <- data.frame()\n",
    "    \n",
    "    # __ MISSING VALUES AND TRACTS __________________________________________ # \n",
    "    \n",
    "    # if there are missing census tracts or missing values\n",
    "    if ((nrow(df) < nrow(sf_tracts)) | (n_missing_vals > 0)){\n",
    "        \n",
    "        # if tracts in the input data have NA or -999 values\n",
    "        if (n_missing_vals > 0){\n",
    "\n",
    "            # replace missing values (NA or -999) with -999\n",
    "            df <- df %>%\n",
    "                mutate(value = ifelse(is.na(value) | value == -999, \n",
    "                                      -999,\n",
    "                                      value))\n",
    "\n",
    "            print(\"MISSING DATA\")\n",
    "            print(paste0(n_missing_vals, \" missing values found in file\"))\n",
    "#             print(paste0(\"replacing with study area median: \", median(non_missing_vals)))\n",
    "            \n",
    "        }\n",
    "        \n",
    "        # if there are fewer census tracts in the input data (df) than the study area\n",
    "        if (nrow(df) < nrow(sf_tracts)){\n",
    "        \n",
    "            # geoids of missing tracts\n",
    "            missing_tracts <- df_tracts %>%\n",
    "                select(geoid) %>%\n",
    "                filter(!geoid %in% df$geoid) #%>%\n",
    "    #             mutate(value = median(non_missing_vals))\n",
    "\n",
    "            # give missing geoids median value and join to orig data\n",
    "            df <- df %>%\n",
    "                full_join(missing_tracts, by = \"geoid\") #%>%\n",
    "    #             mutate(value = ifelse(is.na(value.x), value.y, value.x))\n",
    "\n",
    "            print(\"MISSING TRACTS\")\n",
    "            print(paste0(nrow(missing_tracts), \" tracts are missing from input file\"))\n",
    "#             print(paste0(\"replacing with study area median: \", median(non_missing_vals)))\n",
    "            \n",
    "        }\n",
    "        \n",
    "    } \n",
    "    \n",
    "#     # __DATA OVERVIEWS__________________________________________ # \n",
    "    \n",
    "#     pl_hist <- ggplot(df, aes(value)) + geom_histogram() +\n",
    "#         labs(title = paste0(\"Distribution: \", ind_name),\n",
    "#              x = data_field) +\n",
    "#         scale_fill_edf(\"health\")\n",
    "    \n",
    "#     pl_box <- ggplot(df, aes(value)) + geom_boxplot(width = .5, alpha = .8) +\n",
    "#         labs(title = paste0(\"Distribution: \", ind_name),\n",
    "#              x = data_field) +\n",
    "#         theme(axis.text.y = element_blank())\n",
    "    \n",
    "#     ggsave(file.path(path_out, paste0(\"fig histogram - \", ind_name, \".png\")),\n",
    "#            pl_hist,\n",
    "#            units = \"cm\", width = 15, height = 6)\n",
    "    \n",
    "#     ggsave(file.path(path_out, paste0(\"fig boxplot - \", ind_name, \".png\")),\n",
    "#            pl_box,\n",
    "#            units = \"cm\", width = 12, height = 4)\n",
    "    \n",
    "    \n",
    "    # __ RASTERISATION __________________________________________ #\n",
    "    \n",
    "    # create sf file for new data by joining to tracts sf, and keep only data value\n",
    "    sf_new_data <- sf_tracts %>% \n",
    "        inner_join(df, by = \"geoid\") %>%\n",
    "        select(value)\n",
    "    \n",
    "    print(\"GEOGRAPHY FUNCTIONS\")\n",
    "    print(paste0(\"No. of census tracts in study area: \", nrow(sf_tracts)))\n",
    "    print(paste0(\"No. of joined census tracts joined to \", ind_name, \" data: \", nrow(sf_new_data)))\n",
    "    \n",
    "    # create raster dataset\n",
    "    r_new_data <- sf_new_data %>%\n",
    "        st_rasterize(template = rt)\n",
    "    \n",
    "    # create data frame output for dataset\n",
    "    df_new_data <- data.frame(\"cell_id\" = seq(1, length(r_new_data[[1]]), 1),\n",
    "                              \"value\" = NA)\n",
    "\n",
    "    df_new_data$value <- r_new_data[[1]][df_new_data$cell_id]\n",
    "    \n",
    "#     write_stars(r_new_data, file.path(path_out, paste0(ind_name, \".tif\")))\n",
    "#     write_csv(df_new_data %>% drop_na(), file.path(path_out, paste0(ind_name, \".csv\")))\n",
    "    \n",
    "    print(\"OUTPUTS\")\n",
    "    print(paste0(\"Created file: \", paste0(ind_name, \".tif\")))\n",
    "    print(paste0(\"n records: \", format(length(r_new_data[[1]]), big.mark=\",\")))\n",
    "    print(paste0(\"Created file: \", paste0(ind_name, \".csv\")))\n",
    "    print(paste0(\"n records (with NAs removed): \", format(nrow(df_new_data %>% drop_na()), big.mark=\",\")))\n",
    "    \n",
    "#     append data to wide table\n",
    "    wide_output_df[ind_name] <- r_new_data[[1]][wide_output_df$cell_id]\n",
    "    \n",
    "#     # __ QUICK MAP __________________________________________ #\n",
    "    \n",
    "#     pl_map <- ggplot() +  \n",
    "#         geom_raster(data = as.data.frame(r_new_data), aes(x = x, y = y, fill = value)) +\n",
    "#         scale_fill_viridis(na.value = \"white\") +\n",
    "#         coord_sf(datum = NA) +\n",
    "#         labs(title = paste0(\"Rasterised data in study area: \", ind_name)) +\n",
    "#         theme(plot.title = element_text(size = 8))\n",
    "    \n",
    "#     ggsave(file.path(path_out, paste0(\"fig raster map - \", ind_name, \".png\")),\n",
    "#            pl_map,\n",
    "#            units = \"cm\", width = 10, height = 10)\n",
    "\n",
    "\n",
    "    \n",
    "    # __ LOG DF __________________________________________ #\n",
    "    log <- data.frame(\"file\" = as.character(ind_name),\n",
    "                      \"n_missing_values\" = n_missing_vals,\n",
    "                      \"n_missing_tracts\" = nrow(missing_tracts),\n",
    "                      \"study_area_min\" = min(non_missing_vals),\n",
    "                      \"study_area_median\" = median(non_missing_vals),\n",
    "                      \"study_area_max\" = max(non_missing_vals),\n",
    "                      stringsAsFactors = F)\n",
    "    \n",
    "    log_df <- bind_rows(log_df, log)\n",
    "\n",
    "#     print(\"---------------------------------------------------------\")\n",
    "}\n",
    "\n",
    "\n",
    "# save log & wide df\n",
    "fn_log <- paste0(\"ToxPi_DataProcessingLog_\", format(now(), \"%Y%m%d_%H%M\"), \".csv\")\n",
    "write_csv(log_df, paste0(\"outputs/ToxPi_inputs_processed/\", fn_log))\n",
    "\n",
    "# fn_output <- paste0(\"ToxPiDataInput_v2.0_\", format(now(), \"%Y%m%d\"), \".csv\")\n",
    "# write_csv(wide_output_df, paste0(\"outputs/ToxPi_inputs_processed/\", fn_output))"
   ]
  },
  {
   "cell_type": "code",
   "execution_count": 85,
   "metadata": {},
   "outputs": [],
   "source": [
    "fn_output <- paste0(\"ToxPi_DataInput_v2.1_\", format(now(), \"%Y%m%d\"), \".csv\")\n",
    "write_csv(wide_output_df, paste0(\"outputs/ToxPi_inputs_processed/\", fn_output))\n",
    "\n",
    "# paste0(\"outputs/ToxPi_inputs_processed/\", fn_output)"
   ]
  },
  {
   "cell_type": "code",
   "execution_count": 81,
   "metadata": {},
   "outputs": [
    {
     "data": {
      "text/html": [
       "<table>\n",
       "<caption>A data.frame: 6 × 30</caption>\n",
       "<thead>\n",
       "\t<tr><th></th><th scope=col>cell_id</th><th scope=col>Health_LifeExpectancy</th><th scope=col>Health_CASTHMA</th><th scope=col>Health_STROKE</th><th scope=col>Health_COPD</th><th scope=col>Health_CHD</th><th scope=col>Health_CANCER</th><th scope=col>Health_ACCESS2</th><th scope=col>Health_MedicallyUnderserved</th><th scope=col>Social_BelowPoverty</th><th scope=col>⋯</th><th scope=col>Social_MobileHomes</th><th scope=col>Social_Crowding</th><th scope=col>Social_NoVehicle</th><th scope=col>Social_GroupQuarters</th><th scope=col>Social_ForeclosureRate</th><th scope=col>Infrastructure_NoBroadbandAccess</th><th scope=col>Infrastructure_RetailFood</th><th scope=col>Infrastructure_HousingBuiltPastVsNow</th><th scope=col>Infrastructure_HousingAffordability1</th><th scope=col>Infrastructure_HousingAffordability2</th></tr>\n",
       "\t<tr><th></th><th scope=col>&lt;dbl&gt;</th><th scope=col>&lt;dbl&gt;</th><th scope=col>&lt;dbl&gt;</th><th scope=col>&lt;dbl&gt;</th><th scope=col>&lt;dbl&gt;</th><th scope=col>&lt;dbl&gt;</th><th scope=col>&lt;dbl&gt;</th><th scope=col>&lt;dbl&gt;</th><th scope=col>&lt;dbl&gt;</th><th scope=col>&lt;dbl&gt;</th><th scope=col>⋯</th><th scope=col>&lt;dbl&gt;</th><th scope=col>&lt;dbl&gt;</th><th scope=col>&lt;dbl&gt;</th><th scope=col>&lt;dbl&gt;</th><th scope=col>&lt;dbl&gt;</th><th scope=col>&lt;dbl&gt;</th><th scope=col>&lt;dbl&gt;</th><th scope=col>&lt;dbl&gt;</th><th scope=col>&lt;dbl&gt;</th><th scope=col>&lt;dbl&gt;</th></tr>\n",
       "</thead>\n",
       "<tbody>\n",
       "\t<tr><th scope=row>1</th><td> 553</td><td>82.2</td><td>8.9</td><td>3.8</td><td>7.6</td><td>6.6</td><td>7.7</td><td>21.3</td><td>1</td><td>0.2603</td><td>⋯</td><td>0.9731</td><td>0.6159</td><td>0.0792</td><td>0.44</td><td>NA</td><td>0.2</td><td>NA</td><td>9.98</td><td>35</td><td>105</td></tr>\n",
       "\t<tr><th scope=row>2</th><td> 554</td><td>82.2</td><td>8.9</td><td>3.8</td><td>7.6</td><td>6.6</td><td>7.7</td><td>21.3</td><td>1</td><td>0.2603</td><td>⋯</td><td>0.9731</td><td>0.6159</td><td>0.0792</td><td>0.44</td><td>NA</td><td>0.2</td><td>NA</td><td>9.98</td><td>35</td><td>105</td></tr>\n",
       "\t<tr><th scope=row>3</th><td>2683</td><td>82.2</td><td>8.9</td><td>3.8</td><td>7.6</td><td>6.6</td><td>7.7</td><td>21.3</td><td>1</td><td>0.2603</td><td>⋯</td><td>0.9731</td><td>0.6159</td><td>0.0792</td><td>0.44</td><td>NA</td><td>0.2</td><td>NA</td><td>9.98</td><td>35</td><td>105</td></tr>\n",
       "\t<tr><th scope=row>4</th><td>2684</td><td>82.2</td><td>8.9</td><td>3.8</td><td>7.6</td><td>6.6</td><td>7.7</td><td>21.3</td><td>1</td><td>0.2603</td><td>⋯</td><td>0.9731</td><td>0.6159</td><td>0.0792</td><td>0.44</td><td>NA</td><td>0.2</td><td>NA</td><td>9.98</td><td>35</td><td>105</td></tr>\n",
       "\t<tr><th scope=row>5</th><td>2685</td><td>82.2</td><td>8.9</td><td>3.8</td><td>7.6</td><td>6.6</td><td>7.7</td><td>21.3</td><td>1</td><td>0.2603</td><td>⋯</td><td>0.9731</td><td>0.6159</td><td>0.0792</td><td>0.44</td><td>NA</td><td>0.2</td><td>NA</td><td>9.98</td><td>35</td><td>105</td></tr>\n",
       "\t<tr><th scope=row>6</th><td>2686</td><td>82.2</td><td>8.9</td><td>3.8</td><td>7.6</td><td>6.6</td><td>7.7</td><td>21.3</td><td>1</td><td>0.2603</td><td>⋯</td><td>0.9731</td><td>0.6159</td><td>0.0792</td><td>0.44</td><td>NA</td><td>0.2</td><td>NA</td><td>9.98</td><td>35</td><td>105</td></tr>\n",
       "</tbody>\n",
       "</table>\n"
      ],
      "text/latex": [
       "A data.frame: 6 × 30\n",
       "\\begin{tabular}{r|lllllllllllllllllllll}\n",
       "  & cell\\_id & Health\\_LifeExpectancy & Health\\_CASTHMA & Health\\_STROKE & Health\\_COPD & Health\\_CHD & Health\\_CANCER & Health\\_ACCESS2 & Health\\_MedicallyUnderserved & Social\\_BelowPoverty & ⋯ & Social\\_MobileHomes & Social\\_Crowding & Social\\_NoVehicle & Social\\_GroupQuarters & Social\\_ForeclosureRate & Infrastructure\\_NoBroadbandAccess & Infrastructure\\_RetailFood & Infrastructure\\_HousingBuiltPastVsNow & Infrastructure\\_HousingAffordability1 & Infrastructure\\_HousingAffordability2\\\\\n",
       "  & <dbl> & <dbl> & <dbl> & <dbl> & <dbl> & <dbl> & <dbl> & <dbl> & <dbl> & <dbl> & ⋯ & <dbl> & <dbl> & <dbl> & <dbl> & <dbl> & <dbl> & <dbl> & <dbl> & <dbl> & <dbl>\\\\\n",
       "\\hline\n",
       "\t1 &  553 & 82.2 & 8.9 & 3.8 & 7.6 & 6.6 & 7.7 & 21.3 & 1 & 0.2603 & ⋯ & 0.9731 & 0.6159 & 0.0792 & 0.44 & NA & 0.2 & NA & 9.98 & 35 & 105\\\\\n",
       "\t2 &  554 & 82.2 & 8.9 & 3.8 & 7.6 & 6.6 & 7.7 & 21.3 & 1 & 0.2603 & ⋯ & 0.9731 & 0.6159 & 0.0792 & 0.44 & NA & 0.2 & NA & 9.98 & 35 & 105\\\\\n",
       "\t3 & 2683 & 82.2 & 8.9 & 3.8 & 7.6 & 6.6 & 7.7 & 21.3 & 1 & 0.2603 & ⋯ & 0.9731 & 0.6159 & 0.0792 & 0.44 & NA & 0.2 & NA & 9.98 & 35 & 105\\\\\n",
       "\t4 & 2684 & 82.2 & 8.9 & 3.8 & 7.6 & 6.6 & 7.7 & 21.3 & 1 & 0.2603 & ⋯ & 0.9731 & 0.6159 & 0.0792 & 0.44 & NA & 0.2 & NA & 9.98 & 35 & 105\\\\\n",
       "\t5 & 2685 & 82.2 & 8.9 & 3.8 & 7.6 & 6.6 & 7.7 & 21.3 & 1 & 0.2603 & ⋯ & 0.9731 & 0.6159 & 0.0792 & 0.44 & NA & 0.2 & NA & 9.98 & 35 & 105\\\\\n",
       "\t6 & 2686 & 82.2 & 8.9 & 3.8 & 7.6 & 6.6 & 7.7 & 21.3 & 1 & 0.2603 & ⋯ & 0.9731 & 0.6159 & 0.0792 & 0.44 & NA & 0.2 & NA & 9.98 & 35 & 105\\\\\n",
       "\\end{tabular}\n"
      ],
      "text/markdown": [
       "\n",
       "A data.frame: 6 × 30\n",
       "\n",
       "| <!--/--> | cell_id &lt;dbl&gt; | Health_LifeExpectancy &lt;dbl&gt; | Health_CASTHMA &lt;dbl&gt; | Health_STROKE &lt;dbl&gt; | Health_COPD &lt;dbl&gt; | Health_CHD &lt;dbl&gt; | Health_CANCER &lt;dbl&gt; | Health_ACCESS2 &lt;dbl&gt; | Health_MedicallyUnderserved &lt;dbl&gt; | Social_BelowPoverty &lt;dbl&gt; | ⋯ ⋯ | Social_MobileHomes &lt;dbl&gt; | Social_Crowding &lt;dbl&gt; | Social_NoVehicle &lt;dbl&gt; | Social_GroupQuarters &lt;dbl&gt; | Social_ForeclosureRate &lt;dbl&gt; | Infrastructure_NoBroadbandAccess &lt;dbl&gt; | Infrastructure_RetailFood &lt;dbl&gt; | Infrastructure_HousingBuiltPastVsNow &lt;dbl&gt; | Infrastructure_HousingAffordability1 &lt;dbl&gt; | Infrastructure_HousingAffordability2 &lt;dbl&gt; |\n",
       "|---|---|---|---|---|---|---|---|---|---|---|---|---|---|---|---|---|---|---|---|---|---|\n",
       "| 1 |  553 | 82.2 | 8.9 | 3.8 | 7.6 | 6.6 | 7.7 | 21.3 | 1 | 0.2603 | ⋯ | 0.9731 | 0.6159 | 0.0792 | 0.44 | NA | 0.2 | NA | 9.98 | 35 | 105 |\n",
       "| 2 |  554 | 82.2 | 8.9 | 3.8 | 7.6 | 6.6 | 7.7 | 21.3 | 1 | 0.2603 | ⋯ | 0.9731 | 0.6159 | 0.0792 | 0.44 | NA | 0.2 | NA | 9.98 | 35 | 105 |\n",
       "| 3 | 2683 | 82.2 | 8.9 | 3.8 | 7.6 | 6.6 | 7.7 | 21.3 | 1 | 0.2603 | ⋯ | 0.9731 | 0.6159 | 0.0792 | 0.44 | NA | 0.2 | NA | 9.98 | 35 | 105 |\n",
       "| 4 | 2684 | 82.2 | 8.9 | 3.8 | 7.6 | 6.6 | 7.7 | 21.3 | 1 | 0.2603 | ⋯ | 0.9731 | 0.6159 | 0.0792 | 0.44 | NA | 0.2 | NA | 9.98 | 35 | 105 |\n",
       "| 5 | 2685 | 82.2 | 8.9 | 3.8 | 7.6 | 6.6 | 7.7 | 21.3 | 1 | 0.2603 | ⋯ | 0.9731 | 0.6159 | 0.0792 | 0.44 | NA | 0.2 | NA | 9.98 | 35 | 105 |\n",
       "| 6 | 2686 | 82.2 | 8.9 | 3.8 | 7.6 | 6.6 | 7.7 | 21.3 | 1 | 0.2603 | ⋯ | 0.9731 | 0.6159 | 0.0792 | 0.44 | NA | 0.2 | NA | 9.98 | 35 | 105 |\n",
       "\n"
      ],
      "text/plain": [
       "  cell_id Health_LifeExpectancy Health_CASTHMA Health_STROKE Health_COPD\n",
       "1  553    82.2                  8.9            3.8           7.6        \n",
       "2  554    82.2                  8.9            3.8           7.6        \n",
       "3 2683    82.2                  8.9            3.8           7.6        \n",
       "4 2684    82.2                  8.9            3.8           7.6        \n",
       "5 2685    82.2                  8.9            3.8           7.6        \n",
       "6 2686    82.2                  8.9            3.8           7.6        \n",
       "  Health_CHD Health_CANCER Health_ACCESS2 Health_MedicallyUnderserved\n",
       "1 6.6        7.7           21.3           1                          \n",
       "2 6.6        7.7           21.3           1                          \n",
       "3 6.6        7.7           21.3           1                          \n",
       "4 6.6        7.7           21.3           1                          \n",
       "5 6.6        7.7           21.3           1                          \n",
       "6 6.6        7.7           21.3           1                          \n",
       "  Social_BelowPoverty <U+22EF>        Social_MobileHomes Social_Crowding\n",
       "1 0.2603              <U+22EF> 0.9731             0.6159         \n",
       "2 0.2603              <U+22EF> 0.9731             0.6159         \n",
       "3 0.2603              <U+22EF> 0.9731             0.6159         \n",
       "4 0.2603              <U+22EF> 0.9731             0.6159         \n",
       "5 0.2603              <U+22EF> 0.9731             0.6159         \n",
       "6 0.2603              <U+22EF> 0.9731             0.6159         \n",
       "  Social_NoVehicle Social_GroupQuarters Social_ForeclosureRate\n",
       "1 0.0792           0.44                 NA                    \n",
       "2 0.0792           0.44                 NA                    \n",
       "3 0.0792           0.44                 NA                    \n",
       "4 0.0792           0.44                 NA                    \n",
       "5 0.0792           0.44                 NA                    \n",
       "6 0.0792           0.44                 NA                    \n",
       "  Infrastructure_NoBroadbandAccess Infrastructure_RetailFood\n",
       "1 0.2                              NA                       \n",
       "2 0.2                              NA                       \n",
       "3 0.2                              NA                       \n",
       "4 0.2                              NA                       \n",
       "5 0.2                              NA                       \n",
       "6 0.2                              NA                       \n",
       "  Infrastructure_HousingBuiltPastVsNow Infrastructure_HousingAffordability1\n",
       "1 9.98                                 35                                  \n",
       "2 9.98                                 35                                  \n",
       "3 9.98                                 35                                  \n",
       "4 9.98                                 35                                  \n",
       "5 9.98                                 35                                  \n",
       "6 9.98                                 35                                  \n",
       "  Infrastructure_HousingAffordability2\n",
       "1 105                                 \n",
       "2 105                                 \n",
       "3 105                                 \n",
       "4 105                                 \n",
       "5 105                                 \n",
       "6 105                                 "
      ]
     },
     "metadata": {},
     "output_type": "display_data"
    }
   ],
   "source": [
    "head(wide_output_df)"
   ]
  },
  {
   "cell_type": "code",
   "execution_count": null,
   "metadata": {},
   "outputs": [],
   "source": []
  },
  {
   "cell_type": "code",
   "execution_count": null,
   "metadata": {},
   "outputs": [],
   "source": []
  },
  {
   "cell_type": "code",
   "execution_count": null,
   "metadata": {},
   "outputs": [],
   "source": []
  },
  {
   "cell_type": "code",
   "execution_count": null,
   "metadata": {},
   "outputs": [],
   "source": []
  },
  {
   "cell_type": "code",
   "execution_count": null,
   "metadata": {},
   "outputs": [],
   "source": []
  },
  {
   "cell_type": "code",
   "execution_count": 7,
   "metadata": {},
   "outputs": [
    {
     "data": {
      "text/html": [
       "4016688"
      ],
      "text/latex": [
       "4016688"
      ],
      "text/markdown": [
       "4016688"
      ],
      "text/plain": [
       "[1] 4016688"
      ]
     },
     "metadata": {},
     "output_type": "display_data"
    },
    {
     "data": {
      "text/html": [
       "1697501"
      ],
      "text/latex": [
       "1697501"
      ],
      "text/markdown": [
       "1697501"
      ],
      "text/plain": [
       "[1] 1697501"
      ]
     },
     "metadata": {},
     "output_type": "display_data"
    }
   ],
   "source": [
    "nrow(df_new_data)\n",
    "nrow(df_new_data %>% drop_na())"
   ]
  },
  {
   "cell_type": "code",
   "execution_count": 8,
   "metadata": {},
   "outputs": [],
   "source": [
    "write_csv(df_new_data %>% drop_na(), file.path(path_out, paste0(ind_name, \"_clipped.csv\")))"
   ]
  },
  {
   "cell_type": "code",
   "execution_count": 12,
   "metadata": {},
   "outputs": [],
   "source": [
    "write_stars(r_new_data, file.path(path_out, paste0(ind_name, \".tif\")))"
   ]
  },
  {
   "cell_type": "code",
   "execution_count": 10,
   "metadata": {},
   "outputs": [
    {
     "data": {
      "text/html": [
       "'C:/Users/gslater/OneDrive - Environmental Defense Fund - edf.org/GCA Work/2022 04 - HG ToxPi file processing/data/processed2/Social_BelowPoverty/Social_BelowPoverty.tif'"
      ],
      "text/latex": [
       "'C:/Users/gslater/OneDrive - Environmental Defense Fund - edf.org/GCA Work/2022 04 - HG ToxPi file processing/data/processed2/Social\\_BelowPoverty/Social\\_BelowPoverty.tif'"
      ],
      "text/markdown": [
       "'C:/Users/gslater/OneDrive - Environmental Defense Fund - edf.org/GCA Work/2022 04 - HG ToxPi file processing/data/processed2/Social_BelowPoverty/Social_BelowPoverty.tif'"
      ],
      "text/plain": [
       "[1] \"C:/Users/gslater/OneDrive - Environmental Defense Fund - edf.org/GCA Work/2022 04 - HG ToxPi file processing/data/processed2/Social_BelowPoverty/Social_BelowPoverty.tif\""
      ]
     },
     "metadata": {},
     "output_type": "display_data"
    }
   ],
   "source": [
    "file.path(path_out, paste0(ind_name, \".tif\"))"
   ]
  },
  {
   "cell_type": "markdown",
   "metadata": {},
   "source": [
    "## Admin files"
   ]
  },
  {
   "cell_type": "code",
   "execution_count": 22,
   "metadata": {},
   "outputs": [
    {
     "data": {
      "text/html": [
       "4016688"
      ],
      "text/latex": [
       "4016688"
      ],
      "text/markdown": [
       "4016688"
      ],
      "text/plain": [
       "[1] 4016688"
      ]
     },
     "metadata": {},
     "output_type": "display_data"
    },
    {
     "data": {
      "text/html": [
       "<table>\n",
       "<caption>A data.frame: 6 × 2</caption>\n",
       "<thead>\n",
       "\t<tr><th></th><th scope=col>cell_id</th><th scope=col>study_area</th></tr>\n",
       "\t<tr><th></th><th scope=col>&lt;dbl&gt;</th><th scope=col>&lt;dbl&gt;</th></tr>\n",
       "</thead>\n",
       "<tbody>\n",
       "\t<tr><th scope=row>1</th><td>1</td><td>0</td></tr>\n",
       "\t<tr><th scope=row>2</th><td>2</td><td>0</td></tr>\n",
       "\t<tr><th scope=row>3</th><td>3</td><td>0</td></tr>\n",
       "\t<tr><th scope=row>4</th><td>4</td><td>0</td></tr>\n",
       "\t<tr><th scope=row>5</th><td>5</td><td>0</td></tr>\n",
       "\t<tr><th scope=row>6</th><td>6</td><td>0</td></tr>\n",
       "</tbody>\n",
       "</table>\n"
      ],
      "text/latex": [
       "A data.frame: 6 × 2\n",
       "\\begin{tabular}{r|ll}\n",
       "  & cell\\_id & study\\_area\\\\\n",
       "  & <dbl> & <dbl>\\\\\n",
       "\\hline\n",
       "\t1 & 1 & 0\\\\\n",
       "\t2 & 2 & 0\\\\\n",
       "\t3 & 3 & 0\\\\\n",
       "\t4 & 4 & 0\\\\\n",
       "\t5 & 5 & 0\\\\\n",
       "\t6 & 6 & 0\\\\\n",
       "\\end{tabular}\n"
      ],
      "text/markdown": [
       "\n",
       "A data.frame: 6 × 2\n",
       "\n",
       "| <!--/--> | cell_id &lt;dbl&gt; | study_area &lt;dbl&gt; |\n",
       "|---|---|---|\n",
       "| 1 | 1 | 0 |\n",
       "| 2 | 2 | 0 |\n",
       "| 3 | 3 | 0 |\n",
       "| 4 | 4 | 0 |\n",
       "| 5 | 5 | 0 |\n",
       "| 6 | 6 | 0 |\n",
       "\n"
      ],
      "text/plain": [
       "  cell_id study_area\n",
       "1 1       0         \n",
       "2 2       0         \n",
       "3 3       0         \n",
       "4 4       0         \n",
       "5 5       0         \n",
       "6 6       0         "
      ]
     },
     "metadata": {},
     "output_type": "display_data"
    }
   ],
   "source": [
    "df_study_clipped <- df_new_data %>% \n",
    "    mutate(study_area = ifelse(is.na(value), 0, 1)) %>%\n",
    "    select(cell_id, study_area)\n",
    "\n",
    "# write_csv(df_study_clipped, \"data/raster_template/raster_template_study_area_lookup.csv\")\n",
    "\n",
    "nrow(df_study_clipped)\n",
    "head(df_study_clipped)"
   ]
  },
  {
   "cell_type": "code",
   "execution_count": 23,
   "metadata": {},
   "outputs": [],
   "source": [
    "rt_study_area <- rt\n",
    "\n",
    "rt_study_area[[1]][] <- NA\n",
    "\n",
    "# set raster cells present in input df to values from input df\n",
    "rt_study_area[[1]][df_study_clipped$cell_id] <- df_study_clipped$study_area\n",
    "\n",
    "# write output tif\n",
    "write_stars(rt_study_area, \"data/raster_template/raster_template_study_area_lookup.tif\")"
   ]
  },
  {
   "cell_type": "markdown",
   "metadata": {},
   "source": [
    "## Processing #3 - join to single wide file"
   ]
  },
  {
   "cell_type": "code",
   "execution_count": 41,
   "metadata": {},
   "outputs": [
    {
     "data": {
      "text/html": [
       "1697501"
      ],
      "text/latex": [
       "1697501"
      ],
      "text/markdown": [
       "1697501"
      ],
      "text/plain": [
       "[1] 1697501"
      ]
     },
     "metadata": {},
     "output_type": "display_data"
    }
   ],
   "source": [
    "nrow(wide_output_df)"
   ]
  },
  {
   "cell_type": "code",
   "execution_count": 44,
   "metadata": {},
   "outputs": [
    {
     "data": {
      "text/html": [
       "'data/09_processed/ToxPiDataInput_v2.0_20220719.csv'"
      ],
      "text/latex": [
       "'data/09\\_processed/ToxPiDataInput\\_v2.0\\_20220719.csv'"
      ],
      "text/markdown": [
       "'data/09_processed/ToxPiDataInput_v2.0_20220719.csv'"
      ],
      "text/plain": [
       "[1] \"data/09_processed/ToxPiDataInput_v2.0_20220719.csv\""
      ]
     },
     "metadata": {},
     "output_type": "display_data"
    }
   ],
   "source": [
    "\n",
    "# write_csv(wide_output_df, paste0(\"outputs/ToxPi_inputs_processed/\", fn_output))\n",
    "\n",
    "paste0(\"outputs/ToxPi_inputs_processed/\", fn_output)"
   ]
  },
  {
   "cell_type": "code",
   "execution_count": 45,
   "metadata": {},
   "outputs": [],
   "source": [
    "# join red lining data to wide output file and save output\n",
    "\n",
    "fn_output <- paste0(\"ToxPi_DataInput_v2.1_\", format(now(), \"%Y%m%d\"), \".csv\")\n",
    "\n",
    "wide_output_df %>% \n",
    "    left_join(select(rl_output, cell_id, Infrastructure_Redlining1 = value), \n",
    "              by = \"cell_id\") %>% \n",
    "#     head()\n",
    "    write_csv(paste0(\"outputs/ToxPi_inputs_processed/\", fn_output))"
   ]
  },
  {
   "cell_type": "code",
   "execution_count": 20,
   "metadata": {},
   "outputs": [
    {
     "data": {
      "text/html": [
       "1697501"
      ],
      "text/latex": [
       "1697501"
      ],
      "text/markdown": [
       "1697501"
      ],
      "text/plain": [
       "[1] 1697501"
      ]
     },
     "metadata": {},
     "output_type": "display_data"
    }
   ],
   "source": [
    "nrow(wide_output_df)"
   ]
  },
  {
   "cell_type": "code",
   "execution_count": null,
   "metadata": {},
   "outputs": [],
   "source": []
  },
  {
   "cell_type": "code",
   "execution_count": 6,
   "metadata": {},
   "outputs": [
    {
     "data": {
      "text/html": [
       "<table>\n",
       "<caption>A data.frame: 21 × 27</caption>\n",
       "<thead>\n",
       "\t<tr><th scope=col>Path To File</th><th scope=col>Document Name</th><th scope=col>CensusIdName</th><th scope=col>Clean/Final Data</th><th scope=col>Domain</th><th scope=col>Subcategory</th><th scope=col>Data Column Name</th><th scope=col>Unit of Data</th><th scope=col>Indicator Name</th><th scope=col>indicator_name_short</th><th scope=col>⋯</th><th scope=col>Format</th><th scope=col>Geographic Level</th><th scope=col>URL</th><th scope=col>Download Date</th><th scope=col>GEOID Column Name</th><th scope=col>missing_data_value</th><th scope=col>to_process</th><th scope=col>processed</th><th scope=col>Notes</th><th scope=col>Data notes</th></tr>\n",
       "\t<tr><th scope=col>&lt;chr&gt;</th><th scope=col>&lt;chr&gt;</th><th scope=col>&lt;chr&gt;</th><th scope=col>&lt;chr&gt;</th><th scope=col>&lt;chr&gt;</th><th scope=col>&lt;chr&gt;</th><th scope=col>&lt;chr&gt;</th><th scope=col>&lt;chr&gt;</th><th scope=col>&lt;chr&gt;</th><th scope=col>&lt;chr&gt;</th><th scope=col>⋯</th><th scope=col>&lt;chr&gt;</th><th scope=col>&lt;chr&gt;</th><th scope=col>&lt;chr&gt;</th><th scope=col>&lt;chr&gt;</th><th scope=col>&lt;chr&gt;</th><th scope=col>&lt;chr&gt;</th><th scope=col>&lt;dbl&gt;</th><th scope=col>&lt;dbl&gt;</th><th scope=col>&lt;chr&gt;</th><th scope=col>&lt;chr&gt;</th></tr>\n",
       "</thead>\n",
       "<tbody>\n",
       "\t<tr><td>Health/LifeExpectancy.csv                                                          </td><td>LifeExpectancy                                      </td><td>Census Tract</td><td>YES</td><td>Health        </td><td>Overall Physical Health          </td><td>Life expectancy at birth, as of 2010-2015.</td><td>NA</td><td>Life Expectancy                </td><td>LifeExpectancy        </td><td>⋯</td><td>Census Tract</td><td>Census Tract</td><td>NA  </td><td>05/08/2021</td><td>Census Tract</td><td>-999</td><td>1</td><td>1</td><td>W Verified. This is a rate.                                                                                                                                                                                                                                                                                                                                          </td><td>NA                                                                                                                                                                  </td></tr>\n",
       "\t<tr><td>Social/SVI2018_US.csv                                                              </td><td>SVI2018_US                                          </td><td>FIPS        </td><td>YES</td><td>Social        </td><td>Socioeconomic Status             </td><td>EPL_POV                                   </td><td>NA</td><td>Below Poverty                  </td><td>BelowPoverty          </td><td>⋯</td><td>Census Tract</td><td>Census Tract</td><td>Link</td><td>03/12/2020</td><td>FIPS        </td><td>-999</td><td>1</td><td>1</td><td>W Verified. Medians calculated separately in R.                                                                                                                                                                                                                                                                                                                      </td><td>NA                                                                                                                                                                  </td></tr>\n",
       "\t<tr><td>Social/SVI2018_US.csv                                                              </td><td>SVI2018_US                                          </td><td>FIPS        </td><td>YES</td><td>Social        </td><td>Socioeconomic Status             </td><td>EPL_UNEMP                                 </td><td>NA</td><td>Unemployed                     </td><td>Unemployed            </td><td>⋯</td><td>Census Tract</td><td>Census Tract</td><td>Link</td><td>03/12/2020</td><td>FIPS        </td><td>-999</td><td>1</td><td>1</td><td>W Verified. Medians calculated separately in R.                                                                                                                                                                                                                                                                                                                      </td><td>NA                                                                                                                                                                  </td></tr>\n",
       "\t<tr><td>Social/SVI2018_US.csv                                                              </td><td>SVI2018_US                                          </td><td>FIPS        </td><td>YES</td><td>Social        </td><td>Socioeconomic Status             </td><td>EPL_PCI                                   </td><td>NA</td><td>Income                         </td><td>Income                </td><td>⋯</td><td>Census Tract</td><td>Census Tract</td><td>Link</td><td>03/12/2020</td><td>FIPS        </td><td>-999</td><td>1</td><td>1</td><td>W Verified. Medians calculated separately in R.                                                                                                                                                                                                                                                                                                                      </td><td>NA                                                                                                                                                                  </td></tr>\n",
       "\t<tr><td>Social/SVI2018_US.csv                                                              </td><td>SVI2018_US                                          </td><td>FIPS        </td><td>YES</td><td>Social        </td><td>Socioeconomic Status             </td><td>EPL_NOHSDP                                </td><td>NA</td><td>No High School Diploma         </td><td>NoHSDiploma           </td><td>⋯</td><td>Census Tract</td><td>Census Tract</td><td>Link</td><td>03/12/2020</td><td>FIPS        </td><td>-999</td><td>1</td><td>1</td><td>W Verified. Medians calculated separately in R.                                                                                                                                                                                                                                                                                                                      </td><td>NA                                                                                                                                                                  </td></tr>\n",
       "\t<tr><td><span style=white-space:pre-wrap>Social/SVI2018_US.csv                                                              </span></td><td><span style=white-space:pre-wrap>SVI2018_US                                          </span></td><td><span style=white-space:pre-wrap>FIPS        </span></td><td>YES</td><td><span style=white-space:pre-wrap>Social        </span></td><td>Housing Composition &amp; Disability </td><td><span style=white-space:pre-wrap>EPL_AGE65                                 </span></td><td>NA</td><td><span style=white-space:pre-wrap>Aged 65 or Older               </span></td><td><span style=white-space:pre-wrap>Aged65Older           </span></td><td>⋯</td><td>Census Tract</td><td>Census Tract</td><td>Link</td><td>03/12/2020</td><td><span style=white-space:pre-wrap>FIPS        </span></td><td>-999</td><td>1</td><td>1</td><td><span style=white-space:pre-wrap>W Verified. Medians calculated separately in R.                                                                                                                                                                                                                                                                                                                      </span></td><td><span style=white-space:pre-wrap>NA                                                                                                                                                                  </span></td></tr>\n",
       "\t<tr><td><span style=white-space:pre-wrap>Social/SVI2018_US.csv                                                              </span></td><td><span style=white-space:pre-wrap>SVI2018_US                                          </span></td><td><span style=white-space:pre-wrap>FIPS        </span></td><td>YES</td><td><span style=white-space:pre-wrap>Social        </span></td><td>Housing Composition &amp; Disability </td><td><span style=white-space:pre-wrap>EPL_AGE17                                 </span></td><td>NA</td><td><span style=white-space:pre-wrap>Aged 17 or Younger             </span></td><td><span style=white-space:pre-wrap>Aged17Younger         </span></td><td>⋯</td><td>Census Tract</td><td>Census Tract</td><td>Link</td><td>03/12/2020</td><td><span style=white-space:pre-wrap>FIPS        </span></td><td>-999</td><td>1</td><td>1</td><td><span style=white-space:pre-wrap>W Verified. Medians calculated separately in R.                                                                                                                                                                                                                                                                                                                      </span></td><td><span style=white-space:pre-wrap>NA                                                                                                                                                                  </span></td></tr>\n",
       "\t<tr><td><span style=white-space:pre-wrap>Social/SVI2018_US.csv                                                              </span></td><td><span style=white-space:pre-wrap>SVI2018_US                                          </span></td><td><span style=white-space:pre-wrap>FIPS        </span></td><td>YES</td><td><span style=white-space:pre-wrap>Social        </span></td><td>Housing Composition &amp; Disability </td><td><span style=white-space:pre-wrap>EPL_DISABL                                </span></td><td>NA</td><td><span style=white-space:pre-wrap>Civilian with a Disability     </span></td><td>CivilianWithDisability</td><td>⋯</td><td>Census Tract</td><td>Census Tract</td><td>Link</td><td>03/12/2020</td><td><span style=white-space:pre-wrap>FIPS        </span></td><td>-999</td><td>1</td><td>1</td><td><span style=white-space:pre-wrap>W Verified. Medians calculated separately in R.                                                                                                                                                                                                                                                                                                                      </span></td><td><span style=white-space:pre-wrap>NA                                                                                                                                                                  </span></td></tr>\n",
       "\t<tr><td><span style=white-space:pre-wrap>Social/SVI2018_US.csv                                                              </span></td><td><span style=white-space:pre-wrap>SVI2018_US                                          </span></td><td><span style=white-space:pre-wrap>FIPS        </span></td><td>YES</td><td><span style=white-space:pre-wrap>Social        </span></td><td>Housing Composition &amp; Disability </td><td><span style=white-space:pre-wrap>EPL_SNGPNT                                </span></td><td>NA</td><td><span style=white-space:pre-wrap>Single-Parent Households       </span></td><td><span style=white-space:pre-wrap>SingleParentHhld      </span></td><td>⋯</td><td>Census Tract</td><td>Census Tract</td><td>Link</td><td>03/12/2020</td><td><span style=white-space:pre-wrap>FIPS        </span></td><td>-999</td><td>1</td><td>1</td><td><span style=white-space:pre-wrap>W Verified. Medians calculated separately in R.                                                                                                                                                                                                                                                                                                                      </span></td><td><span style=white-space:pre-wrap>NA                                                                                                                                                                  </span></td></tr>\n",
       "\t<tr><td><span style=white-space:pre-wrap>Social/SVI2018_US.csv                                                              </span></td><td><span style=white-space:pre-wrap>SVI2018_US                                          </span></td><td><span style=white-space:pre-wrap>FIPS        </span></td><td>YES</td><td><span style=white-space:pre-wrap>Social        </span></td><td><span style=white-space:pre-wrap>Minority Status &amp; Language       </span></td><td><span style=white-space:pre-wrap>EPL_MINRTY                                </span></td><td>NA</td><td><span style=white-space:pre-wrap>Minority                       </span></td><td><span style=white-space:pre-wrap>Minority              </span></td><td>⋯</td><td>Census Tract</td><td>Census Tract</td><td>Link</td><td>03/12/2020</td><td><span style=white-space:pre-wrap>FIPS        </span></td><td>-999</td><td>1</td><td>1</td><td><span style=white-space:pre-wrap>W Verified. Medians calculated separately in R.                                                                                                                                                                                                                                                                                                                      </span></td><td><span style=white-space:pre-wrap>NA                                                                                                                                                                  </span></td></tr>\n",
       "\t<tr><td><span style=white-space:pre-wrap>Social/SVI2018_US.csv                                                              </span></td><td><span style=white-space:pre-wrap>SVI2018_US                                          </span></td><td><span style=white-space:pre-wrap>FIPS        </span></td><td>YES</td><td><span style=white-space:pre-wrap>Social        </span></td><td><span style=white-space:pre-wrap>Minority Status &amp; Language       </span></td><td><span style=white-space:pre-wrap>EPL_LIMENG                                </span></td><td>NA</td><td>Speaks English \"Less than Well\"</td><td>SpeaksEnglishLessWell </td><td>⋯</td><td>Census Tract</td><td>Census Tract</td><td>Link</td><td>03/12/2020</td><td><span style=white-space:pre-wrap>FIPS        </span></td><td>-999</td><td>1</td><td>1</td><td><span style=white-space:pre-wrap>W Verified. Medians calculated separately in R.                                                                                                                                                                                                                                                                                                                      </span></td><td><span style=white-space:pre-wrap>~40 0 values in this dataset.                                                                                                                                       </span></td></tr>\n",
       "\t<tr><td><span style=white-space:pre-wrap>Social/SVI2018_US.csv                                                              </span></td><td><span style=white-space:pre-wrap>SVI2018_US                                          </span></td><td><span style=white-space:pre-wrap>FIPS        </span></td><td>YES</td><td><span style=white-space:pre-wrap>Social        </span></td><td><span style=white-space:pre-wrap>Housing &amp; Transportation         </span></td><td><span style=white-space:pre-wrap>EPL_MUNIT                                 </span></td><td>NA</td><td><span style=white-space:pre-wrap>Multi-Unit Structures          </span></td><td><span style=white-space:pre-wrap>MultiUnitStructures   </span></td><td>⋯</td><td>Census Tract</td><td>Census Tract</td><td>Link</td><td>03/12/2020</td><td><span style=white-space:pre-wrap>FIPS        </span></td><td>-999</td><td>1</td><td>1</td><td><span style=white-space:pre-wrap>W Verified. Medians calculated separately in R.                                                                                                                                                                                                                                                                                                                      </span></td><td><span style=white-space:pre-wrap>Over 200 0 values in this dataset.                                                                                                                                  </span></td></tr>\n",
       "\t<tr><td><span style=white-space:pre-wrap>Social/SVI2018_US.csv                                                              </span></td><td><span style=white-space:pre-wrap>SVI2018_US                                          </span></td><td><span style=white-space:pre-wrap>FIPS        </span></td><td>YES</td><td><span style=white-space:pre-wrap>Social        </span></td><td><span style=white-space:pre-wrap>Housing &amp; Transportation         </span></td><td><span style=white-space:pre-wrap>EPL_MOBILE                                </span></td><td>NA</td><td><span style=white-space:pre-wrap>Mobile Homes                   </span></td><td><span style=white-space:pre-wrap>MobileHomes           </span></td><td>⋯</td><td>Census Tract</td><td>Census Tract</td><td>Link</td><td>03/12/2020</td><td><span style=white-space:pre-wrap>FIPS        </span></td><td>-999</td><td>1</td><td>1</td><td><span style=white-space:pre-wrap>W Verified. Medians calculated separately in R.                                                                                                                                                                                                                                                                                                                      </span></td><td><span style=white-space:pre-wrap>Over 500 0 values in this dataset.                                                                                                                                  </span></td></tr>\n",
       "\t<tr><td><span style=white-space:pre-wrap>Social/SVI2018_US.csv                                                              </span></td><td><span style=white-space:pre-wrap>SVI2018_US                                          </span></td><td><span style=white-space:pre-wrap>FIPS        </span></td><td>YES</td><td><span style=white-space:pre-wrap>Social        </span></td><td><span style=white-space:pre-wrap>Housing &amp; Transportation         </span></td><td><span style=white-space:pre-wrap>EPL_CROWD                                 </span></td><td>NA</td><td><span style=white-space:pre-wrap>Crowding                       </span></td><td><span style=white-space:pre-wrap>Crowding              </span></td><td>⋯</td><td>Census Tract</td><td>Census Tract</td><td>Link</td><td>03/12/2020</td><td><span style=white-space:pre-wrap>FIPS        </span></td><td>-999</td><td>1</td><td>1</td><td><span style=white-space:pre-wrap>W Verified. Medians calculated separately in R.                                                                                                                                                                                                                                                                                                                      </span></td><td><span style=white-space:pre-wrap>Not many missing (-999) values here but there are more than 100 tracts with 0 values, despite the next lowest score being ~0.15.                                    </span></td></tr>\n",
       "\t<tr><td><span style=white-space:pre-wrap>Social/SVI2018_US.csv                                                              </span></td><td><span style=white-space:pre-wrap>SVI2018_US                                          </span></td><td><span style=white-space:pre-wrap>FIPS        </span></td><td>YES</td><td><span style=white-space:pre-wrap>Social        </span></td><td><span style=white-space:pre-wrap>Housing &amp; Transportation         </span></td><td><span style=white-space:pre-wrap>EPL_NOVEH                                 </span></td><td>NA</td><td><span style=white-space:pre-wrap>No Vehicle                     </span></td><td><span style=white-space:pre-wrap>NoVehicle             </span></td><td>⋯</td><td>Census Tract</td><td>Census Tract</td><td>Link</td><td>03/12/2020</td><td><span style=white-space:pre-wrap>FIPS        </span></td><td>-999</td><td>1</td><td>1</td><td><span style=white-space:pre-wrap>W Verified. Medians calculated separately in R.                                                                                                                                                                                                                                                                                                                      </span></td><td><span style=white-space:pre-wrap>NA                                                                                                                                                                  </span></td></tr>\n",
       "\t<tr><td><span style=white-space:pre-wrap>Social/SVI2018_US.csv                                                              </span></td><td><span style=white-space:pre-wrap>SVI2018_US                                          </span></td><td><span style=white-space:pre-wrap>FIPS        </span></td><td>YES</td><td><span style=white-space:pre-wrap>Social        </span></td><td><span style=white-space:pre-wrap>Housing &amp; Transportation         </span></td><td><span style=white-space:pre-wrap>EPL_GROUPQ                                </span></td><td>NA</td><td><span style=white-space:pre-wrap>Group Quarters                 </span></td><td><span style=white-space:pre-wrap>GroupQuarters         </span></td><td>⋯</td><td>Census Tract</td><td>Census Tract</td><td>Link</td><td>03/12/2020</td><td><span style=white-space:pre-wrap>FIPS        </span></td><td>-999</td><td>1</td><td>1</td><td><span style=white-space:pre-wrap>W Verified. Medians calculated separately in R.                                                                                                                                                                                                                                                                                                                      </span></td><td><span style=white-space:pre-wrap>More than half of census tracts have 0 values in this dataset.                                                                                                      </span></td></tr>\n",
       "\t<tr><td>Social/NSP2 - US Total.csv                                                         </td><td>NSP2 - US Total                                     </td><td>NA          </td><td>YES</td><td>Social        </td><td>HUD Foreclosure                  </td><td>fordq_rate                                </td><td>NA</td><td>Foreclosure Rate               </td><td>ForeclosureRate       </td><td>⋯</td><td>Census Tract</td><td>Census Tract</td><td>Link</td><td>03/01/2022</td><td>geoid       </td><td>none</td><td>1</td><td>1</td><td>W Verified. fordq_rate = Estimated percent of mortgages to start foreclosure process or be seriously delinquent in past 2 years                                                                                                                                                                                                                                      </td><td>Need to check missing value in this dataset                                                                                                                         </td></tr>\n",
       "\t<tr><td>Infrastructure/BroadbandAcess_PercentHousehold_nointernet_allstates-fixedtracts.csv</td><td>BroadbandAcess_PercentHousehold_nointernet_allstates</td><td>CensusTract </td><td>n/a</td><td>Infrastructure</td><td>Communications                   </td><td>data_value                                </td><td>NA</td><td>No Broadband Access            </td><td>NoBroadbandAccess     </td><td>⋯</td><td>Census Tract</td><td>Census Tract</td><td>Link</td><td>01/11/2021</td><td>CensusTract </td><td>none</td><td>1</td><td>1</td><td>W verfied. Fixed census tracts.                                                                                                                                                                                                                                                                                                                                      </td><td>NA                                                                                                                                                                  </td></tr>\n",
       "\t<tr><td>Infrastructure/MRFEIData_CLEAN.csv                                                 </td><td>MRFEIData                                           </td><td>GEOID       </td><td>n/a</td><td>Infrastructure</td><td>Food, Water, and Waste Management</td><td>mrfei                                     </td><td>NA</td><td>Retail Food                    </td><td>RetailFood            </td><td>⋯</td><td>Census Tract</td><td>Census Tract</td><td>Link</td><td>17/12/2020</td><td>GEOID       </td><td>none</td><td>1</td><td>1</td><td>W Verified. FIXED leading zeros in Excel, W converted to CSV. Zero reflects zero count not missing data.\n",
       "The mRFEI measures the number of healthy and less healthy food retailers within census tracts across each state as defined by typical food offerings in specific types of retail stores (e.g., supermarkets, convenience stores, or fast food restaurants).</td><td>There are a lot of missing values in this data, perhaps should be used with caution as a large no. of census tracts are based on just the median for the study area.</td></tr>\n",
       "\t<tr><td><span style=white-space:pre-wrap>Infrastructure/Table8.csv                                                          </span></td><td><span style=white-space:pre-wrap>Table 8                                             </span></td><td><span style=white-space:pre-wrap>NA          </span></td><td>n/a</td><td>Infrastructure</td><td><span style=white-space:pre-wrap>Financial Services               </span></td><td><span style=white-space:pre-wrap>T8_est76                                  </span></td><td>NA</td><td><span style=white-space:pre-wrap>Housing Affordability.1        </span></td><td>HousingAffordability1 </td><td>⋯</td><td>Census Tract</td><td>Census Tract</td><td>Link</td><td>12/01/2022</td><td>CensusTract </td><td>none</td><td>1</td><td>1</td><td><span style=white-space:pre-wrap>Renter Occupied, household income (less than or equal to 30% of HUD Area Median Family Income), cost burden &gt; 50%\n",
       " Found here: https://www.huduser.gov/portal/datasets/cp.html Downloaded and saved as file name 2014thru2018-140-csv                                                                                                                               </span></td><td><span style=white-space:pre-wrap>NA                                                                                                                                                                  </span></td></tr>\n",
       "\t<tr><td><span style=white-space:pre-wrap>Infrastructure/Table8.csv                                                          </span></td><td><span style=white-space:pre-wrap>Table 8                                             </span></td><td><span style=white-space:pre-wrap>NA          </span></td><td>n/a</td><td>Infrastructure</td><td><span style=white-space:pre-wrap>Financial Services               </span></td><td><span style=white-space:pre-wrap>T8_est10                                  </span></td><td>NA</td><td><span style=white-space:pre-wrap>Housing Affordability.2        </span></td><td>HousingAffordability2 </td><td>⋯</td><td>Census Tract</td><td>Census Tract</td><td>Link</td><td>12/01/2022</td><td>CensusTract </td><td>none</td><td>1</td><td>1</td><td><span style=white-space:pre-wrap>Owner Occupied, household income (less than or equal to 30% of HUD Area Median Family Income), cost burden &gt; 50%\n",
       " Found here: https://www.huduser.gov/portal/datasets/cp.html Downloaded and saved as file name 2014thru2018-140-csv                                                                                                                                </span></td><td><span style=white-space:pre-wrap>NA                                                                                                                                                                  </span></td></tr>\n",
       "</tbody>\n",
       "</table>\n"
      ],
      "text/latex": [
       "A data.frame: 21 × 27\n",
       "\\begin{tabular}{lllllllllllllllllllll}\n",
       " Path To File & Document Name & CensusIdName & Clean/Final Data & Domain & Subcategory & Data Column Name & Unit of Data & Indicator Name & indicator\\_name\\_short & ⋯ & Format & Geographic Level & URL & Download Date & GEOID Column Name & missing\\_data\\_value & to\\_process & processed & Notes & Data notes\\\\\n",
       " <chr> & <chr> & <chr> & <chr> & <chr> & <chr> & <chr> & <chr> & <chr> & <chr> & ⋯ & <chr> & <chr> & <chr> & <chr> & <chr> & <chr> & <dbl> & <dbl> & <chr> & <chr>\\\\\n",
       "\\hline\n",
       "\t Health/LifeExpectancy.csv                                                           & LifeExpectancy                                       & Census Tract & YES & Health         & Overall Physical Health           & Life expectancy at birth, as of 2010-2015. & NA & Life Expectancy                 & LifeExpectancy         & ⋯ & Census Tract & Census Tract & NA   & 05/08/2021 & Census Tract & -999 & 1 & 1 & W Verified. This is a rate.                                                                                                                                                                                                                                                                                                                                           & NA                                                                                                                                                                  \\\\\n",
       "\t Social/SVI2018\\_US.csv                                                               & SVI2018\\_US                                           & FIPS         & YES & Social         & Socioeconomic Status              & EPL\\_POV                                    & NA & Below Poverty                   & BelowPoverty           & ⋯ & Census Tract & Census Tract & Link & 03/12/2020 & FIPS         & -999 & 1 & 1 & W Verified. Medians calculated separately in R.                                                                                                                                                                                                                                                                                                                       & NA                                                                                                                                                                  \\\\\n",
       "\t Social/SVI2018\\_US.csv                                                               & SVI2018\\_US                                           & FIPS         & YES & Social         & Socioeconomic Status              & EPL\\_UNEMP                                  & NA & Unemployed                      & Unemployed             & ⋯ & Census Tract & Census Tract & Link & 03/12/2020 & FIPS         & -999 & 1 & 1 & W Verified. Medians calculated separately in R.                                                                                                                                                                                                                                                                                                                       & NA                                                                                                                                                                  \\\\\n",
       "\t Social/SVI2018\\_US.csv                                                               & SVI2018\\_US                                           & FIPS         & YES & Social         & Socioeconomic Status              & EPL\\_PCI                                    & NA & Income                          & Income                 & ⋯ & Census Tract & Census Tract & Link & 03/12/2020 & FIPS         & -999 & 1 & 1 & W Verified. Medians calculated separately in R.                                                                                                                                                                                                                                                                                                                       & NA                                                                                                                                                                  \\\\\n",
       "\t Social/SVI2018\\_US.csv                                                               & SVI2018\\_US                                           & FIPS         & YES & Social         & Socioeconomic Status              & EPL\\_NOHSDP                                 & NA & No High School Diploma          & NoHSDiploma            & ⋯ & Census Tract & Census Tract & Link & 03/12/2020 & FIPS         & -999 & 1 & 1 & W Verified. Medians calculated separately in R.                                                                                                                                                                                                                                                                                                                       & NA                                                                                                                                                                  \\\\\n",
       "\t Social/SVI2018\\_US.csv                                                               & SVI2018\\_US                                           & FIPS         & YES & Social         & Housing Composition \\& Disability  & EPL\\_AGE65                                  & NA & Aged 65 or Older                & Aged65Older            & ⋯ & Census Tract & Census Tract & Link & 03/12/2020 & FIPS         & -999 & 1 & 1 & W Verified. Medians calculated separately in R.                                                                                                                                                                                                                                                                                                                       & NA                                                                                                                                                                  \\\\\n",
       "\t Social/SVI2018\\_US.csv                                                               & SVI2018\\_US                                           & FIPS         & YES & Social         & Housing Composition \\& Disability  & EPL\\_AGE17                                  & NA & Aged 17 or Younger              & Aged17Younger          & ⋯ & Census Tract & Census Tract & Link & 03/12/2020 & FIPS         & -999 & 1 & 1 & W Verified. Medians calculated separately in R.                                                                                                                                                                                                                                                                                                                       & NA                                                                                                                                                                  \\\\\n",
       "\t Social/SVI2018\\_US.csv                                                               & SVI2018\\_US                                           & FIPS         & YES & Social         & Housing Composition \\& Disability  & EPL\\_DISABL                                 & NA & Civilian with a Disability      & CivilianWithDisability & ⋯ & Census Tract & Census Tract & Link & 03/12/2020 & FIPS         & -999 & 1 & 1 & W Verified. Medians calculated separately in R.                                                                                                                                                                                                                                                                                                                       & NA                                                                                                                                                                  \\\\\n",
       "\t Social/SVI2018\\_US.csv                                                               & SVI2018\\_US                                           & FIPS         & YES & Social         & Housing Composition \\& Disability  & EPL\\_SNGPNT                                 & NA & Single-Parent Households        & SingleParentHhld       & ⋯ & Census Tract & Census Tract & Link & 03/12/2020 & FIPS         & -999 & 1 & 1 & W Verified. Medians calculated separately in R.                                                                                                                                                                                                                                                                                                                       & NA                                                                                                                                                                  \\\\\n",
       "\t Social/SVI2018\\_US.csv                                                               & SVI2018\\_US                                           & FIPS         & YES & Social         & Minority Status \\& Language        & EPL\\_MINRTY                                 & NA & Minority                        & Minority               & ⋯ & Census Tract & Census Tract & Link & 03/12/2020 & FIPS         & -999 & 1 & 1 & W Verified. Medians calculated separately in R.                                                                                                                                                                                                                                                                                                                       & NA                                                                                                                                                                  \\\\\n",
       "\t Social/SVI2018\\_US.csv                                                               & SVI2018\\_US                                           & FIPS         & YES & Social         & Minority Status \\& Language        & EPL\\_LIMENG                                 & NA & Speaks English \"Less than Well\" & SpeaksEnglishLessWell  & ⋯ & Census Tract & Census Tract & Link & 03/12/2020 & FIPS         & -999 & 1 & 1 & W Verified. Medians calculated separately in R.                                                                                                                                                                                                                                                                                                                       & \\textasciitilde{}40 0 values in this dataset.                                                                                                                                       \\\\\n",
       "\t Social/SVI2018\\_US.csv                                                               & SVI2018\\_US                                           & FIPS         & YES & Social         & Housing \\& Transportation          & EPL\\_MUNIT                                  & NA & Multi-Unit Structures           & MultiUnitStructures    & ⋯ & Census Tract & Census Tract & Link & 03/12/2020 & FIPS         & -999 & 1 & 1 & W Verified. Medians calculated separately in R.                                                                                                                                                                                                                                                                                                                       & Over 200 0 values in this dataset.                                                                                                                                  \\\\\n",
       "\t Social/SVI2018\\_US.csv                                                               & SVI2018\\_US                                           & FIPS         & YES & Social         & Housing \\& Transportation          & EPL\\_MOBILE                                 & NA & Mobile Homes                    & MobileHomes            & ⋯ & Census Tract & Census Tract & Link & 03/12/2020 & FIPS         & -999 & 1 & 1 & W Verified. Medians calculated separately in R.                                                                                                                                                                                                                                                                                                                       & Over 500 0 values in this dataset.                                                                                                                                  \\\\\n",
       "\t Social/SVI2018\\_US.csv                                                               & SVI2018\\_US                                           & FIPS         & YES & Social         & Housing \\& Transportation          & EPL\\_CROWD                                  & NA & Crowding                        & Crowding               & ⋯ & Census Tract & Census Tract & Link & 03/12/2020 & FIPS         & -999 & 1 & 1 & W Verified. Medians calculated separately in R.                                                                                                                                                                                                                                                                                                                       & Not many missing (-999) values here but there are more than 100 tracts with 0 values, despite the next lowest score being \\textasciitilde{}0.15.                                    \\\\\n",
       "\t Social/SVI2018\\_US.csv                                                               & SVI2018\\_US                                           & FIPS         & YES & Social         & Housing \\& Transportation          & EPL\\_NOVEH                                  & NA & No Vehicle                      & NoVehicle              & ⋯ & Census Tract & Census Tract & Link & 03/12/2020 & FIPS         & -999 & 1 & 1 & W Verified. Medians calculated separately in R.                                                                                                                                                                                                                                                                                                                       & NA                                                                                                                                                                  \\\\\n",
       "\t Social/SVI2018\\_US.csv                                                               & SVI2018\\_US                                           & FIPS         & YES & Social         & Housing \\& Transportation          & EPL\\_GROUPQ                                 & NA & Group Quarters                  & GroupQuarters          & ⋯ & Census Tract & Census Tract & Link & 03/12/2020 & FIPS         & -999 & 1 & 1 & W Verified. Medians calculated separately in R.                                                                                                                                                                                                                                                                                                                       & More than half of census tracts have 0 values in this dataset.                                                                                                      \\\\\n",
       "\t Social/NSP2 - US Total.csv                                                          & NSP2 - US Total                                      & NA           & YES & Social         & HUD Foreclosure                   & fordq\\_rate                                 & NA & Foreclosure Rate                & ForeclosureRate        & ⋯ & Census Tract & Census Tract & Link & 03/01/2022 & geoid        & none & 1 & 1 & W Verified. fordq\\_rate = Estimated percent of mortgages to start foreclosure process or be seriously delinquent in past 2 years                                                                                                                                                                                                                                       & Need to check missing value in this dataset                                                                                                                         \\\\\n",
       "\t Infrastructure/BroadbandAcess\\_PercentHousehold\\_nointernet\\_allstates-fixedtracts.csv & BroadbandAcess\\_PercentHousehold\\_nointernet\\_allstates & CensusTract  & n/a & Infrastructure & Communications                    & data\\_value                                 & NA & No Broadband Access             & NoBroadbandAccess      & ⋯ & Census Tract & Census Tract & Link & 01/11/2021 & CensusTract  & none & 1 & 1 & W verfied. Fixed census tracts.                                                                                                                                                                                                                                                                                                                                       & NA                                                                                                                                                                  \\\\\n",
       "\t Infrastructure/MRFEIData\\_CLEAN.csv                                                  & MRFEIData                                            & GEOID        & n/a & Infrastructure & Food, Water, and Waste Management & mrfei                                      & NA & Retail Food                     & RetailFood             & ⋯ & Census Tract & Census Tract & Link & 17/12/2020 & GEOID        & none & 1 & 1 & W Verified. FIXED leading zeros in Excel, W converted to CSV. Zero reflects zero count not missing data.\n",
       "The mRFEI measures the number of healthy and less healthy food retailers within census tracts across each state as defined by typical food offerings in specific types of retail stores (e.g., supermarkets, convenience stores, or fast food restaurants). & There are a lot of missing values in this data, perhaps should be used with caution as a large no. of census tracts are based on just the median for the study area.\\\\\n",
       "\t Infrastructure/Table8.csv                                                           & Table 8                                              & NA           & n/a & Infrastructure & Financial Services                & T8\\_est76                                   & NA & Housing Affordability.1         & HousingAffordability1  & ⋯ & Census Tract & Census Tract & Link & 12/01/2022 & CensusTract  & none & 1 & 1 & Renter Occupied, household income (less than or equal to 30\\% of HUD Area Median Family Income), cost burden > 50\\%\n",
       " Found here: https://www.huduser.gov/portal/datasets/cp.html Downloaded and saved as file name 2014thru2018-140-csv                                                                                                                                & NA                                                                                                                                                                  \\\\\n",
       "\t Infrastructure/Table8.csv                                                           & Table 8                                              & NA           & n/a & Infrastructure & Financial Services                & T8\\_est10                                   & NA & Housing Affordability.2         & HousingAffordability2  & ⋯ & Census Tract & Census Tract & Link & 12/01/2022 & CensusTract  & none & 1 & 1 & Owner Occupied, household income (less than or equal to 30\\% of HUD Area Median Family Income), cost burden > 50\\%\n",
       " Found here: https://www.huduser.gov/portal/datasets/cp.html Downloaded and saved as file name 2014thru2018-140-csv                                                                                                                                 & NA                                                                                                                                                                  \\\\\n",
       "\\end{tabular}\n"
      ],
      "text/markdown": [
       "\n",
       "A data.frame: 21 × 27\n",
       "\n",
       "| Path To File &lt;chr&gt; | Document Name &lt;chr&gt; | CensusIdName &lt;chr&gt; | Clean/Final Data &lt;chr&gt; | Domain &lt;chr&gt; | Subcategory &lt;chr&gt; | Data Column Name &lt;chr&gt; | Unit of Data &lt;chr&gt; | Indicator Name &lt;chr&gt; | indicator_name_short &lt;chr&gt; | ⋯ ⋯ | Format &lt;chr&gt; | Geographic Level &lt;chr&gt; | URL &lt;chr&gt; | Download Date &lt;chr&gt; | GEOID Column Name &lt;chr&gt; | missing_data_value &lt;chr&gt; | to_process &lt;dbl&gt; | processed &lt;dbl&gt; | Notes &lt;chr&gt; | Data notes &lt;chr&gt; |\n",
       "|---|---|---|---|---|---|---|---|---|---|---|---|---|---|---|---|---|---|---|---|---|\n",
       "| Health/LifeExpectancy.csv                                                           | LifeExpectancy                                       | Census Tract | YES | Health         | Overall Physical Health           | Life expectancy at birth, as of 2010-2015. | NA | Life Expectancy                 | LifeExpectancy         | ⋯ | Census Tract | Census Tract | NA   | 05/08/2021 | Census Tract | -999 | 1 | 1 | W Verified. This is a rate.                                                                                                                                                                                                                                                                                                                                           | NA                                                                                                                                                                   |\n",
       "| Social/SVI2018_US.csv                                                               | SVI2018_US                                           | FIPS         | YES | Social         | Socioeconomic Status              | EPL_POV                                    | NA | Below Poverty                   | BelowPoverty           | ⋯ | Census Tract | Census Tract | Link | 03/12/2020 | FIPS         | -999 | 1 | 1 | W Verified. Medians calculated separately in R.                                                                                                                                                                                                                                                                                                                       | NA                                                                                                                                                                   |\n",
       "| Social/SVI2018_US.csv                                                               | SVI2018_US                                           | FIPS         | YES | Social         | Socioeconomic Status              | EPL_UNEMP                                  | NA | Unemployed                      | Unemployed             | ⋯ | Census Tract | Census Tract | Link | 03/12/2020 | FIPS         | -999 | 1 | 1 | W Verified. Medians calculated separately in R.                                                                                                                                                                                                                                                                                                                       | NA                                                                                                                                                                   |\n",
       "| Social/SVI2018_US.csv                                                               | SVI2018_US                                           | FIPS         | YES | Social         | Socioeconomic Status              | EPL_PCI                                    | NA | Income                          | Income                 | ⋯ | Census Tract | Census Tract | Link | 03/12/2020 | FIPS         | -999 | 1 | 1 | W Verified. Medians calculated separately in R.                                                                                                                                                                                                                                                                                                                       | NA                                                                                                                                                                   |\n",
       "| Social/SVI2018_US.csv                                                               | SVI2018_US                                           | FIPS         | YES | Social         | Socioeconomic Status              | EPL_NOHSDP                                 | NA | No High School Diploma          | NoHSDiploma            | ⋯ | Census Tract | Census Tract | Link | 03/12/2020 | FIPS         | -999 | 1 | 1 | W Verified. Medians calculated separately in R.                                                                                                                                                                                                                                                                                                                       | NA                                                                                                                                                                   |\n",
       "| Social/SVI2018_US.csv                                                               | SVI2018_US                                           | FIPS         | YES | Social         | Housing Composition &amp; Disability  | EPL_AGE65                                  | NA | Aged 65 or Older                | Aged65Older            | ⋯ | Census Tract | Census Tract | Link | 03/12/2020 | FIPS         | -999 | 1 | 1 | W Verified. Medians calculated separately in R.                                                                                                                                                                                                                                                                                                                       | NA                                                                                                                                                                   |\n",
       "| Social/SVI2018_US.csv                                                               | SVI2018_US                                           | FIPS         | YES | Social         | Housing Composition &amp; Disability  | EPL_AGE17                                  | NA | Aged 17 or Younger              | Aged17Younger          | ⋯ | Census Tract | Census Tract | Link | 03/12/2020 | FIPS         | -999 | 1 | 1 | W Verified. Medians calculated separately in R.                                                                                                                                                                                                                                                                                                                       | NA                                                                                                                                                                   |\n",
       "| Social/SVI2018_US.csv                                                               | SVI2018_US                                           | FIPS         | YES | Social         | Housing Composition &amp; Disability  | EPL_DISABL                                 | NA | Civilian with a Disability      | CivilianWithDisability | ⋯ | Census Tract | Census Tract | Link | 03/12/2020 | FIPS         | -999 | 1 | 1 | W Verified. Medians calculated separately in R.                                                                                                                                                                                                                                                                                                                       | NA                                                                                                                                                                   |\n",
       "| Social/SVI2018_US.csv                                                               | SVI2018_US                                           | FIPS         | YES | Social         | Housing Composition &amp; Disability  | EPL_SNGPNT                                 | NA | Single-Parent Households        | SingleParentHhld       | ⋯ | Census Tract | Census Tract | Link | 03/12/2020 | FIPS         | -999 | 1 | 1 | W Verified. Medians calculated separately in R.                                                                                                                                                                                                                                                                                                                       | NA                                                                                                                                                                   |\n",
       "| Social/SVI2018_US.csv                                                               | SVI2018_US                                           | FIPS         | YES | Social         | Minority Status &amp; Language        | EPL_MINRTY                                 | NA | Minority                        | Minority               | ⋯ | Census Tract | Census Tract | Link | 03/12/2020 | FIPS         | -999 | 1 | 1 | W Verified. Medians calculated separately in R.                                                                                                                                                                                                                                                                                                                       | NA                                                                                                                                                                   |\n",
       "| Social/SVI2018_US.csv                                                               | SVI2018_US                                           | FIPS         | YES | Social         | Minority Status &amp; Language        | EPL_LIMENG                                 | NA | Speaks English \"Less than Well\" | SpeaksEnglishLessWell  | ⋯ | Census Tract | Census Tract | Link | 03/12/2020 | FIPS         | -999 | 1 | 1 | W Verified. Medians calculated separately in R.                                                                                                                                                                                                                                                                                                                       | ~40 0 values in this dataset.                                                                                                                                        |\n",
       "| Social/SVI2018_US.csv                                                               | SVI2018_US                                           | FIPS         | YES | Social         | Housing &amp; Transportation          | EPL_MUNIT                                  | NA | Multi-Unit Structures           | MultiUnitStructures    | ⋯ | Census Tract | Census Tract | Link | 03/12/2020 | FIPS         | -999 | 1 | 1 | W Verified. Medians calculated separately in R.                                                                                                                                                                                                                                                                                                                       | Over 200 0 values in this dataset.                                                                                                                                   |\n",
       "| Social/SVI2018_US.csv                                                               | SVI2018_US                                           | FIPS         | YES | Social         | Housing &amp; Transportation          | EPL_MOBILE                                 | NA | Mobile Homes                    | MobileHomes            | ⋯ | Census Tract | Census Tract | Link | 03/12/2020 | FIPS         | -999 | 1 | 1 | W Verified. Medians calculated separately in R.                                                                                                                                                                                                                                                                                                                       | Over 500 0 values in this dataset.                                                                                                                                   |\n",
       "| Social/SVI2018_US.csv                                                               | SVI2018_US                                           | FIPS         | YES | Social         | Housing &amp; Transportation          | EPL_CROWD                                  | NA | Crowding                        | Crowding               | ⋯ | Census Tract | Census Tract | Link | 03/12/2020 | FIPS         | -999 | 1 | 1 | W Verified. Medians calculated separately in R.                                                                                                                                                                                                                                                                                                                       | Not many missing (-999) values here but there are more than 100 tracts with 0 values, despite the next lowest score being ~0.15.                                     |\n",
       "| Social/SVI2018_US.csv                                                               | SVI2018_US                                           | FIPS         | YES | Social         | Housing &amp; Transportation          | EPL_NOVEH                                  | NA | No Vehicle                      | NoVehicle              | ⋯ | Census Tract | Census Tract | Link | 03/12/2020 | FIPS         | -999 | 1 | 1 | W Verified. Medians calculated separately in R.                                                                                                                                                                                                                                                                                                                       | NA                                                                                                                                                                   |\n",
       "| Social/SVI2018_US.csv                                                               | SVI2018_US                                           | FIPS         | YES | Social         | Housing &amp; Transportation          | EPL_GROUPQ                                 | NA | Group Quarters                  | GroupQuarters          | ⋯ | Census Tract | Census Tract | Link | 03/12/2020 | FIPS         | -999 | 1 | 1 | W Verified. Medians calculated separately in R.                                                                                                                                                                                                                                                                                                                       | More than half of census tracts have 0 values in this dataset.                                                                                                       |\n",
       "| Social/NSP2 - US Total.csv                                                          | NSP2 - US Total                                      | NA           | YES | Social         | HUD Foreclosure                   | fordq_rate                                 | NA | Foreclosure Rate                | ForeclosureRate        | ⋯ | Census Tract | Census Tract | Link | 03/01/2022 | geoid        | none | 1 | 1 | W Verified. fordq_rate = Estimated percent of mortgages to start foreclosure process or be seriously delinquent in past 2 years                                                                                                                                                                                                                                       | Need to check missing value in this dataset                                                                                                                          |\n",
       "| Infrastructure/BroadbandAcess_PercentHousehold_nointernet_allstates-fixedtracts.csv | BroadbandAcess_PercentHousehold_nointernet_allstates | CensusTract  | n/a | Infrastructure | Communications                    | data_value                                 | NA | No Broadband Access             | NoBroadbandAccess      | ⋯ | Census Tract | Census Tract | Link | 01/11/2021 | CensusTract  | none | 1 | 1 | W verfied. Fixed census tracts.                                                                                                                                                                                                                                                                                                                                       | NA                                                                                                                                                                   |\n",
       "| Infrastructure/MRFEIData_CLEAN.csv                                                  | MRFEIData                                            | GEOID        | n/a | Infrastructure | Food, Water, and Waste Management | mrfei                                      | NA | Retail Food                     | RetailFood             | ⋯ | Census Tract | Census Tract | Link | 17/12/2020 | GEOID        | none | 1 | 1 | W Verified. FIXED leading zeros in Excel, W converted to CSV. Zero reflects zero count not missing data.\n",
       "The mRFEI measures the number of healthy and less healthy food retailers within census tracts across each state as defined by typical food offerings in specific types of retail stores (e.g., supermarkets, convenience stores, or fast food restaurants). | There are a lot of missing values in this data, perhaps should be used with caution as a large no. of census tracts are based on just the median for the study area. |\n",
       "| Infrastructure/Table8.csv                                                           | Table 8                                              | NA           | n/a | Infrastructure | Financial Services                | T8_est76                                   | NA | Housing Affordability.1         | HousingAffordability1  | ⋯ | Census Tract | Census Tract | Link | 12/01/2022 | CensusTract  | none | 1 | 1 | Renter Occupied, household income (less than or equal to 30% of HUD Area Median Family Income), cost burden &gt; 50%\n",
       " Found here: https://www.huduser.gov/portal/datasets/cp.html Downloaded and saved as file name 2014thru2018-140-csv                                                                                                                                | NA                                                                                                                                                                   |\n",
       "| Infrastructure/Table8.csv                                                           | Table 8                                              | NA           | n/a | Infrastructure | Financial Services                | T8_est10                                   | NA | Housing Affordability.2         | HousingAffordability2  | ⋯ | Census Tract | Census Tract | Link | 12/01/2022 | CensusTract  | none | 1 | 1 | Owner Occupied, household income (less than or equal to 30% of HUD Area Median Family Income), cost burden &gt; 50%\n",
       " Found here: https://www.huduser.gov/portal/datasets/cp.html Downloaded and saved as file name 2014thru2018-140-csv                                                                                                                                 | NA                                                                                                                                                                   |\n",
       "\n"
      ],
      "text/plain": [
       "   Path To File                                                                       \n",
       "1  Health/LifeExpectancy.csv                                                          \n",
       "2  Social/SVI2018_US.csv                                                              \n",
       "3  Social/SVI2018_US.csv                                                              \n",
       "4  Social/SVI2018_US.csv                                                              \n",
       "5  Social/SVI2018_US.csv                                                              \n",
       "6  Social/SVI2018_US.csv                                                              \n",
       "7  Social/SVI2018_US.csv                                                              \n",
       "8  Social/SVI2018_US.csv                                                              \n",
       "9  Social/SVI2018_US.csv                                                              \n",
       "10 Social/SVI2018_US.csv                                                              \n",
       "11 Social/SVI2018_US.csv                                                              \n",
       "12 Social/SVI2018_US.csv                                                              \n",
       "13 Social/SVI2018_US.csv                                                              \n",
       "14 Social/SVI2018_US.csv                                                              \n",
       "15 Social/SVI2018_US.csv                                                              \n",
       "16 Social/SVI2018_US.csv                                                              \n",
       "17 Social/NSP2 - US Total.csv                                                         \n",
       "18 Infrastructure/BroadbandAcess_PercentHousehold_nointernet_allstates-fixedtracts.csv\n",
       "19 Infrastructure/MRFEIData_CLEAN.csv                                                 \n",
       "20 Infrastructure/Table8.csv                                                          \n",
       "21 Infrastructure/Table8.csv                                                          \n",
       "   Document Name                                        CensusIdName\n",
       "1  LifeExpectancy                                       Census Tract\n",
       "2  SVI2018_US                                           FIPS        \n",
       "3  SVI2018_US                                           FIPS        \n",
       "4  SVI2018_US                                           FIPS        \n",
       "5  SVI2018_US                                           FIPS        \n",
       "6  SVI2018_US                                           FIPS        \n",
       "7  SVI2018_US                                           FIPS        \n",
       "8  SVI2018_US                                           FIPS        \n",
       "9  SVI2018_US                                           FIPS        \n",
       "10 SVI2018_US                                           FIPS        \n",
       "11 SVI2018_US                                           FIPS        \n",
       "12 SVI2018_US                                           FIPS        \n",
       "13 SVI2018_US                                           FIPS        \n",
       "14 SVI2018_US                                           FIPS        \n",
       "15 SVI2018_US                                           FIPS        \n",
       "16 SVI2018_US                                           FIPS        \n",
       "17 NSP2 - US Total                                      NA          \n",
       "18 BroadbandAcess_PercentHousehold_nointernet_allstates CensusTract \n",
       "19 MRFEIData                                            GEOID       \n",
       "20 Table 8                                              NA          \n",
       "21 Table 8                                              NA          \n",
       "   Clean/Final Data Domain         Subcategory                      \n",
       "1  YES              Health         Overall Physical Health          \n",
       "2  YES              Social         Socioeconomic Status             \n",
       "3  YES              Social         Socioeconomic Status             \n",
       "4  YES              Social         Socioeconomic Status             \n",
       "5  YES              Social         Socioeconomic Status             \n",
       "6  YES              Social         Housing Composition & Disability \n",
       "7  YES              Social         Housing Composition & Disability \n",
       "8  YES              Social         Housing Composition & Disability \n",
       "9  YES              Social         Housing Composition & Disability \n",
       "10 YES              Social         Minority Status & Language       \n",
       "11 YES              Social         Minority Status & Language       \n",
       "12 YES              Social         Housing & Transportation         \n",
       "13 YES              Social         Housing & Transportation         \n",
       "14 YES              Social         Housing & Transportation         \n",
       "15 YES              Social         Housing & Transportation         \n",
       "16 YES              Social         Housing & Transportation         \n",
       "17 YES              Social         HUD Foreclosure                  \n",
       "18 n/a              Infrastructure Communications                   \n",
       "19 n/a              Infrastructure Food, Water, and Waste Management\n",
       "20 n/a              Infrastructure Financial Services               \n",
       "21 n/a              Infrastructure Financial Services               \n",
       "   Data Column Name                           Unit of Data\n",
       "1  Life expectancy at birth, as of 2010-2015. NA          \n",
       "2  EPL_POV                                    NA          \n",
       "3  EPL_UNEMP                                  NA          \n",
       "4  EPL_PCI                                    NA          \n",
       "5  EPL_NOHSDP                                 NA          \n",
       "6  EPL_AGE65                                  NA          \n",
       "7  EPL_AGE17                                  NA          \n",
       "8  EPL_DISABL                                 NA          \n",
       "9  EPL_SNGPNT                                 NA          \n",
       "10 EPL_MINRTY                                 NA          \n",
       "11 EPL_LIMENG                                 NA          \n",
       "12 EPL_MUNIT                                  NA          \n",
       "13 EPL_MOBILE                                 NA          \n",
       "14 EPL_CROWD                                  NA          \n",
       "15 EPL_NOVEH                                  NA          \n",
       "16 EPL_GROUPQ                                 NA          \n",
       "17 fordq_rate                                 NA          \n",
       "18 data_value                                 NA          \n",
       "19 mrfei                                      NA          \n",
       "20 T8_est76                                   NA          \n",
       "21 T8_est10                                   NA          \n",
       "   Indicator Name                  indicator_name_short   <U+22EF>        Format      \n",
       "1  Life Expectancy                 LifeExpectancy         <U+22EF> Census Tract\n",
       "2  Below Poverty                   BelowPoverty           <U+22EF> Census Tract\n",
       "3  Unemployed                      Unemployed             <U+22EF> Census Tract\n",
       "4  Income                          Income                 <U+22EF> Census Tract\n",
       "5  No High School Diploma          NoHSDiploma            <U+22EF> Census Tract\n",
       "6  Aged 65 or Older                Aged65Older            <U+22EF> Census Tract\n",
       "7  Aged 17 or Younger              Aged17Younger          <U+22EF> Census Tract\n",
       "8  Civilian with a Disability      CivilianWithDisability <U+22EF> Census Tract\n",
       "9  Single-Parent Households        SingleParentHhld       <U+22EF> Census Tract\n",
       "10 Minority                        Minority               <U+22EF> Census Tract\n",
       "11 Speaks English \"Less than Well\" SpeaksEnglishLessWell  <U+22EF> Census Tract\n",
       "12 Multi-Unit Structures           MultiUnitStructures    <U+22EF> Census Tract\n",
       "13 Mobile Homes                    MobileHomes            <U+22EF> Census Tract\n",
       "14 Crowding                        Crowding               <U+22EF> Census Tract\n",
       "15 No Vehicle                      NoVehicle              <U+22EF> Census Tract\n",
       "16 Group Quarters                  GroupQuarters          <U+22EF> Census Tract\n",
       "17 Foreclosure Rate                ForeclosureRate        <U+22EF> Census Tract\n",
       "18 No Broadband Access             NoBroadbandAccess      <U+22EF> Census Tract\n",
       "19 Retail Food                     RetailFood             <U+22EF> Census Tract\n",
       "20 Housing Affordability.1         HousingAffordability1  <U+22EF> Census Tract\n",
       "21 Housing Affordability.2         HousingAffordability2  <U+22EF> Census Tract\n",
       "   Geographic Level URL  Download Date GEOID Column Name missing_data_value\n",
       "1  Census Tract     NA   05/08/2021    Census Tract      -999              \n",
       "2  Census Tract     Link 03/12/2020    FIPS              -999              \n",
       "3  Census Tract     Link 03/12/2020    FIPS              -999              \n",
       "4  Census Tract     Link 03/12/2020    FIPS              -999              \n",
       "5  Census Tract     Link 03/12/2020    FIPS              -999              \n",
       "6  Census Tract     Link 03/12/2020    FIPS              -999              \n",
       "7  Census Tract     Link 03/12/2020    FIPS              -999              \n",
       "8  Census Tract     Link 03/12/2020    FIPS              -999              \n",
       "9  Census Tract     Link 03/12/2020    FIPS              -999              \n",
       "10 Census Tract     Link 03/12/2020    FIPS              -999              \n",
       "11 Census Tract     Link 03/12/2020    FIPS              -999              \n",
       "12 Census Tract     Link 03/12/2020    FIPS              -999              \n",
       "13 Census Tract     Link 03/12/2020    FIPS              -999              \n",
       "14 Census Tract     Link 03/12/2020    FIPS              -999              \n",
       "15 Census Tract     Link 03/12/2020    FIPS              -999              \n",
       "16 Census Tract     Link 03/12/2020    FIPS              -999              \n",
       "17 Census Tract     Link 03/01/2022    geoid             none              \n",
       "18 Census Tract     Link 01/11/2021    CensusTract       none              \n",
       "19 Census Tract     Link 17/12/2020    GEOID             none              \n",
       "20 Census Tract     Link 12/01/2022    CensusTract       none              \n",
       "21 Census Tract     Link 12/01/2022    CensusTract       none              \n",
       "   to_process processed\n",
       "1  1          1        \n",
       "2  1          1        \n",
       "3  1          1        \n",
       "4  1          1        \n",
       "5  1          1        \n",
       "6  1          1        \n",
       "7  1          1        \n",
       "8  1          1        \n",
       "9  1          1        \n",
       "10 1          1        \n",
       "11 1          1        \n",
       "12 1          1        \n",
       "13 1          1        \n",
       "14 1          1        \n",
       "15 1          1        \n",
       "16 1          1        \n",
       "17 1          1        \n",
       "18 1          1        \n",
       "19 1          1        \n",
       "20 1          1        \n",
       "21 1          1        \n",
       "   Notes                                                                                                                                                                                                                                                                                                                                                                \n",
       "1  W Verified. This is a rate.                                                                                                                                                                                                                                                                                                                                          \n",
       "2  W Verified. Medians calculated separately in R.                                                                                                                                                                                                                                                                                                                      \n",
       "3  W Verified. Medians calculated separately in R.                                                                                                                                                                                                                                                                                                                      \n",
       "4  W Verified. Medians calculated separately in R.                                                                                                                                                                                                                                                                                                                      \n",
       "5  W Verified. Medians calculated separately in R.                                                                                                                                                                                                                                                                                                                      \n",
       "6  W Verified. Medians calculated separately in R.                                                                                                                                                                                                                                                                                                                      \n",
       "7  W Verified. Medians calculated separately in R.                                                                                                                                                                                                                                                                                                                      \n",
       "8  W Verified. Medians calculated separately in R.                                                                                                                                                                                                                                                                                                                      \n",
       "9  W Verified. Medians calculated separately in R.                                                                                                                                                                                                                                                                                                                      \n",
       "10 W Verified. Medians calculated separately in R.                                                                                                                                                                                                                                                                                                                      \n",
       "11 W Verified. Medians calculated separately in R.                                                                                                                                                                                                                                                                                                                      \n",
       "12 W Verified. Medians calculated separately in R.                                                                                                                                                                                                                                                                                                                      \n",
       "13 W Verified. Medians calculated separately in R.                                                                                                                                                                                                                                                                                                                      \n",
       "14 W Verified. Medians calculated separately in R.                                                                                                                                                                                                                                                                                                                      \n",
       "15 W Verified. Medians calculated separately in R.                                                                                                                                                                                                                                                                                                                      \n",
       "16 W Verified. Medians calculated separately in R.                                                                                                                                                                                                                                                                                                                      \n",
       "17 W Verified. fordq_rate = Estimated percent of mortgages to start foreclosure process or be seriously delinquent in past 2 years                                                                                                                                                                                                                                      \n",
       "18 W verfied. Fixed census tracts.                                                                                                                                                                                                                                                                                                                                      \n",
       "19 W Verified. FIXED leading zeros in Excel, W converted to CSV. Zero reflects zero count not missing data.\\nThe mRFEI measures the number of healthy and less healthy food retailers within census tracts across each state as defined by typical food offerings in specific types of retail stores (e.g., supermarkets, convenience stores, or fast food restaurants).\n",
       "20 Renter Occupied, household income (less than or equal to 30% of HUD Area Median Family Income), cost burden > 50%\\n Found here: https://www.huduser.gov/portal/datasets/cp.html Downloaded and saved as file name 2014thru2018-140-csv                                                                                                                               \n",
       "21 Owner Occupied, household income (less than or equal to 30% of HUD Area Median Family Income), cost burden > 50%\\n Found here: https://www.huduser.gov/portal/datasets/cp.html Downloaded and saved as file name 2014thru2018-140-csv                                                                                                                                \n",
       "   Data notes                                                                                                                                                          \n",
       "1  NA                                                                                                                                                                  \n",
       "2  NA                                                                                                                                                                  \n",
       "3  NA                                                                                                                                                                  \n",
       "4  NA                                                                                                                                                                  \n",
       "5  NA                                                                                                                                                                  \n",
       "6  NA                                                                                                                                                                  \n",
       "7  NA                                                                                                                                                                  \n",
       "8  NA                                                                                                                                                                  \n",
       "9  NA                                                                                                                                                                  \n",
       "10 NA                                                                                                                                                                  \n",
       "11 ~40 0 values in this dataset.                                                                                                                                       \n",
       "12 Over 200 0 values in this dataset.                                                                                                                                  \n",
       "13 Over 500 0 values in this dataset.                                                                                                                                  \n",
       "14 Not many missing (-999) values here but there are more than 100 tracts with 0 values, despite the next lowest score being ~0.15.                                    \n",
       "15 NA                                                                                                                                                                  \n",
       "16 More than half of census tracts have 0 values in this dataset.                                                                                                      \n",
       "17 Need to check missing value in this dataset                                                                                                                         \n",
       "18 NA                                                                                                                                                                  \n",
       "19 There are a lot of missing values in this data, perhaps should be used with caution as a large no. of census tracts are based on just the median for the study area.\n",
       "20 NA                                                                                                                                                                  \n",
       "21 NA                                                                                                                                                                  "
      ]
     },
     "metadata": {},
     "output_type": "display_data"
    }
   ],
   "source": [
    "targ3 <- file_key %>%\n",
    "    filter(processed == 1) %>%\n",
    "    as.data.frame()\n",
    "\n",
    "targ3"
   ]
  },
  {
   "cell_type": "code",
   "execution_count": 7,
   "metadata": {
    "scrolled": true
   },
   "outputs": [
    {
     "name": "stderr",
     "output_type": "stream",
     "text": [
      "Parsed with column specification:\n",
      "cols(\n",
      "  cell_id = col_double(),\n",
      "  value = col_double()\n",
      ")\n"
     ]
    },
    {
     "name": "stdout",
     "output_type": "stream",
     "text": [
      "[1] \"C:/Users/gslater/OneDrive - Environmental Defense Fund - edf.org/GCA Work/2022 04 - HG ToxPi file processing/data/processed/Health_LifeExpectancy/Health_LifeExpectancy.csv\"\n"
     ]
    },
    {
     "name": "stderr",
     "output_type": "stream",
     "text": [
      "Parsed with column specification:\n",
      "cols(\n",
      "  cell_id = col_double(),\n",
      "  value = col_double()\n",
      ")\n"
     ]
    },
    {
     "name": "stdout",
     "output_type": "stream",
     "text": [
      "[1] \"C:/Users/gslater/OneDrive - Environmental Defense Fund - edf.org/GCA Work/2022 04 - HG ToxPi file processing/data/processed/Social_BelowPoverty/Social_BelowPoverty.csv\"\n"
     ]
    },
    {
     "name": "stderr",
     "output_type": "stream",
     "text": [
      "Parsed with column specification:\n",
      "cols(\n",
      "  cell_id = col_double(),\n",
      "  value = col_double()\n",
      ")\n"
     ]
    },
    {
     "name": "stdout",
     "output_type": "stream",
     "text": [
      "[1] \"C:/Users/gslater/OneDrive - Environmental Defense Fund - edf.org/GCA Work/2022 04 - HG ToxPi file processing/data/processed/Social_Unemployed/Social_Unemployed.csv\"\n"
     ]
    },
    {
     "name": "stderr",
     "output_type": "stream",
     "text": [
      "Parsed with column specification:\n",
      "cols(\n",
      "  cell_id = col_double(),\n",
      "  value = col_double()\n",
      ")\n"
     ]
    },
    {
     "name": "stdout",
     "output_type": "stream",
     "text": [
      "[1] \"C:/Users/gslater/OneDrive - Environmental Defense Fund - edf.org/GCA Work/2022 04 - HG ToxPi file processing/data/processed/Social_Income/Social_Income.csv\"\n"
     ]
    },
    {
     "name": "stderr",
     "output_type": "stream",
     "text": [
      "Parsed with column specification:\n",
      "cols(\n",
      "  cell_id = col_double(),\n",
      "  value = col_double()\n",
      ")\n"
     ]
    },
    {
     "name": "stdout",
     "output_type": "stream",
     "text": [
      "[1] \"C:/Users/gslater/OneDrive - Environmental Defense Fund - edf.org/GCA Work/2022 04 - HG ToxPi file processing/data/processed/Social_NoHSDiploma/Social_NoHSDiploma.csv\"\n"
     ]
    },
    {
     "name": "stderr",
     "output_type": "stream",
     "text": [
      "Parsed with column specification:\n",
      "cols(\n",
      "  cell_id = col_double(),\n",
      "  value = col_double()\n",
      ")\n"
     ]
    },
    {
     "name": "stdout",
     "output_type": "stream",
     "text": [
      "[1] \"C:/Users/gslater/OneDrive - Environmental Defense Fund - edf.org/GCA Work/2022 04 - HG ToxPi file processing/data/processed/Social_Aged65Older/Social_Aged65Older.csv\"\n"
     ]
    },
    {
     "name": "stderr",
     "output_type": "stream",
     "text": [
      "Parsed with column specification:\n",
      "cols(\n",
      "  cell_id = col_double(),\n",
      "  value = col_double()\n",
      ")\n"
     ]
    },
    {
     "name": "stdout",
     "output_type": "stream",
     "text": [
      "[1] \"C:/Users/gslater/OneDrive - Environmental Defense Fund - edf.org/GCA Work/2022 04 - HG ToxPi file processing/data/processed/Social_Aged17Younger/Social_Aged17Younger.csv\"\n"
     ]
    },
    {
     "name": "stderr",
     "output_type": "stream",
     "text": [
      "Parsed with column specification:\n",
      "cols(\n",
      "  cell_id = col_double(),\n",
      "  value = col_double()\n",
      ")\n"
     ]
    },
    {
     "name": "stdout",
     "output_type": "stream",
     "text": [
      "[1] \"C:/Users/gslater/OneDrive - Environmental Defense Fund - edf.org/GCA Work/2022 04 - HG ToxPi file processing/data/processed/Social_CivilianWithDisability/Social_CivilianWithDisability.csv\"\n"
     ]
    },
    {
     "name": "stderr",
     "output_type": "stream",
     "text": [
      "Parsed with column specification:\n",
      "cols(\n",
      "  cell_id = col_double(),\n",
      "  value = col_double()\n",
      ")\n"
     ]
    },
    {
     "name": "stdout",
     "output_type": "stream",
     "text": [
      "[1] \"C:/Users/gslater/OneDrive - Environmental Defense Fund - edf.org/GCA Work/2022 04 - HG ToxPi file processing/data/processed/Social_SingleParentHhld/Social_SingleParentHhld.csv\"\n"
     ]
    },
    {
     "name": "stderr",
     "output_type": "stream",
     "text": [
      "Parsed with column specification:\n",
      "cols(\n",
      "  cell_id = col_double(),\n",
      "  value = col_double()\n",
      ")\n"
     ]
    },
    {
     "name": "stdout",
     "output_type": "stream",
     "text": [
      "[1] \"C:/Users/gslater/OneDrive - Environmental Defense Fund - edf.org/GCA Work/2022 04 - HG ToxPi file processing/data/processed/Social_Minority/Social_Minority.csv\"\n"
     ]
    },
    {
     "name": "stderr",
     "output_type": "stream",
     "text": [
      "Parsed with column specification:\n",
      "cols(\n",
      "  cell_id = col_double(),\n",
      "  value = col_double()\n",
      ")\n"
     ]
    },
    {
     "name": "stdout",
     "output_type": "stream",
     "text": [
      "[1] \"C:/Users/gslater/OneDrive - Environmental Defense Fund - edf.org/GCA Work/2022 04 - HG ToxPi file processing/data/processed/Social_SpeaksEnglishLessWell/Social_SpeaksEnglishLessWell.csv\"\n"
     ]
    },
    {
     "name": "stderr",
     "output_type": "stream",
     "text": [
      "Parsed with column specification:\n",
      "cols(\n",
      "  cell_id = col_double(),\n",
      "  value = col_double()\n",
      ")\n"
     ]
    },
    {
     "name": "stdout",
     "output_type": "stream",
     "text": [
      "[1] \"C:/Users/gslater/OneDrive - Environmental Defense Fund - edf.org/GCA Work/2022 04 - HG ToxPi file processing/data/processed/Social_MultiUnitStructures/Social_MultiUnitStructures.csv\"\n"
     ]
    },
    {
     "name": "stderr",
     "output_type": "stream",
     "text": [
      "Parsed with column specification:\n",
      "cols(\n",
      "  cell_id = col_double(),\n",
      "  value = col_double()\n",
      ")\n"
     ]
    },
    {
     "name": "stdout",
     "output_type": "stream",
     "text": [
      "[1] \"C:/Users/gslater/OneDrive - Environmental Defense Fund - edf.org/GCA Work/2022 04 - HG ToxPi file processing/data/processed/Social_MobileHomes/Social_MobileHomes.csv\"\n"
     ]
    },
    {
     "name": "stderr",
     "output_type": "stream",
     "text": [
      "Parsed with column specification:\n",
      "cols(\n",
      "  cell_id = col_double(),\n",
      "  value = col_double()\n",
      ")\n"
     ]
    },
    {
     "name": "stdout",
     "output_type": "stream",
     "text": [
      "[1] \"C:/Users/gslater/OneDrive - Environmental Defense Fund - edf.org/GCA Work/2022 04 - HG ToxPi file processing/data/processed/Social_Crowding/Social_Crowding.csv\"\n"
     ]
    },
    {
     "name": "stderr",
     "output_type": "stream",
     "text": [
      "Parsed with column specification:\n",
      "cols(\n",
      "  cell_id = col_double(),\n",
      "  value = col_double()\n",
      ")\n"
     ]
    },
    {
     "name": "stdout",
     "output_type": "stream",
     "text": [
      "[1] \"C:/Users/gslater/OneDrive - Environmental Defense Fund - edf.org/GCA Work/2022 04 - HG ToxPi file processing/data/processed/Social_NoVehicle/Social_NoVehicle.csv\"\n"
     ]
    },
    {
     "name": "stderr",
     "output_type": "stream",
     "text": [
      "Parsed with column specification:\n",
      "cols(\n",
      "  cell_id = col_double(),\n",
      "  value = col_double()\n",
      ")\n"
     ]
    },
    {
     "name": "stdout",
     "output_type": "stream",
     "text": [
      "[1] \"C:/Users/gslater/OneDrive - Environmental Defense Fund - edf.org/GCA Work/2022 04 - HG ToxPi file processing/data/processed/Social_GroupQuarters/Social_GroupQuarters.csv\"\n"
     ]
    },
    {
     "name": "stderr",
     "output_type": "stream",
     "text": [
      "Parsed with column specification:\n",
      "cols(\n",
      "  cell_id = col_double(),\n",
      "  value = col_double()\n",
      ")\n"
     ]
    },
    {
     "name": "stdout",
     "output_type": "stream",
     "text": [
      "[1] \"C:/Users/gslater/OneDrive - Environmental Defense Fund - edf.org/GCA Work/2022 04 - HG ToxPi file processing/data/processed/Social_ForeclosureRate/Social_ForeclosureRate.csv\"\n"
     ]
    },
    {
     "name": "stderr",
     "output_type": "stream",
     "text": [
      "Parsed with column specification:\n",
      "cols(\n",
      "  cell_id = col_double(),\n",
      "  value = col_double()\n",
      ")\n"
     ]
    },
    {
     "name": "stdout",
     "output_type": "stream",
     "text": [
      "[1] \"C:/Users/gslater/OneDrive - Environmental Defense Fund - edf.org/GCA Work/2022 04 - HG ToxPi file processing/data/processed/Infrastructure_NoBroadbandAccess/Infrastructure_NoBroadbandAccess.csv\"\n"
     ]
    },
    {
     "name": "stderr",
     "output_type": "stream",
     "text": [
      "Parsed with column specification:\n",
      "cols(\n",
      "  cell_id = col_double(),\n",
      "  value = col_double()\n",
      ")\n"
     ]
    },
    {
     "name": "stdout",
     "output_type": "stream",
     "text": [
      "[1] \"C:/Users/gslater/OneDrive - Environmental Defense Fund - edf.org/GCA Work/2022 04 - HG ToxPi file processing/data/processed/Infrastructure_RetailFood/Infrastructure_RetailFood.csv\"\n"
     ]
    },
    {
     "name": "stderr",
     "output_type": "stream",
     "text": [
      "Parsed with column specification:\n",
      "cols(\n",
      "  cell_id = col_double(),\n",
      "  value = col_double()\n",
      ")\n"
     ]
    },
    {
     "name": "stdout",
     "output_type": "stream",
     "text": [
      "[1] \"C:/Users/gslater/OneDrive - Environmental Defense Fund - edf.org/GCA Work/2022 04 - HG ToxPi file processing/data/processed/Infrastructure_HousingAffordability1/Infrastructure_HousingAffordability1.csv\"\n"
     ]
    },
    {
     "name": "stderr",
     "output_type": "stream",
     "text": [
      "Parsed with column specification:\n",
      "cols(\n",
      "  cell_id = col_double(),\n",
      "  value = col_double()\n",
      ")\n"
     ]
    },
    {
     "name": "stdout",
     "output_type": "stream",
     "text": [
      "[1] \"C:/Users/gslater/OneDrive - Environmental Defense Fund - edf.org/GCA Work/2022 04 - HG ToxPi file processing/data/processed/Infrastructure_HousingAffordability2/Infrastructure_HousingAffordability2.csv\"\n"
     ]
    },
    {
     "name": "stderr",
     "output_type": "stream",
     "text": [
      "Parsed with column specification:\n",
      "cols(\n",
      "  cell_id = col_double(),\n",
      "  value = col_double()\n",
      ")\n"
     ]
    }
   ],
   "source": [
    "\n",
    "df_wide <- read_csv(\"data/processed/Health_LifeExpectancy/Health_LifeExpectancy.csv\") %>%\n",
    "    select(cell_id)\n",
    "\n",
    "# df_wide\n",
    "for (i in 1:nrow(targ3)) {\n",
    "# for (i in 1:2) {\n",
    "\n",
    "    \n",
    "    # create nice short name for indicator by combining domain and short indicator\n",
    "    dom <- targ3[i, \"Domain\"]\n",
    "    ind <- targ3[i, \"indicator_name_short\"]\n",
    "    \n",
    "    ind_name <- paste(dom, ind, sep = \"_\")\n",
    "    \n",
    "    # read in the processed dataset using the ind_name for folder and filenames\n",
    "    path_df <- file.path(getwd(), paste0(\"data/processed/\", ind_name, \"/\", ind_name, \".csv\"))\n",
    "    print(path_df)\n",
    "    \n",
    "    df <- read_csv(path_df)\n",
    "    \n",
    "    # add the processed value to df_wide named with the ind_name\n",
    "    df_wide[ind_name] <- df[\"value\"]\n",
    "    \n",
    "    }"
   ]
  },
  {
   "cell_type": "code",
   "execution_count": 8,
   "metadata": {},
   "outputs": [
    {
     "data": {
      "text/html": [
       "<table>\n",
       "<caption>A tibble: 6 × 22</caption>\n",
       "<thead>\n",
       "\t<tr><th scope=col>cell_id</th><th scope=col>Health_LifeExpectancy</th><th scope=col>Social_BelowPoverty</th><th scope=col>Social_Unemployed</th><th scope=col>Social_Income</th><th scope=col>Social_NoHSDiploma</th><th scope=col>Social_Aged65Older</th><th scope=col>Social_Aged17Younger</th><th scope=col>Social_CivilianWithDisability</th><th scope=col>Social_SingleParentHhld</th><th scope=col>⋯</th><th scope=col>Social_MultiUnitStructures</th><th scope=col>Social_MobileHomes</th><th scope=col>Social_Crowding</th><th scope=col>Social_NoVehicle</th><th scope=col>Social_GroupQuarters</th><th scope=col>Social_ForeclosureRate</th><th scope=col>Infrastructure_NoBroadbandAccess</th><th scope=col>Infrastructure_RetailFood</th><th scope=col>Infrastructure_HousingAffordability1</th><th scope=col>Infrastructure_HousingAffordability2</th></tr>\n",
       "\t<tr><th scope=col>&lt;dbl&gt;</th><th scope=col>&lt;dbl&gt;</th><th scope=col>&lt;dbl&gt;</th><th scope=col>&lt;dbl&gt;</th><th scope=col>&lt;dbl&gt;</th><th scope=col>&lt;dbl&gt;</th><th scope=col>&lt;dbl&gt;</th><th scope=col>&lt;dbl&gt;</th><th scope=col>&lt;dbl&gt;</th><th scope=col>&lt;dbl&gt;</th><th scope=col>⋯</th><th scope=col>&lt;dbl&gt;</th><th scope=col>&lt;dbl&gt;</th><th scope=col>&lt;dbl&gt;</th><th scope=col>&lt;dbl&gt;</th><th scope=col>&lt;dbl&gt;</th><th scope=col>&lt;dbl&gt;</th><th scope=col>&lt;dbl&gt;</th><th scope=col>&lt;dbl&gt;</th><th scope=col>&lt;dbl&gt;</th><th scope=col>&lt;dbl&gt;</th></tr>\n",
       "</thead>\n",
       "<tbody>\n",
       "\t<tr><td>1</td><td>78.4</td><td>0.7899</td><td>0.2862</td><td>0.5149</td><td>0.6896</td><td>0.7678</td><td>0.8263</td><td>0.8177</td><td>0.8258</td><td>⋯</td><td>0</td><td>0.8999</td><td>0.6373</td><td>0.5497</td><td>0</td><td>0.11</td><td>0.23</td><td>0</td><td>55</td><td>15</td></tr>\n",
       "\t<tr><td>2</td><td>78.4</td><td>0.7899</td><td>0.2862</td><td>0.5149</td><td>0.6896</td><td>0.7678</td><td>0.8263</td><td>0.8177</td><td>0.8258</td><td>⋯</td><td>0</td><td>0.8999</td><td>0.6373</td><td>0.5497</td><td>0</td><td>0.11</td><td>0.23</td><td>0</td><td>55</td><td>15</td></tr>\n",
       "\t<tr><td>3</td><td>78.4</td><td>0.7899</td><td>0.2862</td><td>0.5149</td><td>0.6896</td><td>0.7678</td><td>0.8263</td><td>0.8177</td><td>0.8258</td><td>⋯</td><td>0</td><td>0.8999</td><td>0.6373</td><td>0.5497</td><td>0</td><td>0.11</td><td>0.23</td><td>0</td><td>55</td><td>15</td></tr>\n",
       "\t<tr><td>4</td><td>78.4</td><td>0.7899</td><td>0.2862</td><td>0.5149</td><td>0.6896</td><td>0.7678</td><td>0.8263</td><td>0.8177</td><td>0.8258</td><td>⋯</td><td>0</td><td>0.8999</td><td>0.6373</td><td>0.5497</td><td>0</td><td>0.11</td><td>0.23</td><td>0</td><td>55</td><td>15</td></tr>\n",
       "\t<tr><td>5</td><td>78.4</td><td>0.7899</td><td>0.2862</td><td>0.5149</td><td>0.6896</td><td>0.7678</td><td>0.8263</td><td>0.8177</td><td>0.8258</td><td>⋯</td><td>0</td><td>0.8999</td><td>0.6373</td><td>0.5497</td><td>0</td><td>0.11</td><td>0.23</td><td>0</td><td>55</td><td>15</td></tr>\n",
       "\t<tr><td>6</td><td>78.4</td><td>0.7899</td><td>0.2862</td><td>0.5149</td><td>0.6896</td><td>0.7678</td><td>0.8263</td><td>0.8177</td><td>0.8258</td><td>⋯</td><td>0</td><td>0.8999</td><td>0.6373</td><td>0.5497</td><td>0</td><td>0.11</td><td>0.23</td><td>0</td><td>55</td><td>15</td></tr>\n",
       "</tbody>\n",
       "</table>\n"
      ],
      "text/latex": [
       "A tibble: 6 × 22\n",
       "\\begin{tabular}{lllllllllllllllllllll}\n",
       " cell\\_id & Health\\_LifeExpectancy & Social\\_BelowPoverty & Social\\_Unemployed & Social\\_Income & Social\\_NoHSDiploma & Social\\_Aged65Older & Social\\_Aged17Younger & Social\\_CivilianWithDisability & Social\\_SingleParentHhld & ⋯ & Social\\_MultiUnitStructures & Social\\_MobileHomes & Social\\_Crowding & Social\\_NoVehicle & Social\\_GroupQuarters & Social\\_ForeclosureRate & Infrastructure\\_NoBroadbandAccess & Infrastructure\\_RetailFood & Infrastructure\\_HousingAffordability1 & Infrastructure\\_HousingAffordability2\\\\\n",
       " <dbl> & <dbl> & <dbl> & <dbl> & <dbl> & <dbl> & <dbl> & <dbl> & <dbl> & <dbl> & ⋯ & <dbl> & <dbl> & <dbl> & <dbl> & <dbl> & <dbl> & <dbl> & <dbl> & <dbl> & <dbl>\\\\\n",
       "\\hline\n",
       "\t 1 & 78.4 & 0.7899 & 0.2862 & 0.5149 & 0.6896 & 0.7678 & 0.8263 & 0.8177 & 0.8258 & ⋯ & 0 & 0.8999 & 0.6373 & 0.5497 & 0 & 0.11 & 0.23 & 0 & 55 & 15\\\\\n",
       "\t 2 & 78.4 & 0.7899 & 0.2862 & 0.5149 & 0.6896 & 0.7678 & 0.8263 & 0.8177 & 0.8258 & ⋯ & 0 & 0.8999 & 0.6373 & 0.5497 & 0 & 0.11 & 0.23 & 0 & 55 & 15\\\\\n",
       "\t 3 & 78.4 & 0.7899 & 0.2862 & 0.5149 & 0.6896 & 0.7678 & 0.8263 & 0.8177 & 0.8258 & ⋯ & 0 & 0.8999 & 0.6373 & 0.5497 & 0 & 0.11 & 0.23 & 0 & 55 & 15\\\\\n",
       "\t 4 & 78.4 & 0.7899 & 0.2862 & 0.5149 & 0.6896 & 0.7678 & 0.8263 & 0.8177 & 0.8258 & ⋯ & 0 & 0.8999 & 0.6373 & 0.5497 & 0 & 0.11 & 0.23 & 0 & 55 & 15\\\\\n",
       "\t 5 & 78.4 & 0.7899 & 0.2862 & 0.5149 & 0.6896 & 0.7678 & 0.8263 & 0.8177 & 0.8258 & ⋯ & 0 & 0.8999 & 0.6373 & 0.5497 & 0 & 0.11 & 0.23 & 0 & 55 & 15\\\\\n",
       "\t 6 & 78.4 & 0.7899 & 0.2862 & 0.5149 & 0.6896 & 0.7678 & 0.8263 & 0.8177 & 0.8258 & ⋯ & 0 & 0.8999 & 0.6373 & 0.5497 & 0 & 0.11 & 0.23 & 0 & 55 & 15\\\\\n",
       "\\end{tabular}\n"
      ],
      "text/markdown": [
       "\n",
       "A tibble: 6 × 22\n",
       "\n",
       "| cell_id &lt;dbl&gt; | Health_LifeExpectancy &lt;dbl&gt; | Social_BelowPoverty &lt;dbl&gt; | Social_Unemployed &lt;dbl&gt; | Social_Income &lt;dbl&gt; | Social_NoHSDiploma &lt;dbl&gt; | Social_Aged65Older &lt;dbl&gt; | Social_Aged17Younger &lt;dbl&gt; | Social_CivilianWithDisability &lt;dbl&gt; | Social_SingleParentHhld &lt;dbl&gt; | ⋯ ⋯ | Social_MultiUnitStructures &lt;dbl&gt; | Social_MobileHomes &lt;dbl&gt; | Social_Crowding &lt;dbl&gt; | Social_NoVehicle &lt;dbl&gt; | Social_GroupQuarters &lt;dbl&gt; | Social_ForeclosureRate &lt;dbl&gt; | Infrastructure_NoBroadbandAccess &lt;dbl&gt; | Infrastructure_RetailFood &lt;dbl&gt; | Infrastructure_HousingAffordability1 &lt;dbl&gt; | Infrastructure_HousingAffordability2 &lt;dbl&gt; |\n",
       "|---|---|---|---|---|---|---|---|---|---|---|---|---|---|---|---|---|---|---|---|---|\n",
       "| 1 | 78.4 | 0.7899 | 0.2862 | 0.5149 | 0.6896 | 0.7678 | 0.8263 | 0.8177 | 0.8258 | ⋯ | 0 | 0.8999 | 0.6373 | 0.5497 | 0 | 0.11 | 0.23 | 0 | 55 | 15 |\n",
       "| 2 | 78.4 | 0.7899 | 0.2862 | 0.5149 | 0.6896 | 0.7678 | 0.8263 | 0.8177 | 0.8258 | ⋯ | 0 | 0.8999 | 0.6373 | 0.5497 | 0 | 0.11 | 0.23 | 0 | 55 | 15 |\n",
       "| 3 | 78.4 | 0.7899 | 0.2862 | 0.5149 | 0.6896 | 0.7678 | 0.8263 | 0.8177 | 0.8258 | ⋯ | 0 | 0.8999 | 0.6373 | 0.5497 | 0 | 0.11 | 0.23 | 0 | 55 | 15 |\n",
       "| 4 | 78.4 | 0.7899 | 0.2862 | 0.5149 | 0.6896 | 0.7678 | 0.8263 | 0.8177 | 0.8258 | ⋯ | 0 | 0.8999 | 0.6373 | 0.5497 | 0 | 0.11 | 0.23 | 0 | 55 | 15 |\n",
       "| 5 | 78.4 | 0.7899 | 0.2862 | 0.5149 | 0.6896 | 0.7678 | 0.8263 | 0.8177 | 0.8258 | ⋯ | 0 | 0.8999 | 0.6373 | 0.5497 | 0 | 0.11 | 0.23 | 0 | 55 | 15 |\n",
       "| 6 | 78.4 | 0.7899 | 0.2862 | 0.5149 | 0.6896 | 0.7678 | 0.8263 | 0.8177 | 0.8258 | ⋯ | 0 | 0.8999 | 0.6373 | 0.5497 | 0 | 0.11 | 0.23 | 0 | 55 | 15 |\n",
       "\n"
      ],
      "text/plain": [
       "  cell_id Health_LifeExpectancy Social_BelowPoverty Social_Unemployed\n",
       "1 1       78.4                  0.7899              0.2862           \n",
       "2 2       78.4                  0.7899              0.2862           \n",
       "3 3       78.4                  0.7899              0.2862           \n",
       "4 4       78.4                  0.7899              0.2862           \n",
       "5 5       78.4                  0.7899              0.2862           \n",
       "6 6       78.4                  0.7899              0.2862           \n",
       "  Social_Income Social_NoHSDiploma Social_Aged65Older Social_Aged17Younger\n",
       "1 0.5149        0.6896             0.7678             0.8263              \n",
       "2 0.5149        0.6896             0.7678             0.8263              \n",
       "3 0.5149        0.6896             0.7678             0.8263              \n",
       "4 0.5149        0.6896             0.7678             0.8263              \n",
       "5 0.5149        0.6896             0.7678             0.8263              \n",
       "6 0.5149        0.6896             0.7678             0.8263              \n",
       "  Social_CivilianWithDisability Social_SingleParentHhld <U+22EF>       \n",
       "1 0.8177                        0.8258                  <U+22EF>\n",
       "2 0.8177                        0.8258                  <U+22EF>\n",
       "3 0.8177                        0.8258                  <U+22EF>\n",
       "4 0.8177                        0.8258                  <U+22EF>\n",
       "5 0.8177                        0.8258                  <U+22EF>\n",
       "6 0.8177                        0.8258                  <U+22EF>\n",
       "  Social_MultiUnitStructures Social_MobileHomes Social_Crowding\n",
       "1 0                          0.8999             0.6373         \n",
       "2 0                          0.8999             0.6373         \n",
       "3 0                          0.8999             0.6373         \n",
       "4 0                          0.8999             0.6373         \n",
       "5 0                          0.8999             0.6373         \n",
       "6 0                          0.8999             0.6373         \n",
       "  Social_NoVehicle Social_GroupQuarters Social_ForeclosureRate\n",
       "1 0.5497           0                    0.11                  \n",
       "2 0.5497           0                    0.11                  \n",
       "3 0.5497           0                    0.11                  \n",
       "4 0.5497           0                    0.11                  \n",
       "5 0.5497           0                    0.11                  \n",
       "6 0.5497           0                    0.11                  \n",
       "  Infrastructure_NoBroadbandAccess Infrastructure_RetailFood\n",
       "1 0.23                             0                        \n",
       "2 0.23                             0                        \n",
       "3 0.23                             0                        \n",
       "4 0.23                             0                        \n",
       "5 0.23                             0                        \n",
       "6 0.23                             0                        \n",
       "  Infrastructure_HousingAffordability1 Infrastructure_HousingAffordability2\n",
       "1 55                                   15                                  \n",
       "2 55                                   15                                  \n",
       "3 55                                   15                                  \n",
       "4 55                                   15                                  \n",
       "5 55                                   15                                  \n",
       "6 55                                   15                                  "
      ]
     },
     "metadata": {},
     "output_type": "display_data"
    }
   ],
   "source": [
    "head(df_wide)"
   ]
  },
  {
   "cell_type": "code",
   "execution_count": 10,
   "metadata": {},
   "outputs": [
    {
     "data": {
      "text/html": [
       "<table>\n",
       "<caption>A tibble: 2 × 2</caption>\n",
       "<thead>\n",
       "\t<tr><th scope=col>na_count</th><th scope=col>n</th></tr>\n",
       "\t<tr><th scope=col>&lt;int&gt;</th><th scope=col>&lt;int&gt;</th></tr>\n",
       "</thead>\n",
       "<tbody>\n",
       "\t<tr><td> 0</td><td>3252160</td></tr>\n",
       "\t<tr><td>21</td><td> 764528</td></tr>\n",
       "</tbody>\n",
       "</table>\n"
      ],
      "text/latex": [
       "A tibble: 2 × 2\n",
       "\\begin{tabular}{ll}\n",
       " na\\_count & n\\\\\n",
       " <int> & <int>\\\\\n",
       "\\hline\n",
       "\t  0 & 3252160\\\\\n",
       "\t 21 &  764528\\\\\n",
       "\\end{tabular}\n"
      ],
      "text/markdown": [
       "\n",
       "A tibble: 2 × 2\n",
       "\n",
       "| na_count &lt;int&gt; | n &lt;int&gt; |\n",
       "|---|---|\n",
       "|  0 | 3252160 |\n",
       "| 21 |  764528 |\n",
       "\n"
      ],
      "text/plain": [
       "  na_count n      \n",
       "1  0       3252160\n",
       "2 21        764528"
      ]
     },
     "metadata": {},
     "output_type": "display_data"
    }
   ],
   "source": [
    "# count the no. of NAs per row, this is to make sure that the \n",
    "# drop_na below isn't getting rid of rows where just one column is missing data\n",
    "df_wide$na_count <- apply(is.na(df_wide), 1, sum)\n",
    "\n",
    "count(df_wide, na_count)"
   ]
  },
  {
   "cell_type": "code",
   "execution_count": 9,
   "metadata": {
    "scrolled": false
   },
   "outputs": [],
   "source": [
    "# get rid of rows with NA values and save file\n",
    "df_wide %>% \n",
    "    drop_na() %>%\n",
    "    write_csv(\"data/processed/ToxPi_data_input_wide.csv\")"
   ]
  },
  {
   "cell_type": "code",
   "execution_count": 9,
   "metadata": {
    "scrolled": false
   },
   "outputs": [],
   "source": [
    "# create a csv template of just cell_ids with \n",
    "df_wide %>% \n",
    "    drop_na() %>%\n",
    "    write_csv(\"data/processed/ToxPi_data_input_wide.csv\")"
   ]
  },
  {
   "cell_type": "code",
   "execution_count": null,
   "metadata": {},
   "outputs": [],
   "source": []
  },
  {
   "cell_type": "code",
   "execution_count": null,
   "metadata": {},
   "outputs": [],
   "source": []
  },
  {
   "cell_type": "code",
   "execution_count": 3,
   "metadata": {},
   "outputs": [],
   "source": [
    "?drop_na()"
   ]
  },
  {
   "cell_type": "code",
   "execution_count": 4,
   "metadata": {},
   "outputs": [
    {
     "data": {
      "text/html": [
       "<table>\n",
       "<caption>A tibble: 1 × 2</caption>\n",
       "<thead>\n",
       "\t<tr><th scope=col>x</th><th scope=col>y</th></tr>\n",
       "\t<tr><th scope=col>&lt;dbl&gt;</th><th scope=col>&lt;chr&gt;</th></tr>\n",
       "</thead>\n",
       "<tbody>\n",
       "\t<tr><td>1</td><td>a</td></tr>\n",
       "</tbody>\n",
       "</table>\n"
      ],
      "text/latex": [
       "A tibble: 1 × 2\n",
       "\\begin{tabular}{ll}\n",
       " x & y\\\\\n",
       " <dbl> & <chr>\\\\\n",
       "\\hline\n",
       "\t 1 & a\\\\\n",
       "\\end{tabular}\n"
      ],
      "text/markdown": [
       "\n",
       "A tibble: 1 × 2\n",
       "\n",
       "| x &lt;dbl&gt; | y &lt;chr&gt; |\n",
       "|---|---|\n",
       "| 1 | a |\n",
       "\n"
      ],
      "text/plain": [
       "  x y\n",
       "1 1 a"
      ]
     },
     "metadata": {},
     "output_type": "display_data"
    },
    {
     "data": {
      "text/html": [
       "<table>\n",
       "<caption>A tibble: 2 × 2</caption>\n",
       "<thead>\n",
       "\t<tr><th scope=col>x</th><th scope=col>y</th></tr>\n",
       "\t<tr><th scope=col>&lt;dbl&gt;</th><th scope=col>&lt;chr&gt;</th></tr>\n",
       "</thead>\n",
       "<tbody>\n",
       "\t<tr><td>1</td><td>a </td></tr>\n",
       "\t<tr><td>2</td><td>NA</td></tr>\n",
       "</tbody>\n",
       "</table>\n"
      ],
      "text/latex": [
       "A tibble: 2 × 2\n",
       "\\begin{tabular}{ll}\n",
       " x & y\\\\\n",
       " <dbl> & <chr>\\\\\n",
       "\\hline\n",
       "\t 1 & a \\\\\n",
       "\t 2 & NA\\\\\n",
       "\\end{tabular}\n"
      ],
      "text/markdown": [
       "\n",
       "A tibble: 2 × 2\n",
       "\n",
       "| x &lt;dbl&gt; | y &lt;chr&gt; |\n",
       "|---|---|\n",
       "| 1 | a  |\n",
       "| 2 | NA |\n",
       "\n"
      ],
      "text/plain": [
       "  x y \n",
       "1 1 a \n",
       "2 2 NA"
      ]
     },
     "metadata": {},
     "output_type": "display_data"
    }
   ],
   "source": [
    "df <- tibble(x = c(1, 2, NA), y = c(\"a\", NA, \"b\"))\n",
    "df %>% drop_na()\n",
    "df %>% drop_na(x)"
   ]
  }
 ],
 "metadata": {
  "kernelspec": {
   "display_name": "R",
   "language": "R",
   "name": "ir"
  },
  "language_info": {
   "codemirror_mode": "r",
   "file_extension": ".r",
   "mimetype": "text/x-r-source",
   "name": "R",
   "pygments_lexer": "r",
   "version": "3.6.3"
  }
 },
 "nbformat": 4,
 "nbformat_minor": 4
}
